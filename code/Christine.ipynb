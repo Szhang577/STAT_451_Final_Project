{
 "cells": [
  {
   "cell_type": "markdown",
   "id": "ba57f9cd",
   "metadata": {},
   "source": [
    "## Preparation"
   ]
  },
  {
   "cell_type": "code",
   "execution_count": 2,
   "id": "ef6f7b33",
   "metadata": {},
   "outputs": [
    {
     "name": "stdout",
     "output_type": "stream",
     "text": [
      "Author: Christine Hou\n",
      "\n",
      "Last updated: 2021-11-22\n",
      "\n",
      "Python implementation: CPython\n",
      "Python version       : 3.9.2\n",
      "IPython version      : 7.28.0\n",
      "\n",
      "numpy     : 1.19.5\n",
      "scipy     : 1.6.1\n",
      "matplotlib: 3.3.4\n",
      "sklearn   : 0.0\n",
      "\n"
     ]
    }
   ],
   "source": [
    "%load_ext watermark\n",
    "%watermark  -d -u -a 'Christine Hou' -v -p numpy,scipy,matplotlib,sklearn"
   ]
  },
  {
   "cell_type": "code",
   "execution_count": 9,
   "id": "475baf86",
   "metadata": {},
   "outputs": [],
   "source": [
    "import numpy as np\n",
    "import pandas as pd\n",
    "%matplotlib inline\n",
    "import matplotlib.pyplot as plt\n",
    "from sklearn.model_selection import cross_val_score\n",
    "from sklearn.model_selection import train_test_split\n",
    "from sklearn.metrics import accuracy_score\n",
    "from sklearn.model_selection import RandomizedSearchCV\n",
    "from sklearn.neighbors import KNeighborsClassifier\n",
    "from sklearn.tree import DecisionTreeClassifier\n",
    "from sklearn.ensemble import RandomForestClassifier"
   ]
  },
  {
   "cell_type": "markdown",
   "id": "d828db0a",
   "metadata": {},
   "source": [
    "## Input"
   ]
  },
  {
   "cell_type": "code",
   "execution_count": 8,
   "id": "c00f97e7",
   "metadata": {},
   "outputs": [],
   "source": [
    "# picture = pd.read_csv(\"...\")\n",
    "# picture.tail()\n",
    "#X, y = picture.data[:, 2:], picture.target\n",
    "#X_train, X_test, y_train, y_test = train_test_split(X, y, \n",
    "#                                                    test_size=0.3,\n",
    "#                                                    random_state=123,\n",
    "#                                                    shuffle=True)\n",
    "#print('X_train.shape:', X_train.shape)\n",
    "#print('y_train.shape:', y_train.shape)\n",
    "#print('X_test.shape:', X_test.shape)\n",
    "#print('y_test.shape:', y_test.shape)\n",
    "#X_train_sub, X_valid, y_train_sub, y_valid = \\\n",
    "#    train_test_split(X_train, y_train, test_size=0.2,\\\n",
    "#                     random_state=1, stratify=y_train)\n",
    "\n",
    "#print('Train/Valid/Test sizes:', y_train.shape[0], y_valid.shape[0], y_test.shape[0])"
   ]
  },
  {
   "cell_type": "markdown",
   "id": "17c66d72",
   "metadata": {},
   "source": [
    "# Model"
   ]
  },
  {
   "cell_type": "markdown",
   "id": "74e0aa26",
   "metadata": {},
   "source": [
    "## 1. KNN "
   ]
  },
  {
   "cell_type": "markdown",
   "id": "0450f03a",
   "metadata": {},
   "source": [
    "Original KNN"
   ]
  },
  {
   "cell_type": "code",
   "execution_count": null,
   "id": "57f1abfc",
   "metadata": {},
   "outputs": [],
   "source": [
    "error.rate = []\n",
    "\n",
    "for i in range(1,30):\n",
    "    knn = KNeighborsClassifier(n_neighbors=i)\n",
    "    knn.fit(X_train, y_train)\n",
    "    pred_i = knn.predict(X_test)\n",
    "    error.rate.append(np.mean(pred_i != y_test))\n",
    "\n",
    "plt.figure(figsize = (10,6))\n",
    "plt.plot(range(1,30),error_rate,color = \"blue\",\n",
    "        linstyle = \"dashed\",marker = \"o\",\n",
    "        markerfacecolor = \"red\", marksize = 10)\n",
    "\n",
    "plt.title(\"Error rate vs. K value\")\n",
    "plt.xlable(\"K value\")\n",
    "plt.ylable(\"Error rate\")\n",
    "\n",
    "# Find the k-value with lowest Error Rate - k\n",
    "# for example, k = 3\n",
    "knn_1 = KNeighborsClassifier(n_neighbors=k,metric = \"manhattan\",p =2,weights= \"uniform\")\n",
    "knn_1.fit(X_train,y_train)\n",
    "y_pred_test = knn_1.predict(X_test)\n",
    "print(\"Training Accuracy: %0.4f\" % knn_1.score(X_train, y_train))\n",
    "print(\"Validation Accuracy: %0.4f\" % knn_1.score(X_valid, y_valid))\n",
    "print(\"Test Accuracy: %0.4f\" % knn_1.score(X_test, y_test))"
   ]
  },
  {
   "cell_type": "markdown",
   "id": "1b6103aa",
   "metadata": {},
   "source": [
    "Tuning Strategy"
   ]
  },
  {
   "cell_type": "code",
   "execution_count": null,
   "id": "ef56dde0",
   "metadata": {},
   "outputs": [],
   "source": [
    "params =  {\n",
    "    'min_samples_split': scipy.stats.randint(2, 12),\n",
    "    'min_impurity_decrease': scipy.stats.uniform(0.0, 0.5),\n",
    "    'max_depth': [6, 16, None]\n",
    "}\n",
    "\n",
    "knn_new = RandomizedSearchCV(\n",
    "    estimator=knn_1,\n",
    "    param_distributions=params,\n",
    "    n_iter=10,\n",
    "    cv=3,\n",
    "    verbose=2,\n",
    "    n_jobs=1)\n",
    "\n",
    "knn_new.fit(X_train, y_train)\n",
    "knn_new.best_score_"
   ]
  },
  {
   "cell_type": "code",
   "execution_count": null,
   "id": "8f27770b",
   "metadata": {},
   "outputs": [],
   "source": [
    "knn_new.best_params_\n",
    "print(\"Training Accuracy: %0.4f\" % knn_new.best_estimator_.score(X_train, y_train))\n",
    "print(\"Validation Accuracy: %0.4f\" % knn_new.best_estimator_.score(X_valid, y_valid))\n",
    "print(\"Test Accuracy: %0.4f\" % knn_new.best_estimator_.score(X_test, y_test))"
   ]
  },
  {
   "cell_type": "markdown",
   "id": "2f6c3c0f",
   "metadata": {},
   "source": [
    "Visualization"
   ]
  },
  {
   "cell_type": "code",
   "execution_count": null,
   "id": "b7cc92bc",
   "metadata": {},
   "outputs": [],
   "source": [
    "# Train\n",
    "plot_decision_regions(X_train, y_train, knn_new)\n",
    "plt.xlabel('TBD')\n",
    "plt.ylabel('TBD')\n",
    "plt.legend(loc='upper left')\n",
    "plt.show()\n",
    "\n",
    "# Test\n",
    "plot_decision_regions(X_test, y_test, knn_new)\n",
    "plt.xlabel('TBD')\n",
    "plt.ylabel('TBD')\n",
    "plt.legend(loc='upper left')\n",
    "plt.show()"
   ]
  },
  {
   "cell_type": "markdown",
   "id": "426a4b23",
   "metadata": {},
   "source": [
    "## 2. Decision Tree"
   ]
  },
  {
   "cell_type": "markdown",
   "id": "1e8e5f58",
   "metadata": {},
   "source": [
    "Original Decision Tree"
   ]
  },
  {
   "cell_type": "code",
   "execution_count": null,
   "id": "d39cc88c",
   "metadata": {},
   "outputs": [],
   "source": [
    "tree = DecisionTreeClassifier(random_state=123)\n",
    "tree.fit(X_train, y_train)\n",
    "print(\"Training Accuracy: %0.4f\" % tree.score(X_train, y_train))\n",
    "print(\"Validation Accuracy: %0.4f\" % tree.score(X_valid, y_valid))\n",
    "print(\"Test Accuracy: %0.4f\" % tree.score(X_test, y_test))"
   ]
  },
  {
   "cell_type": "markdown",
   "id": "ff77b80e",
   "metadata": {},
   "source": [
    "Tuning"
   ]
  },
  {
   "cell_type": "code",
   "execution_count": null,
   "id": "066bde58",
   "metadata": {},
   "outputs": [],
   "source": [
    "params =  {\n",
    "    'min_samples_split': scipy.stats.randint(2, 12),\n",
    "    'min_impurity_decrease': scipy.stats.uniform(0.0, 0.5),\n",
    "    'max_depth': [6, 16, None]\n",
    "}\n",
    "\n",
    "\n",
    "tree_new = RandomizedSearchCV(\n",
    "    estimator=tree,\n",
    "    param_distributions=params,\n",
    "    n_iter=10,\n",
    "    cv=3,\n",
    "    verbose=2,\n",
    "    n_jobs=1)\n",
    "\n",
    "tree_new.fit(X_train, y_train)\n",
    "tree_new.best_score_"
   ]
  },
  {
   "cell_type": "code",
   "execution_count": null,
   "id": "78f6c9e6",
   "metadata": {},
   "outputs": [],
   "source": [
    "tree_new.best_params_\n",
    "print(\"Training Accuracy: %0.4f\" % tree_new.best_estimator_.score(X_train, y_train))\n",
    "print(\"Validation Accuracy: %0.4f\" % tree.best_estimator_.score(X_valid, y_valid))\n",
    "print(\"Test Accuracy: %0.4f\" % tree.best_estimator_.score(X_test, y_test))"
   ]
  },
  {
   "cell_type": "markdown",
   "id": "d97bf220",
   "metadata": {},
   "source": [
    "Visualization"
   ]
  },
  {
   "cell_type": "code",
   "execution_count": null,
   "id": "738f8ef3",
   "metadata": {},
   "outputs": [],
   "source": [
    "# Train\n",
    "plot_decision_regions(X_train, y_train, tree_new)\n",
    "plt.xlabel('TBD')\n",
    "plt.ylabel('TBD')\n",
    "plt.legend(loc='upper left')\n",
    "plt.show()\n",
    "\n",
    "# Test\n",
    "plot_decision_regions(X_test, y_test, tree_new)\n",
    "plt.xlabel('TBD')\n",
    "plt.ylabel('TBD')\n",
    "plt.legend(loc='upper left')\n",
    "plt.show()"
   ]
  },
  {
   "cell_type": "markdown",
   "id": "80f9150d",
   "metadata": {},
   "source": [
    "## 3. Random Forest"
   ]
  },
  {
   "cell_type": "markdown",
   "id": "8852d414",
   "metadata": {},
   "source": [
    "Original Random Forest"
   ]
  },
  {
   "cell_type": "code",
   "execution_count": null,
   "id": "a7bee607",
   "metadata": {},
   "outputs": [],
   "source": [
    "forest = RandomForestClassifier(n_estimators=100,\n",
    "                                random_state=123)\n",
    "\n",
    "forest.fit(X_train, y_train)\n",
    "    \n",
    "print(\"Training Accuracy: %0.4f\" % forest.score(X_train, y_train))\n",
    "print(\"Validation Accuracy: %0.4f\" % forest.score(X_valid, y_valid))\n",
    "print(\"Test Accuracy: %0.4f\" % forest.score(X_test, y_test))"
   ]
  },
  {
   "cell_type": "markdown",
   "id": "2cdd40ba",
   "metadata": {},
   "source": [
    "Tuning"
   ]
  },
  {
   "cell_type": "code",
   "execution_count": 12,
   "id": "1ed4cc00",
   "metadata": {},
   "outputs": [
    {
     "ename": "NameError",
     "evalue": "name 'scipy' is not defined",
     "output_type": "error",
     "traceback": [
      "\u001b[0;31m---------------------------------------------------------------------------\u001b[0m",
      "\u001b[0;31mNameError\u001b[0m                                 Traceback (most recent call last)",
      "\u001b[0;32m/var/folders/32/_hdx850n23d2fhvqbqnnzt0m0000gn/T/ipykernel_49469/3900868110.py\u001b[0m in \u001b[0;36m<module>\u001b[0;34m\u001b[0m\n\u001b[1;32m      1\u001b[0m params =  {\n\u001b[0;32m----> 2\u001b[0;31m     \u001b[0;34m'min_samples_split'\u001b[0m\u001b[0;34m:\u001b[0m \u001b[0mscipy\u001b[0m\u001b[0;34m.\u001b[0m\u001b[0mstats\u001b[0m\u001b[0;34m.\u001b[0m\u001b[0mrandint\u001b[0m\u001b[0;34m(\u001b[0m\u001b[0;36m2\u001b[0m\u001b[0;34m,\u001b[0m \u001b[0;36m12\u001b[0m\u001b[0;34m)\u001b[0m\u001b[0;34m,\u001b[0m\u001b[0;34m\u001b[0m\u001b[0;34m\u001b[0m\u001b[0m\n\u001b[0m\u001b[1;32m      3\u001b[0m     \u001b[0;34m'min_impurity_decrease'\u001b[0m\u001b[0;34m:\u001b[0m \u001b[0mscipy\u001b[0m\u001b[0;34m.\u001b[0m\u001b[0mstats\u001b[0m\u001b[0;34m.\u001b[0m\u001b[0muniform\u001b[0m\u001b[0;34m(\u001b[0m\u001b[0;36m0.0\u001b[0m\u001b[0;34m,\u001b[0m \u001b[0;36m0.5\u001b[0m\u001b[0;34m)\u001b[0m\u001b[0;34m,\u001b[0m\u001b[0;34m\u001b[0m\u001b[0;34m\u001b[0m\u001b[0m\n\u001b[1;32m      4\u001b[0m     \u001b[0;34m'max_depth'\u001b[0m\u001b[0;34m:\u001b[0m \u001b[0;34m[\u001b[0m\u001b[0;36m6\u001b[0m\u001b[0;34m,\u001b[0m \u001b[0;36m16\u001b[0m\u001b[0;34m,\u001b[0m \u001b[0;32mNone\u001b[0m\u001b[0;34m]\u001b[0m\u001b[0;34m\u001b[0m\u001b[0;34m\u001b[0m\u001b[0m\n\u001b[1;32m      5\u001b[0m }\n",
      "\u001b[0;31mNameError\u001b[0m: name 'scipy' is not defined"
     ]
    }
   ],
   "source": [
    "params =  {\n",
    "    'min_samples_split': scipy.stats.randint(2, 12),\n",
    "    'min_impurity_decrease': scipy.stats.uniform(0.0, 0.5),\n",
    "    'max_depth': [6, 16, None]\n",
    "}\n",
    "\n",
    "forest_new = RandomizedSearchCV(\n",
    "    estimator=forest,\n",
    "    param_distributions=params,\n",
    "    n_iter=10,\n",
    "    cv=3,\n",
    "    verbose=2,\n",
    "    n_jobs=1)\n",
    "\n",
    "forest_new.fit(X_train, y_train)\n",
    "\n",
    "forest_new.best_score_"
   ]
  },
  {
   "cell_type": "code",
   "execution_count": null,
   "id": "b2b47e93",
   "metadata": {},
   "outputs": [],
   "source": [
    "forest_new.best_params_\n",
    "print(\"Training Accuracy: %0.4f\" % forest_new.best_estimator_.score(X_train, y_train))\n",
    "print(\"Validation Accuracy: %0.4f\" % forest_new.best_estimator_.score(X_valid, y_valid))\n",
    "print(\"Test Accuracy: %0.4f\" % forest_new.best_estimator_.score(X_test, y_test))"
   ]
  },
  {
   "cell_type": "markdown",
   "id": "cfc7e93f",
   "metadata": {},
   "source": [
    "Visualization"
   ]
  },
  {
   "cell_type": "code",
   "execution_count": null,
   "id": "c17c70d2",
   "metadata": {},
   "outputs": [],
   "source": [
    "# Train\n",
    "plot_decision_regions(X_train, y_train, forest_new)\n",
    "plt.xlabel('TBD')\n",
    "plt.ylabel('TBD')\n",
    "plt.legend(loc='upper left')\n",
    "plt.show()\n",
    "\n",
    "# Test\n",
    "plot_decision_regions(X_test, y_test, forest_new)\n",
    "plt.xlabel('TBD')\n",
    "plt.ylabel('TBD')\n",
    "plt.legend(loc='upper left')\n",
    "plt.show()"
   ]
  }
 ],
 "metadata": {
  "kernelspec": {
   "display_name": "Python 3 (ipykernel)",
   "language": "python",
   "name": "python3"
  },
  "language_info": {
   "codemirror_mode": {
    "name": "ipython",
    "version": 3
   },
   "file_extension": ".py",
   "mimetype": "text/x-python",
   "name": "python",
   "nbconvert_exporter": "python",
   "pygments_lexer": "ipython3",
   "version": "3.9.2"
  }
 },
 "nbformat": 4,
 "nbformat_minor": 5
}
