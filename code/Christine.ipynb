{
 "cells": [
  {
   "cell_type": "markdown",
   "id": "ba57f9cd",
   "metadata": {},
   "source": [
    "## Preparation"
   ]
  },
  {
   "cell_type": "code",
   "execution_count": 31,
   "id": "ef6f7b33",
   "metadata": {},
   "outputs": [
    {
     "name": "stdout",
     "output_type": "stream",
     "text": [
      "The watermark extension is already loaded. To reload it, use:\n",
      "  %reload_ext watermark\n",
      "Author: Christine Hou\n",
      "\n",
      "Last updated: 2021-11-29\n",
      "\n",
      "Python implementation: CPython\n",
      "Python version       : 3.9.2\n",
      "IPython version      : 7.28.0\n",
      "\n",
      "numpy     : 1.19.5\n",
      "scipy     : 1.6.1\n",
      "matplotlib: 3.3.4\n",
      "sklearn   : 0.0\n",
      "\n"
     ]
    }
   ],
   "source": [
    "%load_ext watermark\n",
    "%watermark  -d -u -a 'Christine Hou' -v -p numpy,scipy,matplotlib,sklearn"
   ]
  },
  {
   "cell_type": "code",
   "execution_count": 32,
   "id": "475baf86",
   "metadata": {},
   "outputs": [],
   "source": [
    "import numpy as np\n",
    "import pandas as pd\n",
    "import scipy.stats\n",
    "%matplotlib inline\n",
    "from matplotlib import pyplot as plt\n",
    "from sklearn.model_selection import cross_val_score\n",
    "from sklearn.model_selection import train_test_split\n",
    "from sklearn.metrics import accuracy_score\n",
    "from sklearn.model_selection import RandomizedSearchCV\n",
    "from sklearn.neighbors import KNeighborsClassifier\n",
    "from sklearn.tree import DecisionTreeClassifier\n",
    "from sklearn.ensemble import RandomForestClassifier\n",
    "from sklearn.metrics import roc_auc_score\n",
    "from sklearn.model_selection import GridSearchCV\n"
   ]
  },
  {
   "cell_type": "markdown",
   "id": "17c66d72",
   "metadata": {},
   "source": [
    "# Model Part 1 - Using Feature.csv"
   ]
  },
  {
   "cell_type": "markdown",
   "id": "d828db0a",
   "metadata": {},
   "source": [
    "## Input"
   ]
  },
  {
   "cell_type": "code",
   "execution_count": 35,
   "id": "aaa93614",
   "metadata": {},
   "outputs": [
    {
     "name": "stdout",
     "output_type": "stream",
     "text": [
      "X1.shape: (4559, 512)\n",
      "y1.shape: (4559,)\n",
      "X1_train.shape: (3191, 512)\n",
      "y1_train.shape: (3191,)\n",
      "X1_test.shape: (1368, 512)\n",
      "y1_test.shape: (1368,)\n",
      "X1_valid.shape: (639, 512)\n",
      "y1_valid.shape: (639,)\n"
     ]
    }
   ],
   "source": [
    "# feature.csv\n",
    "X1 = pd.read_csv(\"~/Desktop/STAT 451/STAT_451_Final_Project/code/features.csv\",header = None)\n",
    "y1 = pd.read_csv(\"~/Desktop/STAT 451/STAT_451_Final_Project/code/labels.csv\",header = None).values.ravel().astype(int)\n",
    "\n",
    "print('X1.shape:', X1.shape)\n",
    "print('y1.shape:', y1.shape)\n",
    "\n",
    "\n",
    "X1_train, X1_test, y1_train, y1_test = train_test_split(X1, y1, \n",
    "                                                    test_size=0.3,\n",
    "                                                    random_state=123,\n",
    "                                                    shuffle=True,\n",
    "                                                    stratify = y1)\n",
    "\n",
    "print('X1_train.shape:', X1_train.shape)\n",
    "print('y1_train.shape:', y1_train.shape)\n",
    "print('X1_test.shape:', X1_test.shape)\n",
    "print('y1_test.shape:', y1_test.shape)\n",
    "\n",
    "X1_train_sub, X1_valid, y1_train_sub, y1_valid = \\\n",
    "    train_test_split(X1_train, y1_train, test_size=0.2,\\\n",
    "                     random_state=1, stratify=y1_train)\n",
    "\n",
    "print('X1_valid.shape:', X1_valid.shape)\n",
    "print('y1_valid.shape:', y1_valid.shape)"
   ]
  },
  {
   "cell_type": "markdown",
   "id": "74e0aa26",
   "metadata": {},
   "source": [
    "## 1. KNN (Base Model)"
   ]
  },
  {
   "cell_type": "code",
   "execution_count": 64,
   "id": "57f1abfc",
   "metadata": {},
   "outputs": [
    {
     "data": {
      "text/plain": [
       "Text(0, 0.5, 'Error rate')"
      ]
     },
     "execution_count": 64,
     "metadata": {},
     "output_type": "execute_result"
    },
    {
     "data": {
      "image/png": "[encoded data removed]",
      "text/plain": [
       "<Figure size 720x432 with 1 Axes>"
      ]
     },
     "metadata": {},
     "output_type": "display_data"
    }
   ],
   "source": [
    "error = []\n",
    "\n",
    "for i in range(1,30):\n",
    "    knn = KNeighborsClassifier(n_neighbors=i)\n",
    "    knn.fit(X1_train, y1_train)\n",
    "    pred_i = knn.predict(X1_test)\n",
    "    error.append(np.mean(pred_i != y1_test))\n",
    "\n",
    "plt.figure(figsize = (10,6))\n",
    "plt.plot(range(1,30),error,color = \"blue\",\n",
    "        linestyle = \"dashed\",marker = \"o\",\n",
    "        markerfacecolor = \"red\", markersize = 10)\n",
    "\n",
    "plt.title(\"Error rate vs. K value\")\n",
    "plt.xlabel(\"K value\")\n",
    "plt.ylabel(\"Error rate\")"
   ]
  },
  {
   "cell_type": "code",
   "execution_count": 65,
   "id": "0bf6e6a9",
   "metadata": {},
   "outputs": [
    {
     "name": "stdout",
     "output_type": "stream",
     "text": [
      "17\n"
     ]
    }
   ],
   "source": [
    "# Find the index of minimum error in the error list\n",
    "index = error.index(min(error))\n",
    "k = index + 1\n",
    "print(k)"
   ]
  },
  {
   "cell_type": "code",
   "execution_count": 66,
   "id": "289531a5",
   "metadata": {},
   "outputs": [
    {
     "name": "stdout",
     "output_type": "stream",
     "text": [
      "Training Accuracy: 0.8088\n",
      "Validation Accuracy: 0.7966\n",
      "Test Accuracy: 0.7975\n"
     ]
    }
   ],
   "source": [
    "# Find the k-value with lowest Error Rate - k\n",
    "# for example, k = 3\n",
    "knn_1 = KNeighborsClassifier(n_neighbors=k,\n",
    "                             p =2,weights= \"uniform\")\n",
    "knn_1.fit(X1_train,y1_train)\n",
    "y_pred_test = knn_1.predict(X1_test)\n",
    "print(\"Training Accuracy: %0.4f\" % knn_1.score(X1_train, y1_train))\n",
    "print(\"Validation Accuracy: %0.4f\" % knn_1.score(X1_valid, y1_valid))\n",
    "print(\"Test Accuracy: %0.4f\" % knn_1.score(X1_test, y1_test))"
   ]
  },
  {
   "cell_type": "code",
   "execution_count": 67,
   "id": "1c33bc43",
   "metadata": {},
   "outputs": [
    {
     "data": {
      "text/plain": [
       "0.7882482252369363"
      ]
     },
     "execution_count": 67,
     "metadata": {},
     "output_type": "execute_result"
    }
   ],
   "source": [
    "y_true = y1_test\n",
    "y_pred = knn_1.predict(X1_test)\n",
    "\n",
    "f1_score(y_true, y_pred, average=\"weighted\")"
   ]
  },
  {
   "cell_type": "markdown",
   "id": "134b3123",
   "metadata": {},
   "source": [
    "Tuning"
   ]
  },
  {
   "cell_type": "code",
   "execution_count": 16,
   "id": "1ece8f6a",
   "metadata": {},
   "outputs": [
    {
     "name": "stdout",
     "output_type": "stream",
     "text": [
      "Fitting 10 folds for each of 20 candidates, totalling 200 fits\n",
      "[CV] END leaf_size=29, metric=minkowski, n_neighbors=7, p=1, weights=uniform; total time=   0.9s\n",
      "[CV] END leaf_size=29, metric=minkowski, n_neighbors=7, p=1, weights=uniform; total time=   0.8s\n",
      "[CV] END leaf_size=29, metric=minkowski, n_neighbors=7, p=1, weights=uniform; total time=   1.0s\n",
      "[CV] END leaf_size=29, metric=minkowski, n_neighbors=7, p=1, weights=uniform; total time=   0.8s\n",
      "[CV] END leaf_size=29, metric=minkowski, n_neighbors=7, p=1, weights=uniform; total time=   0.8s\n",
      "[CV] END leaf_size=29, metric=minkowski, n_neighbors=7, p=1, weights=uniform; total time=   0.8s\n",
      "[CV] END leaf_size=29, metric=minkowski, n_neighbors=7, p=1, weights=uniform; total time=   0.8s\n",
      "[CV] END leaf_size=29, metric=minkowski, n_neighbors=7, p=1, weights=uniform; total time=   0.9s\n",
      "[CV] END leaf_size=29, metric=minkowski, n_neighbors=7, p=1, weights=uniform; total time=   0.9s\n",
      "[CV] END leaf_size=29, metric=minkowski, n_neighbors=7, p=1, weights=uniform; total time=   0.9s\n",
      "[CV] END leaf_size=30, metric=chebyshev, n_neighbors=3, p=1, weights=distance; total time=   0.9s\n",
      "[CV] END leaf_size=30, metric=chebyshev, n_neighbors=3, p=1, weights=distance; total time=   0.9s\n",
      "[CV] END leaf_size=30, metric=chebyshev, n_neighbors=3, p=1, weights=distance; total time=   0.9s\n",
      "[CV] END leaf_size=30, metric=chebyshev, n_neighbors=3, p=1, weights=distance; total time=   1.0s\n",
      "[CV] END leaf_size=30, metric=chebyshev, n_neighbors=3, p=1, weights=distance; total time=   1.1s\n",
      "[CV] END leaf_size=30, metric=chebyshev, n_neighbors=3, p=1, weights=distance; total time=   1.0s\n",
      "[CV] END leaf_size=30, metric=chebyshev, n_neighbors=3, p=1, weights=distance; total time=   1.1s\n",
      "[CV] END leaf_size=30, metric=chebyshev, n_neighbors=3, p=1, weights=distance; total time=   1.0s\n",
      "[CV] END leaf_size=30, metric=chebyshev, n_neighbors=3, p=1, weights=distance; total time=   1.0s\n",
      "[CV] END leaf_size=30, metric=chebyshev, n_neighbors=3, p=1, weights=distance; total time=   1.0s\n",
      "[CV] END leaf_size=23, metric=chebyshev, n_neighbors=3, p=1, weights=distance; total time=   1.0s\n",
      "[CV] END leaf_size=23, metric=chebyshev, n_neighbors=3, p=1, weights=distance; total time=   1.0s\n",
      "[CV] END leaf_size=23, metric=chebyshev, n_neighbors=3, p=1, weights=distance; total time=   1.1s\n",
      "[CV] END leaf_size=23, metric=chebyshev, n_neighbors=3, p=1, weights=distance; total time=   1.2s\n",
      "[CV] END leaf_size=23, metric=chebyshev, n_neighbors=3, p=1, weights=distance; total time=   1.0s\n",
      "[CV] END leaf_size=23, metric=chebyshev, n_neighbors=3, p=1, weights=distance; total time=   1.3s\n",
      "[CV] END leaf_size=23, metric=chebyshev, n_neighbors=3, p=1, weights=distance; total time=   1.2s\n",
      "[CV] END leaf_size=23, metric=chebyshev, n_neighbors=3, p=1, weights=distance; total time=   1.2s\n",
      "[CV] END leaf_size=23, metric=chebyshev, n_neighbors=3, p=1, weights=distance; total time=   1.1s\n",
      "[CV] END leaf_size=23, metric=chebyshev, n_neighbors=3, p=1, weights=distance; total time=   1.1s\n",
      "[CV] END leaf_size=21, metric=minkowski, n_neighbors=3, p=1, weights=uniform; total time=   1.2s\n",
      "[CV] END leaf_size=21, metric=minkowski, n_neighbors=3, p=1, weights=uniform; total time=   1.2s\n",
      "[CV] END leaf_size=21, metric=minkowski, n_neighbors=3, p=1, weights=uniform; total time=   1.4s\n",
      "[CV] END leaf_size=21, metric=minkowski, n_neighbors=3, p=1, weights=uniform; total time=   1.4s\n",
      "[CV] END leaf_size=21, metric=minkowski, n_neighbors=3, p=1, weights=uniform; total time=   1.1s\n",
      "[CV] END leaf_size=21, metric=minkowski, n_neighbors=3, p=1, weights=uniform; total time=   1.2s\n",
      "[CV] END leaf_size=21, metric=minkowski, n_neighbors=3, p=1, weights=uniform; total time=   1.2s\n",
      "[CV] END leaf_size=21, metric=minkowski, n_neighbors=3, p=1, weights=uniform; total time=   1.2s\n",
      "[CV] END leaf_size=21, metric=minkowski, n_neighbors=3, p=1, weights=uniform; total time=   1.1s\n",
      "[CV] END leaf_size=21, metric=minkowski, n_neighbors=3, p=1, weights=uniform; total time=   1.1s\n",
      "[CV] END leaf_size=23, metric=chebyshev, n_neighbors=7, p=1, weights=distance; total time=   1.1s\n",
      "[CV] END leaf_size=23, metric=chebyshev, n_neighbors=7, p=1, weights=distance; total time=   0.9s\n",
      "[CV] END leaf_size=23, metric=chebyshev, n_neighbors=7, p=1, weights=distance; total time=   0.9s\n",
      "[CV] END leaf_size=23, metric=chebyshev, n_neighbors=7, p=1, weights=distance; total time=   0.9s\n",
      "[CV] END leaf_size=23, metric=chebyshev, n_neighbors=7, p=1, weights=distance; total time=   1.0s\n",
      "[CV] END leaf_size=23, metric=chebyshev, n_neighbors=7, p=1, weights=distance; total time=   0.9s\n",
      "[CV] END leaf_size=23, metric=chebyshev, n_neighbors=7, p=1, weights=distance; total time=   0.9s\n",
      "[CV] END leaf_size=23, metric=chebyshev, n_neighbors=7, p=1, weights=distance; total time=   0.9s\n",
      "[CV] END leaf_size=23, metric=chebyshev, n_neighbors=7, p=1, weights=distance; total time=   1.0s\n",
      "[CV] END leaf_size=23, metric=chebyshev, n_neighbors=7, p=1, weights=distance; total time=   1.1s\n",
      "[CV] END leaf_size=28, metric=chebyshev, n_neighbors=7, p=1, weights=distance; total time=   1.0s\n",
      "[CV] END leaf_size=28, metric=chebyshev, n_neighbors=7, p=1, weights=distance; total time=   1.1s\n",
      "[CV] END leaf_size=28, metric=chebyshev, n_neighbors=7, p=1, weights=distance; total time=   1.2s\n",
      "[CV] END leaf_size=28, metric=chebyshev, n_neighbors=7, p=1, weights=distance; total time=   1.4s\n",
      "[CV] END leaf_size=28, metric=chebyshev, n_neighbors=7, p=1, weights=distance; total time=   1.2s\n",
      "[CV] END leaf_size=28, metric=chebyshev, n_neighbors=7, p=1, weights=distance; total time=   1.2s\n",
      "[CV] END leaf_size=28, metric=chebyshev, n_neighbors=7, p=1, weights=distance; total time=   1.0s\n",
      "[CV] END leaf_size=28, metric=chebyshev, n_neighbors=7, p=1, weights=distance; total time=   1.0s\n",
      "[CV] END leaf_size=28, metric=chebyshev, n_neighbors=7, p=1, weights=distance; total time=   1.1s\n",
      "[CV] END leaf_size=28, metric=chebyshev, n_neighbors=7, p=1, weights=distance; total time=   1.1s\n",
      "[CV] END leaf_size=30, metric=minkowski, n_neighbors=3, p=1, weights=uniform; total time=   1.0s\n",
      "[CV] END leaf_size=30, metric=minkowski, n_neighbors=3, p=1, weights=uniform; total time=   1.0s\n",
      "[CV] END leaf_size=30, metric=minkowski, n_neighbors=3, p=1, weights=uniform; total time=   1.0s\n",
      "[CV] END leaf_size=30, metric=minkowski, n_neighbors=3, p=1, weights=uniform; total time=   1.2s\n",
      "[CV] END leaf_size=30, metric=minkowski, n_neighbors=3, p=1, weights=uniform; total time=   1.2s\n",
      "[CV] END leaf_size=30, metric=minkowski, n_neighbors=3, p=1, weights=uniform; total time=   1.0s\n",
      "[CV] END leaf_size=30, metric=minkowski, n_neighbors=3, p=1, weights=uniform; total time=   1.1s\n",
      "[CV] END leaf_size=30, metric=minkowski, n_neighbors=3, p=1, weights=uniform; total time=   1.1s\n",
      "[CV] END leaf_size=30, metric=minkowski, n_neighbors=3, p=1, weights=uniform; total time=   1.1s\n",
      "[CV] END leaf_size=30, metric=minkowski, n_neighbors=3, p=1, weights=uniform; total time=   1.1s\n",
      "[CV] END leaf_size=28, metric=minkowski, n_neighbors=5, p=1, weights=distance; total time=   1.1s\n",
      "[CV] END leaf_size=28, metric=minkowski, n_neighbors=5, p=1, weights=distance; total time=   1.3s\n",
      "[CV] END leaf_size=28, metric=minkowski, n_neighbors=5, p=1, weights=distance; total time=   1.2s\n",
      "[CV] END leaf_size=28, metric=minkowski, n_neighbors=5, p=1, weights=distance; total time=   1.1s\n",
      "[CV] END leaf_size=28, metric=minkowski, n_neighbors=5, p=1, weights=distance; total time=   1.2s\n",
      "[CV] END leaf_size=28, metric=minkowski, n_neighbors=5, p=1, weights=distance; total time=   0.9s\n",
      "[CV] END leaf_size=28, metric=minkowski, n_neighbors=5, p=1, weights=distance; total time=   1.0s\n",
      "[CV] END leaf_size=28, metric=minkowski, n_neighbors=5, p=1, weights=distance; total time=   1.0s\n",
      "[CV] END leaf_size=28, metric=minkowski, n_neighbors=5, p=1, weights=distance; total time=   1.1s\n",
      "[CV] END leaf_size=28, metric=minkowski, n_neighbors=5, p=1, weights=distance; total time=   1.0s\n",
      "[CV] END leaf_size=30, metric=minkowski, n_neighbors=7, p=1, weights=distance; total time=   1.2s\n",
      "[CV] END leaf_size=30, metric=minkowski, n_neighbors=7, p=1, weights=distance; total time=   1.1s\n",
      "[CV] END leaf_size=30, metric=minkowski, n_neighbors=7, p=1, weights=distance; total time=   1.0s\n",
      "[CV] END leaf_size=30, metric=minkowski, n_neighbors=7, p=1, weights=distance; total time=   1.1s\n"
     ]
    },
    {
     "name": "stdout",
     "output_type": "stream",
     "text": [
      "[CV] END leaf_size=30, metric=minkowski, n_neighbors=7, p=1, weights=distance; total time=   1.0s\n",
      "[CV] END leaf_size=30, metric=minkowski, n_neighbors=7, p=1, weights=distance; total time=   1.0s\n",
      "[CV] END leaf_size=30, metric=minkowski, n_neighbors=7, p=1, weights=distance; total time=   1.1s\n",
      "[CV] END leaf_size=30, metric=minkowski, n_neighbors=7, p=1, weights=distance; total time=   1.1s\n",
      "[CV] END leaf_size=30, metric=minkowski, n_neighbors=7, p=1, weights=distance; total time=   1.1s\n",
      "[CV] END leaf_size=30, metric=minkowski, n_neighbors=7, p=1, weights=distance; total time=   1.2s\n",
      "[CV] END leaf_size=24, metric=chebyshev, n_neighbors=3, p=1, weights=uniform; total time=   1.2s\n",
      "[CV] END leaf_size=24, metric=chebyshev, n_neighbors=3, p=1, weights=uniform; total time=   1.1s\n",
      "[CV] END leaf_size=24, metric=chebyshev, n_neighbors=3, p=1, weights=uniform; total time=   1.0s\n",
      "[CV] END leaf_size=24, metric=chebyshev, n_neighbors=3, p=1, weights=uniform; total time=   1.0s\n",
      "[CV] END leaf_size=24, metric=chebyshev, n_neighbors=3, p=1, weights=uniform; total time=   1.2s\n",
      "[CV] END leaf_size=24, metric=chebyshev, n_neighbors=3, p=1, weights=uniform; total time=   1.1s\n",
      "[CV] END leaf_size=24, metric=chebyshev, n_neighbors=3, p=1, weights=uniform; total time=   1.1s\n",
      "[CV] END leaf_size=24, metric=chebyshev, n_neighbors=3, p=1, weights=uniform; total time=   1.1s\n",
      "[CV] END leaf_size=24, metric=chebyshev, n_neighbors=3, p=1, weights=uniform; total time=   1.1s\n",
      "[CV] END leaf_size=24, metric=chebyshev, n_neighbors=3, p=1, weights=uniform; total time=   1.0s\n",
      "[CV] END leaf_size=27, metric=minkowski, n_neighbors=6, p=1, weights=distance; total time=   1.1s\n",
      "[CV] END leaf_size=27, metric=minkowski, n_neighbors=6, p=1, weights=distance; total time=   1.0s\n",
      "[CV] END leaf_size=27, metric=minkowski, n_neighbors=6, p=1, weights=distance; total time=   1.0s\n",
      "[CV] END leaf_size=27, metric=minkowski, n_neighbors=6, p=1, weights=distance; total time=   1.0s\n",
      "[CV] END leaf_size=27, metric=minkowski, n_neighbors=6, p=1, weights=distance; total time=   1.1s\n",
      "[CV] END leaf_size=27, metric=minkowski, n_neighbors=6, p=1, weights=distance; total time=   1.0s\n",
      "[CV] END leaf_size=27, metric=minkowski, n_neighbors=6, p=1, weights=distance; total time=   1.4s\n",
      "[CV] END leaf_size=27, metric=minkowski, n_neighbors=6, p=1, weights=distance; total time=   1.3s\n",
      "[CV] END leaf_size=27, metric=minkowski, n_neighbors=6, p=1, weights=distance; total time=   1.1s\n",
      "[CV] END leaf_size=27, metric=minkowski, n_neighbors=6, p=1, weights=distance; total time=   1.1s\n",
      "[CV] END leaf_size=22, metric=minkowski, n_neighbors=4, p=1, weights=uniform; total time=   1.2s\n",
      "[CV] END leaf_size=22, metric=minkowski, n_neighbors=4, p=1, weights=uniform; total time=   1.1s\n",
      "[CV] END leaf_size=22, metric=minkowski, n_neighbors=4, p=1, weights=uniform; total time=   1.0s\n",
      "[CV] END leaf_size=22, metric=minkowski, n_neighbors=4, p=1, weights=uniform; total time=   1.0s\n",
      "[CV] END leaf_size=22, metric=minkowski, n_neighbors=4, p=1, weights=uniform; total time=   0.9s\n",
      "[CV] END leaf_size=22, metric=minkowski, n_neighbors=4, p=1, weights=uniform; total time=   1.1s\n",
      "[CV] END leaf_size=22, metric=minkowski, n_neighbors=4, p=1, weights=uniform; total time=   0.9s\n",
      "[CV] END leaf_size=22, metric=minkowski, n_neighbors=4, p=1, weights=uniform; total time=   1.0s\n",
      "[CV] END leaf_size=22, metric=minkowski, n_neighbors=4, p=1, weights=uniform; total time=   0.9s\n",
      "[CV] END leaf_size=22, metric=minkowski, n_neighbors=4, p=1, weights=uniform; total time=   1.0s\n",
      "[CV] END leaf_size=23, metric=chebyshev, n_neighbors=4, p=1, weights=uniform; total time=   1.1s\n",
      "[CV] END leaf_size=23, metric=chebyshev, n_neighbors=4, p=1, weights=uniform; total time=   1.1s\n",
      "[CV] END leaf_size=23, metric=chebyshev, n_neighbors=4, p=1, weights=uniform; total time=   1.0s\n",
      "[CV] END leaf_size=23, metric=chebyshev, n_neighbors=4, p=1, weights=uniform; total time=   1.0s\n",
      "[CV] END leaf_size=23, metric=chebyshev, n_neighbors=4, p=1, weights=uniform; total time=   1.4s\n",
      "[CV] END leaf_size=23, metric=chebyshev, n_neighbors=4, p=1, weights=uniform; total time=   1.2s\n",
      "[CV] END leaf_size=23, metric=chebyshev, n_neighbors=4, p=1, weights=uniform; total time=   1.2s\n",
      "[CV] END leaf_size=23, metric=chebyshev, n_neighbors=4, p=1, weights=uniform; total time=   1.4s\n",
      "[CV] END leaf_size=23, metric=chebyshev, n_neighbors=4, p=1, weights=uniform; total time=   1.2s\n",
      "[CV] END leaf_size=23, metric=chebyshev, n_neighbors=4, p=1, weights=uniform; total time=   1.2s\n",
      "[CV] END leaf_size=20, metric=chebyshev, n_neighbors=7, p=1, weights=distance; total time=   1.1s\n",
      "[CV] END leaf_size=20, metric=chebyshev, n_neighbors=7, p=1, weights=distance; total time=   1.1s\n",
      "[CV] END leaf_size=20, metric=chebyshev, n_neighbors=7, p=1, weights=distance; total time=   1.1s\n",
      "[CV] END leaf_size=20, metric=chebyshev, n_neighbors=7, p=1, weights=distance; total time=   1.6s\n",
      "[CV] END leaf_size=20, metric=chebyshev, n_neighbors=7, p=1, weights=distance; total time=   1.3s\n",
      "[CV] END leaf_size=20, metric=chebyshev, n_neighbors=7, p=1, weights=distance; total time=   1.1s\n",
      "[CV] END leaf_size=20, metric=chebyshev, n_neighbors=7, p=1, weights=distance; total time=   1.0s\n",
      "[CV] END leaf_size=20, metric=chebyshev, n_neighbors=7, p=1, weights=distance; total time=   1.1s\n",
      "[CV] END leaf_size=20, metric=chebyshev, n_neighbors=7, p=1, weights=distance; total time=   1.0s\n",
      "[CV] END leaf_size=20, metric=chebyshev, n_neighbors=7, p=1, weights=distance; total time=   1.0s\n",
      "[CV] END leaf_size=25, metric=chebyshev, n_neighbors=5, p=1, weights=uniform; total time=   1.0s\n",
      "[CV] END leaf_size=25, metric=chebyshev, n_neighbors=5, p=1, weights=uniform; total time=   1.0s\n",
      "[CV] END leaf_size=25, metric=chebyshev, n_neighbors=5, p=1, weights=uniform; total time=   1.0s\n",
      "[CV] END leaf_size=25, metric=chebyshev, n_neighbors=5, p=1, weights=uniform; total time=   1.0s\n",
      "[CV] END leaf_size=25, metric=chebyshev, n_neighbors=5, p=1, weights=uniform; total time=   1.1s\n",
      "[CV] END leaf_size=25, metric=chebyshev, n_neighbors=5, p=1, weights=uniform; total time=   1.0s\n",
      "[CV] END leaf_size=25, metric=chebyshev, n_neighbors=5, p=1, weights=uniform; total time=   1.0s\n",
      "[CV] END leaf_size=25, metric=chebyshev, n_neighbors=5, p=1, weights=uniform; total time=   1.0s\n",
      "[CV] END leaf_size=25, metric=chebyshev, n_neighbors=5, p=1, weights=uniform; total time=   1.0s\n",
      "[CV] END leaf_size=25, metric=chebyshev, n_neighbors=5, p=1, weights=uniform; total time=   1.0s\n",
      "[CV] END leaf_size=25, metric=minkowski, n_neighbors=3, p=1, weights=uniform; total time=   1.0s\n",
      "[CV] END leaf_size=25, metric=minkowski, n_neighbors=3, p=1, weights=uniform; total time=   1.0s\n",
      "[CV] END leaf_size=25, metric=minkowski, n_neighbors=3, p=1, weights=uniform; total time=   1.1s\n",
      "[CV] END leaf_size=25, metric=minkowski, n_neighbors=3, p=1, weights=uniform; total time=   0.9s\n",
      "[CV] END leaf_size=25, metric=minkowski, n_neighbors=3, p=1, weights=uniform; total time=   0.9s\n",
      "[CV] END leaf_size=25, metric=minkowski, n_neighbors=3, p=1, weights=uniform; total time=   0.9s\n",
      "[CV] END leaf_size=25, metric=minkowski, n_neighbors=3, p=1, weights=uniform; total time=   0.9s\n",
      "[CV] END leaf_size=25, metric=minkowski, n_neighbors=3, p=1, weights=uniform; total time=   0.8s\n",
      "[CV] END leaf_size=25, metric=minkowski, n_neighbors=3, p=1, weights=uniform; total time=   0.7s\n",
      "[CV] END leaf_size=25, metric=minkowski, n_neighbors=3, p=1, weights=uniform; total time=   0.7s\n",
      "[CV] END leaf_size=29, metric=minkowski, n_neighbors=3, p=1, weights=distance; total time=   0.7s\n",
      "[CV] END leaf_size=29, metric=minkowski, n_neighbors=3, p=1, weights=distance; total time=   0.7s\n",
      "[CV] END leaf_size=29, metric=minkowski, n_neighbors=3, p=1, weights=distance; total time=   0.7s\n",
      "[CV] END leaf_size=29, metric=minkowski, n_neighbors=3, p=1, weights=distance; total time=   0.7s\n",
      "[CV] END leaf_size=29, metric=minkowski, n_neighbors=3, p=1, weights=distance; total time=   0.7s\n",
      "[CV] END leaf_size=29, metric=minkowski, n_neighbors=3, p=1, weights=distance; total time=   0.7s\n",
      "[CV] END leaf_size=29, metric=minkowski, n_neighbors=3, p=1, weights=distance; total time=   0.8s\n",
      "[CV] END leaf_size=29, metric=minkowski, n_neighbors=3, p=1, weights=distance; total time=   0.7s\n",
      "[CV] END leaf_size=29, metric=minkowski, n_neighbors=3, p=1, weights=distance; total time=   0.7s\n"
     ]
    },
    {
     "name": "stdout",
     "output_type": "stream",
     "text": [
      "[CV] END leaf_size=29, metric=minkowski, n_neighbors=3, p=1, weights=distance; total time=   0.8s\n",
      "[CV] END leaf_size=26, metric=minkowski, n_neighbors=3, p=1, weights=uniform; total time=   0.7s\n",
      "[CV] END leaf_size=26, metric=minkowski, n_neighbors=3, p=1, weights=uniform; total time=   0.7s\n",
      "[CV] END leaf_size=26, metric=minkowski, n_neighbors=3, p=1, weights=uniform; total time=   0.7s\n",
      "[CV] END leaf_size=26, metric=minkowski, n_neighbors=3, p=1, weights=uniform; total time=   0.8s\n",
      "[CV] END leaf_size=26, metric=minkowski, n_neighbors=3, p=1, weights=uniform; total time=   0.7s\n",
      "[CV] END leaf_size=26, metric=minkowski, n_neighbors=3, p=1, weights=uniform; total time=   0.8s\n",
      "[CV] END leaf_size=26, metric=minkowski, n_neighbors=3, p=1, weights=uniform; total time=   0.7s\n",
      "[CV] END leaf_size=26, metric=minkowski, n_neighbors=3, p=1, weights=uniform; total time=   0.7s\n",
      "[CV] END leaf_size=26, metric=minkowski, n_neighbors=3, p=1, weights=uniform; total time=   0.7s\n",
      "[CV] END leaf_size=26, metric=minkowski, n_neighbors=3, p=1, weights=uniform; total time=   0.8s\n",
      "[CV] END leaf_size=28, metric=minkowski, n_neighbors=7, p=1, weights=distance; total time=   0.8s\n",
      "[CV] END leaf_size=28, metric=minkowski, n_neighbors=7, p=1, weights=distance; total time=   0.8s\n",
      "[CV] END leaf_size=28, metric=minkowski, n_neighbors=7, p=1, weights=distance; total time=   0.8s\n",
      "[CV] END leaf_size=28, metric=minkowski, n_neighbors=7, p=1, weights=distance; total time=   0.9s\n",
      "[CV] END leaf_size=28, metric=minkowski, n_neighbors=7, p=1, weights=distance; total time=   1.1s\n",
      "[CV] END leaf_size=28, metric=minkowski, n_neighbors=7, p=1, weights=distance; total time=   0.9s\n",
      "[CV] END leaf_size=28, metric=minkowski, n_neighbors=7, p=1, weights=distance; total time=   0.8s\n",
      "[CV] END leaf_size=28, metric=minkowski, n_neighbors=7, p=1, weights=distance; total time=   0.9s\n",
      "[CV] END leaf_size=28, metric=minkowski, n_neighbors=7, p=1, weights=distance; total time=   1.0s\n",
      "[CV] END leaf_size=28, metric=minkowski, n_neighbors=7, p=1, weights=distance; total time=   0.8s\n",
      "[CV] END leaf_size=29, metric=minkowski, n_neighbors=5, p=1, weights=uniform; total time=   0.8s\n",
      "[CV] END leaf_size=29, metric=minkowski, n_neighbors=5, p=1, weights=uniform; total time=   0.8s\n",
      "[CV] END leaf_size=29, metric=minkowski, n_neighbors=5, p=1, weights=uniform; total time=   0.8s\n",
      "[CV] END leaf_size=29, metric=minkowski, n_neighbors=5, p=1, weights=uniform; total time=   0.7s\n",
      "[CV] END leaf_size=29, metric=minkowski, n_neighbors=5, p=1, weights=uniform; total time=   0.7s\n",
      "[CV] END leaf_size=29, metric=minkowski, n_neighbors=5, p=1, weights=uniform; total time=   0.8s\n",
      "[CV] END leaf_size=29, metric=minkowski, n_neighbors=5, p=1, weights=uniform; total time=   0.8s\n",
      "[CV] END leaf_size=29, metric=minkowski, n_neighbors=5, p=1, weights=uniform; total time=   0.7s\n",
      "[CV] END leaf_size=29, metric=minkowski, n_neighbors=5, p=1, weights=uniform; total time=   0.7s\n",
      "[CV] END leaf_size=29, metric=minkowski, n_neighbors=5, p=1, weights=uniform; total time=   0.7s\n"
     ]
    },
    {
     "data": {
      "text/plain": [
       "0.8260805250783699"
      ]
     },
     "execution_count": 16,
     "metadata": {},
     "output_type": "execute_result"
    }
   ],
   "source": [
    "params_knn = {\n",
    "    'n_neighbors': np.arange(3,8),\n",
    "    'leaf_size': np.arange(20,31),\n",
    "    'p': np.arange(1,2),\n",
    "    'weights': ('uniform', 'distance'),\n",
    "    'metric': ('minkowski', 'chebyshev')\n",
    "}\n",
    "\n",
    "knn_new = RandomizedSearchCV(\n",
    "    estimator=knn_1,\n",
    "    param_distributions=params_knn,\n",
    "    n_iter=20,\n",
    "    cv=10,\n",
    "    verbose=2,\n",
    "    n_jobs=1,\n",
    "    random_state = 123)\n",
    "\n",
    "knn_new.fit(X1_train, y1_train)\n",
    "\n",
    "knn_new.best_score_"
   ]
  },
  {
   "cell_type": "code",
   "execution_count": 18,
   "id": "aa6fc125",
   "metadata": {},
   "outputs": [
    {
     "data": {
      "text/plain": [
       "{'weights': 'distance',\n",
       " 'p': 1,\n",
       " 'n_neighbors': 6,\n",
       " 'metric': 'minkowski',\n",
       " 'leaf_size': 27}"
      ]
     },
     "execution_count": 18,
     "metadata": {},
     "output_type": "execute_result"
    }
   ],
   "source": [
    "knn_new.best_params_"
   ]
  },
  {
   "cell_type": "code",
   "execution_count": 20,
   "id": "4aa28ffa",
   "metadata": {},
   "outputs": [
    {
     "name": "stdout",
     "output_type": "stream",
     "text": [
      "Training Accuracy: 1.0000\n",
      "Validation Accuracy: 1.0000\n",
      "Test Accuracy: 0.8311\n"
     ]
    }
   ],
   "source": [
    "print(\"Training Accuracy: %0.4f\" % knn_new.best_estimator_.score(X1_train, y1_train))\n",
    "print(\"Validation Accuracy: %0.4f\" % knn_new.best_estimator_.score(X1_valid, y1_valid))\n",
    "print(\"Test Accuracy: %0.4f\" % knn_new.best_estimator_.score(X1_test, y1_test))"
   ]
  },
  {
   "cell_type": "markdown",
   "id": "396da14c",
   "metadata": {},
   "source": [
    "Evaluation - F1 Score"
   ]
  },
  {
   "cell_type": "code",
   "execution_count": 38,
   "id": "878148b4",
   "metadata": {},
   "outputs": [
    {
     "data": {
      "text/plain": [
       "0.8262312884896306"
      ]
     },
     "execution_count": 38,
     "metadata": {},
     "output_type": "execute_result"
    }
   ],
   "source": [
    "from sklearn.metrics import f1_score\n",
    "\n",
    "y_true = y1_test\n",
    "y_pred = knn_new.best_estimator_.predict(X1_test)\n",
    "\n",
    "f1_score(y_true, y_pred, average=\"weighted\")"
   ]
  },
  {
   "cell_type": "markdown",
   "id": "426a4b23",
   "metadata": {},
   "source": [
    "## 2. Decision Tree"
   ]
  },
  {
   "cell_type": "markdown",
   "id": "1e8e5f58",
   "metadata": {},
   "source": [
    "Original Decision Tree"
   ]
  },
  {
   "cell_type": "code",
   "execution_count": 60,
   "id": "d39cc88c",
   "metadata": {},
   "outputs": [
    {
     "name": "stdout",
     "output_type": "stream",
     "text": [
      "Training Accuracy: 1.0000\n",
      "Validation Accuracy: 1.0000\n",
      "Test Accuracy: 0.8648\n"
     ]
    }
   ],
   "source": [
    "tree = DecisionTreeClassifier(random_state=123)\n",
    "tree.fit(X1_train, y1_train)\n",
    "print(\"Training Accuracy: %0.4f\" % tree.score(X1_train, y1_train))\n",
    "print(\"Validation Accuracy: %0.4f\" % tree.score(X1_valid, y1_valid))\n",
    "print(\"Test Accuracy: %0.4f\" % tree.score(X1_test, y1_test))"
   ]
  },
  {
   "cell_type": "code",
   "execution_count": 61,
   "id": "b25e9d10",
   "metadata": {},
   "outputs": [
    {
     "data": {
      "text/plain": [
       "0.8649262347013653"
      ]
     },
     "execution_count": 61,
     "metadata": {},
     "output_type": "execute_result"
    }
   ],
   "source": [
    "y_true = y1_test\n",
    "y_pred = tree.predict(X1_test)\n",
    "\n",
    "f1_score(y_true, y_pred, average=\"weighted\")"
   ]
  },
  {
   "cell_type": "markdown",
   "id": "ff77b80e",
   "metadata": {},
   "source": [
    "Tuning"
   ]
  },
  {
   "cell_type": "code",
   "execution_count": 37,
   "id": "066bde58",
   "metadata": {
    "scrolled": false
   },
   "outputs": [
    {
     "name": "stdout",
     "output_type": "stream",
     "text": [
      "Fitting 10 folds for each of 20 candidates, totalling 200 fits\n",
      "[CV] END max_depth=None, min_impurity_decrease=0.0008733705337101161, min_samples_split=5; total time=   0.6s\n",
      "[CV] END max_depth=None, min_impurity_decrease=0.0008733705337101161, min_samples_split=5; total time=   0.5s\n",
      "[CV] END max_depth=None, min_impurity_decrease=0.0008733705337101161, min_samples_split=5; total time=   0.5s\n",
      "[CV] END max_depth=None, min_impurity_decrease=0.0008733705337101161, min_samples_split=5; total time=   0.4s\n",
      "[CV] END max_depth=None, min_impurity_decrease=0.0008733705337101161, min_samples_split=5; total time=   0.5s\n",
      "[CV] END max_depth=None, min_impurity_decrease=0.0008733705337101161, min_samples_split=5; total time=   0.6s\n",
      "[CV] END max_depth=None, min_impurity_decrease=0.0008733705337101161, min_samples_split=5; total time=   0.5s\n",
      "[CV] END max_depth=None, min_impurity_decrease=0.0008733705337101161, min_samples_split=5; total time=   0.6s\n",
      "[CV] END max_depth=None, min_impurity_decrease=0.0008733705337101161, min_samples_split=5; total time=   0.5s\n",
      "[CV] END max_depth=None, min_impurity_decrease=0.0008733705337101161, min_samples_split=5; total time=   0.6s\n",
      "[CV] END max_depth=16, min_impurity_decrease=0.015600527038475753, min_samples_split=2; total time=   0.2s\n",
      "[CV] END max_depth=16, min_impurity_decrease=0.015600527038475753, min_samples_split=2; total time=   0.2s\n",
      "[CV] END max_depth=16, min_impurity_decrease=0.015600527038475753, min_samples_split=2; total time=   0.2s\n",
      "[CV] END max_depth=16, min_impurity_decrease=0.015600527038475753, min_samples_split=2; total time=   0.2s\n",
      "[CV] END max_depth=16, min_impurity_decrease=0.015600527038475753, min_samples_split=2; total time=   0.2s\n",
      "[CV] END max_depth=16, min_impurity_decrease=0.015600527038475753, min_samples_split=2; total time=   0.2s\n",
      "[CV] END max_depth=16, min_impurity_decrease=0.015600527038475753, min_samples_split=2; total time=   0.2s\n",
      "[CV] END max_depth=16, min_impurity_decrease=0.015600527038475753, min_samples_split=2; total time=   0.2s\n",
      "[CV] END max_depth=16, min_impurity_decrease=0.015600527038475753, min_samples_split=2; total time=   0.2s\n",
      "[CV] END max_depth=16, min_impurity_decrease=0.015600527038475753, min_samples_split=2; total time=   0.2s\n",
      "[CV] END max_depth=6, min_impurity_decrease=0.24751772022206764, min_samples_split=2; total time=   0.1s\n",
      "[CV] END max_depth=6, min_impurity_decrease=0.24751772022206764, min_samples_split=2; total time=   0.1s\n",
      "[CV] END max_depth=6, min_impurity_decrease=0.24751772022206764, min_samples_split=2; total time=   0.1s\n",
      "[CV] END max_depth=6, min_impurity_decrease=0.24751772022206764, min_samples_split=2; total time=   0.1s\n",
      "[CV] END max_depth=6, min_impurity_decrease=0.24751772022206764, min_samples_split=2; total time=   0.1s\n",
      "[CV] END max_depth=6, min_impurity_decrease=0.24751772022206764, min_samples_split=2; total time=   0.1s\n",
      "[CV] END max_depth=6, min_impurity_decrease=0.24751772022206764, min_samples_split=2; total time=   0.1s\n",
      "[CV] END max_depth=6, min_impurity_decrease=0.24751772022206764, min_samples_split=2; total time=   0.1s\n",
      "[CV] END max_depth=6, min_impurity_decrease=0.24751772022206764, min_samples_split=2; total time=   0.1s\n",
      "[CV] END max_depth=6, min_impurity_decrease=0.24751772022206764, min_samples_split=2; total time=   0.1s\n",
      "[CV] END max_depth=16, min_impurity_decrease=0.36041261745729947, min_samples_split=2; total time=   0.1s\n",
      "[CV] END max_depth=16, min_impurity_decrease=0.36041261745729947, min_samples_split=2; total time=   0.1s\n",
      "[CV] END max_depth=16, min_impurity_decrease=0.36041261745729947, min_samples_split=2; total time=   0.1s\n",
      "[CV] END max_depth=16, min_impurity_decrease=0.36041261745729947, min_samples_split=2; total time=   0.1s\n",
      "[CV] END max_depth=16, min_impurity_decrease=0.36041261745729947, min_samples_split=2; total time=   0.2s\n",
      "[CV] END max_depth=16, min_impurity_decrease=0.36041261745729947, min_samples_split=2; total time=   0.1s\n",
      "[CV] END max_depth=16, min_impurity_decrease=0.36041261745729947, min_samples_split=2; total time=   0.1s\n",
      "[CV] END max_depth=16, min_impurity_decrease=0.36041261745729947, min_samples_split=2; total time=   0.1s\n",
      "[CV] END max_depth=16, min_impurity_decrease=0.36041261745729947, min_samples_split=2; total time=   0.1s\n",
      "[CV] END max_depth=16, min_impurity_decrease=0.36041261745729947, min_samples_split=2; total time=   0.1s\n",
      "[CV] END max_depth=20, min_impurity_decrease=0.27756767980843, min_samples_split=11; total time=   0.1s\n",
      "[CV] END max_depth=20, min_impurity_decrease=0.27756767980843, min_samples_split=11; total time=   0.1s\n",
      "[CV] END max_depth=20, min_impurity_decrease=0.27756767980843, min_samples_split=11; total time=   0.1s\n",
      "[CV] END max_depth=20, min_impurity_decrease=0.27756767980843, min_samples_split=11; total time=   0.1s\n",
      "[CV] END max_depth=20, min_impurity_decrease=0.27756767980843, min_samples_split=11; total time=   0.1s\n",
      "[CV] END max_depth=20, min_impurity_decrease=0.27756767980843, min_samples_split=11; total time=   0.1s\n",
      "[CV] END max_depth=20, min_impurity_decrease=0.27756767980843, min_samples_split=11; total time=   0.1s\n",
      "[CV] END max_depth=20, min_impurity_decrease=0.27756767980843, min_samples_split=11; total time=   0.2s\n",
      "[CV] END max_depth=20, min_impurity_decrease=0.27756767980843, min_samples_split=11; total time=   0.2s\n",
      "[CV] END max_depth=20, min_impurity_decrease=0.27756767980843, min_samples_split=11; total time=   0.2s\n",
      "[CV] END max_depth=18, min_impurity_decrease=0.0218061478239418, min_samples_split=10; total time=   0.3s\n",
      "[CV] END max_depth=18, min_impurity_decrease=0.0218061478239418, min_samples_split=10; total time=   0.3s\n",
      "[CV] END max_depth=18, min_impurity_decrease=0.0218061478239418, min_samples_split=10; total time=   0.3s\n",
      "[CV] END max_depth=18, min_impurity_decrease=0.0218061478239418, min_samples_split=10; total time=   0.3s\n",
      "[CV] END max_depth=18, min_impurity_decrease=0.0218061478239418, min_samples_split=10; total time=   0.4s\n",
      "[CV] END max_depth=18, min_impurity_decrease=0.0218061478239418, min_samples_split=10; total time=   0.4s\n",
      "[CV] END max_depth=18, min_impurity_decrease=0.0218061478239418, min_samples_split=10; total time=   0.3s\n",
      "[CV] END max_depth=18, min_impurity_decrease=0.0218061478239418, min_samples_split=10; total time=   0.3s\n",
      "[CV] END max_depth=18, min_impurity_decrease=0.0218061478239418, min_samples_split=10; total time=   0.4s\n",
      "[CV] END max_depth=18, min_impurity_decrease=0.0218061478239418, min_samples_split=10; total time=   0.4s\n",
      "[CV] END max_depth=18, min_impurity_decrease=0.2362437122964724, min_samples_split=4; total time=   0.1s\n",
      "[CV] END max_depth=18, min_impurity_decrease=0.2362437122964724, min_samples_split=4; total time=   0.1s\n",
      "[CV] END max_depth=18, min_impurity_decrease=0.2362437122964724, min_samples_split=4; total time=   0.2s\n",
      "[CV] END max_depth=18, min_impurity_decrease=0.2362437122964724, min_samples_split=4; total time=   0.1s\n",
      "[CV] END max_depth=18, min_impurity_decrease=0.2362437122964724, min_samples_split=4; total time=   0.2s\n",
      "[CV] END max_depth=18, min_impurity_decrease=0.2362437122964724, min_samples_split=4; total time=   0.1s\n",
      "[CV] END max_depth=18, min_impurity_decrease=0.2362437122964724, min_samples_split=4; total time=   0.1s\n",
      "[CV] END max_depth=18, min_impurity_decrease=0.2362437122964724, min_samples_split=4; total time=   0.1s\n",
      "[CV] END max_depth=18, min_impurity_decrease=0.2362437122964724, min_samples_split=4; total time=   0.1s\n",
      "[CV] END max_depth=18, min_impurity_decrease=0.2362437122964724, min_samples_split=4; total time=   0.2s\n",
      "[CV] END max_depth=16, min_impurity_decrease=0.4881978330721059, min_samples_split=11; total time=   0.2s\n",
      "[CV] END max_depth=16, min_impurity_decrease=0.4881978330721059, min_samples_split=11; total time=   0.1s\n",
      "[CV] END max_depth=16, min_impurity_decrease=0.4881978330721059, min_samples_split=11; total time=   0.2s\n",
      "[CV] END max_depth=16, min_impurity_decrease=0.4881978330721059, min_samples_split=11; total time=   0.1s\n",
      "[CV] END max_depth=16, min_impurity_decrease=0.4881978330721059, min_samples_split=11; total time=   0.1s\n",
      "[CV] END max_depth=16, min_impurity_decrease=0.4881978330721059, min_samples_split=11; total time=   0.2s\n",
      "[CV] END max_depth=16, min_impurity_decrease=0.4881978330721059, min_samples_split=11; total time=   0.1s\n",
      "[CV] END max_depth=16, min_impurity_decrease=0.4881978330721059, min_samples_split=11; total time=   0.1s\n"
     ]
    },
    {
     "name": "stdout",
     "output_type": "stream",
     "text": [
      "[CV] END max_depth=16, min_impurity_decrease=0.4881978330721059, min_samples_split=11; total time=   0.1s\n",
      "[CV] END max_depth=16, min_impurity_decrease=0.4881978330721059, min_samples_split=11; total time=   0.2s\n",
      "[CV] END max_depth=20, min_impurity_decrease=0.1679028497377124, min_samples_split=5; total time=   0.3s\n",
      "[CV] END max_depth=20, min_impurity_decrease=0.1679028497377124, min_samples_split=5; total time=   0.4s\n",
      "[CV] END max_depth=20, min_impurity_decrease=0.1679028497377124, min_samples_split=5; total time=   0.3s\n",
      "[CV] END max_depth=20, min_impurity_decrease=0.1679028497377124, min_samples_split=5; total time=   0.3s\n",
      "[CV] END max_depth=20, min_impurity_decrease=0.1679028497377124, min_samples_split=5; total time=   0.2s\n",
      "[CV] END max_depth=20, min_impurity_decrease=0.1679028497377124, min_samples_split=5; total time=   0.2s\n",
      "[CV] END max_depth=20, min_impurity_decrease=0.1679028497377124, min_samples_split=5; total time=   0.3s\n",
      "[CV] END max_depth=20, min_impurity_decrease=0.1679028497377124, min_samples_split=5; total time=   0.3s\n",
      "[CV] END max_depth=20, min_impurity_decrease=0.1679028497377124, min_samples_split=5; total time=   0.2s\n",
      "[CV] END max_depth=20, min_impurity_decrease=0.1679028497377124, min_samples_split=5; total time=   0.3s\n",
      "[CV] END max_depth=20, min_impurity_decrease=0.283543644356642, min_samples_split=4; total time=   0.1s\n",
      "[CV] END max_depth=20, min_impurity_decrease=0.283543644356642, min_samples_split=4; total time=   0.1s\n",
      "[CV] END max_depth=20, min_impurity_decrease=0.283543644356642, min_samples_split=4; total time=   0.1s\n",
      "[CV] END max_depth=20, min_impurity_decrease=0.283543644356642, min_samples_split=4; total time=   0.1s\n",
      "[CV] END max_depth=20, min_impurity_decrease=0.283543644356642, min_samples_split=4; total time=   0.2s\n",
      "[CV] END max_depth=20, min_impurity_decrease=0.283543644356642, min_samples_split=4; total time=   0.1s\n",
      "[CV] END max_depth=20, min_impurity_decrease=0.283543644356642, min_samples_split=4; total time=   0.1s\n",
      "[CV] END max_depth=20, min_impurity_decrease=0.283543644356642, min_samples_split=4; total time=   0.1s\n",
      "[CV] END max_depth=20, min_impurity_decrease=0.283543644356642, min_samples_split=4; total time=   0.1s\n",
      "[CV] END max_depth=20, min_impurity_decrease=0.283543644356642, min_samples_split=4; total time=   0.1s\n",
      "[CV] END max_depth=20, min_impurity_decrease=0.48836136578375994, min_samples_split=3; total time=   0.1s\n",
      "[CV] END max_depth=20, min_impurity_decrease=0.48836136578375994, min_samples_split=3; total time=   0.1s\n",
      "[CV] END max_depth=20, min_impurity_decrease=0.48836136578375994, min_samples_split=3; total time=   0.1s\n",
      "[CV] END max_depth=20, min_impurity_decrease=0.48836136578375994, min_samples_split=3; total time=   0.1s\n",
      "[CV] END max_depth=20, min_impurity_decrease=0.48836136578375994, min_samples_split=3; total time=   0.2s\n",
      "[CV] END max_depth=20, min_impurity_decrease=0.48836136578375994, min_samples_split=3; total time=   0.2s\n",
      "[CV] END max_depth=20, min_impurity_decrease=0.48836136578375994, min_samples_split=3; total time=   0.1s\n",
      "[CV] END max_depth=20, min_impurity_decrease=0.48836136578375994, min_samples_split=3; total time=   0.1s\n",
      "[CV] END max_depth=20, min_impurity_decrease=0.48836136578375994, min_samples_split=3; total time=   0.2s\n",
      "[CV] END max_depth=20, min_impurity_decrease=0.48836136578375994, min_samples_split=3; total time=   0.1s\n",
      "[CV] END max_depth=18, min_impurity_decrease=0.3598894940740278, min_samples_split=4; total time=   0.1s\n",
      "[CV] END max_depth=18, min_impurity_decrease=0.3598894940740278, min_samples_split=4; total time=   0.1s\n",
      "[CV] END max_depth=18, min_impurity_decrease=0.3598894940740278, min_samples_split=4; total time=   0.1s\n",
      "[CV] END max_depth=18, min_impurity_decrease=0.3598894940740278, min_samples_split=4; total time=   0.1s\n",
      "[CV] END max_depth=18, min_impurity_decrease=0.3598894940740278, min_samples_split=4; total time=   0.2s\n",
      "[CV] END max_depth=18, min_impurity_decrease=0.3598894940740278, min_samples_split=4; total time=   0.1s\n",
      "[CV] END max_depth=18, min_impurity_decrease=0.3598894940740278, min_samples_split=4; total time=   0.1s\n",
      "[CV] END max_depth=18, min_impurity_decrease=0.3598894940740278, min_samples_split=4; total time=   0.1s\n",
      "[CV] END max_depth=18, min_impurity_decrease=0.3598894940740278, min_samples_split=4; total time=   0.1s\n",
      "[CV] END max_depth=18, min_impurity_decrease=0.3598894940740278, min_samples_split=4; total time=   0.1s\n",
      "[CV] END max_depth=6, min_impurity_decrease=0.4886563313604038, min_samples_split=6; total time=   0.1s\n",
      "[CV] END max_depth=6, min_impurity_decrease=0.4886563313604038, min_samples_split=6; total time=   0.1s\n",
      "[CV] END max_depth=6, min_impurity_decrease=0.4886563313604038, min_samples_split=6; total time=   0.1s\n",
      "[CV] END max_depth=6, min_impurity_decrease=0.4886563313604038, min_samples_split=6; total time=   0.2s\n",
      "[CV] END max_depth=6, min_impurity_decrease=0.4886563313604038, min_samples_split=6; total time=   0.1s\n",
      "[CV] END max_depth=6, min_impurity_decrease=0.4886563313604038, min_samples_split=6; total time=   0.2s\n",
      "[CV] END max_depth=6, min_impurity_decrease=0.4886563313604038, min_samples_split=6; total time=   0.1s\n",
      "[CV] END max_depth=6, min_impurity_decrease=0.4886563313604038, min_samples_split=6; total time=   0.1s\n",
      "[CV] END max_depth=6, min_impurity_decrease=0.4886563313604038, min_samples_split=6; total time=   0.1s\n",
      "[CV] END max_depth=6, min_impurity_decrease=0.4886563313604038, min_samples_split=6; total time=   0.1s\n",
      "[CV] END max_depth=18, min_impurity_decrease=0.26654699222332245, min_samples_split=5; total time=   0.1s\n",
      "[CV] END max_depth=18, min_impurity_decrease=0.26654699222332245, min_samples_split=5; total time=   0.1s\n",
      "[CV] END max_depth=18, min_impurity_decrease=0.26654699222332245, min_samples_split=5; total time=   0.1s\n",
      "[CV] END max_depth=18, min_impurity_decrease=0.26654699222332245, min_samples_split=5; total time=   0.1s\n",
      "[CV] END max_depth=18, min_impurity_decrease=0.26654699222332245, min_samples_split=5; total time=   0.1s\n",
      "[CV] END max_depth=18, min_impurity_decrease=0.26654699222332245, min_samples_split=5; total time=   0.1s\n",
      "[CV] END max_depth=18, min_impurity_decrease=0.26654699222332245, min_samples_split=5; total time=   0.1s\n",
      "[CV] END max_depth=18, min_impurity_decrease=0.26654699222332245, min_samples_split=5; total time=   0.2s\n",
      "[CV] END max_depth=18, min_impurity_decrease=0.26654699222332245, min_samples_split=5; total time=   0.1s\n",
      "[CV] END max_depth=18, min_impurity_decrease=0.26654699222332245, min_samples_split=5; total time=   0.1s\n",
      "[CV] END max_depth=None, min_impurity_decrease=0.46524720618923976, min_samples_split=8; total time=   0.1s\n",
      "[CV] END max_depth=None, min_impurity_decrease=0.46524720618923976, min_samples_split=8; total time=   0.1s\n",
      "[CV] END max_depth=None, min_impurity_decrease=0.46524720618923976, min_samples_split=8; total time=   0.1s\n",
      "[CV] END max_depth=None, min_impurity_decrease=0.46524720618923976, min_samples_split=8; total time=   0.2s\n",
      "[CV] END max_depth=None, min_impurity_decrease=0.46524720618923976, min_samples_split=8; total time=   0.1s\n",
      "[CV] END max_depth=None, min_impurity_decrease=0.46524720618923976, min_samples_split=8; total time=   0.2s\n",
      "[CV] END max_depth=None, min_impurity_decrease=0.46524720618923976, min_samples_split=8; total time=   0.1s\n",
      "[CV] END max_depth=None, min_impurity_decrease=0.46524720618923976, min_samples_split=8; total time=   0.1s\n",
      "[CV] END max_depth=None, min_impurity_decrease=0.46524720618923976, min_samples_split=8; total time=   0.1s\n",
      "[CV] END max_depth=None, min_impurity_decrease=0.46524720618923976, min_samples_split=8; total time=   0.1s\n",
      "[CV] END max_depth=16, min_impurity_decrease=0.3950977306117766, min_samples_split=11; total time=   0.1s\n",
      "[CV] END max_depth=16, min_impurity_decrease=0.3950977306117766, min_samples_split=11; total time=   0.1s\n",
      "[CV] END max_depth=16, min_impurity_decrease=0.3950977306117766, min_samples_split=11; total time=   0.1s\n",
      "[CV] END max_depth=16, min_impurity_decrease=0.3950977306117766, min_samples_split=11; total time=   0.1s\n",
      "[CV] END max_depth=16, min_impurity_decrease=0.3950977306117766, min_samples_split=11; total time=   0.1s\n",
      "[CV] END max_depth=16, min_impurity_decrease=0.3950977306117766, min_samples_split=11; total time=   0.2s\n",
      "[CV] END max_depth=16, min_impurity_decrease=0.3950977306117766, min_samples_split=11; total time=   0.1s\n"
     ]
    },
    {
     "name": "stdout",
     "output_type": "stream",
     "text": [
      "[CV] END max_depth=16, min_impurity_decrease=0.3950977306117766, min_samples_split=11; total time=   0.1s\n",
      "[CV] END max_depth=16, min_impurity_decrease=0.3950977306117766, min_samples_split=11; total time=   0.1s\n",
      "[CV] END max_depth=16, min_impurity_decrease=0.3950977306117766, min_samples_split=11; total time=   0.1s\n",
      "[CV] END max_depth=20, min_impurity_decrease=0.08201369380434637, min_samples_split=5; total time=   0.3s\n",
      "[CV] END max_depth=20, min_impurity_decrease=0.08201369380434637, min_samples_split=5; total time=   0.3s\n",
      "[CV] END max_depth=20, min_impurity_decrease=0.08201369380434637, min_samples_split=5; total time=   0.3s\n",
      "[CV] END max_depth=20, min_impurity_decrease=0.08201369380434637, min_samples_split=5; total time=   0.3s\n",
      "[CV] END max_depth=20, min_impurity_decrease=0.08201369380434637, min_samples_split=5; total time=   0.3s\n",
      "[CV] END max_depth=20, min_impurity_decrease=0.08201369380434637, min_samples_split=5; total time=   0.3s\n",
      "[CV] END max_depth=20, min_impurity_decrease=0.08201369380434637, min_samples_split=5; total time=   0.3s\n",
      "[CV] END max_depth=20, min_impurity_decrease=0.08201369380434637, min_samples_split=5; total time=   0.3s\n",
      "[CV] END max_depth=20, min_impurity_decrease=0.08201369380434637, min_samples_split=5; total time=   0.3s\n",
      "[CV] END max_depth=20, min_impurity_decrease=0.08201369380434637, min_samples_split=5; total time=   0.4s\n",
      "[CV] END max_depth=None, min_impurity_decrease=0.017991040628038135, min_samples_split=11; total time=   0.3s\n",
      "[CV] END max_depth=None, min_impurity_decrease=0.017991040628038135, min_samples_split=11; total time=   0.3s\n",
      "[CV] END max_depth=None, min_impurity_decrease=0.017991040628038135, min_samples_split=11; total time=   0.3s\n",
      "[CV] END max_depth=None, min_impurity_decrease=0.017991040628038135, min_samples_split=11; total time=   0.3s\n",
      "[CV] END max_depth=None, min_impurity_decrease=0.017991040628038135, min_samples_split=11; total time=   0.3s\n",
      "[CV] END max_depth=None, min_impurity_decrease=0.017991040628038135, min_samples_split=11; total time=   0.3s\n",
      "[CV] END max_depth=None, min_impurity_decrease=0.017991040628038135, min_samples_split=11; total time=   0.3s\n",
      "[CV] END max_depth=None, min_impurity_decrease=0.017991040628038135, min_samples_split=11; total time=   0.2s\n",
      "[CV] END max_depth=None, min_impurity_decrease=0.017991040628038135, min_samples_split=11; total time=   0.3s\n",
      "[CV] END max_depth=None, min_impurity_decrease=0.017991040628038135, min_samples_split=11; total time=   0.3s\n",
      "[CV] END max_depth=18, min_impurity_decrease=0.48396270881080555, min_samples_split=9; total time=   0.1s\n",
      "[CV] END max_depth=18, min_impurity_decrease=0.48396270881080555, min_samples_split=9; total time=   0.1s\n",
      "[CV] END max_depth=18, min_impurity_decrease=0.48396270881080555, min_samples_split=9; total time=   0.2s\n",
      "[CV] END max_depth=18, min_impurity_decrease=0.48396270881080555, min_samples_split=9; total time=   0.1s\n",
      "[CV] END max_depth=18, min_impurity_decrease=0.48396270881080555, min_samples_split=9; total time=   0.1s\n",
      "[CV] END max_depth=18, min_impurity_decrease=0.48396270881080555, min_samples_split=9; total time=   0.1s\n",
      "[CV] END max_depth=18, min_impurity_decrease=0.48396270881080555, min_samples_split=9; total time=   0.4s\n",
      "[CV] END max_depth=18, min_impurity_decrease=0.48396270881080555, min_samples_split=9; total time=   0.1s\n",
      "[CV] END max_depth=18, min_impurity_decrease=0.48396270881080555, min_samples_split=9; total time=   0.1s\n",
      "[CV] END max_depth=18, min_impurity_decrease=0.48396270881080555, min_samples_split=9; total time=   0.1s\n",
      "[CV] END max_depth=16, min_impurity_decrease=0.15265333750525556, min_samples_split=9; total time=   0.3s\n",
      "[CV] END max_depth=16, min_impurity_decrease=0.15265333750525556, min_samples_split=9; total time=   0.3s\n",
      "[CV] END max_depth=16, min_impurity_decrease=0.15265333750525556, min_samples_split=9; total time=   0.3s\n",
      "[CV] END max_depth=16, min_impurity_decrease=0.15265333750525556, min_samples_split=9; total time=   0.3s\n",
      "[CV] END max_depth=16, min_impurity_decrease=0.15265333750525556, min_samples_split=9; total time=   0.3s\n",
      "[CV] END max_depth=16, min_impurity_decrease=0.15265333750525556, min_samples_split=9; total time=   0.5s\n",
      "[CV] END max_depth=16, min_impurity_decrease=0.15265333750525556, min_samples_split=9; total time=   0.3s\n",
      "[CV] END max_depth=16, min_impurity_decrease=0.15265333750525556, min_samples_split=9; total time=   0.3s\n",
      "[CV] END max_depth=16, min_impurity_decrease=0.15265333750525556, min_samples_split=9; total time=   0.3s\n",
      "[CV] END max_depth=16, min_impurity_decrease=0.15265333750525556, min_samples_split=9; total time=   0.3s\n"
     ]
    },
    {
     "data": {
      "text/plain": [
       "0.8771600705329154"
      ]
     },
     "execution_count": 37,
     "metadata": {},
     "output_type": "execute_result"
    }
   ],
   "source": [
    "params =  {\n",
    "    'min_samples_split': scipy.stats.randint(2, 12),\n",
    "    'min_impurity_decrease': scipy.stats.uniform(0.0, 0.5),\n",
    "    'max_depth': [6, 16,18,20, None]\n",
    "}\n",
    "\n",
    "\n",
    "tree_new = RandomizedSearchCV(\n",
    "    estimator=tree,\n",
    "    param_distributions=params,\n",
    "    n_iter=20,\n",
    "    cv=10,\n",
    "    verbose=2,\n",
    "    n_jobs=1)\n",
    "\n",
    "tree_new.fit(X1_train, y1_train)\n",
    "tree_new.best_score_"
   ]
  },
  {
   "cell_type": "code",
   "execution_count": 39,
   "id": "92bea089",
   "metadata": {},
   "outputs": [
    {
     "data": {
      "text/plain": [
       "{'max_depth': None,\n",
       " 'min_impurity_decrease': 0.0008733705337101161,\n",
       " 'min_samples_split': 5}"
      ]
     },
     "execution_count": 39,
     "metadata": {},
     "output_type": "execute_result"
    }
   ],
   "source": [
    "tree_new.best_params_"
   ]
  },
  {
   "cell_type": "code",
   "execution_count": 40,
   "id": "78f6c9e6",
   "metadata": {},
   "outputs": [
    {
     "name": "stdout",
     "output_type": "stream",
     "text": [
      "Training Accuracy: 0.9693\n",
      "Validation Accuracy: 0.9750\n",
      "Test Accuracy: 0.8699\n"
     ]
    }
   ],
   "source": [
    "print(\"Training Accuracy: %0.4f\" % tree_new.best_estimator_.score(X1_train, y1_train))\n",
    "print(\"Validation Accuracy: %0.4f\" % tree_new.best_estimator_.score(X1_valid, y1_valid))\n",
    "print(\"Test Accuracy: %0.4f\" % tree_new.best_estimator_.score(X1_test, y1_test))"
   ]
  },
  {
   "cell_type": "markdown",
   "id": "acebb4fc",
   "metadata": {},
   "source": [
    "Evaluation - F1 Score"
   ]
  },
  {
   "cell_type": "code",
   "execution_count": 43,
   "id": "cc168153",
   "metadata": {},
   "outputs": [
    {
     "data": {
      "text/plain": [
       "0.8697474023785465"
      ]
     },
     "execution_count": 43,
     "metadata": {},
     "output_type": "execute_result"
    }
   ],
   "source": [
    "y_true = y1_test\n",
    "y_pred = tree_new.best_estimator_.predict(X1_test)\n",
    "\n",
    "f1_score(y_true, y_pred, average=\"weighted\")"
   ]
  },
  {
   "cell_type": "markdown",
   "id": "80f9150d",
   "metadata": {},
   "source": [
    "## 3. Random Forest"
   ]
  },
  {
   "cell_type": "markdown",
   "id": "8852d414",
   "metadata": {},
   "source": [
    "Original Random Forest"
   ]
  },
  {
   "cell_type": "code",
   "execution_count": 57,
   "id": "a7bee607",
   "metadata": {},
   "outputs": [
    {
     "name": "stdout",
     "output_type": "stream",
     "text": [
      "Training Accuracy: 1.0000\n",
      "Validation Accuracy: 1.0000\n",
      "Test Accuracy: 0.9072\n"
     ]
    }
   ],
   "source": [
    "forest = RandomForestClassifier(n_estimators=100,\n",
    "                                random_state=123)\n",
    "\n",
    "forest.fit(X1_train, y1_train)\n",
    "    \n",
    "print(\"Training Accuracy: %0.4f\" % forest.score(X1_train, y1_train))\n",
    "print(\"Validation Accuracy: %0.4f\" % forest.score(X1_valid, y1_valid))\n",
    "print(\"Test Accuracy: %0.4f\" % forest.score(X1_test, y1_test))"
   ]
  },
  {
   "cell_type": "code",
   "execution_count": 58,
   "id": "827a08b1",
   "metadata": {},
   "outputs": [
    {
     "data": {
      "text/plain": [
       "0.9069038367585823"
      ]
     },
     "execution_count": 58,
     "metadata": {},
     "output_type": "execute_result"
    }
   ],
   "source": [
    "y_true = y1_test\n",
    "y_pred = forest.predict(X1_test)\n",
    "\n",
    "f1_score(y_true, y_pred, average=\"weighted\")"
   ]
  },
  {
   "cell_type": "markdown",
   "id": "2cdd40ba",
   "metadata": {},
   "source": [
    "Tuning"
   ]
  },
  {
   "cell_type": "code",
   "execution_count": 45,
   "id": "1ed4cc00",
   "metadata": {},
   "outputs": [
    {
     "name": "stdout",
     "output_type": "stream",
     "text": [
      "Fitting 10 folds for each of 20 candidates, totalling 200 fits\n",
      "[CV] END max_depth=20, min_impurity_decrease=0.09573987326986477, min_samples_split=4; total time=   0.9s\n",
      "[CV] END max_depth=20, min_impurity_decrease=0.09573987326986477, min_samples_split=4; total time=   0.8s\n",
      "[CV] END max_depth=20, min_impurity_decrease=0.09573987326986477, min_samples_split=4; total time=   0.8s\n",
      "[CV] END max_depth=20, min_impurity_decrease=0.09573987326986477, min_samples_split=4; total time=   0.8s\n",
      "[CV] END max_depth=20, min_impurity_decrease=0.09573987326986477, min_samples_split=4; total time=   0.8s\n",
      "[CV] END max_depth=20, min_impurity_decrease=0.09573987326986477, min_samples_split=4; total time=   0.8s\n",
      "[CV] END max_depth=20, min_impurity_decrease=0.09573987326986477, min_samples_split=4; total time=   0.8s\n",
      "[CV] END max_depth=20, min_impurity_decrease=0.09573987326986477, min_samples_split=4; total time=   0.8s\n",
      "[CV] END max_depth=20, min_impurity_decrease=0.09573987326986477, min_samples_split=4; total time=   0.8s\n",
      "[CV] END max_depth=20, min_impurity_decrease=0.09573987326986477, min_samples_split=4; total time=   0.8s\n",
      "[CV] END max_depth=20, min_impurity_decrease=0.46314416955692567, min_samples_split=5; total time=   0.7s\n",
      "[CV] END max_depth=20, min_impurity_decrease=0.46314416955692567, min_samples_split=5; total time=   0.6s\n",
      "[CV] END max_depth=20, min_impurity_decrease=0.46314416955692567, min_samples_split=5; total time=   0.6s\n",
      "[CV] END max_depth=20, min_impurity_decrease=0.46314416955692567, min_samples_split=5; total time=   0.7s\n",
      "[CV] END max_depth=20, min_impurity_decrease=0.46314416955692567, min_samples_split=5; total time=   0.6s\n",
      "[CV] END max_depth=20, min_impurity_decrease=0.46314416955692567, min_samples_split=5; total time=   0.6s\n",
      "[CV] END max_depth=20, min_impurity_decrease=0.46314416955692567, min_samples_split=5; total time=   0.6s\n",
      "[CV] END max_depth=20, min_impurity_decrease=0.46314416955692567, min_samples_split=5; total time=   0.6s\n",
      "[CV] END max_depth=20, min_impurity_decrease=0.46314416955692567, min_samples_split=5; total time=   0.6s\n",
      "[CV] END max_depth=20, min_impurity_decrease=0.46314416955692567, min_samples_split=5; total time=   0.6s\n",
      "[CV] END max_depth=16, min_impurity_decrease=0.22550987631460168, min_samples_split=2; total time=   0.6s\n",
      "[CV] END max_depth=16, min_impurity_decrease=0.22550987631460168, min_samples_split=2; total time=   0.6s\n",
      "[CV] END max_depth=16, min_impurity_decrease=0.22550987631460168, min_samples_split=2; total time=   0.6s\n",
      "[CV] END max_depth=16, min_impurity_decrease=0.22550987631460168, min_samples_split=2; total time=   0.6s\n",
      "[CV] END max_depth=16, min_impurity_decrease=0.22550987631460168, min_samples_split=2; total time=   0.6s\n",
      "[CV] END max_depth=16, min_impurity_decrease=0.22550987631460168, min_samples_split=2; total time=   0.7s\n",
      "[CV] END max_depth=16, min_impurity_decrease=0.22550987631460168, min_samples_split=2; total time=   0.7s\n",
      "[CV] END max_depth=16, min_impurity_decrease=0.22550987631460168, min_samples_split=2; total time=   0.5s\n",
      "[CV] END max_depth=16, min_impurity_decrease=0.22550987631460168, min_samples_split=2; total time=   0.5s\n",
      "[CV] END max_depth=16, min_impurity_decrease=0.22550987631460168, min_samples_split=2; total time=   0.4s\n",
      "[CV] END max_depth=16, min_impurity_decrease=0.40536120090670547, min_samples_split=3; total time=   0.4s\n",
      "[CV] END max_depth=16, min_impurity_decrease=0.40536120090670547, min_samples_split=3; total time=   0.4s\n",
      "[CV] END max_depth=16, min_impurity_decrease=0.40536120090670547, min_samples_split=3; total time=   0.4s\n",
      "[CV] END max_depth=16, min_impurity_decrease=0.40536120090670547, min_samples_split=3; total time=   0.4s\n",
      "[CV] END max_depth=16, min_impurity_decrease=0.40536120090670547, min_samples_split=3; total time=   0.4s\n",
      "[CV] END max_depth=16, min_impurity_decrease=0.40536120090670547, min_samples_split=3; total time=   0.4s\n",
      "[CV] END max_depth=16, min_impurity_decrease=0.40536120090670547, min_samples_split=3; total time=   0.4s\n",
      "[CV] END max_depth=16, min_impurity_decrease=0.40536120090670547, min_samples_split=3; total time=   0.4s\n",
      "[CV] END max_depth=16, min_impurity_decrease=0.40536120090670547, min_samples_split=3; total time=   0.5s\n",
      "[CV] END max_depth=16, min_impurity_decrease=0.40536120090670547, min_samples_split=3; total time=   0.4s\n",
      "[CV] END max_depth=20, min_impurity_decrease=0.26054428789225226, min_samples_split=11; total time=   0.5s\n",
      "[CV] END max_depth=20, min_impurity_decrease=0.26054428789225226, min_samples_split=11; total time=   0.4s\n",
      "[CV] END max_depth=20, min_impurity_decrease=0.26054428789225226, min_samples_split=11; total time=   0.4s\n",
      "[CV] END max_depth=20, min_impurity_decrease=0.26054428789225226, min_samples_split=11; total time=   0.5s\n",
      "[CV] END max_depth=20, min_impurity_decrease=0.26054428789225226, min_samples_split=11; total time=   0.4s\n",
      "[CV] END max_depth=20, min_impurity_decrease=0.26054428789225226, min_samples_split=11; total time=   0.4s\n",
      "[CV] END max_depth=20, min_impurity_decrease=0.26054428789225226, min_samples_split=11; total time=   0.4s\n",
      "[CV] END max_depth=20, min_impurity_decrease=0.26054428789225226, min_samples_split=11; total time=   0.4s\n",
      "[CV] END max_depth=20, min_impurity_decrease=0.26054428789225226, min_samples_split=11; total time=   0.4s\n",
      "[CV] END max_depth=20, min_impurity_decrease=0.26054428789225226, min_samples_split=11; total time=   0.4s\n",
      "[CV] END max_depth=16, min_impurity_decrease=0.41895975939557284, min_samples_split=5; total time=   0.4s\n",
      "[CV] END max_depth=16, min_impurity_decrease=0.41895975939557284, min_samples_split=5; total time=   0.4s\n",
      "[CV] END max_depth=16, min_impurity_decrease=0.41895975939557284, min_samples_split=5; total time=   0.4s\n",
      "[CV] END max_depth=16, min_impurity_decrease=0.41895975939557284, min_samples_split=5; total time=   0.4s\n",
      "[CV] END max_depth=16, min_impurity_decrease=0.41895975939557284, min_samples_split=5; total time=   0.5s\n",
      "[CV] END max_depth=16, min_impurity_decrease=0.41895975939557284, min_samples_split=5; total time=   0.4s\n",
      "[CV] END max_depth=16, min_impurity_decrease=0.41895975939557284, min_samples_split=5; total time=   0.5s\n",
      "[CV] END max_depth=16, min_impurity_decrease=0.41895975939557284, min_samples_split=5; total time=   0.4s\n",
      "[CV] END max_depth=16, min_impurity_decrease=0.41895975939557284, min_samples_split=5; total time=   0.4s\n",
      "[CV] END max_depth=16, min_impurity_decrease=0.41895975939557284, min_samples_split=5; total time=   0.4s\n",
      "[CV] END max_depth=20, min_impurity_decrease=0.12529098612122003, min_samples_split=3; total time=   0.5s\n",
      "[CV] END max_depth=20, min_impurity_decrease=0.12529098612122003, min_samples_split=3; total time=   0.5s\n",
      "[CV] END max_depth=20, min_impurity_decrease=0.12529098612122003, min_samples_split=3; total time=   0.5s\n",
      "[CV] END max_depth=20, min_impurity_decrease=0.12529098612122003, min_samples_split=3; total time=   0.5s\n",
      "[CV] END max_depth=20, min_impurity_decrease=0.12529098612122003, min_samples_split=3; total time=   0.5s\n",
      "[CV] END max_depth=20, min_impurity_decrease=0.12529098612122003, min_samples_split=3; total time=   0.5s\n",
      "[CV] END max_depth=20, min_impurity_decrease=0.12529098612122003, min_samples_split=3; total time=   0.5s\n",
      "[CV] END max_depth=20, min_impurity_decrease=0.12529098612122003, min_samples_split=3; total time=   0.6s\n",
      "[CV] END max_depth=20, min_impurity_decrease=0.12529098612122003, min_samples_split=3; total time=   0.5s\n",
      "[CV] END max_depth=20, min_impurity_decrease=0.12529098612122003, min_samples_split=3; total time=   0.5s\n",
      "[CV] END max_depth=20, min_impurity_decrease=0.38438107549422335, min_samples_split=7; total time=   0.4s\n",
      "[CV] END max_depth=20, min_impurity_decrease=0.38438107549422335, min_samples_split=7; total time=   0.4s\n",
      "[CV] END max_depth=20, min_impurity_decrease=0.38438107549422335, min_samples_split=7; total time=   0.4s\n",
      "[CV] END max_depth=20, min_impurity_decrease=0.38438107549422335, min_samples_split=7; total time=   0.4s\n",
      "[CV] END max_depth=20, min_impurity_decrease=0.38438107549422335, min_samples_split=7; total time=   0.4s\n",
      "[CV] END max_depth=20, min_impurity_decrease=0.38438107549422335, min_samples_split=7; total time=   0.4s\n",
      "[CV] END max_depth=20, min_impurity_decrease=0.38438107549422335, min_samples_split=7; total time=   0.4s\n"
     ]
    },
    {
     "name": "stdout",
     "output_type": "stream",
     "text": [
      "[CV] END max_depth=20, min_impurity_decrease=0.38438107549422335, min_samples_split=7; total time=   0.4s\n",
      "[CV] END max_depth=20, min_impurity_decrease=0.38438107549422335, min_samples_split=7; total time=   0.6s\n",
      "[CV] END max_depth=20, min_impurity_decrease=0.38438107549422335, min_samples_split=7; total time=   0.5s\n",
      "[CV] END max_depth=16, min_impurity_decrease=0.2269598010512256, min_samples_split=4; total time=   0.5s\n",
      "[CV] END max_depth=16, min_impurity_decrease=0.2269598010512256, min_samples_split=4; total time=   0.5s\n",
      "[CV] END max_depth=16, min_impurity_decrease=0.2269598010512256, min_samples_split=4; total time=   0.4s\n",
      "[CV] END max_depth=16, min_impurity_decrease=0.2269598010512256, min_samples_split=4; total time=   0.5s\n",
      "[CV] END max_depth=16, min_impurity_decrease=0.2269598010512256, min_samples_split=4; total time=   0.4s\n",
      "[CV] END max_depth=16, min_impurity_decrease=0.2269598010512256, min_samples_split=4; total time=   0.5s\n",
      "[CV] END max_depth=16, min_impurity_decrease=0.2269598010512256, min_samples_split=4; total time=   0.4s\n",
      "[CV] END max_depth=16, min_impurity_decrease=0.2269598010512256, min_samples_split=4; total time=   0.5s\n",
      "[CV] END max_depth=16, min_impurity_decrease=0.2269598010512256, min_samples_split=4; total time=   0.5s\n",
      "[CV] END max_depth=16, min_impurity_decrease=0.2269598010512256, min_samples_split=4; total time=   0.4s\n",
      "[CV] END max_depth=16, min_impurity_decrease=0.17859778168926022, min_samples_split=8; total time=   0.5s\n",
      "[CV] END max_depth=16, min_impurity_decrease=0.17859778168926022, min_samples_split=8; total time=   0.6s\n",
      "[CV] END max_depth=16, min_impurity_decrease=0.17859778168926022, min_samples_split=8; total time=   0.5s\n",
      "[CV] END max_depth=16, min_impurity_decrease=0.17859778168926022, min_samples_split=8; total time=   0.6s\n",
      "[CV] END max_depth=16, min_impurity_decrease=0.17859778168926022, min_samples_split=8; total time=   0.5s\n",
      "[CV] END max_depth=16, min_impurity_decrease=0.17859778168926022, min_samples_split=8; total time=   0.7s\n",
      "[CV] END max_depth=16, min_impurity_decrease=0.17859778168926022, min_samples_split=8; total time=   0.5s\n",
      "[CV] END max_depth=16, min_impurity_decrease=0.17859778168926022, min_samples_split=8; total time=   0.6s\n",
      "[CV] END max_depth=16, min_impurity_decrease=0.17859778168926022, min_samples_split=8; total time=   0.9s\n",
      "[CV] END max_depth=16, min_impurity_decrease=0.17859778168926022, min_samples_split=8; total time=   0.5s\n",
      "[CV] END max_depth=None, min_impurity_decrease=0.21328505368774603, min_samples_split=4; total time=   0.5s\n",
      "[CV] END max_depth=None, min_impurity_decrease=0.21328505368774603, min_samples_split=4; total time=   0.5s\n",
      "[CV] END max_depth=None, min_impurity_decrease=0.21328505368774603, min_samples_split=4; total time=   0.5s\n",
      "[CV] END max_depth=None, min_impurity_decrease=0.21328505368774603, min_samples_split=4; total time=   0.6s\n",
      "[CV] END max_depth=None, min_impurity_decrease=0.21328505368774603, min_samples_split=4; total time=   0.7s\n",
      "[CV] END max_depth=None, min_impurity_decrease=0.21328505368774603, min_samples_split=4; total time=   0.5s\n",
      "[CV] END max_depth=None, min_impurity_decrease=0.21328505368774603, min_samples_split=4; total time=   0.9s\n",
      "[CV] END max_depth=None, min_impurity_decrease=0.21328505368774603, min_samples_split=4; total time=   0.5s\n",
      "[CV] END max_depth=None, min_impurity_decrease=0.21328505368774603, min_samples_split=4; total time=   0.5s\n",
      "[CV] END max_depth=None, min_impurity_decrease=0.21328505368774603, min_samples_split=4; total time=   0.5s\n",
      "[CV] END max_depth=None, min_impurity_decrease=0.4305417153959093, min_samples_split=2; total time=   0.4s\n",
      "[CV] END max_depth=None, min_impurity_decrease=0.4305417153959093, min_samples_split=2; total time=   0.4s\n",
      "[CV] END max_depth=None, min_impurity_decrease=0.4305417153959093, min_samples_split=2; total time=   0.4s\n",
      "[CV] END max_depth=None, min_impurity_decrease=0.4305417153959093, min_samples_split=2; total time=   0.4s\n",
      "[CV] END max_depth=None, min_impurity_decrease=0.4305417153959093, min_samples_split=2; total time=   0.5s\n",
      "[CV] END max_depth=None, min_impurity_decrease=0.4305417153959093, min_samples_split=2; total time=   0.4s\n",
      "[CV] END max_depth=None, min_impurity_decrease=0.4305417153959093, min_samples_split=2; total time=   0.5s\n",
      "[CV] END max_depth=None, min_impurity_decrease=0.4305417153959093, min_samples_split=2; total time=   0.6s\n",
      "[CV] END max_depth=None, min_impurity_decrease=0.4305417153959093, min_samples_split=2; total time=   0.5s\n",
      "[CV] END max_depth=None, min_impurity_decrease=0.4305417153959093, min_samples_split=2; total time=   0.4s\n",
      "[CV] END max_depth=None, min_impurity_decrease=0.02805955879320854, min_samples_split=6; total time=   0.7s\n",
      "[CV] END max_depth=None, min_impurity_decrease=0.02805955879320854, min_samples_split=6; total time=   0.8s\n",
      "[CV] END max_depth=None, min_impurity_decrease=0.02805955879320854, min_samples_split=6; total time=   0.7s\n",
      "[CV] END max_depth=None, min_impurity_decrease=0.02805955879320854, min_samples_split=6; total time=   0.7s\n",
      "[CV] END max_depth=None, min_impurity_decrease=0.02805955879320854, min_samples_split=6; total time=   0.8s\n",
      "[CV] END max_depth=None, min_impurity_decrease=0.02805955879320854, min_samples_split=6; total time=   1.1s\n",
      "[CV] END max_depth=None, min_impurity_decrease=0.02805955879320854, min_samples_split=6; total time=   0.8s\n",
      "[CV] END max_depth=None, min_impurity_decrease=0.02805955879320854, min_samples_split=6; total time=   0.8s\n",
      "[CV] END max_depth=None, min_impurity_decrease=0.02805955879320854, min_samples_split=6; total time=   0.7s\n",
      "[CV] END max_depth=None, min_impurity_decrease=0.02805955879320854, min_samples_split=6; total time=   0.8s\n",
      "[CV] END max_depth=16, min_impurity_decrease=0.2824480850192, min_samples_split=2; total time=   0.4s\n",
      "[CV] END max_depth=16, min_impurity_decrease=0.2824480850192, min_samples_split=2; total time=   0.4s\n",
      "[CV] END max_depth=16, min_impurity_decrease=0.2824480850192, min_samples_split=2; total time=   0.4s\n",
      "[CV] END max_depth=16, min_impurity_decrease=0.2824480850192, min_samples_split=2; total time=   0.5s\n",
      "[CV] END max_depth=16, min_impurity_decrease=0.2824480850192, min_samples_split=2; total time=   0.4s\n",
      "[CV] END max_depth=16, min_impurity_decrease=0.2824480850192, min_samples_split=2; total time=   0.4s\n",
      "[CV] END max_depth=16, min_impurity_decrease=0.2824480850192, min_samples_split=2; total time=   0.4s\n",
      "[CV] END max_depth=16, min_impurity_decrease=0.2824480850192, min_samples_split=2; total time=   0.4s\n",
      "[CV] END max_depth=16, min_impurity_decrease=0.2824480850192, min_samples_split=2; total time=   0.4s\n",
      "[CV] END max_depth=16, min_impurity_decrease=0.2824480850192, min_samples_split=2; total time=   0.4s\n",
      "[CV] END max_depth=18, min_impurity_decrease=0.39479529279239556, min_samples_split=7; total time=   0.4s\n",
      "[CV] END max_depth=18, min_impurity_decrease=0.39479529279239556, min_samples_split=7; total time=   0.5s\n",
      "[CV] END max_depth=18, min_impurity_decrease=0.39479529279239556, min_samples_split=7; total time=   0.4s\n",
      "[CV] END max_depth=18, min_impurity_decrease=0.39479529279239556, min_samples_split=7; total time=   0.4s\n",
      "[CV] END max_depth=18, min_impurity_decrease=0.39479529279239556, min_samples_split=7; total time=   0.4s\n",
      "[CV] END max_depth=18, min_impurity_decrease=0.39479529279239556, min_samples_split=7; total time=   0.4s\n",
      "[CV] END max_depth=18, min_impurity_decrease=0.39479529279239556, min_samples_split=7; total time=   0.4s\n",
      "[CV] END max_depth=18, min_impurity_decrease=0.39479529279239556, min_samples_split=7; total time=   0.5s\n",
      "[CV] END max_depth=18, min_impurity_decrease=0.39479529279239556, min_samples_split=7; total time=   0.5s\n",
      "[CV] END max_depth=18, min_impurity_decrease=0.39479529279239556, min_samples_split=7; total time=   0.4s\n",
      "[CV] END max_depth=16, min_impurity_decrease=0.40505389900050426, min_samples_split=4; total time=   0.4s\n",
      "[CV] END max_depth=16, min_impurity_decrease=0.40505389900050426, min_samples_split=4; total time=   0.4s\n",
      "[CV] END max_depth=16, min_impurity_decrease=0.40505389900050426, min_samples_split=4; total time=   0.4s\n",
      "[CV] END max_depth=16, min_impurity_decrease=0.40505389900050426, min_samples_split=4; total time=   0.5s\n",
      "[CV] END max_depth=16, min_impurity_decrease=0.40505389900050426, min_samples_split=4; total time=   0.5s\n"
     ]
    },
    {
     "name": "stdout",
     "output_type": "stream",
     "text": [
      "[CV] END max_depth=16, min_impurity_decrease=0.40505389900050426, min_samples_split=4; total time=   0.4s\n",
      "[CV] END max_depth=16, min_impurity_decrease=0.40505389900050426, min_samples_split=4; total time=   0.4s\n",
      "[CV] END max_depth=16, min_impurity_decrease=0.40505389900050426, min_samples_split=4; total time=   0.5s\n",
      "[CV] END max_depth=16, min_impurity_decrease=0.40505389900050426, min_samples_split=4; total time=   0.5s\n",
      "[CV] END max_depth=16, min_impurity_decrease=0.40505389900050426, min_samples_split=4; total time=   0.5s\n",
      "[CV] END max_depth=6, min_impurity_decrease=0.17916035448164308, min_samples_split=2; total time=   0.5s\n",
      "[CV] END max_depth=6, min_impurity_decrease=0.17916035448164308, min_samples_split=2; total time=   0.6s\n",
      "[CV] END max_depth=6, min_impurity_decrease=0.17916035448164308, min_samples_split=2; total time=   0.5s\n",
      "[CV] END max_depth=6, min_impurity_decrease=0.17916035448164308, min_samples_split=2; total time=   0.5s\n",
      "[CV] END max_depth=6, min_impurity_decrease=0.17916035448164308, min_samples_split=2; total time=   0.6s\n",
      "[CV] END max_depth=6, min_impurity_decrease=0.17916035448164308, min_samples_split=2; total time=   0.7s\n",
      "[CV] END max_depth=6, min_impurity_decrease=0.17916035448164308, min_samples_split=2; total time=   0.6s\n",
      "[CV] END max_depth=6, min_impurity_decrease=0.17916035448164308, min_samples_split=2; total time=   0.6s\n",
      "[CV] END max_depth=6, min_impurity_decrease=0.17916035448164308, min_samples_split=2; total time=   0.6s\n",
      "[CV] END max_depth=6, min_impurity_decrease=0.17916035448164308, min_samples_split=2; total time=   0.7s\n",
      "[CV] END max_depth=6, min_impurity_decrease=0.3453995098744036, min_samples_split=10; total time=   0.5s\n",
      "[CV] END max_depth=6, min_impurity_decrease=0.3453995098744036, min_samples_split=10; total time=   0.5s\n",
      "[CV] END max_depth=6, min_impurity_decrease=0.3453995098744036, min_samples_split=10; total time=   0.5s\n",
      "[CV] END max_depth=6, min_impurity_decrease=0.3453995098744036, min_samples_split=10; total time=   0.5s\n",
      "[CV] END max_depth=6, min_impurity_decrease=0.3453995098744036, min_samples_split=10; total time=   0.5s\n",
      "[CV] END max_depth=6, min_impurity_decrease=0.3453995098744036, min_samples_split=10; total time=   0.5s\n",
      "[CV] END max_depth=6, min_impurity_decrease=0.3453995098744036, min_samples_split=10; total time=   0.5s\n",
      "[CV] END max_depth=6, min_impurity_decrease=0.3453995098744036, min_samples_split=10; total time=   0.5s\n",
      "[CV] END max_depth=6, min_impurity_decrease=0.3453995098744036, min_samples_split=10; total time=   0.5s\n",
      "[CV] END max_depth=6, min_impurity_decrease=0.3453995098744036, min_samples_split=10; total time=   0.5s\n",
      "[CV] END max_depth=None, min_impurity_decrease=0.42635720619114514, min_samples_split=2; total time=   0.5s\n",
      "[CV] END max_depth=None, min_impurity_decrease=0.42635720619114514, min_samples_split=2; total time=   0.4s\n",
      "[CV] END max_depth=None, min_impurity_decrease=0.42635720619114514, min_samples_split=2; total time=   0.5s\n",
      "[CV] END max_depth=None, min_impurity_decrease=0.42635720619114514, min_samples_split=2; total time=   0.5s\n",
      "[CV] END max_depth=None, min_impurity_decrease=0.42635720619114514, min_samples_split=2; total time=   0.4s\n",
      "[CV] END max_depth=None, min_impurity_decrease=0.42635720619114514, min_samples_split=2; total time=   0.4s\n",
      "[CV] END max_depth=None, min_impurity_decrease=0.42635720619114514, min_samples_split=2; total time=   0.4s\n",
      "[CV] END max_depth=None, min_impurity_decrease=0.42635720619114514, min_samples_split=2; total time=   0.4s\n",
      "[CV] END max_depth=None, min_impurity_decrease=0.42635720619114514, min_samples_split=2; total time=   0.4s\n",
      "[CV] END max_depth=None, min_impurity_decrease=0.42635720619114514, min_samples_split=2; total time=   0.4s\n",
      "[CV] END max_depth=16, min_impurity_decrease=0.3637039149779162, min_samples_split=9; total time=   0.4s\n",
      "[CV] END max_depth=16, min_impurity_decrease=0.3637039149779162, min_samples_split=9; total time=   0.4s\n",
      "[CV] END max_depth=16, min_impurity_decrease=0.3637039149779162, min_samples_split=9; total time=   0.4s\n",
      "[CV] END max_depth=16, min_impurity_decrease=0.3637039149779162, min_samples_split=9; total time=   0.4s\n",
      "[CV] END max_depth=16, min_impurity_decrease=0.3637039149779162, min_samples_split=9; total time=   0.5s\n",
      "[CV] END max_depth=16, min_impurity_decrease=0.3637039149779162, min_samples_split=9; total time=   0.4s\n",
      "[CV] END max_depth=16, min_impurity_decrease=0.3637039149779162, min_samples_split=9; total time=   0.4s\n",
      "[CV] END max_depth=16, min_impurity_decrease=0.3637039149779162, min_samples_split=9; total time=   0.4s\n",
      "[CV] END max_depth=16, min_impurity_decrease=0.3637039149779162, min_samples_split=9; total time=   0.4s\n",
      "[CV] END max_depth=16, min_impurity_decrease=0.3637039149779162, min_samples_split=9; total time=   0.5s\n"
     ]
    },
    {
     "data": {
      "text/plain": [
       "0.8649363244514106"
      ]
     },
     "execution_count": 45,
     "metadata": {},
     "output_type": "execute_result"
    }
   ],
   "source": [
    "params =  {\n",
    "    'min_samples_split': scipy.stats.randint(2, 12),\n",
    "    'min_impurity_decrease': scipy.stats.uniform(0.0, 0.5),\n",
    "    'max_depth': [6, 16,18,20, None]\n",
    "}\n",
    "\n",
    "forest_new = RandomizedSearchCV(\n",
    "    estimator=forest,\n",
    "    param_distributions=params,\n",
    "    n_iter=20,\n",
    "    cv=10,\n",
    "    verbose=2,\n",
    "    n_jobs=1)\n",
    "\n",
    "forest_new.fit(X1_train, y1_train)\n",
    "\n",
    "forest_new.best_score_"
   ]
  },
  {
   "cell_type": "code",
   "execution_count": 46,
   "id": "dbca2bd6",
   "metadata": {},
   "outputs": [
    {
     "data": {
      "text/plain": [
       "{'max_depth': 20,\n",
       " 'min_impurity_decrease': 0.12529098612122003,\n",
       " 'min_samples_split': 3}"
      ]
     },
     "execution_count": 46,
     "metadata": {},
     "output_type": "execute_result"
    }
   ],
   "source": [
    "forest_new.best_params_"
   ]
  },
  {
   "cell_type": "code",
   "execution_count": 47,
   "id": "b2b47e93",
   "metadata": {
    "scrolled": true
   },
   "outputs": [
    {
     "name": "stdout",
     "output_type": "stream",
     "text": [
      "Training Accuracy: 0.8696\n",
      "Validation Accuracy: 0.8701\n",
      "Test Accuracy: 0.8699\n"
     ]
    }
   ],
   "source": [
    "print(\"Training Accuracy: %0.4f\" % forest_new.best_estimator_.score(X1_train, y1_train))\n",
    "print(\"Validation Accuracy: %0.4f\" % forest_new.best_estimator_.score(X1_valid, y1_valid))\n",
    "print(\"Test Accuracy: %0.4f\" % forest_new.best_estimator_.score(X1_test, y1_test))"
   ]
  },
  {
   "cell_type": "markdown",
   "id": "3f3ed238",
   "metadata": {},
   "source": [
    "Evaluation - F1 score "
   ]
  },
  {
   "cell_type": "code",
   "execution_count": 50,
   "id": "a5056276",
   "metadata": {},
   "outputs": [
    {
     "data": {
      "text/plain": [
       "0.8698264905295465"
      ]
     },
     "execution_count": 50,
     "metadata": {},
     "output_type": "execute_result"
    }
   ],
   "source": [
    "y_true = y1_test\n",
    "y_pred = forest_new.best_estimator_.predict(X1_test)\n",
    "\n",
    "f1_score(y_true,y_pred,average =\"weighted\")"
   ]
  },
  {
   "cell_type": "markdown",
   "id": "1eaa4f85",
   "metadata": {},
   "source": [
    "# Model Part 2 : Using raw_image.csv"
   ]
  },
  {
   "cell_type": "markdown",
   "id": "9c84fb28",
   "metadata": {},
   "source": [
    "## Input"
   ]
  },
  {
   "cell_type": "code",
   "execution_count": 4,
   "id": "9de3d8a0",
   "metadata": {},
   "outputs": [
    {
     "name": "stdout",
     "output_type": "stream",
     "text": [
      "X2.shape: (4559, 30000)\n",
      "y2.shape: (4559,)\n"
     ]
    }
   ],
   "source": [
    "# raw_images.csv\n",
    "X2 = pd.read_csv(\"~/Desktop/STAT 451/STAT_451_Final_Project/code/raw_images.csv\",header = None)\n",
    "y2= pd.read_csv(\"~/Desktop/STAT 451/STAT_451_Final_Project/code/labels.csv\",header = None).values.ravel().astype(int)\n",
    "\n",
    "print('X2.shape:', X2.shape)\n",
    "print('y2.shape:', y2.shape)\n"
   ]
  },
  {
   "cell_type": "code",
   "execution_count": 5,
   "id": "196f270a",
   "metadata": {},
   "outputs": [
    {
     "name": "stdout",
     "output_type": "stream",
     "text": [
      "X2_train.shape: (3191, 30000)\n",
      "y2_train.shape: (3191,)\n",
      "X2_test.shape: (1368, 30000)\n",
      "y2_test.shape: (1368,)\n"
     ]
    }
   ],
   "source": [
    "X2_train, X2_test, y2_train, y2_test = train_test_split(X2, y2, \n",
    "                                                    test_size=0.3,\n",
    "                                                    random_state=123,\n",
    "                                                    shuffle=True,\n",
    "                                                    stratify = y2)\n",
    "\n",
    "print('X2_train.shape:', X2_train.shape)\n",
    "print('y2_train.shape:', y2_train.shape)\n",
    "print('X2_test.shape:', X2_test.shape)\n",
    "print('y2_test.shape:', y2_test.shape)"
   ]
  },
  {
   "cell_type": "code",
   "execution_count": 6,
   "id": "80957649",
   "metadata": {},
   "outputs": [
    {
     "name": "stdout",
     "output_type": "stream",
     "text": [
      "X1_valid.shape: (639, 30000)\n",
      "y1_valid.shape: (639,)\n"
     ]
    }
   ],
   "source": [
    "X2_train_sub, X2_valid, y2_train_sub, y2_valid = \\\n",
    "    train_test_split(X2_train, y2_train, test_size=0.2,\\\n",
    "                     random_state=1, stratify=y2_train)\n",
    "\n",
    "print('X1_valid.shape:', X2_valid.shape)\n",
    "print('y1_valid.shape:', y2_valid.shape)"
   ]
  },
  {
   "cell_type": "markdown",
   "id": "aee4e714",
   "metadata": {},
   "source": [
    "## 1. KNN (Base Model)"
   ]
  },
  {
   "cell_type": "code",
   "execution_count": 33,
   "id": "caffe1a3",
   "metadata": {},
   "outputs": [
    {
     "data": {
      "image/png": "[encoded data removed]",
      "text/plain": [
       "<Figure size 720x432 with 1 Axes>"
      ]
     },
     "metadata": {
      "needs_background": "light"
     },
     "output_type": "display_data"
    }
   ],
   "source": [
    "error2 = []\n",
    "\n",
    "for i in range(1,30):\n",
    "    knn = KNeighborsClassifier(n_neighbors=i)\n",
    "    knn.fit(X2_train, y2_train)\n",
    "    pred_i = knn.predict(X2_test)\n",
    "    error2.append(np.mean(pred_i != y2_test))\n",
    "\n",
    "plt.figure(figsize = (10,6))\n",
    "plt.plot(range(1,30),error2,color = \"blue\",\n",
    "        linestyle = \"dashed\",marker = \"o\",\n",
    "        markerfacecolor = \"red\", markersize = 10)\n",
    "\n",
    "plt.title(\"Error rate vs. K value\")\n",
    "plt.xlabel(\"K value\")\n",
    "plt.ylabel(\"Error rate\")"
   ]
  },
  {
   "cell_type": "code",
   "execution_count": 8,
   "id": "31d765a1",
   "metadata": {},
   "outputs": [
    {
     "name": "stdout",
     "output_type": "stream",
     "text": [
      "4\n"
     ]
    }
   ],
   "source": [
    "# Find the index of minimum error in the error list\n",
    "index2 = error2.index(min(error2))\n",
    "k2 = index2 + 1\n",
    "print(k2)"
   ]
  },
  {
   "cell_type": "code",
   "execution_count": 9,
   "id": "cc7118e0",
   "metadata": {},
   "outputs": [
    {
     "name": "stdout",
     "output_type": "stream",
     "text": [
      "Training Accuracy: 0.9389\n",
      "Validation Accuracy: 0.9327\n",
      "Test Accuracy: 0.9196\n"
     ]
    }
   ],
   "source": [
    "# Find the k-value with lowest Error Rate - k\n",
    "# for example, k = 3\n",
    "knn_2 = KNeighborsClassifier(n_neighbors=k2,\n",
    "                             p =2,weights= \"uniform\")\n",
    "knn_2.fit(X2_train,y2_train)\n",
    "y_pred_test = knn_2.predict(X2_test)\n",
    "print(\"Training Accuracy: %0.4f\" % knn_2.score(X2_train, y2_train))\n",
    "print(\"Validation Accuracy: %0.4f\" % knn_2.score(X2_valid, y2_valid))\n",
    "print(\"Test Accuracy: %0.4f\" % knn_2.score(X2_test, y2_test))"
   ]
  },
  {
   "cell_type": "code",
   "execution_count": 52,
   "id": "12987286",
   "metadata": {},
   "outputs": [
    {
     "data": {
      "text/plain": [
       "0.9194424449538217"
      ]
     },
     "execution_count": 52,
     "metadata": {},
     "output_type": "execute_result"
    }
   ],
   "source": [
    "y_true = y2_test\n",
    "y_pred = knn_2.predict(X2_test)\n",
    "\n",
    "f1_score(y_true,y_pred,average = \"weighted\")"
   ]
  },
  {
   "cell_type": "markdown",
   "id": "190f3c87",
   "metadata": {},
   "source": [
    "Tuning"
   ]
  },
  {
   "cell_type": "code",
   "execution_count": 24,
   "id": "c5ba6722",
   "metadata": {},
   "outputs": [
    {
     "name": "stdout",
     "output_type": "stream",
     "text": [
      "Fitting 10 folds for each of 20 candidates, totalling 200 fits\n",
      "[CV] END leaf_size=29, metric=minkowski, n_neighbors=7, p=1, weights=uniform; total time= 1.3min\n",
      "[CV] END leaf_size=29, metric=minkowski, n_neighbors=7, p=1, weights=uniform; total time= 1.1min\n",
      "[CV] END leaf_size=29, metric=minkowski, n_neighbors=7, p=1, weights=uniform; total time= 1.0min\n",
      "[CV] END leaf_size=29, metric=minkowski, n_neighbors=7, p=1, weights=uniform; total time= 1.0min\n",
      "[CV] END leaf_size=29, metric=minkowski, n_neighbors=7, p=1, weights=uniform; total time=  59.2s\n",
      "[CV] END leaf_size=29, metric=minkowski, n_neighbors=7, p=1, weights=uniform; total time= 1.1min\n",
      "[CV] END leaf_size=29, metric=minkowski, n_neighbors=7, p=1, weights=uniform; total time=  54.4s\n",
      "[CV] END leaf_size=29, metric=minkowski, n_neighbors=7, p=1, weights=uniform; total time=  54.7s\n",
      "[CV] END leaf_size=29, metric=minkowski, n_neighbors=7, p=1, weights=uniform; total time=  57.4s\n",
      "[CV] END leaf_size=29, metric=minkowski, n_neighbors=7, p=1, weights=uniform; total time= 1.1min\n",
      "[CV] END leaf_size=30, metric=chebyshev, n_neighbors=3, p=1, weights=distance; total time=  47.1s\n",
      "[CV] END leaf_size=30, metric=chebyshev, n_neighbors=3, p=1, weights=distance; total time=  44.7s\n",
      "[CV] END leaf_size=30, metric=chebyshev, n_neighbors=3, p=1, weights=distance; total time=  53.5s\n",
      "[CV] END leaf_size=30, metric=chebyshev, n_neighbors=3, p=1, weights=distance; total time=  44.4s\n",
      "[CV] END leaf_size=30, metric=chebyshev, n_neighbors=3, p=1, weights=distance; total time=  54.9s\n",
      "[CV] END leaf_size=30, metric=chebyshev, n_neighbors=3, p=1, weights=distance; total time=  57.6s\n",
      "[CV] END leaf_size=30, metric=chebyshev, n_neighbors=3, p=1, weights=distance; total time=  59.2s\n",
      "[CV] END leaf_size=30, metric=chebyshev, n_neighbors=3, p=1, weights=distance; total time=  42.9s\n",
      "[CV] END leaf_size=30, metric=chebyshev, n_neighbors=3, p=1, weights=distance; total time=  43.1s\n",
      "[CV] END leaf_size=30, metric=chebyshev, n_neighbors=3, p=1, weights=distance; total time=  43.1s\n",
      "[CV] END leaf_size=23, metric=chebyshev, n_neighbors=3, p=1, weights=distance; total time=  43.8s\n",
      "[CV] END leaf_size=23, metric=chebyshev, n_neighbors=3, p=1, weights=distance; total time=  43.5s\n",
      "[CV] END leaf_size=23, metric=chebyshev, n_neighbors=3, p=1, weights=distance; total time=  43.2s\n",
      "[CV] END leaf_size=23, metric=chebyshev, n_neighbors=3, p=1, weights=distance; total time=  43.3s\n",
      "[CV] END leaf_size=23, metric=chebyshev, n_neighbors=3, p=1, weights=distance; total time=  43.3s\n",
      "[CV] END leaf_size=23, metric=chebyshev, n_neighbors=3, p=1, weights=distance; total time=  43.2s\n",
      "[CV] END leaf_size=23, metric=chebyshev, n_neighbors=3, p=1, weights=distance; total time=  43.4s\n",
      "[CV] END leaf_size=23, metric=chebyshev, n_neighbors=3, p=1, weights=distance; total time=  43.2s\n",
      "[CV] END leaf_size=23, metric=chebyshev, n_neighbors=3, p=1, weights=distance; total time=  43.4s\n",
      "[CV] END leaf_size=23, metric=chebyshev, n_neighbors=3, p=1, weights=distance; total time=  43.7s\n",
      "[CV] END leaf_size=21, metric=minkowski, n_neighbors=3, p=1, weights=uniform; total time=  48.0s\n",
      "[CV] END leaf_size=21, metric=minkowski, n_neighbors=3, p=1, weights=uniform; total time=  44.7s\n",
      "[CV] END leaf_size=21, metric=minkowski, n_neighbors=3, p=1, weights=uniform; total time=  45.3s\n",
      "[CV] END leaf_size=21, metric=minkowski, n_neighbors=3, p=1, weights=uniform; total time=  43.3s\n",
      "[CV] END leaf_size=21, metric=minkowski, n_neighbors=3, p=1, weights=uniform; total time=  43.5s\n",
      "[CV] END leaf_size=21, metric=minkowski, n_neighbors=3, p=1, weights=uniform; total time=  43.2s\n",
      "[CV] END leaf_size=21, metric=minkowski, n_neighbors=3, p=1, weights=uniform; total time=  43.0s\n",
      "[CV] END leaf_size=21, metric=minkowski, n_neighbors=3, p=1, weights=uniform; total time=  43.2s\n",
      "[CV] END leaf_size=21, metric=minkowski, n_neighbors=3, p=1, weights=uniform; total time=  52.7s\n",
      "[CV] END leaf_size=21, metric=minkowski, n_neighbors=3, p=1, weights=uniform; total time=  42.4s\n",
      "[CV] END leaf_size=23, metric=chebyshev, n_neighbors=7, p=1, weights=distance; total time=  49.5s\n",
      "[CV] END leaf_size=23, metric=chebyshev, n_neighbors=7, p=1, weights=distance; total time=  47.2s\n",
      "[CV] END leaf_size=23, metric=chebyshev, n_neighbors=7, p=1, weights=distance; total time=  48.3s\n",
      "[CV] END leaf_size=23, metric=chebyshev, n_neighbors=7, p=1, weights=distance; total time=  48.6s\n",
      "[CV] END leaf_size=23, metric=chebyshev, n_neighbors=7, p=1, weights=distance; total time=  43.2s\n",
      "[CV] END leaf_size=23, metric=chebyshev, n_neighbors=7, p=1, weights=distance; total time=  43.5s\n",
      "[CV] END leaf_size=23, metric=chebyshev, n_neighbors=7, p=1, weights=distance; total time= 1.3min\n",
      "[CV] END leaf_size=23, metric=chebyshev, n_neighbors=7, p=1, weights=distance; total time= 1.2min\n",
      "[CV] END leaf_size=23, metric=chebyshev, n_neighbors=7, p=1, weights=distance; total time=  45.3s\n",
      "[CV] END leaf_size=23, metric=chebyshev, n_neighbors=7, p=1, weights=distance; total time=  46.3s\n",
      "[CV] END leaf_size=28, metric=chebyshev, n_neighbors=7, p=1, weights=distance; total time=  47.0s\n",
      "[CV] END leaf_size=28, metric=chebyshev, n_neighbors=7, p=1, weights=distance; total time=  46.7s\n",
      "[CV] END leaf_size=28, metric=chebyshev, n_neighbors=7, p=1, weights=distance; total time=  46.6s\n",
      "[CV] END leaf_size=28, metric=chebyshev, n_neighbors=7, p=1, weights=distance; total time=  46.3s\n",
      "[CV] END leaf_size=28, metric=chebyshev, n_neighbors=7, p=1, weights=distance; total time=  46.4s\n",
      "[CV] END leaf_size=28, metric=chebyshev, n_neighbors=7, p=1, weights=distance; total time=  46.1s\n",
      "[CV] END leaf_size=28, metric=chebyshev, n_neighbors=7, p=1, weights=distance; total time=  45.8s\n",
      "[CV] END leaf_size=28, metric=chebyshev, n_neighbors=7, p=1, weights=distance; total time=  45.4s\n",
      "[CV] END leaf_size=28, metric=chebyshev, n_neighbors=7, p=1, weights=distance; total time=  44.8s\n",
      "[CV] END leaf_size=28, metric=chebyshev, n_neighbors=7, p=1, weights=distance; total time=  44.7s\n",
      "[CV] END leaf_size=30, metric=minkowski, n_neighbors=3, p=1, weights=uniform; total time= 1.4min\n",
      "[CV] END leaf_size=30, metric=minkowski, n_neighbors=3, p=1, weights=uniform; total time=21.8min\n",
      "[CV] END leaf_size=30, metric=minkowski, n_neighbors=3, p=1, weights=uniform; total time=  45.6s\n",
      "[CV] END leaf_size=30, metric=minkowski, n_neighbors=3, p=1, weights=uniform; total time=  42.0s\n",
      "[CV] END leaf_size=30, metric=minkowski, n_neighbors=3, p=1, weights=uniform; total time=  43.3s\n",
      "[CV] END leaf_size=30, metric=minkowski, n_neighbors=3, p=1, weights=uniform; total time=  44.0s\n",
      "[CV] END leaf_size=30, metric=minkowski, n_neighbors=3, p=1, weights=uniform; total time=  44.8s\n",
      "[CV] END leaf_size=30, metric=minkowski, n_neighbors=3, p=1, weights=uniform; total time=  44.2s\n",
      "[CV] END leaf_size=30, metric=minkowski, n_neighbors=3, p=1, weights=uniform; total time=  43.8s\n",
      "[CV] END leaf_size=30, metric=minkowski, n_neighbors=3, p=1, weights=uniform; total time=  43.8s\n",
      "[CV] END leaf_size=28, metric=minkowski, n_neighbors=5, p=1, weights=distance; total time=  44.1s\n",
      "[CV] END leaf_size=28, metric=minkowski, n_neighbors=5, p=1, weights=distance; total time=  43.4s\n",
      "[CV] END leaf_size=28, metric=minkowski, n_neighbors=5, p=1, weights=distance; total time=  43.3s\n",
      "[CV] END leaf_size=28, metric=minkowski, n_neighbors=5, p=1, weights=distance; total time=  43.2s\n",
      "[CV] END leaf_size=28, metric=minkowski, n_neighbors=5, p=1, weights=distance; total time=  42.9s\n",
      "[CV] END leaf_size=28, metric=minkowski, n_neighbors=5, p=1, weights=distance; total time=  42.8s\n",
      "[CV] END leaf_size=28, metric=minkowski, n_neighbors=5, p=1, weights=distance; total time=  42.8s\n",
      "[CV] END leaf_size=28, metric=minkowski, n_neighbors=5, p=1, weights=distance; total time=  42.6s\n",
      "[CV] END leaf_size=28, metric=minkowski, n_neighbors=5, p=1, weights=distance; total time=  42.7s\n",
      "[CV] END leaf_size=28, metric=minkowski, n_neighbors=5, p=1, weights=distance; total time=  42.6s\n",
      "[CV] END leaf_size=30, metric=minkowski, n_neighbors=7, p=1, weights=distance; total time=  43.6s\n",
      "[CV] END leaf_size=30, metric=minkowski, n_neighbors=7, p=1, weights=distance; total time=15.9min\n",
      "[CV] END leaf_size=30, metric=minkowski, n_neighbors=7, p=1, weights=distance; total time= 1.3min\n",
      "[CV] END leaf_size=30, metric=minkowski, n_neighbors=7, p=1, weights=distance; total time= 1.3min\n"
     ]
    },
    {
     "name": "stdout",
     "output_type": "stream",
     "text": [
      "[CV] END leaf_size=30, metric=minkowski, n_neighbors=7, p=1, weights=distance; total time=  50.0s\n",
      "[CV] END leaf_size=30, metric=minkowski, n_neighbors=7, p=1, weights=distance; total time=  49.6s\n",
      "[CV] END leaf_size=30, metric=minkowski, n_neighbors=7, p=1, weights=distance; total time=  58.4s\n",
      "[CV] END leaf_size=30, metric=minkowski, n_neighbors=7, p=1, weights=distance; total time=  49.7s\n",
      "[CV] END leaf_size=30, metric=minkowski, n_neighbors=7, p=1, weights=distance; total time=  49.0s\n",
      "[CV] END leaf_size=30, metric=minkowski, n_neighbors=7, p=1, weights=distance; total time=  48.6s\n",
      "[CV] END leaf_size=24, metric=chebyshev, n_neighbors=3, p=1, weights=uniform; total time=  53.9s\n",
      "[CV] END leaf_size=24, metric=chebyshev, n_neighbors=3, p=1, weights=uniform; total time= 1.2min\n",
      "[CV] END leaf_size=24, metric=chebyshev, n_neighbors=3, p=1, weights=uniform; total time=  52.2s\n",
      "[CV] END leaf_size=24, metric=chebyshev, n_neighbors=3, p=1, weights=uniform; total time=  51.7s\n",
      "[CV] END leaf_size=24, metric=chebyshev, n_neighbors=3, p=1, weights=uniform; total time=  50.9s\n",
      "[CV] END leaf_size=24, metric=chebyshev, n_neighbors=3, p=1, weights=uniform; total time=  50.4s\n",
      "[CV] END leaf_size=24, metric=chebyshev, n_neighbors=3, p=1, weights=uniform; total time=  54.8s\n",
      "[CV] END leaf_size=24, metric=chebyshev, n_neighbors=3, p=1, weights=uniform; total time=  52.5s\n",
      "[CV] END leaf_size=24, metric=chebyshev, n_neighbors=3, p=1, weights=uniform; total time=  54.4s\n",
      "[CV] END leaf_size=24, metric=chebyshev, n_neighbors=3, p=1, weights=uniform; total time=  53.0s\n",
      "[CV] END leaf_size=27, metric=minkowski, n_neighbors=6, p=1, weights=distance; total time= 1.1min\n",
      "[CV] END leaf_size=27, metric=minkowski, n_neighbors=6, p=1, weights=distance; total time= 1.0min\n",
      "[CV] END leaf_size=27, metric=minkowski, n_neighbors=6, p=1, weights=distance; total time=  55.7s\n",
      "[CV] END leaf_size=27, metric=minkowski, n_neighbors=6, p=1, weights=distance; total time=  49.4s\n",
      "[CV] END leaf_size=27, metric=minkowski, n_neighbors=6, p=1, weights=distance; total time= 1.1min\n",
      "[CV] END leaf_size=27, metric=minkowski, n_neighbors=6, p=1, weights=distance; total time=  48.7s\n",
      "[CV] END leaf_size=27, metric=minkowski, n_neighbors=6, p=1, weights=distance; total time=  47.6s\n",
      "[CV] END leaf_size=27, metric=minkowski, n_neighbors=6, p=1, weights=distance; total time=  49.8s\n",
      "[CV] END leaf_size=27, metric=minkowski, n_neighbors=6, p=1, weights=distance; total time=  58.0s\n",
      "[CV] END leaf_size=27, metric=minkowski, n_neighbors=6, p=1, weights=distance; total time=  45.9s\n",
      "[CV] END leaf_size=22, metric=minkowski, n_neighbors=4, p=1, weights=uniform; total time=  43.4s\n",
      "[CV] END leaf_size=22, metric=minkowski, n_neighbors=4, p=1, weights=uniform; total time=  50.2s\n",
      "[CV] END leaf_size=22, metric=minkowski, n_neighbors=4, p=1, weights=uniform; total time=  47.5s\n",
      "[CV] END leaf_size=22, metric=minkowski, n_neighbors=4, p=1, weights=uniform; total time=  42.8s\n",
      "[CV] END leaf_size=22, metric=minkowski, n_neighbors=4, p=1, weights=uniform; total time=  42.8s\n",
      "[CV] END leaf_size=22, metric=minkowski, n_neighbors=4, p=1, weights=uniform; total time=  43.0s\n",
      "[CV] END leaf_size=22, metric=minkowski, n_neighbors=4, p=1, weights=uniform; total time=  42.8s\n",
      "[CV] END leaf_size=22, metric=minkowski, n_neighbors=4, p=1, weights=uniform; total time=  43.0s\n",
      "[CV] END leaf_size=22, metric=minkowski, n_neighbors=4, p=1, weights=uniform; total time=  42.7s\n",
      "[CV] END leaf_size=22, metric=minkowski, n_neighbors=4, p=1, weights=uniform; total time=  42.6s\n",
      "[CV] END leaf_size=23, metric=chebyshev, n_neighbors=4, p=1, weights=uniform; total time=  43.6s\n",
      "[CV] END leaf_size=23, metric=chebyshev, n_neighbors=4, p=1, weights=uniform; total time=  43.5s\n",
      "[CV] END leaf_size=23, metric=chebyshev, n_neighbors=4, p=1, weights=uniform; total time=  55.7s\n",
      "[CV] END leaf_size=23, metric=chebyshev, n_neighbors=4, p=1, weights=uniform; total time=  55.0s\n",
      "[CV] END leaf_size=23, metric=chebyshev, n_neighbors=4, p=1, weights=uniform; total time=  48.7s\n",
      "[CV] END leaf_size=23, metric=chebyshev, n_neighbors=4, p=1, weights=uniform; total time= 1.1min\n",
      "[CV] END leaf_size=23, metric=chebyshev, n_neighbors=4, p=1, weights=uniform; total time= 1.1min\n",
      "[CV] END leaf_size=23, metric=chebyshev, n_neighbors=4, p=1, weights=uniform; total time= 1.1min\n",
      "[CV] END leaf_size=23, metric=chebyshev, n_neighbors=4, p=1, weights=uniform; total time=  54.5s\n",
      "[CV] END leaf_size=23, metric=chebyshev, n_neighbors=4, p=1, weights=uniform; total time= 1.0min\n",
      "[CV] END leaf_size=20, metric=chebyshev, n_neighbors=7, p=1, weights=distance; total time= 1.1min\n",
      "[CV] END leaf_size=20, metric=chebyshev, n_neighbors=7, p=1, weights=distance; total time=  55.4s\n",
      "[CV] END leaf_size=20, metric=chebyshev, n_neighbors=7, p=1, weights=distance; total time=  50.3s\n",
      "[CV] END leaf_size=20, metric=chebyshev, n_neighbors=7, p=1, weights=distance; total time=  51.2s\n",
      "[CV] END leaf_size=20, metric=chebyshev, n_neighbors=7, p=1, weights=distance; total time=  43.4s\n",
      "[CV] END leaf_size=20, metric=chebyshev, n_neighbors=7, p=1, weights=distance; total time=  43.2s\n",
      "[CV] END leaf_size=20, metric=chebyshev, n_neighbors=7, p=1, weights=distance; total time=  43.2s\n",
      "[CV] END leaf_size=20, metric=chebyshev, n_neighbors=7, p=1, weights=distance; total time=  56.4s\n",
      "[CV] END leaf_size=20, metric=chebyshev, n_neighbors=7, p=1, weights=distance; total time=  48.2s\n",
      "[CV] END leaf_size=20, metric=chebyshev, n_neighbors=7, p=1, weights=distance; total time=  54.3s\n",
      "[CV] END leaf_size=25, metric=chebyshev, n_neighbors=5, p=1, weights=uniform; total time=  43.7s\n",
      "[CV] END leaf_size=25, metric=chebyshev, n_neighbors=5, p=1, weights=uniform; total time=  43.0s\n",
      "[CV] END leaf_size=25, metric=chebyshev, n_neighbors=5, p=1, weights=uniform; total time=  43.2s\n",
      "[CV] END leaf_size=25, metric=chebyshev, n_neighbors=5, p=1, weights=uniform; total time=  42.9s\n",
      "[CV] END leaf_size=25, metric=chebyshev, n_neighbors=5, p=1, weights=uniform; total time=  42.9s\n",
      "[CV] END leaf_size=25, metric=chebyshev, n_neighbors=5, p=1, weights=uniform; total time=  44.2s\n",
      "[CV] END leaf_size=25, metric=chebyshev, n_neighbors=5, p=1, weights=uniform; total time=  42.9s\n",
      "[CV] END leaf_size=25, metric=chebyshev, n_neighbors=5, p=1, weights=uniform; total time=  51.0s\n",
      "[CV] END leaf_size=25, metric=chebyshev, n_neighbors=5, p=1, weights=uniform; total time=  46.1s\n",
      "[CV] END leaf_size=25, metric=chebyshev, n_neighbors=5, p=1, weights=uniform; total time=  42.9s\n",
      "[CV] END leaf_size=25, metric=minkowski, n_neighbors=3, p=1, weights=uniform; total time=  43.1s\n",
      "[CV] END leaf_size=25, metric=minkowski, n_neighbors=3, p=1, weights=uniform; total time= 1.0min\n",
      "[CV] END leaf_size=25, metric=minkowski, n_neighbors=3, p=1, weights=uniform; total time= 1.1min\n",
      "[CV] END leaf_size=25, metric=minkowski, n_neighbors=3, p=1, weights=uniform; total time=  54.2s\n",
      "[CV] END leaf_size=25, metric=minkowski, n_neighbors=3, p=1, weights=uniform; total time= 1.3min\n",
      "[CV] END leaf_size=25, metric=minkowski, n_neighbors=3, p=1, weights=uniform; total time= 1.1min\n",
      "[CV] END leaf_size=25, metric=minkowski, n_neighbors=3, p=1, weights=uniform; total time=  54.1s\n",
      "[CV] END leaf_size=25, metric=minkowski, n_neighbors=3, p=1, weights=uniform; total time=  43.4s\n",
      "[CV] END leaf_size=25, metric=minkowski, n_neighbors=3, p=1, weights=uniform; total time=  42.8s\n",
      "[CV] END leaf_size=25, metric=minkowski, n_neighbors=3, p=1, weights=uniform; total time=  46.1s\n",
      "[CV] END leaf_size=29, metric=minkowski, n_neighbors=3, p=1, weights=distance; total time=  49.8s\n",
      "[CV] END leaf_size=29, metric=minkowski, n_neighbors=3, p=1, weights=distance; total time=  42.5s\n",
      "[CV] END leaf_size=29, metric=minkowski, n_neighbors=3, p=1, weights=distance; total time=  42.3s\n",
      "[CV] END leaf_size=29, metric=minkowski, n_neighbors=3, p=1, weights=distance; total time=  42.1s\n",
      "[CV] END leaf_size=29, metric=minkowski, n_neighbors=3, p=1, weights=distance; total time= 1.2min\n",
      "[CV] END leaf_size=29, metric=minkowski, n_neighbors=3, p=1, weights=distance; total time=  56.3s\n",
      "[CV] END leaf_size=29, metric=minkowski, n_neighbors=3, p=1, weights=distance; total time=  43.5s\n",
      "[CV] END leaf_size=29, metric=minkowski, n_neighbors=3, p=1, weights=distance; total time=  44.4s\n",
      "[CV] END leaf_size=29, metric=minkowski, n_neighbors=3, p=1, weights=distance; total time=  43.4s\n"
     ]
    },
    {
     "name": "stdout",
     "output_type": "stream",
     "text": [
      "[CV] END leaf_size=29, metric=minkowski, n_neighbors=3, p=1, weights=distance; total time=  43.1s\n",
      "[CV] END leaf_size=26, metric=minkowski, n_neighbors=3, p=1, weights=uniform; total time=  45.5s\n",
      "[CV] END leaf_size=26, metric=minkowski, n_neighbors=3, p=1, weights=uniform; total time=  43.7s\n",
      "[CV] END leaf_size=26, metric=minkowski, n_neighbors=3, p=1, weights=uniform; total time=  43.2s\n",
      "[CV] END leaf_size=26, metric=minkowski, n_neighbors=3, p=1, weights=uniform; total time=  43.0s\n",
      "[CV] END leaf_size=26, metric=minkowski, n_neighbors=3, p=1, weights=uniform; total time=  43.3s\n",
      "[CV] END leaf_size=26, metric=minkowski, n_neighbors=3, p=1, weights=uniform; total time=  55.6s\n",
      "[CV] END leaf_size=26, metric=minkowski, n_neighbors=3, p=1, weights=uniform; total time=  43.8s\n",
      "[CV] END leaf_size=26, metric=minkowski, n_neighbors=3, p=1, weights=uniform; total time=  47.1s\n",
      "[CV] END leaf_size=26, metric=minkowski, n_neighbors=3, p=1, weights=uniform; total time= 1.1min\n",
      "[CV] END leaf_size=26, metric=minkowski, n_neighbors=3, p=1, weights=uniform; total time=  44.9s\n",
      "[CV] END leaf_size=28, metric=minkowski, n_neighbors=7, p=1, weights=distance; total time=  45.5s\n",
      "[CV] END leaf_size=28, metric=minkowski, n_neighbors=7, p=1, weights=distance; total time=  44.1s\n",
      "[CV] END leaf_size=28, metric=minkowski, n_neighbors=7, p=1, weights=distance; total time=  43.5s\n",
      "[CV] END leaf_size=28, metric=minkowski, n_neighbors=7, p=1, weights=distance; total time=  47.7s\n",
      "[CV] END leaf_size=28, metric=minkowski, n_neighbors=7, p=1, weights=distance; total time=  44.0s\n",
      "[CV] END leaf_size=28, metric=minkowski, n_neighbors=7, p=1, weights=distance; total time=  59.6s\n",
      "[CV] END leaf_size=28, metric=minkowski, n_neighbors=7, p=1, weights=distance; total time=  44.9s\n",
      "[CV] END leaf_size=28, metric=minkowski, n_neighbors=7, p=1, weights=distance; total time=  44.4s\n",
      "[CV] END leaf_size=28, metric=minkowski, n_neighbors=7, p=1, weights=distance; total time=  47.6s\n",
      "[CV] END leaf_size=28, metric=minkowski, n_neighbors=7, p=1, weights=distance; total time=  44.6s\n",
      "[CV] END leaf_size=29, metric=minkowski, n_neighbors=5, p=1, weights=uniform; total time=  45.3s\n",
      "[CV] END leaf_size=29, metric=minkowski, n_neighbors=5, p=1, weights=uniform; total time=  44.9s\n",
      "[CV] END leaf_size=29, metric=minkowski, n_neighbors=5, p=1, weights=uniform; total time= 1.2min\n",
      "[CV] END leaf_size=29, metric=minkowski, n_neighbors=5, p=1, weights=uniform; total time=  54.5s\n",
      "[CV] END leaf_size=29, metric=minkowski, n_neighbors=5, p=1, weights=uniform; total time=  44.0s\n",
      "[CV] END leaf_size=29, metric=minkowski, n_neighbors=5, p=1, weights=uniform; total time=  54.8s\n",
      "[CV] END leaf_size=29, metric=minkowski, n_neighbors=5, p=1, weights=uniform; total time=  56.1s\n",
      "[CV] END leaf_size=29, metric=minkowski, n_neighbors=5, p=1, weights=uniform; total time=  47.4s\n",
      "[CV] END leaf_size=29, metric=minkowski, n_neighbors=5, p=1, weights=uniform; total time=  46.7s\n",
      "[CV] END leaf_size=29, metric=minkowski, n_neighbors=5, p=1, weights=uniform; total time= 1.0min\n"
     ]
    },
    {
     "data": {
      "text/plain": [
       "0.9150773902821318"
      ]
     },
     "execution_count": 24,
     "metadata": {},
     "output_type": "execute_result"
    }
   ],
   "source": [
    "params_knn = {\n",
    "    'n_neighbors': np.arange(3,8),\n",
    "    'leaf_size': np.arange(20,31),\n",
    "    'p': np.arange(1,2),\n",
    "    'weights': ('uniform', 'distance'),\n",
    "    'metric': ('minkowski', 'chebyshev')\n",
    "}\n",
    "\n",
    "knn_new2 = RandomizedSearchCV(\n",
    "    estimator=knn_2,\n",
    "    param_distributions=params_knn,\n",
    "    n_iter=20,\n",
    "    cv=10,\n",
    "    verbose=2,\n",
    "    n_jobs=1,\n",
    "    random_state = 123)\n",
    "\n",
    "knn_new2.fit(X2_train, y2_train)\n",
    "\n",
    "knn_new2.best_score_"
   ]
  },
  {
   "cell_type": "code",
   "execution_count": 25,
   "id": "426ba359",
   "metadata": {},
   "outputs": [
    {
     "data": {
      "text/plain": [
       "{'weights': 'distance',\n",
       " 'p': 1,\n",
       " 'n_neighbors': 6,\n",
       " 'metric': 'minkowski',\n",
       " 'leaf_size': 27}"
      ]
     },
     "execution_count": 25,
     "metadata": {},
     "output_type": "execute_result"
    }
   ],
   "source": [
    "knn_new2.best_params_"
   ]
  },
  {
   "cell_type": "code",
   "execution_count": 28,
   "id": "50bc6616",
   "metadata": {},
   "outputs": [
    {
     "name": "stdout",
     "output_type": "stream",
     "text": [
      "Training Accuracy: 1.0000\n",
      "Validation Accuracy: 1.0000\n",
      "Test Accuracy: 0.9262\n"
     ]
    }
   ],
   "source": [
    "print(\"Training Accuracy: %0.4f\" % knn_new2.best_estimator_.score(X2_train, y2_train))\n",
    "print(\"Validation Accuracy: %0.4f\" % knn_new2.best_estimator_.score(X2_valid, y2_valid))\n",
    "print(\"Test Accuracy: %0.4f\" % knn_new2.best_estimator_.score(X2_test, y2_test))"
   ]
  },
  {
   "cell_type": "markdown",
   "id": "d1d72030",
   "metadata": {},
   "source": [
    "Evaluation"
   ]
  },
  {
   "cell_type": "code",
   "execution_count": 30,
   "id": "90c9fed4",
   "metadata": {},
   "outputs": [
    {
     "data": {
      "text/plain": [
       "0.9263178959373771"
      ]
     },
     "execution_count": 30,
     "metadata": {},
     "output_type": "execute_result"
    }
   ],
   "source": [
    "y_true = y2_test\n",
    "y_pred = knn_new2.best_estimator_.predict(X2_test)\n",
    "f1_score(y_true,y_pred,average = \"weighted\")"
   ]
  },
  {
   "cell_type": "markdown",
   "id": "da8d7f1d",
   "metadata": {},
   "source": [
    "## 2. Decision Tree"
   ]
  },
  {
   "cell_type": "markdown",
   "id": "4facb3b8",
   "metadata": {},
   "source": [
    "Original "
   ]
  },
  {
   "cell_type": "code",
   "execution_count": 10,
   "id": "49e17cf7",
   "metadata": {},
   "outputs": [
    {
     "name": "stdout",
     "output_type": "stream",
     "text": [
      "Training Accuracy: 1.0000\n",
      "Validation Accuracy: 1.0000\n",
      "Test Accuracy: 0.8787\n"
     ]
    }
   ],
   "source": [
    "tree2 = DecisionTreeClassifier(random_state=123)\n",
    "tree2.fit(X2_train, y2_train)\n",
    "print(\"Training Accuracy: %0.4f\" % tree2.score(X2_train, y2_train))\n",
    "print(\"Validation Accuracy: %0.4f\" % tree2.score(X2_valid, y2_valid))\n",
    "print(\"Test Accuracy: %0.4f\" % tree2.score(X2_test, y2_test))"
   ]
  },
  {
   "cell_type": "code",
   "execution_count": 51,
   "id": "1f824546",
   "metadata": {},
   "outputs": [
    {
     "data": {
      "text/plain": [
       "0.8788221622513819"
      ]
     },
     "execution_count": 51,
     "metadata": {},
     "output_type": "execute_result"
    }
   ],
   "source": [
    "y_true = y2_test\n",
    "y_pred = tree2.predict(X2_test)\n",
    "\n",
    "f1_score(y_true,y_pred,average = \"weighted\")"
   ]
  },
  {
   "cell_type": "markdown",
   "id": "95d1d207",
   "metadata": {},
   "source": [
    "Tuning"
   ]
  },
  {
   "cell_type": "code",
   "execution_count": 12,
   "id": "47dd90db",
   "metadata": {},
   "outputs": [
    {
     "name": "stdout",
     "output_type": "stream",
     "text": [
      "Fitting 10 folds for each of 20 candidates, totalling 200 fits\n",
      "[CV] END max_depth=20, min_impurity_decrease=0.371334142447571, min_samples_split=2; total time=  14.3s\n",
      "[CV] END max_depth=20, min_impurity_decrease=0.371334142447571, min_samples_split=2; total time=  10.0s\n",
      "[CV] END max_depth=20, min_impurity_decrease=0.371334142447571, min_samples_split=2; total time=   8.5s\n",
      "[CV] END max_depth=20, min_impurity_decrease=0.371334142447571, min_samples_split=2; total time=   7.9s\n",
      "[CV] END max_depth=20, min_impurity_decrease=0.371334142447571, min_samples_split=2; total time=   6.0s\n",
      "[CV] END max_depth=20, min_impurity_decrease=0.371334142447571, min_samples_split=2; total time=   5.3s\n",
      "[CV] END max_depth=20, min_impurity_decrease=0.371334142447571, min_samples_split=2; total time=   5.4s\n",
      "[CV] END max_depth=20, min_impurity_decrease=0.371334142447571, min_samples_split=2; total time=   5.3s\n",
      "[CV] END max_depth=20, min_impurity_decrease=0.371334142447571, min_samples_split=2; total time=   5.4s\n",
      "[CV] END max_depth=20, min_impurity_decrease=0.371334142447571, min_samples_split=2; total time=   5.4s\n",
      "[CV] END max_depth=18, min_impurity_decrease=0.4173306879085657, min_samples_split=10; total time=   5.5s\n",
      "[CV] END max_depth=18, min_impurity_decrease=0.4173306879085657, min_samples_split=10; total time=   5.9s\n",
      "[CV] END max_depth=18, min_impurity_decrease=0.4173306879085657, min_samples_split=10; total time=   6.3s\n",
      "[CV] END max_depth=18, min_impurity_decrease=0.4173306879085657, min_samples_split=10; total time=   5.6s\n",
      "[CV] END max_depth=18, min_impurity_decrease=0.4173306879085657, min_samples_split=10; total time=   5.6s\n",
      "[CV] END max_depth=18, min_impurity_decrease=0.4173306879085657, min_samples_split=10; total time=   5.7s\n",
      "[CV] END max_depth=18, min_impurity_decrease=0.4173306879085657, min_samples_split=10; total time=   5.7s\n",
      "[CV] END max_depth=18, min_impurity_decrease=0.4173306879085657, min_samples_split=10; total time=   5.8s\n",
      "[CV] END max_depth=18, min_impurity_decrease=0.4173306879085657, min_samples_split=10; total time=   5.7s\n",
      "[CV] END max_depth=18, min_impurity_decrease=0.4173306879085657, min_samples_split=10; total time=   5.7s\n",
      "[CV] END max_depth=6, min_impurity_decrease=0.18649056330875735, min_samples_split=11; total time=  14.2s\n",
      "[CV] END max_depth=6, min_impurity_decrease=0.18649056330875735, min_samples_split=11; total time=  14.3s\n",
      "[CV] END max_depth=6, min_impurity_decrease=0.18649056330875735, min_samples_split=11; total time=  14.8s\n",
      "[CV] END max_depth=6, min_impurity_decrease=0.18649056330875735, min_samples_split=11; total time=  14.8s\n",
      "[CV] END max_depth=6, min_impurity_decrease=0.18649056330875735, min_samples_split=11; total time=  14.4s\n",
      "[CV] END max_depth=6, min_impurity_decrease=0.18649056330875735, min_samples_split=11; total time=  14.4s\n",
      "[CV] END max_depth=6, min_impurity_decrease=0.18649056330875735, min_samples_split=11; total time=  14.3s\n",
      "[CV] END max_depth=6, min_impurity_decrease=0.18649056330875735, min_samples_split=11; total time=  14.4s\n",
      "[CV] END max_depth=6, min_impurity_decrease=0.18649056330875735, min_samples_split=11; total time=  14.3s\n",
      "[CV] END max_depth=6, min_impurity_decrease=0.18649056330875735, min_samples_split=11; total time=  14.3s\n",
      "[CV] END max_depth=16, min_impurity_decrease=0.05414529714089, min_samples_split=11; total time=  14.4s\n",
      "[CV] END max_depth=16, min_impurity_decrease=0.05414529714089, min_samples_split=11; total time=  14.4s\n",
      "[CV] END max_depth=16, min_impurity_decrease=0.05414529714089, min_samples_split=11; total time=  14.4s\n",
      "[CV] END max_depth=16, min_impurity_decrease=0.05414529714089, min_samples_split=11; total time=  14.6s\n",
      "[CV] END max_depth=16, min_impurity_decrease=0.05414529714089, min_samples_split=11; total time=  14.4s\n",
      "[CV] END max_depth=16, min_impurity_decrease=0.05414529714089, min_samples_split=11; total time=  14.4s\n",
      "[CV] END max_depth=16, min_impurity_decrease=0.05414529714089, min_samples_split=11; total time=  14.3s\n",
      "[CV] END max_depth=16, min_impurity_decrease=0.05414529714089, min_samples_split=11; total time=  14.3s\n",
      "[CV] END max_depth=16, min_impurity_decrease=0.05414529714089, min_samples_split=11; total time=  14.4s\n",
      "[CV] END max_depth=16, min_impurity_decrease=0.05414529714089, min_samples_split=11; total time=  14.3s\n",
      "[CV] END max_depth=20, min_impurity_decrease=0.3189664853100204, min_samples_split=10; total time=   5.8s\n",
      "[CV] END max_depth=20, min_impurity_decrease=0.3189664853100204, min_samples_split=10; total time=   5.8s\n",
      "[CV] END max_depth=20, min_impurity_decrease=0.3189664853100204, min_samples_split=10; total time=   5.7s\n",
      "[CV] END max_depth=20, min_impurity_decrease=0.3189664853100204, min_samples_split=10; total time=   5.9s\n",
      "[CV] END max_depth=20, min_impurity_decrease=0.3189664853100204, min_samples_split=10; total time=   5.8s\n",
      "[CV] END max_depth=20, min_impurity_decrease=0.3189664853100204, min_samples_split=10; total time=   5.8s\n",
      "[CV] END max_depth=20, min_impurity_decrease=0.3189664853100204, min_samples_split=10; total time=   5.8s\n",
      "[CV] END max_depth=20, min_impurity_decrease=0.3189664853100204, min_samples_split=10; total time=   5.7s\n",
      "[CV] END max_depth=20, min_impurity_decrease=0.3189664853100204, min_samples_split=10; total time=   5.7s\n",
      "[CV] END max_depth=20, min_impurity_decrease=0.3189664853100204, min_samples_split=10; total time=   6.0s\n",
      "[CV] END max_depth=6, min_impurity_decrease=0.2896760688709268, min_samples_split=4; total time=   6.4s\n",
      "[CV] END max_depth=6, min_impurity_decrease=0.2896760688709268, min_samples_split=4; total time=   5.8s\n",
      "[CV] END max_depth=6, min_impurity_decrease=0.2896760688709268, min_samples_split=4; total time=   6.1s\n",
      "[CV] END max_depth=6, min_impurity_decrease=0.2896760688709268, min_samples_split=4; total time=   6.9s\n",
      "[CV] END max_depth=6, min_impurity_decrease=0.2896760688709268, min_samples_split=4; total time=   6.2s\n",
      "[CV] END max_depth=6, min_impurity_decrease=0.2896760688709268, min_samples_split=4; total time=   5.8s\n",
      "[CV] END max_depth=6, min_impurity_decrease=0.2896760688709268, min_samples_split=4; total time=   5.8s\n",
      "[CV] END max_depth=6, min_impurity_decrease=0.2896760688709268, min_samples_split=4; total time=   6.0s\n",
      "[CV] END max_depth=6, min_impurity_decrease=0.2896760688709268, min_samples_split=4; total time=   7.1s\n",
      "[CV] END max_depth=6, min_impurity_decrease=0.2896760688709268, min_samples_split=4; total time=   8.0s\n",
      "[CV] END max_depth=None, min_impurity_decrease=0.34220548910178145, min_samples_split=6; total time=   8.0s\n",
      "[CV] END max_depth=None, min_impurity_decrease=0.34220548910178145, min_samples_split=6; total time=   6.0s\n",
      "[CV] END max_depth=None, min_impurity_decrease=0.34220548910178145, min_samples_split=6; total time=   6.3s\n",
      "[CV] END max_depth=None, min_impurity_decrease=0.34220548910178145, min_samples_split=6; total time=   6.1s\n",
      "[CV] END max_depth=None, min_impurity_decrease=0.34220548910178145, min_samples_split=6; total time=   6.6s\n",
      "[CV] END max_depth=None, min_impurity_decrease=0.34220548910178145, min_samples_split=6; total time=   6.8s\n",
      "[CV] END max_depth=None, min_impurity_decrease=0.34220548910178145, min_samples_split=6; total time=   6.6s\n",
      "[CV] END max_depth=None, min_impurity_decrease=0.34220548910178145, min_samples_split=6; total time=   6.1s\n",
      "[CV] END max_depth=None, min_impurity_decrease=0.34220548910178145, min_samples_split=6; total time=   5.8s\n",
      "[CV] END max_depth=None, min_impurity_decrease=0.34220548910178145, min_samples_split=6; total time=   7.2s\n",
      "[CV] END max_depth=18, min_impurity_decrease=0.36600091751582814, min_samples_split=7; total time=   7.3s\n",
      "[CV] END max_depth=18, min_impurity_decrease=0.36600091751582814, min_samples_split=7; total time=   8.5s\n",
      "[CV] END max_depth=18, min_impurity_decrease=0.36600091751582814, min_samples_split=7; total time=   6.1s\n",
      "[CV] END max_depth=18, min_impurity_decrease=0.36600091751582814, min_samples_split=7; total time=   5.8s\n",
      "[CV] END max_depth=18, min_impurity_decrease=0.36600091751582814, min_samples_split=7; total time=   5.9s\n",
      "[CV] END max_depth=18, min_impurity_decrease=0.36600091751582814, min_samples_split=7; total time=   5.7s\n",
      "[CV] END max_depth=18, min_impurity_decrease=0.36600091751582814, min_samples_split=7; total time=   5.8s\n",
      "[CV] END max_depth=18, min_impurity_decrease=0.36600091751582814, min_samples_split=7; total time=   5.8s\n"
     ]
    },
    {
     "name": "stdout",
     "output_type": "stream",
     "text": [
      "[CV] END max_depth=18, min_impurity_decrease=0.36600091751582814, min_samples_split=7; total time=   8.2s\n",
      "[CV] END max_depth=18, min_impurity_decrease=0.36600091751582814, min_samples_split=7; total time=   6.4s\n",
      "[CV] END max_depth=16, min_impurity_decrease=0.06064291939776573, min_samples_split=7; total time=  15.2s\n",
      "[CV] END max_depth=16, min_impurity_decrease=0.06064291939776573, min_samples_split=7; total time=  16.0s\n",
      "[CV] END max_depth=16, min_impurity_decrease=0.06064291939776573, min_samples_split=7; total time=  15.4s\n",
      "[CV] END max_depth=16, min_impurity_decrease=0.06064291939776573, min_samples_split=7; total time=  14.8s\n",
      "[CV] END max_depth=16, min_impurity_decrease=0.06064291939776573, min_samples_split=7; total time=  14.4s\n",
      "[CV] END max_depth=16, min_impurity_decrease=0.06064291939776573, min_samples_split=7; total time=  14.4s\n",
      "[CV] END max_depth=16, min_impurity_decrease=0.06064291939776573, min_samples_split=7; total time=  14.7s\n",
      "[CV] END max_depth=16, min_impurity_decrease=0.06064291939776573, min_samples_split=7; total time=  14.4s\n",
      "[CV] END max_depth=16, min_impurity_decrease=0.06064291939776573, min_samples_split=7; total time=  14.5s\n",
      "[CV] END max_depth=16, min_impurity_decrease=0.06064291939776573, min_samples_split=7; total time=  14.4s\n",
      "[CV] END max_depth=None, min_impurity_decrease=0.26810212343150025, min_samples_split=10; total time=   5.7s\n",
      "[CV] END max_depth=None, min_impurity_decrease=0.26810212343150025, min_samples_split=10; total time=   5.7s\n",
      "[CV] END max_depth=None, min_impurity_decrease=0.26810212343150025, min_samples_split=10; total time=   5.8s\n",
      "[CV] END max_depth=None, min_impurity_decrease=0.26810212343150025, min_samples_split=10; total time=   8.0s\n",
      "[CV] END max_depth=None, min_impurity_decrease=0.26810212343150025, min_samples_split=10; total time=   6.1s\n",
      "[CV] END max_depth=None, min_impurity_decrease=0.26810212343150025, min_samples_split=10; total time=   5.7s\n",
      "[CV] END max_depth=None, min_impurity_decrease=0.26810212343150025, min_samples_split=10; total time=   5.7s\n",
      "[CV] END max_depth=None, min_impurity_decrease=0.26810212343150025, min_samples_split=10; total time=   5.7s\n",
      "[CV] END max_depth=None, min_impurity_decrease=0.26810212343150025, min_samples_split=10; total time=   5.7s\n",
      "[CV] END max_depth=None, min_impurity_decrease=0.26810212343150025, min_samples_split=10; total time=   5.7s\n",
      "[CV] END max_depth=None, min_impurity_decrease=0.3989725743030502, min_samples_split=4; total time=   7.0s\n",
      "[CV] END max_depth=None, min_impurity_decrease=0.3989725743030502, min_samples_split=4; total time=   9.2s\n",
      "[CV] END max_depth=None, min_impurity_decrease=0.3989725743030502, min_samples_split=4; total time=  10.2s\n",
      "[CV] END max_depth=None, min_impurity_decrease=0.3989725743030502, min_samples_split=4; total time=   7.0s\n",
      "[CV] END max_depth=None, min_impurity_decrease=0.3989725743030502, min_samples_split=4; total time=   6.8s\n",
      "[CV] END max_depth=None, min_impurity_decrease=0.3989725743030502, min_samples_split=4; total time=   7.2s\n",
      "[CV] END max_depth=None, min_impurity_decrease=0.3989725743030502, min_samples_split=4; total time=   7.9s\n",
      "[CV] END max_depth=None, min_impurity_decrease=0.3989725743030502, min_samples_split=4; total time=   8.3s\n",
      "[CV] END max_depth=None, min_impurity_decrease=0.3989725743030502, min_samples_split=4; total time=   6.9s\n",
      "[CV] END max_depth=None, min_impurity_decrease=0.3989725743030502, min_samples_split=4; total time=   6.5s\n",
      "[CV] END max_depth=6, min_impurity_decrease=0.4991000721889729, min_samples_split=10; total time=   6.6s\n",
      "[CV] END max_depth=6, min_impurity_decrease=0.4991000721889729, min_samples_split=10; total time=   6.9s\n",
      "[CV] END max_depth=6, min_impurity_decrease=0.4991000721889729, min_samples_split=10; total time=   6.4s\n",
      "[CV] END max_depth=6, min_impurity_decrease=0.4991000721889729, min_samples_split=10; total time=   6.8s\n",
      "[CV] END max_depth=6, min_impurity_decrease=0.4991000721889729, min_samples_split=10; total time=   6.6s\n",
      "[CV] END max_depth=6, min_impurity_decrease=0.4991000721889729, min_samples_split=10; total time=   7.0s\n",
      "[CV] END max_depth=6, min_impurity_decrease=0.4991000721889729, min_samples_split=10; total time=   6.5s\n",
      "[CV] END max_depth=6, min_impurity_decrease=0.4991000721889729, min_samples_split=10; total time=   6.8s\n",
      "[CV] END max_depth=6, min_impurity_decrease=0.4991000721889729, min_samples_split=10; total time=   6.4s\n",
      "[CV] END max_depth=6, min_impurity_decrease=0.4991000721889729, min_samples_split=10; total time=   6.3s\n",
      "[CV] END max_depth=6, min_impurity_decrease=0.25005390783665016, min_samples_split=4; total time=   6.7s\n",
      "[CV] END max_depth=6, min_impurity_decrease=0.25005390783665016, min_samples_split=4; total time=   6.5s\n",
      "[CV] END max_depth=6, min_impurity_decrease=0.25005390783665016, min_samples_split=4; total time=   5.9s\n",
      "[CV] END max_depth=6, min_impurity_decrease=0.25005390783665016, min_samples_split=4; total time=   5.8s\n",
      "[CV] END max_depth=6, min_impurity_decrease=0.25005390783665016, min_samples_split=4; total time=   5.9s\n",
      "[CV] END max_depth=6, min_impurity_decrease=0.25005390783665016, min_samples_split=4; total time=   5.8s\n",
      "[CV] END max_depth=6, min_impurity_decrease=0.25005390783665016, min_samples_split=4; total time=   5.7s\n",
      "[CV] END max_depth=6, min_impurity_decrease=0.25005390783665016, min_samples_split=4; total time=   5.7s\n",
      "[CV] END max_depth=6, min_impurity_decrease=0.25005390783665016, min_samples_split=4; total time=   5.7s\n",
      "[CV] END max_depth=6, min_impurity_decrease=0.25005390783665016, min_samples_split=4; total time=   5.7s\n",
      "[CV] END max_depth=20, min_impurity_decrease=0.33415337066807627, min_samples_split=2; total time=   5.7s\n",
      "[CV] END max_depth=20, min_impurity_decrease=0.33415337066807627, min_samples_split=2; total time=   5.8s\n",
      "[CV] END max_depth=20, min_impurity_decrease=0.33415337066807627, min_samples_split=2; total time=   5.7s\n",
      "[CV] END max_depth=20, min_impurity_decrease=0.33415337066807627, min_samples_split=2; total time=   5.7s\n",
      "[CV] END max_depth=20, min_impurity_decrease=0.33415337066807627, min_samples_split=2; total time=   5.7s\n",
      "[CV] END max_depth=20, min_impurity_decrease=0.33415337066807627, min_samples_split=2; total time=   5.7s\n",
      "[CV] END max_depth=20, min_impurity_decrease=0.33415337066807627, min_samples_split=2; total time=   5.7s\n",
      "[CV] END max_depth=20, min_impurity_decrease=0.33415337066807627, min_samples_split=2; total time=   5.7s\n",
      "[CV] END max_depth=20, min_impurity_decrease=0.33415337066807627, min_samples_split=2; total time=   6.0s\n",
      "[CV] END max_depth=20, min_impurity_decrease=0.33415337066807627, min_samples_split=2; total time=   7.0s\n",
      "[CV] END max_depth=6, min_impurity_decrease=0.3931862144164858, min_samples_split=7; total time=   6.2s\n",
      "[CV] END max_depth=6, min_impurity_decrease=0.3931862144164858, min_samples_split=7; total time=   6.1s\n",
      "[CV] END max_depth=6, min_impurity_decrease=0.3931862144164858, min_samples_split=7; total time=   6.5s\n",
      "[CV] END max_depth=6, min_impurity_decrease=0.3931862144164858, min_samples_split=7; total time=   6.1s\n",
      "[CV] END max_depth=6, min_impurity_decrease=0.3931862144164858, min_samples_split=7; total time=   5.8s\n",
      "[CV] END max_depth=6, min_impurity_decrease=0.3931862144164858, min_samples_split=7; total time=   5.8s\n",
      "[CV] END max_depth=6, min_impurity_decrease=0.3931862144164858, min_samples_split=7; total time=   5.7s\n",
      "[CV] END max_depth=6, min_impurity_decrease=0.3931862144164858, min_samples_split=7; total time=   5.8s\n",
      "[CV] END max_depth=6, min_impurity_decrease=0.3931862144164858, min_samples_split=7; total time=   5.8s\n",
      "[CV] END max_depth=6, min_impurity_decrease=0.3931862144164858, min_samples_split=7; total time=   5.8s\n",
      "[CV] END max_depth=20, min_impurity_decrease=0.23180152584616354, min_samples_split=5; total time=  10.7s\n",
      "[CV] END max_depth=20, min_impurity_decrease=0.23180152584616354, min_samples_split=5; total time=  10.6s\n",
      "[CV] END max_depth=20, min_impurity_decrease=0.23180152584616354, min_samples_split=5; total time=  10.8s\n",
      "[CV] END max_depth=20, min_impurity_decrease=0.23180152584616354, min_samples_split=5; total time=  10.7s\n",
      "[CV] END max_depth=20, min_impurity_decrease=0.23180152584616354, min_samples_split=5; total time=  10.6s\n",
      "[CV] END max_depth=20, min_impurity_decrease=0.23180152584616354, min_samples_split=5; total time=  10.6s\n"
     ]
    },
    {
     "name": "stdout",
     "output_type": "stream",
     "text": [
      "[CV] END max_depth=20, min_impurity_decrease=0.23180152584616354, min_samples_split=5; total time=  10.9s\n",
      "[CV] END max_depth=20, min_impurity_decrease=0.23180152584616354, min_samples_split=5; total time=  10.7s\n",
      "[CV] END max_depth=20, min_impurity_decrease=0.23180152584616354, min_samples_split=5; total time=  10.6s\n",
      "[CV] END max_depth=20, min_impurity_decrease=0.23180152584616354, min_samples_split=5; total time=  10.6s\n",
      "[CV] END max_depth=16, min_impurity_decrease=0.28056746888758133, min_samples_split=10; total time=   9.6s\n",
      "[CV] END max_depth=16, min_impurity_decrease=0.28056746888758133, min_samples_split=10; total time=  11.4s\n",
      "[CV] END max_depth=16, min_impurity_decrease=0.28056746888758133, min_samples_split=10; total time=   9.8s\n",
      "[CV] END max_depth=16, min_impurity_decrease=0.28056746888758133, min_samples_split=10; total time=  10.5s\n",
      "[CV] END max_depth=16, min_impurity_decrease=0.28056746888758133, min_samples_split=10; total time=  10.0s\n",
      "[CV] END max_depth=16, min_impurity_decrease=0.28056746888758133, min_samples_split=10; total time=   9.5s\n",
      "[CV] END max_depth=16, min_impurity_decrease=0.28056746888758133, min_samples_split=10; total time=   9.8s\n",
      "[CV] END max_depth=16, min_impurity_decrease=0.28056746888758133, min_samples_split=10; total time=   9.4s\n",
      "[CV] END max_depth=16, min_impurity_decrease=0.28056746888758133, min_samples_split=10; total time=   8.6s\n",
      "[CV] END max_depth=16, min_impurity_decrease=0.28056746888758133, min_samples_split=10; total time=   9.5s\n",
      "[CV] END max_depth=20, min_impurity_decrease=0.4497782434826287, min_samples_split=5; total time=   9.9s\n",
      "[CV] END max_depth=20, min_impurity_decrease=0.4497782434826287, min_samples_split=5; total time=  10.1s\n",
      "[CV] END max_depth=20, min_impurity_decrease=0.4497782434826287, min_samples_split=5; total time=  10.5s\n",
      "[CV] END max_depth=20, min_impurity_decrease=0.4497782434826287, min_samples_split=5; total time=   9.6s\n",
      "[CV] END max_depth=20, min_impurity_decrease=0.4497782434826287, min_samples_split=5; total time=  10.3s\n",
      "[CV] END max_depth=20, min_impurity_decrease=0.4497782434826287, min_samples_split=5; total time=   9.3s\n",
      "[CV] END max_depth=20, min_impurity_decrease=0.4497782434826287, min_samples_split=5; total time=   8.9s\n",
      "[CV] END max_depth=20, min_impurity_decrease=0.4497782434826287, min_samples_split=5; total time=   8.6s\n",
      "[CV] END max_depth=20, min_impurity_decrease=0.4497782434826287, min_samples_split=5; total time=   8.5s\n",
      "[CV] END max_depth=20, min_impurity_decrease=0.4497782434826287, min_samples_split=5; total time=   9.0s\n",
      "[CV] END max_depth=20, min_impurity_decrease=0.2531959568067772, min_samples_split=8; total time=   9.1s\n",
      "[CV] END max_depth=20, min_impurity_decrease=0.2531959568067772, min_samples_split=8; total time=   8.7s\n",
      "[CV] END max_depth=20, min_impurity_decrease=0.2531959568067772, min_samples_split=8; total time=   8.3s\n",
      "[CV] END max_depth=20, min_impurity_decrease=0.2531959568067772, min_samples_split=8; total time=   9.3s\n",
      "[CV] END max_depth=20, min_impurity_decrease=0.2531959568067772, min_samples_split=8; total time=   8.9s\n",
      "[CV] END max_depth=20, min_impurity_decrease=0.2531959568067772, min_samples_split=8; total time=   8.4s\n",
      "[CV] END max_depth=20, min_impurity_decrease=0.2531959568067772, min_samples_split=8; total time=   7.9s\n",
      "[CV] END max_depth=20, min_impurity_decrease=0.2531959568067772, min_samples_split=8; total time=   7.5s\n",
      "[CV] END max_depth=20, min_impurity_decrease=0.2531959568067772, min_samples_split=8; total time=   7.4s\n",
      "[CV] END max_depth=20, min_impurity_decrease=0.2531959568067772, min_samples_split=8; total time=   7.5s\n",
      "[CV] END max_depth=16, min_impurity_decrease=0.18675621212959415, min_samples_split=6; total time=  18.3s\n",
      "[CV] END max_depth=16, min_impurity_decrease=0.18675621212959415, min_samples_split=6; total time=  20.8s\n",
      "[CV] END max_depth=16, min_impurity_decrease=0.18675621212959415, min_samples_split=6; total time=  18.5s\n",
      "[CV] END max_depth=16, min_impurity_decrease=0.18675621212959415, min_samples_split=6; total time=  18.1s\n",
      "[CV] END max_depth=16, min_impurity_decrease=0.18675621212959415, min_samples_split=6; total time=  18.1s\n",
      "[CV] END max_depth=16, min_impurity_decrease=0.18675621212959415, min_samples_split=6; total time=  17.9s\n",
      "[CV] END max_depth=16, min_impurity_decrease=0.18675621212959415, min_samples_split=6; total time=  18.0s\n",
      "[CV] END max_depth=16, min_impurity_decrease=0.18675621212959415, min_samples_split=6; total time=  18.1s\n",
      "[CV] END max_depth=16, min_impurity_decrease=0.18675621212959415, min_samples_split=6; total time=  18.0s\n",
      "[CV] END max_depth=16, min_impurity_decrease=0.18675621212959415, min_samples_split=6; total time=  18.3s\n"
     ]
    },
    {
     "data": {
      "text/plain": [
       "0.8705701410658306"
      ]
     },
     "execution_count": 12,
     "metadata": {},
     "output_type": "execute_result"
    }
   ],
   "source": [
    "params =  {\n",
    "    'min_samples_split': scipy.stats.randint(2, 12),\n",
    "    'min_impurity_decrease': scipy.stats.uniform(0.0, 0.5),\n",
    "    'max_depth': [6, 16,18,20, None]\n",
    "}\n",
    "\n",
    "\n",
    "tree_new2 = RandomizedSearchCV(\n",
    "    estimator=tree2,\n",
    "    param_distributions=params,\n",
    "    n_iter=20,\n",
    "    cv=10,\n",
    "    verbose=2,\n",
    "    n_jobs=1)\n",
    "\n",
    "tree_new2.fit(X2_train, y2_train)\n",
    "tree_new2.best_score_"
   ]
  },
  {
   "cell_type": "code",
   "execution_count": 13,
   "id": "46d1dc03",
   "metadata": {},
   "outputs": [
    {
     "data": {
      "text/plain": [
       "{'max_depth': 6,\n",
       " 'min_impurity_decrease': 0.18649056330875735,\n",
       " 'min_samples_split': 11}"
      ]
     },
     "execution_count": 13,
     "metadata": {},
     "output_type": "execute_result"
    }
   ],
   "source": [
    "tree_new2.best_params_"
   ]
  },
  {
   "cell_type": "code",
   "execution_count": 14,
   "id": "96345f5e",
   "metadata": {},
   "outputs": [
    {
     "name": "stdout",
     "output_type": "stream",
     "text": [
      "Training Accuracy: 0.8743\n",
      "Validation Accuracy: 0.8654\n",
      "Test Accuracy: 0.8728\n"
     ]
    }
   ],
   "source": [
    "print(\"Training Accuracy: %0.4f\" % tree_new2.best_estimator_.score(X2_train, y2_train))\n",
    "print(\"Validation Accuracy: %0.4f\" % tree_new2.best_estimator_.score(X2_valid, y2_valid))\n",
    "print(\"Test Accuracy: %0.4f\" % tree_new2.best_estimator_.score(X2_test, y2_test))"
   ]
  },
  {
   "cell_type": "markdown",
   "id": "36ada7d4",
   "metadata": {},
   "source": [
    "Evaluation - F1 Score"
   ]
  },
  {
   "cell_type": "code",
   "execution_count": 18,
   "id": "90999e6f",
   "metadata": {},
   "outputs": [
    {
     "data": {
      "text/plain": [
       "0.8724295231350033"
      ]
     },
     "execution_count": 18,
     "metadata": {},
     "output_type": "execute_result"
    }
   ],
   "source": [
    "y_true = y2_test\n",
    "y_pred = tree_new2.best_estimator_.predict(X2_test)\n",
    "\n",
    "f1_score(y_true,y_pred,average = \"weighted\")"
   ]
  },
  {
   "cell_type": "markdown",
   "id": "a64c7a78",
   "metadata": {},
   "source": [
    "## 3. Random Forest"
   ]
  },
  {
   "cell_type": "markdown",
   "id": "d818fc20",
   "metadata": {},
   "source": [
    "Original Random Forest"
   ]
  },
  {
   "cell_type": "code",
   "execution_count": 19,
   "id": "0887f1f8",
   "metadata": {},
   "outputs": [
    {
     "name": "stdout",
     "output_type": "stream",
     "text": [
      "Training Accuracy: 1.0000\n",
      "Validation Accuracy: 1.0000\n",
      "Test Accuracy: 0.9444\n"
     ]
    }
   ],
   "source": [
    "forest2 = RandomForestClassifier(n_estimators=100,\n",
    "                                random_state=123)\n",
    "\n",
    "forest2.fit(X2_train, y2_train)\n",
    "    \n",
    "print(\"Training Accuracy: %0.4f\" % forest2.score(X2_train, y2_train))\n",
    "print(\"Validation Accuracy: %0.4f\" % forest2.score(X2_valid, y2_valid))\n",
    "print(\"Test Accuracy: %0.4f\" % forest2.score(X2_test, y2_test))"
   ]
  },
  {
   "cell_type": "code",
   "execution_count": 50,
   "id": "20b708d1",
   "metadata": {},
   "outputs": [
    {
     "data": {
      "text/plain": [
       "0.9443799170705982"
      ]
     },
     "execution_count": 50,
     "metadata": {},
     "output_type": "execute_result"
    }
   ],
   "source": [
    "y_pred1 = forest2.predict(X2_test)\n",
    "f1_score(y_true,y_pred1,average = \"weighted\")"
   ]
  },
  {
   "cell_type": "markdown",
   "id": "7a02ad88",
   "metadata": {},
   "source": [
    "Tuning"
   ]
  },
  {
   "cell_type": "code",
   "execution_count": 20,
   "id": "5975a3ed",
   "metadata": {},
   "outputs": [
    {
     "name": "stdout",
     "output_type": "stream",
     "text": [
      "Fitting 10 folds for each of 20 candidates, totalling 200 fits\n",
      "[CV] END max_depth=18, min_impurity_decrease=0.16893433109754757, min_samples_split=2; total time=  10.1s\n",
      "[CV] END max_depth=18, min_impurity_decrease=0.16893433109754757, min_samples_split=2; total time=   9.4s\n",
      "[CV] END max_depth=18, min_impurity_decrease=0.16893433109754757, min_samples_split=2; total time=   9.5s\n",
      "[CV] END max_depth=18, min_impurity_decrease=0.16893433109754757, min_samples_split=2; total time=   8.9s\n",
      "[CV] END max_depth=18, min_impurity_decrease=0.16893433109754757, min_samples_split=2; total time=   8.7s\n",
      "[CV] END max_depth=18, min_impurity_decrease=0.16893433109754757, min_samples_split=2; total time=   8.7s\n",
      "[CV] END max_depth=18, min_impurity_decrease=0.16893433109754757, min_samples_split=2; total time=   8.6s\n",
      "[CV] END max_depth=18, min_impurity_decrease=0.16893433109754757, min_samples_split=2; total time=  12.0s\n",
      "[CV] END max_depth=18, min_impurity_decrease=0.16893433109754757, min_samples_split=2; total time=  11.5s\n",
      "[CV] END max_depth=18, min_impurity_decrease=0.16893433109754757, min_samples_split=2; total time=  12.9s\n",
      "[CV] END max_depth=16, min_impurity_decrease=0.19107576979960855, min_samples_split=5; total time=  11.5s\n",
      "[CV] END max_depth=16, min_impurity_decrease=0.19107576979960855, min_samples_split=5; total time=  11.7s\n",
      "[CV] END max_depth=16, min_impurity_decrease=0.19107576979960855, min_samples_split=5; total time=  10.2s\n",
      "[CV] END max_depth=16, min_impurity_decrease=0.19107576979960855, min_samples_split=5; total time=  10.2s\n",
      "[CV] END max_depth=16, min_impurity_decrease=0.19107576979960855, min_samples_split=5; total time=   9.2s\n",
      "[CV] END max_depth=16, min_impurity_decrease=0.19107576979960855, min_samples_split=5; total time=  10.1s\n",
      "[CV] END max_depth=16, min_impurity_decrease=0.19107576979960855, min_samples_split=5; total time=  11.3s\n",
      "[CV] END max_depth=16, min_impurity_decrease=0.19107576979960855, min_samples_split=5; total time=  11.8s\n",
      "[CV] END max_depth=16, min_impurity_decrease=0.19107576979960855, min_samples_split=5; total time=   9.2s\n",
      "[CV] END max_depth=16, min_impurity_decrease=0.19107576979960855, min_samples_split=5; total time=   9.2s\n",
      "[CV] END max_depth=18, min_impurity_decrease=0.3934646525251082, min_samples_split=4; total time=   4.5s\n",
      "[CV] END max_depth=18, min_impurity_decrease=0.3934646525251082, min_samples_split=4; total time=   4.5s\n",
      "[CV] END max_depth=18, min_impurity_decrease=0.3934646525251082, min_samples_split=4; total time=   5.2s\n",
      "[CV] END max_depth=18, min_impurity_decrease=0.3934646525251082, min_samples_split=4; total time=   6.0s\n",
      "[CV] END max_depth=18, min_impurity_decrease=0.3934646525251082, min_samples_split=4; total time=   5.6s\n",
      "[CV] END max_depth=18, min_impurity_decrease=0.3934646525251082, min_samples_split=4; total time=   5.1s\n",
      "[CV] END max_depth=18, min_impurity_decrease=0.3934646525251082, min_samples_split=4; total time=   4.7s\n",
      "[CV] END max_depth=18, min_impurity_decrease=0.3934646525251082, min_samples_split=4; total time=   4.7s\n",
      "[CV] END max_depth=18, min_impurity_decrease=0.3934646525251082, min_samples_split=4; total time=   4.8s\n",
      "[CV] END max_depth=18, min_impurity_decrease=0.3934646525251082, min_samples_split=4; total time=   4.7s\n",
      "[CV] END max_depth=None, min_impurity_decrease=0.48461003521594115, min_samples_split=10; total time=   4.6s\n",
      "[CV] END max_depth=None, min_impurity_decrease=0.48461003521594115, min_samples_split=10; total time=   4.6s\n",
      "[CV] END max_depth=None, min_impurity_decrease=0.48461003521594115, min_samples_split=10; total time=   4.4s\n",
      "[CV] END max_depth=None, min_impurity_decrease=0.48461003521594115, min_samples_split=10; total time=   4.6s\n",
      "[CV] END max_depth=None, min_impurity_decrease=0.48461003521594115, min_samples_split=10; total time=   4.4s\n",
      "[CV] END max_depth=None, min_impurity_decrease=0.48461003521594115, min_samples_split=10; total time=   4.4s\n",
      "[CV] END max_depth=None, min_impurity_decrease=0.48461003521594115, min_samples_split=10; total time=   4.4s\n",
      "[CV] END max_depth=None, min_impurity_decrease=0.48461003521594115, min_samples_split=10; total time=   4.6s\n",
      "[CV] END max_depth=None, min_impurity_decrease=0.48461003521594115, min_samples_split=10; total time=   4.4s\n",
      "[CV] END max_depth=None, min_impurity_decrease=0.48461003521594115, min_samples_split=10; total time=   4.4s\n",
      "[CV] END max_depth=6, min_impurity_decrease=0.10948932857370491, min_samples_split=3; total time=   9.2s\n",
      "[CV] END max_depth=6, min_impurity_decrease=0.10948932857370491, min_samples_split=3; total time=   9.0s\n",
      "[CV] END max_depth=6, min_impurity_decrease=0.10948932857370491, min_samples_split=3; total time=   9.0s\n",
      "[CV] END max_depth=6, min_impurity_decrease=0.10948932857370491, min_samples_split=3; total time=   9.0s\n",
      "[CV] END max_depth=6, min_impurity_decrease=0.10948932857370491, min_samples_split=3; total time=   9.0s\n",
      "[CV] END max_depth=6, min_impurity_decrease=0.10948932857370491, min_samples_split=3; total time=   9.1s\n",
      "[CV] END max_depth=6, min_impurity_decrease=0.10948932857370491, min_samples_split=3; total time=   9.1s\n",
      "[CV] END max_depth=6, min_impurity_decrease=0.10948932857370491, min_samples_split=3; total time=   9.2s\n",
      "[CV] END max_depth=6, min_impurity_decrease=0.10948932857370491, min_samples_split=3; total time=   8.9s\n",
      "[CV] END max_depth=6, min_impurity_decrease=0.10948932857370491, min_samples_split=3; total time=   8.9s\n",
      "[CV] END max_depth=6, min_impurity_decrease=0.06043034375635392, min_samples_split=4; total time=   8.9s\n",
      "[CV] END max_depth=6, min_impurity_decrease=0.06043034375635392, min_samples_split=4; total time=   8.9s\n",
      "[CV] END max_depth=6, min_impurity_decrease=0.06043034375635392, min_samples_split=4; total time=   9.1s\n",
      "[CV] END max_depth=6, min_impurity_decrease=0.06043034375635392, min_samples_split=4; total time=   9.1s\n",
      "[CV] END max_depth=6, min_impurity_decrease=0.06043034375635392, min_samples_split=4; total time=   9.1s\n",
      "[CV] END max_depth=6, min_impurity_decrease=0.06043034375635392, min_samples_split=4; total time=  10.0s\n",
      "[CV] END max_depth=6, min_impurity_decrease=0.06043034375635392, min_samples_split=4; total time=   9.6s\n",
      "[CV] END max_depth=6, min_impurity_decrease=0.06043034375635392, min_samples_split=4; total time=   9.0s\n",
      "[CV] END max_depth=6, min_impurity_decrease=0.06043034375635392, min_samples_split=4; total time=   9.2s\n",
      "[CV] END max_depth=6, min_impurity_decrease=0.06043034375635392, min_samples_split=4; total time=  10.6s\n",
      "[CV] END max_depth=6, min_impurity_decrease=0.15288253252170364, min_samples_split=4; total time=  11.7s\n",
      "[CV] END max_depth=6, min_impurity_decrease=0.15288253252170364, min_samples_split=4; total time=   9.5s\n",
      "[CV] END max_depth=6, min_impurity_decrease=0.15288253252170364, min_samples_split=4; total time=   9.1s\n",
      "[CV] END max_depth=6, min_impurity_decrease=0.15288253252170364, min_samples_split=4; total time=  10.7s\n",
      "[CV] END max_depth=6, min_impurity_decrease=0.15288253252170364, min_samples_split=4; total time=   9.0s\n",
      "[CV] END max_depth=6, min_impurity_decrease=0.15288253252170364, min_samples_split=4; total time=   9.4s\n",
      "[CV] END max_depth=6, min_impurity_decrease=0.15288253252170364, min_samples_split=4; total time=  11.0s\n",
      "[CV] END max_depth=6, min_impurity_decrease=0.15288253252170364, min_samples_split=4; total time=  11.4s\n",
      "[CV] END max_depth=6, min_impurity_decrease=0.15288253252170364, min_samples_split=4; total time=  11.4s\n",
      "[CV] END max_depth=6, min_impurity_decrease=0.15288253252170364, min_samples_split=4; total time=  10.9s\n",
      "[CV] END max_depth=None, min_impurity_decrease=0.27010498241192965, min_samples_split=6; total time=   5.0s\n",
      "[CV] END max_depth=None, min_impurity_decrease=0.27010498241192965, min_samples_split=6; total time=   5.1s\n",
      "[CV] END max_depth=None, min_impurity_decrease=0.27010498241192965, min_samples_split=6; total time=   4.4s\n",
      "[CV] END max_depth=None, min_impurity_decrease=0.27010498241192965, min_samples_split=6; total time=   5.0s\n",
      "[CV] END max_depth=None, min_impurity_decrease=0.27010498241192965, min_samples_split=6; total time=   4.7s\n",
      "[CV] END max_depth=None, min_impurity_decrease=0.27010498241192965, min_samples_split=6; total time=   5.5s\n",
      "[CV] END max_depth=None, min_impurity_decrease=0.27010498241192965, min_samples_split=6; total time=   5.5s\n"
     ]
    },
    {
     "name": "stdout",
     "output_type": "stream",
     "text": [
      "[CV] END max_depth=None, min_impurity_decrease=0.27010498241192965, min_samples_split=6; total time=   5.1s\n",
      "[CV] END max_depth=None, min_impurity_decrease=0.27010498241192965, min_samples_split=6; total time=   6.1s\n",
      "[CV] END max_depth=None, min_impurity_decrease=0.27010498241192965, min_samples_split=6; total time=   6.7s\n",
      "[CV] END max_depth=18, min_impurity_decrease=0.4482730750820875, min_samples_split=7; total time=   5.8s\n",
      "[CV] END max_depth=18, min_impurity_decrease=0.4482730750820875, min_samples_split=7; total time=   5.5s\n",
      "[CV] END max_depth=18, min_impurity_decrease=0.4482730750820875, min_samples_split=7; total time=   4.8s\n",
      "[CV] END max_depth=18, min_impurity_decrease=0.4482730750820875, min_samples_split=7; total time=   5.2s\n",
      "[CV] END max_depth=18, min_impurity_decrease=0.4482730750820875, min_samples_split=7; total time=   5.3s\n",
      "[CV] END max_depth=18, min_impurity_decrease=0.4482730750820875, min_samples_split=7; total time=   5.7s\n",
      "[CV] END max_depth=18, min_impurity_decrease=0.4482730750820875, min_samples_split=7; total time=   4.4s\n",
      "[CV] END max_depth=18, min_impurity_decrease=0.4482730750820875, min_samples_split=7; total time=   4.4s\n",
      "[CV] END max_depth=18, min_impurity_decrease=0.4482730750820875, min_samples_split=7; total time=   4.4s\n",
      "[CV] END max_depth=18, min_impurity_decrease=0.4482730750820875, min_samples_split=7; total time=   4.2s\n",
      "[CV] END max_depth=6, min_impurity_decrease=0.3339783221535399, min_samples_split=3; total time=   4.4s\n",
      "[CV] END max_depth=6, min_impurity_decrease=0.3339783221535399, min_samples_split=3; total time=   4.4s\n",
      "[CV] END max_depth=6, min_impurity_decrease=0.3339783221535399, min_samples_split=3; total time=   4.3s\n",
      "[CV] END max_depth=6, min_impurity_decrease=0.3339783221535399, min_samples_split=3; total time=   4.6s\n",
      "[CV] END max_depth=6, min_impurity_decrease=0.3339783221535399, min_samples_split=3; total time=   4.6s\n",
      "[CV] END max_depth=6, min_impurity_decrease=0.3339783221535399, min_samples_split=3; total time=   4.6s\n",
      "[CV] END max_depth=6, min_impurity_decrease=0.3339783221535399, min_samples_split=3; total time=   4.4s\n",
      "[CV] END max_depth=6, min_impurity_decrease=0.3339783221535399, min_samples_split=3; total time=   4.4s\n",
      "[CV] END max_depth=6, min_impurity_decrease=0.3339783221535399, min_samples_split=3; total time=   4.3s\n",
      "[CV] END max_depth=6, min_impurity_decrease=0.3339783221535399, min_samples_split=3; total time=   4.3s\n",
      "[CV] END max_depth=18, min_impurity_decrease=0.22390637114008127, min_samples_split=2; total time=   6.3s\n",
      "[CV] END max_depth=18, min_impurity_decrease=0.22390637114008127, min_samples_split=2; total time=   6.0s\n",
      "[CV] END max_depth=18, min_impurity_decrease=0.22390637114008127, min_samples_split=2; total time=   6.3s\n",
      "[CV] END max_depth=18, min_impurity_decrease=0.22390637114008127, min_samples_split=2; total time=   6.2s\n",
      "[CV] END max_depth=18, min_impurity_decrease=0.22390637114008127, min_samples_split=2; total time=   5.9s\n",
      "[CV] END max_depth=18, min_impurity_decrease=0.22390637114008127, min_samples_split=2; total time=   6.1s\n",
      "[CV] END max_depth=18, min_impurity_decrease=0.22390637114008127, min_samples_split=2; total time=   6.2s\n",
      "[CV] END max_depth=18, min_impurity_decrease=0.22390637114008127, min_samples_split=2; total time=   6.3s\n",
      "[CV] END max_depth=18, min_impurity_decrease=0.22390637114008127, min_samples_split=2; total time=   6.0s\n",
      "[CV] END max_depth=18, min_impurity_decrease=0.22390637114008127, min_samples_split=2; total time=   5.7s\n",
      "[CV] END max_depth=None, min_impurity_decrease=0.010566268001448775, min_samples_split=9; total time=  13.8s\n",
      "[CV] END max_depth=None, min_impurity_decrease=0.010566268001448775, min_samples_split=9; total time=  14.2s\n",
      "[CV] END max_depth=None, min_impurity_decrease=0.010566268001448775, min_samples_split=9; total time=  14.9s\n",
      "[CV] END max_depth=None, min_impurity_decrease=0.010566268001448775, min_samples_split=9; total time=  14.5s\n",
      "[CV] END max_depth=None, min_impurity_decrease=0.010566268001448775, min_samples_split=9; total time=  14.1s\n",
      "[CV] END max_depth=None, min_impurity_decrease=0.010566268001448775, min_samples_split=9; total time=  12.8s\n",
      "[CV] END max_depth=None, min_impurity_decrease=0.010566268001448775, min_samples_split=9; total time=  13.1s\n",
      "[CV] END max_depth=None, min_impurity_decrease=0.010566268001448775, min_samples_split=9; total time=  14.6s\n",
      "[CV] END max_depth=None, min_impurity_decrease=0.010566268001448775, min_samples_split=9; total time=  12.3s\n",
      "[CV] END max_depth=None, min_impurity_decrease=0.010566268001448775, min_samples_split=9; total time=  12.3s\n",
      "[CV] END max_depth=16, min_impurity_decrease=0.20131710968217859, min_samples_split=5; total time=   7.4s\n",
      "[CV] END max_depth=16, min_impurity_decrease=0.20131710968217859, min_samples_split=5; total time=   7.2s\n",
      "[CV] END max_depth=16, min_impurity_decrease=0.20131710968217859, min_samples_split=5; total time=   7.0s\n",
      "[CV] END max_depth=16, min_impurity_decrease=0.20131710968217859, min_samples_split=5; total time=   7.5s\n",
      "[CV] END max_depth=16, min_impurity_decrease=0.20131710968217859, min_samples_split=5; total time=   7.1s\n",
      "[CV] END max_depth=16, min_impurity_decrease=0.20131710968217859, min_samples_split=5; total time=   7.0s\n",
      "[CV] END max_depth=16, min_impurity_decrease=0.20131710968217859, min_samples_split=5; total time=   7.6s\n",
      "[CV] END max_depth=16, min_impurity_decrease=0.20131710968217859, min_samples_split=5; total time=   7.6s\n",
      "[CV] END max_depth=16, min_impurity_decrease=0.20131710968217859, min_samples_split=5; total time=   7.1s\n",
      "[CV] END max_depth=16, min_impurity_decrease=0.20131710968217859, min_samples_split=5; total time=   7.2s\n",
      "[CV] END max_depth=16, min_impurity_decrease=0.06247754102212166, min_samples_split=7; total time=   8.5s\n",
      "[CV] END max_depth=16, min_impurity_decrease=0.06247754102212166, min_samples_split=7; total time=   8.5s\n",
      "[CV] END max_depth=16, min_impurity_decrease=0.06247754102212166, min_samples_split=7; total time=   8.4s\n",
      "[CV] END max_depth=16, min_impurity_decrease=0.06247754102212166, min_samples_split=7; total time=   8.4s\n",
      "[CV] END max_depth=16, min_impurity_decrease=0.06247754102212166, min_samples_split=7; total time=   8.5s\n",
      "[CV] END max_depth=16, min_impurity_decrease=0.06247754102212166, min_samples_split=7; total time=   8.5s\n",
      "[CV] END max_depth=16, min_impurity_decrease=0.06247754102212166, min_samples_split=7; total time=   8.5s\n",
      "[CV] END max_depth=16, min_impurity_decrease=0.06247754102212166, min_samples_split=7; total time=   8.4s\n",
      "[CV] END max_depth=16, min_impurity_decrease=0.06247754102212166, min_samples_split=7; total time=   8.5s\n",
      "[CV] END max_depth=16, min_impurity_decrease=0.06247754102212166, min_samples_split=7; total time=   8.5s\n",
      "[CV] END max_depth=20, min_impurity_decrease=0.29921815185902323, min_samples_split=6; total time=   4.1s\n",
      "[CV] END max_depth=20, min_impurity_decrease=0.29921815185902323, min_samples_split=6; total time=   4.1s\n",
      "[CV] END max_depth=20, min_impurity_decrease=0.29921815185902323, min_samples_split=6; total time=   4.3s\n",
      "[CV] END max_depth=20, min_impurity_decrease=0.29921815185902323, min_samples_split=6; total time=   4.2s\n",
      "[CV] END max_depth=20, min_impurity_decrease=0.29921815185902323, min_samples_split=6; total time=   4.1s\n",
      "[CV] END max_depth=20, min_impurity_decrease=0.29921815185902323, min_samples_split=6; total time=   4.1s\n",
      "[CV] END max_depth=20, min_impurity_decrease=0.29921815185902323, min_samples_split=6; total time=   4.1s\n",
      "[CV] END max_depth=20, min_impurity_decrease=0.29921815185902323, min_samples_split=6; total time=   4.2s\n",
      "[CV] END max_depth=20, min_impurity_decrease=0.29921815185902323, min_samples_split=6; total time=   4.1s\n",
      "[CV] END max_depth=20, min_impurity_decrease=0.29921815185902323, min_samples_split=6; total time=   4.1s\n",
      "[CV] END max_depth=16, min_impurity_decrease=0.17386596346969768, min_samples_split=2; total time=   8.3s\n",
      "[CV] END max_depth=16, min_impurity_decrease=0.17386596346969768, min_samples_split=2; total time=   8.5s\n",
      "[CV] END max_depth=16, min_impurity_decrease=0.17386596346969768, min_samples_split=2; total time=   8.4s\n",
      "[CV] END max_depth=16, min_impurity_decrease=0.17386596346969768, min_samples_split=2; total time=   8.4s\n",
      "[CV] END max_depth=16, min_impurity_decrease=0.17386596346969768, min_samples_split=2; total time=   8.4s\n"
     ]
    },
    {
     "name": "stdout",
     "output_type": "stream",
     "text": [
      "[CV] END max_depth=16, min_impurity_decrease=0.17386596346969768, min_samples_split=2; total time=   8.5s\n",
      "[CV] END max_depth=16, min_impurity_decrease=0.17386596346969768, min_samples_split=2; total time=   8.4s\n",
      "[CV] END max_depth=16, min_impurity_decrease=0.17386596346969768, min_samples_split=2; total time=   8.4s\n",
      "[CV] END max_depth=16, min_impurity_decrease=0.17386596346969768, min_samples_split=2; total time=   8.5s\n",
      "[CV] END max_depth=16, min_impurity_decrease=0.17386596346969768, min_samples_split=2; total time=   8.4s\n",
      "[CV] END max_depth=6, min_impurity_decrease=0.4675135116862633, min_samples_split=5; total time=   4.1s\n",
      "[CV] END max_depth=6, min_impurity_decrease=0.4675135116862633, min_samples_split=5; total time=   4.4s\n",
      "[CV] END max_depth=6, min_impurity_decrease=0.4675135116862633, min_samples_split=5; total time=   4.2s\n",
      "[CV] END max_depth=6, min_impurity_decrease=0.4675135116862633, min_samples_split=5; total time=   4.1s\n",
      "[CV] END max_depth=6, min_impurity_decrease=0.4675135116862633, min_samples_split=5; total time=   4.1s\n",
      "[CV] END max_depth=6, min_impurity_decrease=0.4675135116862633, min_samples_split=5; total time=   4.1s\n",
      "[CV] END max_depth=6, min_impurity_decrease=0.4675135116862633, min_samples_split=5; total time=   4.1s\n",
      "[CV] END max_depth=6, min_impurity_decrease=0.4675135116862633, min_samples_split=5; total time=   4.1s\n",
      "[CV] END max_depth=6, min_impurity_decrease=0.4675135116862633, min_samples_split=5; total time=   4.0s\n",
      "[CV] END max_depth=6, min_impurity_decrease=0.4675135116862633, min_samples_split=5; total time=   4.1s\n",
      "[CV] END max_depth=6, min_impurity_decrease=0.3785368410422919, min_samples_split=2; total time=   4.1s\n",
      "[CV] END max_depth=6, min_impurity_decrease=0.3785368410422919, min_samples_split=2; total time=   4.1s\n",
      "[CV] END max_depth=6, min_impurity_decrease=0.3785368410422919, min_samples_split=2; total time=   4.1s\n",
      "[CV] END max_depth=6, min_impurity_decrease=0.3785368410422919, min_samples_split=2; total time=   4.1s\n",
      "[CV] END max_depth=6, min_impurity_decrease=0.3785368410422919, min_samples_split=2; total time=   4.1s\n",
      "[CV] END max_depth=6, min_impurity_decrease=0.3785368410422919, min_samples_split=2; total time=   4.1s\n",
      "[CV] END max_depth=6, min_impurity_decrease=0.3785368410422919, min_samples_split=2; total time=   4.1s\n",
      "[CV] END max_depth=6, min_impurity_decrease=0.3785368410422919, min_samples_split=2; total time=   4.2s\n",
      "[CV] END max_depth=6, min_impurity_decrease=0.3785368410422919, min_samples_split=2; total time=   4.1s\n",
      "[CV] END max_depth=6, min_impurity_decrease=0.3785368410422919, min_samples_split=2; total time=   4.1s\n",
      "[CV] END max_depth=16, min_impurity_decrease=0.4854471793671122, min_samples_split=10; total time=   4.1s\n",
      "[CV] END max_depth=16, min_impurity_decrease=0.4854471793671122, min_samples_split=10; total time=   4.1s\n",
      "[CV] END max_depth=16, min_impurity_decrease=0.4854471793671122, min_samples_split=10; total time=   4.1s\n",
      "[CV] END max_depth=16, min_impurity_decrease=0.4854471793671122, min_samples_split=10; total time=   4.1s\n",
      "[CV] END max_depth=16, min_impurity_decrease=0.4854471793671122, min_samples_split=10; total time=   4.1s\n",
      "[CV] END max_depth=16, min_impurity_decrease=0.4854471793671122, min_samples_split=10; total time=   4.2s\n",
      "[CV] END max_depth=16, min_impurity_decrease=0.4854471793671122, min_samples_split=10; total time=   4.1s\n",
      "[CV] END max_depth=16, min_impurity_decrease=0.4854471793671122, min_samples_split=10; total time=   4.1s\n",
      "[CV] END max_depth=16, min_impurity_decrease=0.4854471793671122, min_samples_split=10; total time=   4.1s\n",
      "[CV] END max_depth=16, min_impurity_decrease=0.4854471793671122, min_samples_split=10; total time=   4.4s\n",
      "[CV] END max_depth=16, min_impurity_decrease=0.2868639981964554, min_samples_split=11; total time=   4.2s\n",
      "[CV] END max_depth=16, min_impurity_decrease=0.2868639981964554, min_samples_split=11; total time=   4.1s\n",
      "[CV] END max_depth=16, min_impurity_decrease=0.2868639981964554, min_samples_split=11; total time=   4.2s\n",
      "[CV] END max_depth=16, min_impurity_decrease=0.2868639981964554, min_samples_split=11; total time=   4.2s\n",
      "[CV] END max_depth=16, min_impurity_decrease=0.2868639981964554, min_samples_split=11; total time=   4.1s\n",
      "[CV] END max_depth=16, min_impurity_decrease=0.2868639981964554, min_samples_split=11; total time=   4.1s\n",
      "[CV] END max_depth=16, min_impurity_decrease=0.2868639981964554, min_samples_split=11; total time=   4.1s\n",
      "[CV] END max_depth=16, min_impurity_decrease=0.2868639981964554, min_samples_split=11; total time=   4.1s\n",
      "[CV] END max_depth=16, min_impurity_decrease=0.2868639981964554, min_samples_split=11; total time=   4.1s\n",
      "[CV] END max_depth=16, min_impurity_decrease=0.2868639981964554, min_samples_split=11; total time=   4.2s\n"
     ]
    },
    {
     "data": {
      "text/plain": [
       "0.9047355015673982"
      ]
     },
     "execution_count": 20,
     "metadata": {},
     "output_type": "execute_result"
    }
   ],
   "source": [
    "params =  {\n",
    "    'min_samples_split': scipy.stats.randint(2, 12),\n",
    "    'min_impurity_decrease': scipy.stats.uniform(0.0, 0.5),\n",
    "    'max_depth': [6, 16,18,20, None]\n",
    "}\n",
    "\n",
    "forest2_new = RandomizedSearchCV(\n",
    "    estimator=forest2,\n",
    "    param_distributions=params,\n",
    "    n_iter=20,\n",
    "    cv=10,\n",
    "    verbose=2,\n",
    "    n_jobs=1)\n",
    "\n",
    "forest2_new.fit(X2_train, y2_train)\n",
    "\n",
    "forest2_new.best_score_"
   ]
  },
  {
   "cell_type": "code",
   "execution_count": 21,
   "id": "4899d471",
   "metadata": {},
   "outputs": [
    {
     "data": {
      "text/plain": [
       "{'max_depth': None,\n",
       " 'min_impurity_decrease': 0.010566268001448775,\n",
       " 'min_samples_split': 9}"
      ]
     },
     "execution_count": 21,
     "metadata": {},
     "output_type": "execute_result"
    }
   ],
   "source": [
    "forest2_new.best_params_"
   ]
  },
  {
   "cell_type": "code",
   "execution_count": 22,
   "id": "4ce7491b",
   "metadata": {},
   "outputs": [
    {
     "name": "stdout",
     "output_type": "stream",
     "text": [
      "Training Accuracy: 0.9097\n",
      "Validation Accuracy: 0.9077\n",
      "Test Accuracy: 0.9123\n"
     ]
    }
   ],
   "source": [
    "print(\"Training Accuracy: %0.4f\" % forest2_new.best_estimator_.score(X2_train, y2_train))\n",
    "print(\"Validation Accuracy: %0.4f\" % forest2_new.best_estimator_.score(X2_valid, y2_valid))\n",
    "print(\"Test Accuracy: %0.4f\" % forest2_new.best_estimator_.score(X2_test, y2_test))"
   ]
  },
  {
   "cell_type": "markdown",
   "id": "564e9c98",
   "metadata": {},
   "source": [
    "Evaluation - F1 Score"
   ]
  },
  {
   "cell_type": "code",
   "execution_count": 23,
   "id": "cdb69874",
   "metadata": {},
   "outputs": [
    {
     "data": {
      "text/plain": [
       "0.9119201061705019"
      ]
     },
     "execution_count": 23,
     "metadata": {},
     "output_type": "execute_result"
    }
   ],
   "source": [
    "y_true = y2_test\n",
    "y_pred = forest2_new.best_estimator_.predict(X2_test)\n",
    "\n",
    "f1_score(y_true,y_pred,average = \"weighted\")"
   ]
  }
 ],
 "metadata": {
  "kernelspec": {
   "display_name": "Python 3 (ipykernel)",
   "language": "python",
   "name": "python3"
  },
  "language_info": {
   "codemirror_mode": {
    "name": "ipython",
    "version": 3
   },
   "file_extension": ".py",
   "mimetype": "text/x-python",
   "name": "python",
   "nbconvert_exporter": "python",
   "pygments_lexer": "ipython3",
   "version": "3.9.2"
  }
 },
 "nbformat": 4,
 "nbformat_minor": 5
}
