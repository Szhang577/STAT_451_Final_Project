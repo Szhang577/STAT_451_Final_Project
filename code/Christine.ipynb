{
 "cells": [
  {
   "cell_type": "markdown",
   "id": "ba57f9cd",
   "metadata": {},
   "source": [
    "## Preparation"
   ]
  },
  {
   "cell_type": "code",
   "execution_count": 31,
   "id": "ef6f7b33",
   "metadata": {},
   "outputs": [
    {
     "name": "stdout",
     "output_type": "stream",
     "text": [
      "The watermark extension is already loaded. To reload it, use:\n",
      "  %reload_ext watermark\n",
      "Author: Christine Hou\n",
      "\n",
      "Last updated: 2021-11-29\n",
      "\n",
      "Python implementation: CPython\n",
      "Python version       : 3.9.2\n",
      "IPython version      : 7.28.0\n",
      "\n",
      "numpy     : 1.19.5\n",
      "scipy     : 1.6.1\n",
      "matplotlib: 3.3.4\n",
      "sklearn   : 0.0\n",
      "\n"
     ]
    }
   ],
   "source": [
    "%load_ext watermark\n",
    "%watermark  -d -u -a 'Christine Hou' -v -p numpy,scipy,matplotlib,sklearn"
   ]
  },
  {
   "cell_type": "code",
   "execution_count": 32,
   "id": "475baf86",
   "metadata": {},
   "outputs": [],
   "source": [
    "import numpy as np\n",
    "import pandas as pd\n",
    "import scipy.stats\n",
    "%matplotlib inline\n",
    "from matplotlib import pyplot as plt\n",
    "from sklearn.model_selection import cross_val_score\n",
    "from sklearn.model_selection import train_test_split\n",
    "from sklearn.metrics import accuracy_score\n",
    "from sklearn.model_selection import RandomizedSearchCV\n",
    "from sklearn.neighbors import KNeighborsClassifier\n",
    "from sklearn.tree import DecisionTreeClassifier\n",
    "from sklearn.ensemble import RandomForestClassifier\n",
    "from sklearn.metrics import roc_auc_score\n",
    "from sklearn.model_selection import GridSearchCV\n"
   ]
  },
  {
   "cell_type": "markdown",
   "id": "17c66d72",
   "metadata": {},
   "source": [
    "# Model Part 1 - Using features.csv"
   ]
  },
  {
   "cell_type": "markdown",
   "id": "d828db0a",
   "metadata": {},
   "source": [
    "## Input"
   ]
  },
  {
   "cell_type": "code",
   "execution_count": 35,
   "id": "aaa93614",
   "metadata": {},
   "outputs": [
    {
     "name": "stdout",
     "output_type": "stream",
     "text": [
      "X1.shape: (4559, 512)\n",
      "y1.shape: (4559,)\n",
      "X1_train.shape: (3191, 512)\n",
      "y1_train.shape: (3191,)\n",
      "X1_test.shape: (1368, 512)\n",
      "y1_test.shape: (1368,)\n",
      "X1_valid.shape: (639, 512)\n",
      "y1_valid.shape: (639,)\n"
     ]
    }
   ],
   "source": [
    "# feature.csv\n",
    "X1 = pd.read_csv(\"~/Desktop/STAT 451/STAT_451_Final_Project/code/features.csv\",header = None)\n",
    "y1 = pd.read_csv(\"~/Desktop/STAT 451/STAT_451_Final_Project/code/labels.csv\",header = None).values.ravel().astype(int)\n",
    "\n",
    "print('X1.shape:', X1.shape)\n",
    "print('y1.shape:', y1.shape)\n",
    "\n",
    "\n",
    "X1_train, X1_test, y1_train, y1_test = train_test_split(X1, y1, \n",
    "                                                    test_size=0.3,\n",
    "                                                    random_state=123,\n",
    "                                                    shuffle=True,\n",
    "                                                    stratify = y1)\n",
    "\n",
    "print('X1_train.shape:', X1_train.shape)\n",
    "print('y1_train.shape:', y1_train.shape)\n",
    "print('X1_test.shape:', X1_test.shape)\n",
    "print('y1_test.shape:', y1_test.shape)\n",
    "\n",
    "X1_train_sub, X1_valid, y1_train_sub, y1_valid = \\\n",
    "    train_test_split(X1_train, y1_train, test_size=0.2,\\\n",
    "                     random_state=1, stratify=y1_train)\n",
    "\n",
    "print('X1_valid.shape:', X1_valid.shape)\n",
    "print('y1_valid.shape:', y1_valid.shape)"
   ]
  },
  {
   "cell_type": "markdown",
   "id": "74e0aa26",
   "metadata": {},
   "source": [
    "## 1. KNN"
   ]
  },
  {
   "cell_type": "code",
   "execution_count": 64,
   "id": "57f1abfc",
   "metadata": {},
   "outputs": [
    {
     "data": {
      "text/plain": [
       "Text(0, 0.5, 'Error rate')"
      ]
     },
     "execution_count": 64,
     "metadata": {},
     "output_type": "execute_result"
    },
    {
     "data": {
      "image/png": "[encoded data removed]",
      "text/plain": [
       "<Figure size 720x432 with 1 Axes>"
      ]
     },
     "metadata": {},
     "output_type": "display_data"
    }
   ],
   "source": [
    "error = []\n",
    "\n",
    "for i in range(1,30):\n",
    "    knn = KNeighborsClassifier(n_neighbors=i)\n",
    "    knn.fit(X1_train, y1_train)\n",
    "    pred_i = knn.predict(X1_test)\n",
    "    error.append(np.mean(pred_i != y1_test))\n",
    "\n",
    "plt.figure(figsize = (10,6))\n",
    "plt.plot(range(1,30),error,color = \"blue\",\n",
    "        linestyle = \"dashed\",marker = \"o\",\n",
    "        markerfacecolor = \"red\", markersize = 10)\n",
    "\n",
    "plt.title(\"Error rate vs. K value\")\n",
    "plt.xlabel(\"K value\")\n",
    "plt.ylabel(\"Error rate\")"
   ]
  },
  {
   "cell_type": "code",
   "execution_count": 65,
   "id": "0bf6e6a9",
   "metadata": {},
   "outputs": [
    {
     "name": "stdout",
     "output_type": "stream",
     "text": [
      "17\n"
     ]
    }
   ],
   "source": [
    "# Find the index of minimum error in the error list\n",
    "index = error.index(min(error))\n",
    "k = index + 1\n",
    "print(k)"
   ]
  },
  {
   "cell_type": "code",
   "execution_count": 66,
   "id": "289531a5",
   "metadata": {},
   "outputs": [
    {
     "name": "stdout",
     "output_type": "stream",
     "text": [
      "Training Accuracy: 0.8088\n",
      "Validation Accuracy: 0.7966\n",
      "Test Accuracy: 0.7975\n"
     ]
    }
   ],
   "source": [
    "# Find the k-value with lowest Error Rate - k\n",
    "# for example, k = 3\n",
    "knn_1 = KNeighborsClassifier(n_neighbors=k,\n",
    "                             p =2,weights= \"uniform\")\n",
    "knn_1.fit(X1_train,y1_train)\n",
    "y_pred_test = knn_1.predict(X1_test)\n",
    "print(\"Training Accuracy: %0.4f\" % knn_1.score(X1_train, y1_train))\n",
    "print(\"Validation Accuracy: %0.4f\" % knn_1.score(X1_valid, y1_valid))\n",
    "print(\"Test Accuracy: %0.4f\" % knn_1.score(X1_test, y1_test))"
   ]
  },
  {
   "cell_type": "markdown",
   "id": "134b3123",
   "metadata": {},
   "source": [
    "Tuning"
   ]
  },
  {
   "cell_type": "code",
   "execution_count": 93,
   "id": "1ece8f6a",
   "metadata": {},
   "outputs": [
    {
     "name": "stdout",
     "output_type": "stream",
     "text": [
      "Fitting 10 folds for each of 20 candidates, totalling 200 fits\n",
      "[CV] END leaf_size=25, metric=chebyshev, n_neighbors=37, p=1, weights=uniform; total time=   1.1s\n",
      "[CV] END leaf_size=25, metric=chebyshev, n_neighbors=37, p=1, weights=uniform; total time=   0.8s\n",
      "[CV] END leaf_size=25, metric=chebyshev, n_neighbors=37, p=1, weights=uniform; total time=   0.7s\n",
      "[CV] END leaf_size=25, metric=chebyshev, n_neighbors=37, p=1, weights=uniform; total time=   0.8s\n",
      "[CV] END leaf_size=25, metric=chebyshev, n_neighbors=37, p=1, weights=uniform; total time=   0.8s\n",
      "[CV] END leaf_size=25, metric=chebyshev, n_neighbors=37, p=1, weights=uniform; total time=   0.7s\n",
      "[CV] END leaf_size=25, metric=chebyshev, n_neighbors=37, p=1, weights=uniform; total time=   0.7s\n",
      "[CV] END leaf_size=25, metric=chebyshev, n_neighbors=37, p=1, weights=uniform; total time=   0.8s\n",
      "[CV] END leaf_size=25, metric=chebyshev, n_neighbors=37, p=1, weights=uniform; total time=   0.7s\n",
      "[CV] END leaf_size=25, metric=chebyshev, n_neighbors=37, p=1, weights=uniform; total time=   0.7s\n",
      "[CV] END leaf_size=20, metric=chebyshev, n_neighbors=35, p=1, weights=distance; total time=   0.7s\n",
      "[CV] END leaf_size=20, metric=chebyshev, n_neighbors=35, p=1, weights=distance; total time=   0.8s\n",
      "[CV] END leaf_size=20, metric=chebyshev, n_neighbors=35, p=1, weights=distance; total time=   0.7s\n",
      "[CV] END leaf_size=20, metric=chebyshev, n_neighbors=35, p=1, weights=distance; total time=   0.7s\n",
      "[CV] END leaf_size=20, metric=chebyshev, n_neighbors=35, p=1, weights=distance; total time=   0.8s\n",
      "[CV] END leaf_size=20, metric=chebyshev, n_neighbors=35, p=1, weights=distance; total time=   0.8s\n",
      "[CV] END leaf_size=20, metric=chebyshev, n_neighbors=35, p=1, weights=distance; total time=   0.7s\n",
      "[CV] END leaf_size=20, metric=chebyshev, n_neighbors=35, p=1, weights=distance; total time=   0.8s\n",
      "[CV] END leaf_size=20, metric=chebyshev, n_neighbors=35, p=1, weights=distance; total time=   0.7s\n",
      "[CV] END leaf_size=20, metric=chebyshev, n_neighbors=35, p=1, weights=distance; total time=   0.7s\n",
      "[CV] END leaf_size=30, metric=chebyshev, n_neighbors=7, p=1, weights=uniform; total time=   0.8s\n",
      "[CV] END leaf_size=30, metric=chebyshev, n_neighbors=7, p=1, weights=uniform; total time=   0.7s\n",
      "[CV] END leaf_size=30, metric=chebyshev, n_neighbors=7, p=1, weights=uniform; total time=   0.8s\n",
      "[CV] END leaf_size=30, metric=chebyshev, n_neighbors=7, p=1, weights=uniform; total time=   0.7s\n",
      "[CV] END leaf_size=30, metric=chebyshev, n_neighbors=7, p=1, weights=uniform; total time=   0.8s\n",
      "[CV] END leaf_size=30, metric=chebyshev, n_neighbors=7, p=1, weights=uniform; total time=   0.7s\n",
      "[CV] END leaf_size=30, metric=chebyshev, n_neighbors=7, p=1, weights=uniform; total time=   0.8s\n",
      "[CV] END leaf_size=30, metric=chebyshev, n_neighbors=7, p=1, weights=uniform; total time=   0.7s\n",
      "[CV] END leaf_size=30, metric=chebyshev, n_neighbors=7, p=1, weights=uniform; total time=   0.8s\n",
      "[CV] END leaf_size=30, metric=chebyshev, n_neighbors=7, p=1, weights=uniform; total time=   0.7s\n",
      "[CV] END leaf_size=30, metric=chebyshev, n_neighbors=35, p=1, weights=uniform; total time=   0.7s\n",
      "[CV] END leaf_size=30, metric=chebyshev, n_neighbors=35, p=1, weights=uniform; total time=   0.8s\n",
      "[CV] END leaf_size=30, metric=chebyshev, n_neighbors=35, p=1, weights=uniform; total time=   0.7s\n",
      "[CV] END leaf_size=30, metric=chebyshev, n_neighbors=35, p=1, weights=uniform; total time=   0.7s\n",
      "[CV] END leaf_size=30, metric=chebyshev, n_neighbors=35, p=1, weights=uniform; total time=   0.7s\n",
      "[CV] END leaf_size=30, metric=chebyshev, n_neighbors=35, p=1, weights=uniform; total time=   0.7s\n",
      "[CV] END leaf_size=30, metric=chebyshev, n_neighbors=35, p=1, weights=uniform; total time=   0.8s\n",
      "[CV] END leaf_size=30, metric=chebyshev, n_neighbors=35, p=1, weights=uniform; total time=   0.7s\n",
      "[CV] END leaf_size=30, metric=chebyshev, n_neighbors=35, p=1, weights=uniform; total time=   0.8s\n",
      "[CV] END leaf_size=30, metric=chebyshev, n_neighbors=35, p=1, weights=uniform; total time=   0.8s\n",
      "[CV] END leaf_size=24, metric=chebyshev, n_neighbors=16, p=1, weights=uniform; total time=   0.8s\n",
      "[CV] END leaf_size=24, metric=chebyshev, n_neighbors=16, p=1, weights=uniform; total time=   0.8s\n",
      "[CV] END leaf_size=24, metric=chebyshev, n_neighbors=16, p=1, weights=uniform; total time=   0.8s\n",
      "[CV] END leaf_size=24, metric=chebyshev, n_neighbors=16, p=1, weights=uniform; total time=   0.7s\n",
      "[CV] END leaf_size=24, metric=chebyshev, n_neighbors=16, p=1, weights=uniform; total time=   0.8s\n",
      "[CV] END leaf_size=24, metric=chebyshev, n_neighbors=16, p=1, weights=uniform; total time=   0.8s\n",
      "[CV] END leaf_size=24, metric=chebyshev, n_neighbors=16, p=1, weights=uniform; total time=   0.7s\n",
      "[CV] END leaf_size=24, metric=chebyshev, n_neighbors=16, p=1, weights=uniform; total time=   0.7s\n",
      "[CV] END leaf_size=24, metric=chebyshev, n_neighbors=16, p=1, weights=uniform; total time=   0.7s\n",
      "[CV] END leaf_size=24, metric=chebyshev, n_neighbors=16, p=1, weights=uniform; total time=   0.7s\n",
      "[CV] END leaf_size=28, metric=chebyshev, n_neighbors=21, p=1, weights=uniform; total time=   0.8s\n",
      "[CV] END leaf_size=28, metric=chebyshev, n_neighbors=21, p=1, weights=uniform; total time=   0.8s\n",
      "[CV] END leaf_size=28, metric=chebyshev, n_neighbors=21, p=1, weights=uniform; total time=   0.8s\n",
      "[CV] END leaf_size=28, metric=chebyshev, n_neighbors=21, p=1, weights=uniform; total time=   0.8s\n",
      "[CV] END leaf_size=28, metric=chebyshev, n_neighbors=21, p=1, weights=uniform; total time=   0.7s\n",
      "[CV] END leaf_size=28, metric=chebyshev, n_neighbors=21, p=1, weights=uniform; total time=   0.7s\n",
      "[CV] END leaf_size=28, metric=chebyshev, n_neighbors=21, p=1, weights=uniform; total time=   0.7s\n",
      "[CV] END leaf_size=28, metric=chebyshev, n_neighbors=21, p=1, weights=uniform; total time=   0.7s\n",
      "[CV] END leaf_size=28, metric=chebyshev, n_neighbors=21, p=1, weights=uniform; total time=   0.7s\n",
      "[CV] END leaf_size=28, metric=chebyshev, n_neighbors=21, p=1, weights=uniform; total time=   0.7s\n",
      "[CV] END leaf_size=24, metric=chebyshev, n_neighbors=11, p=1, weights=uniform; total time=   0.7s\n",
      "[CV] END leaf_size=24, metric=chebyshev, n_neighbors=11, p=1, weights=uniform; total time=   0.7s\n",
      "[CV] END leaf_size=24, metric=chebyshev, n_neighbors=11, p=1, weights=uniform; total time=   0.7s\n",
      "[CV] END leaf_size=24, metric=chebyshev, n_neighbors=11, p=1, weights=uniform; total time=   0.7s\n",
      "[CV] END leaf_size=24, metric=chebyshev, n_neighbors=11, p=1, weights=uniform; total time=   0.9s\n",
      "[CV] END leaf_size=24, metric=chebyshev, n_neighbors=11, p=1, weights=uniform; total time=   1.0s\n",
      "[CV] END leaf_size=24, metric=chebyshev, n_neighbors=11, p=1, weights=uniform; total time=   1.0s\n",
      "[CV] END leaf_size=24, metric=chebyshev, n_neighbors=11, p=1, weights=uniform; total time=   0.9s\n",
      "[CV] END leaf_size=24, metric=chebyshev, n_neighbors=11, p=1, weights=uniform; total time=   1.1s\n",
      "[CV] END leaf_size=24, metric=chebyshev, n_neighbors=11, p=1, weights=uniform; total time=   1.2s\n",
      "[CV] END leaf_size=26, metric=minkowski, n_neighbors=24, p=1, weights=uniform; total time=   1.7s\n",
      "[CV] END leaf_size=26, metric=minkowski, n_neighbors=24, p=1, weights=uniform; total time=   1.1s\n",
      "[CV] END leaf_size=26, metric=minkowski, n_neighbors=24, p=1, weights=uniform; total time=   0.8s\n",
      "[CV] END leaf_size=26, metric=minkowski, n_neighbors=24, p=1, weights=uniform; total time=   0.9s\n",
      "[CV] END leaf_size=26, metric=minkowski, n_neighbors=24, p=1, weights=uniform; total time=   0.8s\n",
      "[CV] END leaf_size=26, metric=minkowski, n_neighbors=24, p=1, weights=uniform; total time=   0.8s\n",
      "[CV] END leaf_size=26, metric=minkowski, n_neighbors=24, p=1, weights=uniform; total time=   0.8s\n",
      "[CV] END leaf_size=26, metric=minkowski, n_neighbors=24, p=1, weights=uniform; total time=   1.0s\n",
      "[CV] END leaf_size=26, metric=minkowski, n_neighbors=24, p=1, weights=uniform; total time=   1.9s\n",
      "[CV] END leaf_size=26, metric=minkowski, n_neighbors=24, p=1, weights=uniform; total time=   1.3s\n",
      "[CV] END leaf_size=22, metric=minkowski, n_neighbors=37, p=1, weights=uniform; total time=   1.3s\n",
      "[CV] END leaf_size=22, metric=minkowski, n_neighbors=37, p=1, weights=uniform; total time=   2.5s\n",
      "[CV] END leaf_size=22, metric=minkowski, n_neighbors=37, p=1, weights=uniform; total time=   1.4s\n"
     ]
    },
    {
     "name": "stdout",
     "output_type": "stream",
     "text": [
      "[CV] END leaf_size=22, metric=minkowski, n_neighbors=37, p=1, weights=uniform; total time=   1.5s\n",
      "[CV] END leaf_size=22, metric=minkowski, n_neighbors=37, p=1, weights=uniform; total time=   1.6s\n",
      "[CV] END leaf_size=22, metric=minkowski, n_neighbors=37, p=1, weights=uniform; total time=   2.6s\n",
      "[CV] END leaf_size=22, metric=minkowski, n_neighbors=37, p=1, weights=uniform; total time=   3.4s\n",
      "[CV] END leaf_size=22, metric=minkowski, n_neighbors=37, p=1, weights=uniform; total time=   2.2s\n",
      "[CV] END leaf_size=22, metric=minkowski, n_neighbors=37, p=1, weights=uniform; total time=   2.7s\n",
      "[CV] END leaf_size=22, metric=minkowski, n_neighbors=37, p=1, weights=uniform; total time=   2.0s\n",
      "[CV] END leaf_size=25, metric=chebyshev, n_neighbors=10, p=1, weights=uniform; total time=   1.3s\n",
      "[CV] END leaf_size=25, metric=chebyshev, n_neighbors=10, p=1, weights=uniform; total time=   0.9s\n",
      "[CV] END leaf_size=25, metric=chebyshev, n_neighbors=10, p=1, weights=uniform; total time=   1.0s\n",
      "[CV] END leaf_size=25, metric=chebyshev, n_neighbors=10, p=1, weights=uniform; total time=   0.9s\n",
      "[CV] END leaf_size=25, metric=chebyshev, n_neighbors=10, p=1, weights=uniform; total time=   1.0s\n",
      "[CV] END leaf_size=25, metric=chebyshev, n_neighbors=10, p=1, weights=uniform; total time=   0.9s\n",
      "[CV] END leaf_size=25, metric=chebyshev, n_neighbors=10, p=1, weights=uniform; total time=   1.2s\n",
      "[CV] END leaf_size=25, metric=chebyshev, n_neighbors=10, p=1, weights=uniform; total time=   0.9s\n",
      "[CV] END leaf_size=25, metric=chebyshev, n_neighbors=10, p=1, weights=uniform; total time=   1.0s\n",
      "[CV] END leaf_size=25, metric=chebyshev, n_neighbors=10, p=1, weights=uniform; total time=   0.9s\n",
      "[CV] END leaf_size=25, metric=chebyshev, n_neighbors=23, p=1, weights=distance; total time=   1.0s\n",
      "[CV] END leaf_size=25, metric=chebyshev, n_neighbors=23, p=1, weights=distance; total time=   1.0s\n",
      "[CV] END leaf_size=25, metric=chebyshev, n_neighbors=23, p=1, weights=distance; total time=   1.0s\n",
      "[CV] END leaf_size=25, metric=chebyshev, n_neighbors=23, p=1, weights=distance; total time=   0.8s\n",
      "[CV] END leaf_size=25, metric=chebyshev, n_neighbors=23, p=1, weights=distance; total time=   0.8s\n",
      "[CV] END leaf_size=25, metric=chebyshev, n_neighbors=23, p=1, weights=distance; total time=   0.8s\n",
      "[CV] END leaf_size=25, metric=chebyshev, n_neighbors=23, p=1, weights=distance; total time=   0.8s\n",
      "[CV] END leaf_size=25, metric=chebyshev, n_neighbors=23, p=1, weights=distance; total time=   0.8s\n",
      "[CV] END leaf_size=25, metric=chebyshev, n_neighbors=23, p=1, weights=distance; total time=   0.8s\n",
      "[CV] END leaf_size=25, metric=chebyshev, n_neighbors=23, p=1, weights=distance; total time=   0.8s\n",
      "[CV] END leaf_size=21, metric=chebyshev, n_neighbors=19, p=1, weights=uniform; total time=   0.8s\n",
      "[CV] END leaf_size=21, metric=chebyshev, n_neighbors=19, p=1, weights=uniform; total time=   1.0s\n",
      "[CV] END leaf_size=21, metric=chebyshev, n_neighbors=19, p=1, weights=uniform; total time=   1.8s\n",
      "[CV] END leaf_size=21, metric=chebyshev, n_neighbors=19, p=1, weights=uniform; total time=   0.9s\n",
      "[CV] END leaf_size=21, metric=chebyshev, n_neighbors=19, p=1, weights=uniform; total time=   1.6s\n",
      "[CV] END leaf_size=21, metric=chebyshev, n_neighbors=19, p=1, weights=uniform; total time=   1.2s\n",
      "[CV] END leaf_size=21, metric=chebyshev, n_neighbors=19, p=1, weights=uniform; total time=   0.9s\n",
      "[CV] END leaf_size=21, metric=chebyshev, n_neighbors=19, p=1, weights=uniform; total time=   0.8s\n",
      "[CV] END leaf_size=21, metric=chebyshev, n_neighbors=19, p=1, weights=uniform; total time=   0.9s\n",
      "[CV] END leaf_size=21, metric=chebyshev, n_neighbors=19, p=1, weights=uniform; total time=   0.9s\n",
      "[CV] END leaf_size=29, metric=minkowski, n_neighbors=18, p=1, weights=distance; total time=   0.8s\n",
      "[CV] END leaf_size=29, metric=minkowski, n_neighbors=18, p=1, weights=distance; total time=   0.8s\n",
      "[CV] END leaf_size=29, metric=minkowski, n_neighbors=18, p=1, weights=distance; total time=   1.3s\n",
      "[CV] END leaf_size=29, metric=minkowski, n_neighbors=18, p=1, weights=distance; total time=   0.9s\n",
      "[CV] END leaf_size=29, metric=minkowski, n_neighbors=18, p=1, weights=distance; total time=   0.8s\n",
      "[CV] END leaf_size=29, metric=minkowski, n_neighbors=18, p=1, weights=distance; total time=   0.8s\n",
      "[CV] END leaf_size=29, metric=minkowski, n_neighbors=18, p=1, weights=distance; total time=   0.8s\n",
      "[CV] END leaf_size=29, metric=minkowski, n_neighbors=18, p=1, weights=distance; total time=   0.8s\n",
      "[CV] END leaf_size=29, metric=minkowski, n_neighbors=18, p=1, weights=distance; total time=   0.9s\n",
      "[CV] END leaf_size=29, metric=minkowski, n_neighbors=18, p=1, weights=distance; total time=   0.8s\n",
      "[CV] END leaf_size=28, metric=chebyshev, n_neighbors=27, p=1, weights=distance; total time=   0.8s\n",
      "[CV] END leaf_size=28, metric=chebyshev, n_neighbors=27, p=1, weights=distance; total time=   0.8s\n",
      "[CV] END leaf_size=28, metric=chebyshev, n_neighbors=27, p=1, weights=distance; total time=   0.8s\n",
      "[CV] END leaf_size=28, metric=chebyshev, n_neighbors=27, p=1, weights=distance; total time=   0.8s\n",
      "[CV] END leaf_size=28, metric=chebyshev, n_neighbors=27, p=1, weights=distance; total time=   0.8s\n",
      "[CV] END leaf_size=28, metric=chebyshev, n_neighbors=27, p=1, weights=distance; total time=   0.8s\n",
      "[CV] END leaf_size=28, metric=chebyshev, n_neighbors=27, p=1, weights=distance; total time=   0.8s\n",
      "[CV] END leaf_size=28, metric=chebyshev, n_neighbors=27, p=1, weights=distance; total time=   0.8s\n",
      "[CV] END leaf_size=28, metric=chebyshev, n_neighbors=27, p=1, weights=distance; total time=   0.8s\n",
      "[CV] END leaf_size=28, metric=chebyshev, n_neighbors=27, p=1, weights=distance; total time=   0.8s\n",
      "[CV] END leaf_size=26, metric=chebyshev, n_neighbors=34, p=1, weights=distance; total time=   1.0s\n",
      "[CV] END leaf_size=26, metric=chebyshev, n_neighbors=34, p=1, weights=distance; total time=   1.3s\n",
      "[CV] END leaf_size=26, metric=chebyshev, n_neighbors=34, p=1, weights=distance; total time=   1.7s\n",
      "[CV] END leaf_size=26, metric=chebyshev, n_neighbors=34, p=1, weights=distance; total time=   1.4s\n",
      "[CV] END leaf_size=26, metric=chebyshev, n_neighbors=34, p=1, weights=distance; total time=   1.0s\n",
      "[CV] END leaf_size=26, metric=chebyshev, n_neighbors=34, p=1, weights=distance; total time=   0.8s\n",
      "[CV] END leaf_size=26, metric=chebyshev, n_neighbors=34, p=1, weights=distance; total time=   1.0s\n",
      "[CV] END leaf_size=26, metric=chebyshev, n_neighbors=34, p=1, weights=distance; total time=   0.8s\n",
      "[CV] END leaf_size=26, metric=chebyshev, n_neighbors=34, p=1, weights=distance; total time=   0.8s\n",
      "[CV] END leaf_size=26, metric=chebyshev, n_neighbors=34, p=1, weights=distance; total time=   0.9s\n",
      "[CV] END leaf_size=28, metric=chebyshev, n_neighbors=7, p=1, weights=uniform; total time=   1.0s\n",
      "[CV] END leaf_size=28, metric=chebyshev, n_neighbors=7, p=1, weights=uniform; total time=   0.9s\n",
      "[CV] END leaf_size=28, metric=chebyshev, n_neighbors=7, p=1, weights=uniform; total time=   0.9s\n",
      "[CV] END leaf_size=28, metric=chebyshev, n_neighbors=7, p=1, weights=uniform; total time=   1.1s\n",
      "[CV] END leaf_size=28, metric=chebyshev, n_neighbors=7, p=1, weights=uniform; total time=   0.9s\n",
      "[CV] END leaf_size=28, metric=chebyshev, n_neighbors=7, p=1, weights=uniform; total time=   0.9s\n",
      "[CV] END leaf_size=28, metric=chebyshev, n_neighbors=7, p=1, weights=uniform; total time=   0.9s\n",
      "[CV] END leaf_size=28, metric=chebyshev, n_neighbors=7, p=1, weights=uniform; total time=   0.9s\n",
      "[CV] END leaf_size=28, metric=chebyshev, n_neighbors=7, p=1, weights=uniform; total time=   0.9s\n",
      "[CV] END leaf_size=28, metric=chebyshev, n_neighbors=7, p=1, weights=uniform; total time=   0.9s\n",
      "[CV] END leaf_size=23, metric=minkowski, n_neighbors=11, p=1, weights=distance; total time=   0.9s\n",
      "[CV] END leaf_size=23, metric=minkowski, n_neighbors=11, p=1, weights=distance; total time=   0.9s\n",
      "[CV] END leaf_size=23, metric=minkowski, n_neighbors=11, p=1, weights=distance; total time=   0.9s\n",
      "[CV] END leaf_size=23, metric=minkowski, n_neighbors=11, p=1, weights=distance; total time=   1.0s\n",
      "[CV] END leaf_size=23, metric=minkowski, n_neighbors=11, p=1, weights=distance; total time=   1.0s\n",
      "[CV] END leaf_size=23, metric=minkowski, n_neighbors=11, p=1, weights=distance; total time=   1.0s\n",
      "[CV] END leaf_size=23, metric=minkowski, n_neighbors=11, p=1, weights=distance; total time=   1.1s\n"
     ]
    },
    {
     "name": "stdout",
     "output_type": "stream",
     "text": [
      "[CV] END leaf_size=23, metric=minkowski, n_neighbors=11, p=1, weights=distance; total time=   1.0s\n",
      "[CV] END leaf_size=23, metric=minkowski, n_neighbors=11, p=1, weights=distance; total time=   1.1s\n",
      "[CV] END leaf_size=23, metric=minkowski, n_neighbors=11, p=1, weights=distance; total time=   1.0s\n",
      "[CV] END leaf_size=29, metric=minkowski, n_neighbors=14, p=1, weights=distance; total time=   1.0s\n",
      "[CV] END leaf_size=29, metric=minkowski, n_neighbors=14, p=1, weights=distance; total time=   1.0s\n",
      "[CV] END leaf_size=29, metric=minkowski, n_neighbors=14, p=1, weights=distance; total time=   1.0s\n",
      "[CV] END leaf_size=29, metric=minkowski, n_neighbors=14, p=1, weights=distance; total time=   1.0s\n",
      "[CV] END leaf_size=29, metric=minkowski, n_neighbors=14, p=1, weights=distance; total time=   1.0s\n",
      "[CV] END leaf_size=29, metric=minkowski, n_neighbors=14, p=1, weights=distance; total time=   1.0s\n",
      "[CV] END leaf_size=29, metric=minkowski, n_neighbors=14, p=1, weights=distance; total time=   1.0s\n",
      "[CV] END leaf_size=29, metric=minkowski, n_neighbors=14, p=1, weights=distance; total time=   1.0s\n",
      "[CV] END leaf_size=29, metric=minkowski, n_neighbors=14, p=1, weights=distance; total time=   1.5s\n",
      "[CV] END leaf_size=29, metric=minkowski, n_neighbors=14, p=1, weights=distance; total time=   1.1s\n",
      "[CV] END leaf_size=23, metric=chebyshev, n_neighbors=3, p=1, weights=uniform; total time=   1.3s\n",
      "[CV] END leaf_size=23, metric=chebyshev, n_neighbors=3, p=1, weights=uniform; total time=   1.0s\n",
      "[CV] END leaf_size=23, metric=chebyshev, n_neighbors=3, p=1, weights=uniform; total time=   1.1s\n",
      "[CV] END leaf_size=23, metric=chebyshev, n_neighbors=3, p=1, weights=uniform; total time=   1.0s\n",
      "[CV] END leaf_size=23, metric=chebyshev, n_neighbors=3, p=1, weights=uniform; total time=   1.1s\n",
      "[CV] END leaf_size=23, metric=chebyshev, n_neighbors=3, p=1, weights=uniform; total time=   1.1s\n",
      "[CV] END leaf_size=23, metric=chebyshev, n_neighbors=3, p=1, weights=uniform; total time=   1.1s\n",
      "[CV] END leaf_size=23, metric=chebyshev, n_neighbors=3, p=1, weights=uniform; total time=   1.1s\n",
      "[CV] END leaf_size=23, metric=chebyshev, n_neighbors=3, p=1, weights=uniform; total time=   1.1s\n",
      "[CV] END leaf_size=23, metric=chebyshev, n_neighbors=3, p=1, weights=uniform; total time=   1.1s\n",
      "[CV] END leaf_size=28, metric=minkowski, n_neighbors=36, p=1, weights=uniform; total time=   1.1s\n",
      "[CV] END leaf_size=28, metric=minkowski, n_neighbors=36, p=1, weights=uniform; total time=   1.6s\n",
      "[CV] END leaf_size=28, metric=minkowski, n_neighbors=36, p=1, weights=uniform; total time=   1.5s\n",
      "[CV] END leaf_size=28, metric=minkowski, n_neighbors=36, p=1, weights=uniform; total time=   1.1s\n",
      "[CV] END leaf_size=28, metric=minkowski, n_neighbors=36, p=1, weights=uniform; total time=   1.1s\n",
      "[CV] END leaf_size=28, metric=minkowski, n_neighbors=36, p=1, weights=uniform; total time=   1.0s\n",
      "[CV] END leaf_size=28, metric=minkowski, n_neighbors=36, p=1, weights=uniform; total time=   1.0s\n",
      "[CV] END leaf_size=28, metric=minkowski, n_neighbors=36, p=1, weights=uniform; total time=   1.1s\n",
      "[CV] END leaf_size=28, metric=minkowski, n_neighbors=36, p=1, weights=uniform; total time=   1.0s\n",
      "[CV] END leaf_size=28, metric=minkowski, n_neighbors=36, p=1, weights=uniform; total time=   1.1s\n"
     ]
    },
    {
     "data": {
      "text/plain": [
       "0.8279555250783698"
      ]
     },
     "execution_count": 93,
     "metadata": {},
     "output_type": "execute_result"
    }
   ],
   "source": [
    "params_knn = {\n",
    "    'n_neighbors': np.arange(1,40),\n",
    "    'leaf_size': np.arange(20,31),\n",
    "    'p': np.arange(1,2),\n",
    "    'weights': ('uniform', 'distance'),\n",
    "    'metric': ('minkowski', 'chebyshev')\n",
    "}\n",
    "\n",
    "knn_new = RandomizedSearchCV(\n",
    "    estimator=knn_1,\n",
    "    param_distributions=params_knn,\n",
    "    n_iter=20,\n",
    "    cv=10,\n",
    "    verbose=2,\n",
    "    n_jobs=1,\n",
    "    random_state = 123)\n",
    "\n",
    "knn_new.fit(X1_train, y1_train)\n",
    "\n",
    "knn_new.best_score_"
   ]
  },
  {
   "cell_type": "code",
   "execution_count": 97,
   "id": "aa6fc125",
   "metadata": {},
   "outputs": [
    {
     "data": {
      "text/plain": [
       "{'weights': 'distance',\n",
       " 'p': 1,\n",
       " 'n_neighbors': 18,\n",
       " 'metric': 'minkowski',\n",
       " 'leaf_size': 29}"
      ]
     },
     "execution_count": 97,
     "metadata": {},
     "output_type": "execute_result"
    }
   ],
   "source": [
    "knn_new.best_params_"
   ]
  },
  {
   "cell_type": "code",
   "execution_count": 98,
   "id": "4aa28ffa",
   "metadata": {},
   "outputs": [
    {
     "name": "stdout",
     "output_type": "stream",
     "text": [
      "Training Accuracy: 1.0000\n",
      "Validation Accuracy: 1.0000\n",
      "Test Accuracy: 0.8326\n"
     ]
    }
   ],
   "source": [
    "print(\"Training Accuracy: %0.4f\" % knn_new.best_estimator_.score(X1_train, y1_train))\n",
    "print(\"Validation Accuracy: %0.4f\" % knn_new.best_estimator_.score(X1_valid, y1_valid))\n",
    "print(\"Test Accuracy: %0.4f\" % knn_new.best_estimator_.score(X1_test, y1_test))"
   ]
  },
  {
   "cell_type": "markdown",
   "id": "426a4b23",
   "metadata": {},
   "source": [
    "## 2. Decision Tree"
   ]
  },
  {
   "cell_type": "markdown",
   "id": "1e8e5f58",
   "metadata": {},
   "source": [
    "Original Decision Tree"
   ]
  },
  {
   "cell_type": "code",
   "execution_count": 101,
   "id": "d39cc88c",
   "metadata": {},
   "outputs": [
    {
     "name": "stdout",
     "output_type": "stream",
     "text": [
      "Training Accuracy: 1.0000\n",
      "Validation Accuracy: 1.0000\n",
      "Test Accuracy: 0.8648\n"
     ]
    }
   ],
   "source": [
    "tree = DecisionTreeClassifier(random_state=123)\n",
    "tree.fit(X1_train, y1_train)\n",
    "print(\"Training Accuracy: %0.4f\" % tree.score(X1_train, y1_train))\n",
    "print(\"Validation Accuracy: %0.4f\" % tree.score(X1_valid, y1_valid))\n",
    "print(\"Test Accuracy: %0.4f\" % tree.score(X1_test, y1_test))"
   ]
  },
  {
   "cell_type": "markdown",
   "id": "ff77b80e",
   "metadata": {},
   "source": [
    "Tuning"
   ]
  },
  {
   "cell_type": "code",
   "execution_count": 102,
   "id": "066bde58",
   "metadata": {
    "scrolled": true
   },
   "outputs": [
    {
     "name": "stdout",
     "output_type": "stream",
     "text": [
      "Fitting 10 folds for each of 20 candidates, totalling 200 fits\n",
      "[CV] END max_depth=14, min_impurity_decrease=0.2555483441937476, min_samples_split=7; total time=   0.2s\n",
      "[CV] END max_depth=14, min_impurity_decrease=0.2555483441937476, min_samples_split=7; total time=   0.1s\n",
      "[CV] END max_depth=14, min_impurity_decrease=0.2555483441937476, min_samples_split=7; total time=   0.1s\n",
      "[CV] END max_depth=14, min_impurity_decrease=0.2555483441937476, min_samples_split=7; total time=   0.1s\n",
      "[CV] END max_depth=14, min_impurity_decrease=0.2555483441937476, min_samples_split=7; total time=   0.1s\n",
      "[CV] END max_depth=14, min_impurity_decrease=0.2555483441937476, min_samples_split=7; total time=   0.1s\n",
      "[CV] END max_depth=14, min_impurity_decrease=0.2555483441937476, min_samples_split=7; total time=   0.1s\n",
      "[CV] END max_depth=14, min_impurity_decrease=0.2555483441937476, min_samples_split=7; total time=   0.1s\n",
      "[CV] END max_depth=14, min_impurity_decrease=0.2555483441937476, min_samples_split=7; total time=   0.1s\n",
      "[CV] END max_depth=14, min_impurity_decrease=0.2555483441937476, min_samples_split=7; total time=   0.1s\n",
      "[CV] END max_depth=2, min_impurity_decrease=0.21165825613954747, min_samples_split=10; total time=   0.2s\n",
      "[CV] END max_depth=2, min_impurity_decrease=0.21165825613954747, min_samples_split=10; total time=   0.2s\n",
      "[CV] END max_depth=2, min_impurity_decrease=0.21165825613954747, min_samples_split=10; total time=   0.2s\n",
      "[CV] END max_depth=2, min_impurity_decrease=0.21165825613954747, min_samples_split=10; total time=   0.1s\n",
      "[CV] END max_depth=2, min_impurity_decrease=0.21165825613954747, min_samples_split=10; total time=   0.1s\n",
      "[CV] END max_depth=2, min_impurity_decrease=0.21165825613954747, min_samples_split=10; total time=   0.1s\n",
      "[CV] END max_depth=2, min_impurity_decrease=0.21165825613954747, min_samples_split=10; total time=   0.2s\n",
      "[CV] END max_depth=2, min_impurity_decrease=0.21165825613954747, min_samples_split=10; total time=   0.1s\n",
      "[CV] END max_depth=2, min_impurity_decrease=0.21165825613954747, min_samples_split=10; total time=   0.1s\n",
      "[CV] END max_depth=2, min_impurity_decrease=0.21165825613954747, min_samples_split=10; total time=   0.1s\n",
      "[CV] END max_depth=15, min_impurity_decrease=0.0749810264030259, min_samples_split=7; total time=   0.2s\n",
      "[CV] END max_depth=15, min_impurity_decrease=0.0749810264030259, min_samples_split=7; total time=   0.2s\n",
      "[CV] END max_depth=15, min_impurity_decrease=0.0749810264030259, min_samples_split=7; total time=   0.2s\n",
      "[CV] END max_depth=15, min_impurity_decrease=0.0749810264030259, min_samples_split=7; total time=   0.1s\n",
      "[CV] END max_depth=15, min_impurity_decrease=0.0749810264030259, min_samples_split=7; total time=   0.2s\n",
      "[CV] END max_depth=15, min_impurity_decrease=0.0749810264030259, min_samples_split=7; total time=   0.1s\n",
      "[CV] END max_depth=15, min_impurity_decrease=0.0749810264030259, min_samples_split=7; total time=   0.2s\n",
      "[CV] END max_depth=15, min_impurity_decrease=0.0749810264030259, min_samples_split=7; total time=   0.1s\n",
      "[CV] END max_depth=15, min_impurity_decrease=0.0749810264030259, min_samples_split=7; total time=   0.2s\n",
      "[CV] END max_depth=15, min_impurity_decrease=0.0749810264030259, min_samples_split=7; total time=   0.2s\n",
      "[CV] END max_depth=6, min_impurity_decrease=0.25217298899283436, min_samples_split=7; total time=   0.1s\n",
      "[CV] END max_depth=6, min_impurity_decrease=0.25217298899283436, min_samples_split=7; total time=   0.1s\n",
      "[CV] END max_depth=6, min_impurity_decrease=0.25217298899283436, min_samples_split=7; total time=   0.1s\n",
      "[CV] END max_depth=6, min_impurity_decrease=0.25217298899283436, min_samples_split=7; total time=   0.1s\n",
      "[CV] END max_depth=6, min_impurity_decrease=0.25217298899283436, min_samples_split=7; total time=   0.1s\n",
      "[CV] END max_depth=6, min_impurity_decrease=0.25217298899283436, min_samples_split=7; total time=   0.1s\n",
      "[CV] END max_depth=6, min_impurity_decrease=0.25217298899283436, min_samples_split=7; total time=   0.1s\n",
      "[CV] END max_depth=6, min_impurity_decrease=0.25217298899283436, min_samples_split=7; total time=   0.1s\n",
      "[CV] END max_depth=6, min_impurity_decrease=0.25217298899283436, min_samples_split=7; total time=   0.1s\n",
      "[CV] END max_depth=6, min_impurity_decrease=0.25217298899283436, min_samples_split=7; total time=   0.1s\n",
      "[CV] END max_depth=15, min_impurity_decrease=0.23166498186923207, min_samples_split=6; total time=   0.1s\n",
      "[CV] END max_depth=15, min_impurity_decrease=0.23166498186923207, min_samples_split=6; total time=   0.1s\n",
      "[CV] END max_depth=15, min_impurity_decrease=0.23166498186923207, min_samples_split=6; total time=   0.1s\n",
      "[CV] END max_depth=15, min_impurity_decrease=0.23166498186923207, min_samples_split=6; total time=   0.1s\n",
      "[CV] END max_depth=15, min_impurity_decrease=0.23166498186923207, min_samples_split=6; total time=   0.1s\n",
      "[CV] END max_depth=15, min_impurity_decrease=0.23166498186923207, min_samples_split=6; total time=   0.1s\n",
      "[CV] END max_depth=15, min_impurity_decrease=0.23166498186923207, min_samples_split=6; total time=   0.1s\n",
      "[CV] END max_depth=15, min_impurity_decrease=0.23166498186923207, min_samples_split=6; total time=   0.1s\n",
      "[CV] END max_depth=15, min_impurity_decrease=0.23166498186923207, min_samples_split=6; total time=   0.1s\n",
      "[CV] END max_depth=15, min_impurity_decrease=0.23166498186923207, min_samples_split=6; total time=   0.1s\n",
      "[CV] END max_depth=6, min_impurity_decrease=0.4213616788687183, min_samples_split=4; total time=   0.1s\n",
      "[CV] END max_depth=6, min_impurity_decrease=0.4213616788687183, min_samples_split=4; total time=   0.1s\n",
      "[CV] END max_depth=6, min_impurity_decrease=0.4213616788687183, min_samples_split=4; total time=   0.1s\n",
      "[CV] END max_depth=6, min_impurity_decrease=0.4213616788687183, min_samples_split=4; total time=   0.1s\n",
      "[CV] END max_depth=6, min_impurity_decrease=0.4213616788687183, min_samples_split=4; total time=   0.1s\n",
      "[CV] END max_depth=6, min_impurity_decrease=0.4213616788687183, min_samples_split=4; total time=   0.1s\n",
      "[CV] END max_depth=6, min_impurity_decrease=0.4213616788687183, min_samples_split=4; total time=   0.1s\n",
      "[CV] END max_depth=6, min_impurity_decrease=0.4213616788687183, min_samples_split=4; total time=   0.1s\n",
      "[CV] END max_depth=6, min_impurity_decrease=0.4213616788687183, min_samples_split=4; total time=   0.1s\n",
      "[CV] END max_depth=6, min_impurity_decrease=0.4213616788687183, min_samples_split=4; total time=   0.1s\n",
      "[CV] END max_depth=9, min_impurity_decrease=0.3376306090995997, min_samples_split=4; total time=   0.1s\n",
      "[CV] END max_depth=9, min_impurity_decrease=0.3376306090995997, min_samples_split=4; total time=   0.1s\n",
      "[CV] END max_depth=9, min_impurity_decrease=0.3376306090995997, min_samples_split=4; total time=   0.1s\n",
      "[CV] END max_depth=9, min_impurity_decrease=0.3376306090995997, min_samples_split=4; total time=   0.1s\n",
      "[CV] END max_depth=9, min_impurity_decrease=0.3376306090995997, min_samples_split=4; total time=   0.1s\n",
      "[CV] END max_depth=9, min_impurity_decrease=0.3376306090995997, min_samples_split=4; total time=   0.1s\n",
      "[CV] END max_depth=9, min_impurity_decrease=0.3376306090995997, min_samples_split=4; total time=   0.1s\n",
      "[CV] END max_depth=9, min_impurity_decrease=0.3376306090995997, min_samples_split=4; total time=   0.1s\n",
      "[CV] END max_depth=9, min_impurity_decrease=0.3376306090995997, min_samples_split=4; total time=   0.1s\n",
      "[CV] END max_depth=9, min_impurity_decrease=0.3376306090995997, min_samples_split=4; total time=   0.1s\n",
      "[CV] END max_depth=20, min_impurity_decrease=0.42518802784616067, min_samples_split=4; total time=   0.1s\n",
      "[CV] END max_depth=20, min_impurity_decrease=0.42518802784616067, min_samples_split=4; total time=   0.1s\n",
      "[CV] END max_depth=20, min_impurity_decrease=0.42518802784616067, min_samples_split=4; total time=   0.1s\n",
      "[CV] END max_depth=20, min_impurity_decrease=0.42518802784616067, min_samples_split=4; total time=   0.1s\n",
      "[CV] END max_depth=20, min_impurity_decrease=0.42518802784616067, min_samples_split=4; total time=   0.1s\n",
      "[CV] END max_depth=20, min_impurity_decrease=0.42518802784616067, min_samples_split=4; total time=   0.1s\n",
      "[CV] END max_depth=20, min_impurity_decrease=0.42518802784616067, min_samples_split=4; total time=   0.1s\n",
      "[CV] END max_depth=20, min_impurity_decrease=0.42518802784616067, min_samples_split=4; total time=   0.1s\n",
      "[CV] END max_depth=20, min_impurity_decrease=0.42518802784616067, min_samples_split=4; total time=   0.1s\n",
      "[CV] END max_depth=20, min_impurity_decrease=0.42518802784616067, min_samples_split=4; total time=   0.1s\n"
     ]
    },
    {
     "name": "stdout",
     "output_type": "stream",
     "text": [
      "[CV] END max_depth=3, min_impurity_decrease=0.008960469454783848, min_samples_split=9; total time=   0.2s\n",
      "[CV] END max_depth=3, min_impurity_decrease=0.008960469454783848, min_samples_split=9; total time=   0.2s\n",
      "[CV] END max_depth=3, min_impurity_decrease=0.008960469454783848, min_samples_split=9; total time=   0.2s\n",
      "[CV] END max_depth=3, min_impurity_decrease=0.008960469454783848, min_samples_split=9; total time=   0.2s\n",
      "[CV] END max_depth=3, min_impurity_decrease=0.008960469454783848, min_samples_split=9; total time=   0.2s\n",
      "[CV] END max_depth=3, min_impurity_decrease=0.008960469454783848, min_samples_split=9; total time=   0.2s\n",
      "[CV] END max_depth=3, min_impurity_decrease=0.008960469454783848, min_samples_split=9; total time=   0.2s\n",
      "[CV] END max_depth=3, min_impurity_decrease=0.008960469454783848, min_samples_split=9; total time=   0.2s\n",
      "[CV] END max_depth=3, min_impurity_decrease=0.008960469454783848, min_samples_split=9; total time=   0.2s\n",
      "[CV] END max_depth=3, min_impurity_decrease=0.008960469454783848, min_samples_split=9; total time=   0.2s\n",
      "[CV] END max_depth=5, min_impurity_decrease=0.3467951376175142, min_samples_split=8; total time=   0.1s\n",
      "[CV] END max_depth=5, min_impurity_decrease=0.3467951376175142, min_samples_split=8; total time=   0.1s\n",
      "[CV] END max_depth=5, min_impurity_decrease=0.3467951376175142, min_samples_split=8; total time=   0.1s\n",
      "[CV] END max_depth=5, min_impurity_decrease=0.3467951376175142, min_samples_split=8; total time=   0.1s\n",
      "[CV] END max_depth=5, min_impurity_decrease=0.3467951376175142, min_samples_split=8; total time=   0.1s\n",
      "[CV] END max_depth=5, min_impurity_decrease=0.3467951376175142, min_samples_split=8; total time=   0.1s\n",
      "[CV] END max_depth=5, min_impurity_decrease=0.3467951376175142, min_samples_split=8; total time=   0.1s\n",
      "[CV] END max_depth=5, min_impurity_decrease=0.3467951376175142, min_samples_split=8; total time=   0.1s\n",
      "[CV] END max_depth=5, min_impurity_decrease=0.3467951376175142, min_samples_split=8; total time=   0.1s\n",
      "[CV] END max_depth=5, min_impurity_decrease=0.3467951376175142, min_samples_split=8; total time=   0.1s\n",
      "[CV] END max_depth=6, min_impurity_decrease=0.1041293056988315, min_samples_split=9; total time=   0.2s\n",
      "[CV] END max_depth=6, min_impurity_decrease=0.1041293056988315, min_samples_split=9; total time=   0.2s\n",
      "[CV] END max_depth=6, min_impurity_decrease=0.1041293056988315, min_samples_split=9; total time=   0.2s\n",
      "[CV] END max_depth=6, min_impurity_decrease=0.1041293056988315, min_samples_split=9; total time=   0.2s\n",
      "[CV] END max_depth=6, min_impurity_decrease=0.1041293056988315, min_samples_split=9; total time=   0.2s\n",
      "[CV] END max_depth=6, min_impurity_decrease=0.1041293056988315, min_samples_split=9; total time=   0.2s\n",
      "[CV] END max_depth=6, min_impurity_decrease=0.1041293056988315, min_samples_split=9; total time=   0.2s\n",
      "[CV] END max_depth=6, min_impurity_decrease=0.1041293056988315, min_samples_split=9; total time=   0.2s\n",
      "[CV] END max_depth=6, min_impurity_decrease=0.1041293056988315, min_samples_split=9; total time=   0.2s\n",
      "[CV] END max_depth=6, min_impurity_decrease=0.1041293056988315, min_samples_split=9; total time=   0.2s\n",
      "[CV] END max_depth=18, min_impurity_decrease=0.27683697184477934, min_samples_split=4; total time=   0.1s\n",
      "[CV] END max_depth=18, min_impurity_decrease=0.27683697184477934, min_samples_split=4; total time=   0.1s\n",
      "[CV] END max_depth=18, min_impurity_decrease=0.27683697184477934, min_samples_split=4; total time=   0.1s\n",
      "[CV] END max_depth=18, min_impurity_decrease=0.27683697184477934, min_samples_split=4; total time=   0.1s\n",
      "[CV] END max_depth=18, min_impurity_decrease=0.27683697184477934, min_samples_split=4; total time=   0.1s\n",
      "[CV] END max_depth=18, min_impurity_decrease=0.27683697184477934, min_samples_split=4; total time=   0.1s\n",
      "[CV] END max_depth=18, min_impurity_decrease=0.27683697184477934, min_samples_split=4; total time=   0.1s\n",
      "[CV] END max_depth=18, min_impurity_decrease=0.27683697184477934, min_samples_split=4; total time=   0.1s\n",
      "[CV] END max_depth=18, min_impurity_decrease=0.27683697184477934, min_samples_split=4; total time=   0.1s\n",
      "[CV] END max_depth=18, min_impurity_decrease=0.27683697184477934, min_samples_split=4; total time=   0.1s\n",
      "[CV] END max_depth=6, min_impurity_decrease=0.41269275801395483, min_samples_split=3; total time=   0.1s\n",
      "[CV] END max_depth=6, min_impurity_decrease=0.41269275801395483, min_samples_split=3; total time=   0.1s\n",
      "[CV] END max_depth=6, min_impurity_decrease=0.41269275801395483, min_samples_split=3; total time=   0.1s\n",
      "[CV] END max_depth=6, min_impurity_decrease=0.41269275801395483, min_samples_split=3; total time=   0.1s\n",
      "[CV] END max_depth=6, min_impurity_decrease=0.41269275801395483, min_samples_split=3; total time=   0.1s\n",
      "[CV] END max_depth=6, min_impurity_decrease=0.41269275801395483, min_samples_split=3; total time=   0.1s\n",
      "[CV] END max_depth=6, min_impurity_decrease=0.41269275801395483, min_samples_split=3; total time=   0.1s\n",
      "[CV] END max_depth=6, min_impurity_decrease=0.41269275801395483, min_samples_split=3; total time=   0.1s\n",
      "[CV] END max_depth=6, min_impurity_decrease=0.41269275801395483, min_samples_split=3; total time=   0.1s\n",
      "[CV] END max_depth=6, min_impurity_decrease=0.41269275801395483, min_samples_split=3; total time=   0.1s\n",
      "[CV] END max_depth=1, min_impurity_decrease=0.28111186959123324, min_samples_split=3; total time=   0.1s\n",
      "[CV] END max_depth=1, min_impurity_decrease=0.28111186959123324, min_samples_split=3; total time=   0.1s\n",
      "[CV] END max_depth=1, min_impurity_decrease=0.28111186959123324, min_samples_split=3; total time=   0.1s\n",
      "[CV] END max_depth=1, min_impurity_decrease=0.28111186959123324, min_samples_split=3; total time=   0.1s\n",
      "[CV] END max_depth=1, min_impurity_decrease=0.28111186959123324, min_samples_split=3; total time=   0.1s\n",
      "[CV] END max_depth=1, min_impurity_decrease=0.28111186959123324, min_samples_split=3; total time=   0.1s\n",
      "[CV] END max_depth=1, min_impurity_decrease=0.28111186959123324, min_samples_split=3; total time=   0.1s\n",
      "[CV] END max_depth=1, min_impurity_decrease=0.28111186959123324, min_samples_split=3; total time=   0.1s\n",
      "[CV] END max_depth=1, min_impurity_decrease=0.28111186959123324, min_samples_split=3; total time=   0.1s\n",
      "[CV] END max_depth=1, min_impurity_decrease=0.28111186959123324, min_samples_split=3; total time=   0.1s\n",
      "[CV] END max_depth=8, min_impurity_decrease=0.0952694313842049, min_samples_split=9; total time=   0.2s\n",
      "[CV] END max_depth=8, min_impurity_decrease=0.0952694313842049, min_samples_split=9; total time=   0.2s\n",
      "[CV] END max_depth=8, min_impurity_decrease=0.0952694313842049, min_samples_split=9; total time=   0.2s\n",
      "[CV] END max_depth=8, min_impurity_decrease=0.0952694313842049, min_samples_split=9; total time=   0.2s\n",
      "[CV] END max_depth=8, min_impurity_decrease=0.0952694313842049, min_samples_split=9; total time=   0.2s\n",
      "[CV] END max_depth=8, min_impurity_decrease=0.0952694313842049, min_samples_split=9; total time=   0.2s\n",
      "[CV] END max_depth=8, min_impurity_decrease=0.0952694313842049, min_samples_split=9; total time=   0.2s\n",
      "[CV] END max_depth=8, min_impurity_decrease=0.0952694313842049, min_samples_split=9; total time=   0.2s\n",
      "[CV] END max_depth=8, min_impurity_decrease=0.0952694313842049, min_samples_split=9; total time=   0.2s\n",
      "[CV] END max_depth=8, min_impurity_decrease=0.0952694313842049, min_samples_split=9; total time=   0.2s\n",
      "[CV] END max_depth=18, min_impurity_decrease=0.29689596195986573, min_samples_split=9; total time=   0.1s\n",
      "[CV] END max_depth=18, min_impurity_decrease=0.29689596195986573, min_samples_split=9; total time=   0.1s\n",
      "[CV] END max_depth=18, min_impurity_decrease=0.29689596195986573, min_samples_split=9; total time=   0.1s\n",
      "[CV] END max_depth=18, min_impurity_decrease=0.29689596195986573, min_samples_split=9; total time=   0.1s\n",
      "[CV] END max_depth=18, min_impurity_decrease=0.29689596195986573, min_samples_split=9; total time=   0.1s\n",
      "[CV] END max_depth=18, min_impurity_decrease=0.29689596195986573, min_samples_split=9; total time=   0.1s\n",
      "[CV] END max_depth=18, min_impurity_decrease=0.29689596195986573, min_samples_split=9; total time=   0.1s\n",
      "[CV] END max_depth=18, min_impurity_decrease=0.29689596195986573, min_samples_split=9; total time=   0.1s\n",
      "[CV] END max_depth=18, min_impurity_decrease=0.29689596195986573, min_samples_split=9; total time=   0.1s\n",
      "[CV] END max_depth=18, min_impurity_decrease=0.29689596195986573, min_samples_split=9; total time=   0.1s\n",
      "[CV] END max_depth=7, min_impurity_decrease=0.42613378445410577, min_samples_split=8; total time=   0.1s\n"
     ]
    },
    {
     "name": "stdout",
     "output_type": "stream",
     "text": [
      "[CV] END max_depth=7, min_impurity_decrease=0.42613378445410577, min_samples_split=8; total time=   0.1s\n",
      "[CV] END max_depth=7, min_impurity_decrease=0.42613378445410577, min_samples_split=8; total time=   0.1s\n",
      "[CV] END max_depth=7, min_impurity_decrease=0.42613378445410577, min_samples_split=8; total time=   0.1s\n",
      "[CV] END max_depth=7, min_impurity_decrease=0.42613378445410577, min_samples_split=8; total time=   0.1s\n",
      "[CV] END max_depth=7, min_impurity_decrease=0.42613378445410577, min_samples_split=8; total time=   0.1s\n",
      "[CV] END max_depth=7, min_impurity_decrease=0.42613378445410577, min_samples_split=8; total time=   0.1s\n",
      "[CV] END max_depth=7, min_impurity_decrease=0.42613378445410577, min_samples_split=8; total time=   0.1s\n",
      "[CV] END max_depth=7, min_impurity_decrease=0.42613378445410577, min_samples_split=8; total time=   0.1s\n",
      "[CV] END max_depth=7, min_impurity_decrease=0.42613378445410577, min_samples_split=8; total time=   0.1s\n",
      "[CV] END max_depth=1, min_impurity_decrease=0.1330759469655025, min_samples_split=4; total time=   0.1s\n",
      "[CV] END max_depth=1, min_impurity_decrease=0.1330759469655025, min_samples_split=4; total time=   0.1s\n",
      "[CV] END max_depth=1, min_impurity_decrease=0.1330759469655025, min_samples_split=4; total time=   0.1s\n",
      "[CV] END max_depth=1, min_impurity_decrease=0.1330759469655025, min_samples_split=4; total time=   0.1s\n",
      "[CV] END max_depth=1, min_impurity_decrease=0.1330759469655025, min_samples_split=4; total time=   0.1s\n",
      "[CV] END max_depth=1, min_impurity_decrease=0.1330759469655025, min_samples_split=4; total time=   0.1s\n",
      "[CV] END max_depth=1, min_impurity_decrease=0.1330759469655025, min_samples_split=4; total time=   0.1s\n",
      "[CV] END max_depth=1, min_impurity_decrease=0.1330759469655025, min_samples_split=4; total time=   0.1s\n",
      "[CV] END max_depth=1, min_impurity_decrease=0.1330759469655025, min_samples_split=4; total time=   0.1s\n",
      "[CV] END max_depth=1, min_impurity_decrease=0.1330759469655025, min_samples_split=4; total time=   0.1s\n",
      "[CV] END max_depth=15, min_impurity_decrease=0.4939858874489576, min_samples_split=8; total time=   0.1s\n",
      "[CV] END max_depth=15, min_impurity_decrease=0.4939858874489576, min_samples_split=8; total time=   0.1s\n",
      "[CV] END max_depth=15, min_impurity_decrease=0.4939858874489576, min_samples_split=8; total time=   0.1s\n",
      "[CV] END max_depth=15, min_impurity_decrease=0.4939858874489576, min_samples_split=8; total time=   0.1s\n",
      "[CV] END max_depth=15, min_impurity_decrease=0.4939858874489576, min_samples_split=8; total time=   0.1s\n",
      "[CV] END max_depth=15, min_impurity_decrease=0.4939858874489576, min_samples_split=8; total time=   0.1s\n",
      "[CV] END max_depth=15, min_impurity_decrease=0.4939858874489576, min_samples_split=8; total time=   0.1s\n",
      "[CV] END max_depth=15, min_impurity_decrease=0.4939858874489576, min_samples_split=8; total time=   0.1s\n",
      "[CV] END max_depth=15, min_impurity_decrease=0.4939858874489576, min_samples_split=8; total time=   0.1s\n",
      "[CV] END max_depth=15, min_impurity_decrease=0.4939858874489576, min_samples_split=8; total time=   0.1s\n",
      "[CV] END max_depth=4, min_impurity_decrease=0.387013296820849, min_samples_split=10; total time=   0.1s\n",
      "[CV] END max_depth=4, min_impurity_decrease=0.387013296820849, min_samples_split=10; total time=   0.1s\n",
      "[CV] END max_depth=4, min_impurity_decrease=0.387013296820849, min_samples_split=10; total time=   0.1s\n",
      "[CV] END max_depth=4, min_impurity_decrease=0.387013296820849, min_samples_split=10; total time=   0.1s\n",
      "[CV] END max_depth=4, min_impurity_decrease=0.387013296820849, min_samples_split=10; total time=   0.1s\n",
      "[CV] END max_depth=4, min_impurity_decrease=0.387013296820849, min_samples_split=10; total time=   0.1s\n",
      "[CV] END max_depth=4, min_impurity_decrease=0.387013296820849, min_samples_split=10; total time=   0.1s\n",
      "[CV] END max_depth=4, min_impurity_decrease=0.387013296820849, min_samples_split=10; total time=   0.1s\n",
      "[CV] END max_depth=4, min_impurity_decrease=0.387013296820849, min_samples_split=10; total time=   0.1s\n",
      "[CV] END max_depth=4, min_impurity_decrease=0.387013296820849, min_samples_split=10; total time=   0.1s\n"
     ]
    },
    {
     "data": {
      "text/plain": [
       "0.8608581504702194"
      ]
     },
     "execution_count": 102,
     "metadata": {},
     "output_type": "execute_result"
    }
   ],
   "source": [
    "params =  {\n",
    "    'min_samples_split': scipy.stats.randint(2, 12),\n",
    "    'min_impurity_decrease': scipy.stats.uniform(0.0, 0.5),\n",
    "    'max_depth': np.arange(1,21)\n",
    "}\n",
    "\n",
    "\n",
    "tree_new = RandomizedSearchCV(\n",
    "    estimator=tree,\n",
    "    param_distributions=params,\n",
    "    n_iter=20,\n",
    "    cv=10,\n",
    "    verbose=2,\n",
    "    n_jobs=1)\n",
    "\n",
    "tree_new.fit(X1_train, y1_train)\n",
    "tree_new.best_score_"
   ]
  },
  {
   "cell_type": "code",
   "execution_count": 103,
   "id": "92bea089",
   "metadata": {},
   "outputs": [
    {
     "data": {
      "text/plain": [
       "{'max_depth': 3,\n",
       " 'min_impurity_decrease': 0.008960469454783848,\n",
       " 'min_samples_split': 9}"
      ]
     },
     "execution_count": 103,
     "metadata": {},
     "output_type": "execute_result"
    }
   ],
   "source": [
    "tree_new.best_params_"
   ]
  },
  {
   "cell_type": "code",
   "execution_count": 104,
   "id": "78f6c9e6",
   "metadata": {},
   "outputs": [
    {
     "name": "stdout",
     "output_type": "stream",
     "text": [
      "Training Accuracy: 0.8687\n",
      "Validation Accuracy: 0.8795\n",
      "Test Accuracy: 0.8721\n"
     ]
    }
   ],
   "source": [
    "print(\"Training Accuracy: %0.4f\" % tree_new.best_estimator_.score(X1_train, y1_train))\n",
    "print(\"Validation Accuracy: %0.4f\" % tree_new.best_estimator_.score(X1_valid, y1_valid))\n",
    "print(\"Test Accuracy: %0.4f\" % tree_new.best_estimator_.score(X1_test, y1_test))"
   ]
  },
  {
   "cell_type": "markdown",
   "id": "80f9150d",
   "metadata": {},
   "source": [
    "## 3. Random Forest"
   ]
  },
  {
   "cell_type": "markdown",
   "id": "8852d414",
   "metadata": {},
   "source": [
    "Original Random Forest"
   ]
  },
  {
   "cell_type": "code",
   "execution_count": 105,
   "id": "a7bee607",
   "metadata": {},
   "outputs": [
    {
     "name": "stdout",
     "output_type": "stream",
     "text": [
      "Training Accuracy: 1.0000\n",
      "Validation Accuracy: 1.0000\n",
      "Test Accuracy: 0.9072\n"
     ]
    }
   ],
   "source": [
    "forest = RandomForestClassifier(n_estimators=100,\n",
    "                                random_state=123)\n",
    "\n",
    "forest.fit(X1_train, y1_train)\n",
    "    \n",
    "print(\"Training Accuracy: %0.4f\" % forest.score(X1_train, y1_train))\n",
    "print(\"Validation Accuracy: %0.4f\" % forest.score(X1_valid, y1_valid))\n",
    "print(\"Test Accuracy: %0.4f\" % forest.score(X1_test, y1_test))"
   ]
  },
  {
   "cell_type": "markdown",
   "id": "2cdd40ba",
   "metadata": {},
   "source": [
    "Tuning"
   ]
  },
  {
   "cell_type": "code",
   "execution_count": 107,
   "id": "1ed4cc00",
   "metadata": {},
   "outputs": [
    {
     "name": "stdout",
     "output_type": "stream",
     "text": [
      "Fitting 10 folds for each of 20 candidates, totalling 200 fits\n",
      "[CV] END max_depth=14, min_impurity_decrease=0.346071643147103, min_samples_split=5; total time=   0.4s\n",
      "[CV] END max_depth=14, min_impurity_decrease=0.346071643147103, min_samples_split=5; total time=   0.4s\n",
      "[CV] END max_depth=14, min_impurity_decrease=0.346071643147103, min_samples_split=5; total time=   0.3s\n",
      "[CV] END max_depth=14, min_impurity_decrease=0.346071643147103, min_samples_split=5; total time=   0.4s\n",
      "[CV] END max_depth=14, min_impurity_decrease=0.346071643147103, min_samples_split=5; total time=   0.4s\n",
      "[CV] END max_depth=14, min_impurity_decrease=0.346071643147103, min_samples_split=5; total time=   0.3s\n",
      "[CV] END max_depth=14, min_impurity_decrease=0.346071643147103, min_samples_split=5; total time=   0.4s\n",
      "[CV] END max_depth=14, min_impurity_decrease=0.346071643147103, min_samples_split=5; total time=   0.4s\n",
      "[CV] END max_depth=14, min_impurity_decrease=0.346071643147103, min_samples_split=5; total time=   0.3s\n",
      "[CV] END max_depth=14, min_impurity_decrease=0.346071643147103, min_samples_split=5; total time=   0.3s\n",
      "[CV] END max_depth=7, min_impurity_decrease=0.03928602537559167, min_samples_split=10; total time=   0.7s\n",
      "[CV] END max_depth=7, min_impurity_decrease=0.03928602537559167, min_samples_split=10; total time=   0.8s\n",
      "[CV] END max_depth=7, min_impurity_decrease=0.03928602537559167, min_samples_split=10; total time=   0.7s\n",
      "[CV] END max_depth=7, min_impurity_decrease=0.03928602537559167, min_samples_split=10; total time=   0.7s\n",
      "[CV] END max_depth=7, min_impurity_decrease=0.03928602537559167, min_samples_split=10; total time=   0.7s\n",
      "[CV] END max_depth=7, min_impurity_decrease=0.03928602537559167, min_samples_split=10; total time=   0.6s\n",
      "[CV] END max_depth=7, min_impurity_decrease=0.03928602537559167, min_samples_split=10; total time=   0.6s\n",
      "[CV] END max_depth=7, min_impurity_decrease=0.03928602537559167, min_samples_split=10; total time=   0.6s\n",
      "[CV] END max_depth=7, min_impurity_decrease=0.03928602537559167, min_samples_split=10; total time=   0.8s\n",
      "[CV] END max_depth=7, min_impurity_decrease=0.03928602537559167, min_samples_split=10; total time=   0.7s\n",
      "[CV] END max_depth=11, min_impurity_decrease=0.49249789755756757, min_samples_split=9; total time=   0.5s\n",
      "[CV] END max_depth=11, min_impurity_decrease=0.49249789755756757, min_samples_split=9; total time=   0.4s\n",
      "[CV] END max_depth=11, min_impurity_decrease=0.49249789755756757, min_samples_split=9; total time=   0.4s\n",
      "[CV] END max_depth=11, min_impurity_decrease=0.49249789755756757, min_samples_split=9; total time=   0.4s\n",
      "[CV] END max_depth=11, min_impurity_decrease=0.49249789755756757, min_samples_split=9; total time=   0.5s\n",
      "[CV] END max_depth=11, min_impurity_decrease=0.49249789755756757, min_samples_split=9; total time=   0.4s\n",
      "[CV] END max_depth=11, min_impurity_decrease=0.49249789755756757, min_samples_split=9; total time=   0.5s\n",
      "[CV] END max_depth=11, min_impurity_decrease=0.49249789755756757, min_samples_split=9; total time=   0.4s\n",
      "[CV] END max_depth=11, min_impurity_decrease=0.49249789755756757, min_samples_split=9; total time=   0.4s\n",
      "[CV] END max_depth=11, min_impurity_decrease=0.49249789755756757, min_samples_split=9; total time=   0.5s\n",
      "[CV] END max_depth=4, min_impurity_decrease=0.39802408732641603, min_samples_split=6; total time=   0.4s\n",
      "[CV] END max_depth=4, min_impurity_decrease=0.39802408732641603, min_samples_split=6; total time=   0.4s\n",
      "[CV] END max_depth=4, min_impurity_decrease=0.39802408732641603, min_samples_split=6; total time=   0.4s\n",
      "[CV] END max_depth=4, min_impurity_decrease=0.39802408732641603, min_samples_split=6; total time=   0.4s\n",
      "[CV] END max_depth=4, min_impurity_decrease=0.39802408732641603, min_samples_split=6; total time=   0.4s\n",
      "[CV] END max_depth=4, min_impurity_decrease=0.39802408732641603, min_samples_split=6; total time=   0.4s\n",
      "[CV] END max_depth=4, min_impurity_decrease=0.39802408732641603, min_samples_split=6; total time=   0.4s\n",
      "[CV] END max_depth=4, min_impurity_decrease=0.39802408732641603, min_samples_split=6; total time=   0.4s\n",
      "[CV] END max_depth=4, min_impurity_decrease=0.39802408732641603, min_samples_split=6; total time=   0.4s\n",
      "[CV] END max_depth=4, min_impurity_decrease=0.39802408732641603, min_samples_split=6; total time=   0.4s\n",
      "[CV] END max_depth=12, min_impurity_decrease=0.058329693350826106, min_samples_split=10; total time=   0.6s\n",
      "[CV] END max_depth=12, min_impurity_decrease=0.058329693350826106, min_samples_split=10; total time=   0.6s\n",
      "[CV] END max_depth=12, min_impurity_decrease=0.058329693350826106, min_samples_split=10; total time=   0.6s\n",
      "[CV] END max_depth=12, min_impurity_decrease=0.058329693350826106, min_samples_split=10; total time=   0.6s\n",
      "[CV] END max_depth=12, min_impurity_decrease=0.058329693350826106, min_samples_split=10; total time=   0.6s\n",
      "[CV] END max_depth=12, min_impurity_decrease=0.058329693350826106, min_samples_split=10; total time=   0.6s\n",
      "[CV] END max_depth=12, min_impurity_decrease=0.058329693350826106, min_samples_split=10; total time=   0.6s\n",
      "[CV] END max_depth=12, min_impurity_decrease=0.058329693350826106, min_samples_split=10; total time=   0.6s\n",
      "[CV] END max_depth=12, min_impurity_decrease=0.058329693350826106, min_samples_split=10; total time=   0.6s\n",
      "[CV] END max_depth=12, min_impurity_decrease=0.058329693350826106, min_samples_split=10; total time=   0.6s\n",
      "[CV] END max_depth=13, min_impurity_decrease=0.2624835950381191, min_samples_split=6; total time=   0.4s\n",
      "[CV] END max_depth=13, min_impurity_decrease=0.2624835950381191, min_samples_split=6; total time=   0.4s\n",
      "[CV] END max_depth=13, min_impurity_decrease=0.2624835950381191, min_samples_split=6; total time=   0.4s\n",
      "[CV] END max_depth=13, min_impurity_decrease=0.2624835950381191, min_samples_split=6; total time=   0.4s\n",
      "[CV] END max_depth=13, min_impurity_decrease=0.2624835950381191, min_samples_split=6; total time=   0.4s\n",
      "[CV] END max_depth=13, min_impurity_decrease=0.2624835950381191, min_samples_split=6; total time=   0.4s\n",
      "[CV] END max_depth=13, min_impurity_decrease=0.2624835950381191, min_samples_split=6; total time=   0.4s\n",
      "[CV] END max_depth=13, min_impurity_decrease=0.2624835950381191, min_samples_split=6; total time=   0.4s\n",
      "[CV] END max_depth=13, min_impurity_decrease=0.2624835950381191, min_samples_split=6; total time=   0.4s\n",
      "[CV] END max_depth=13, min_impurity_decrease=0.2624835950381191, min_samples_split=6; total time=   0.4s\n",
      "[CV] END max_depth=19, min_impurity_decrease=0.4301730667649549, min_samples_split=5; total time=   0.4s\n",
      "[CV] END max_depth=19, min_impurity_decrease=0.4301730667649549, min_samples_split=5; total time=   0.4s\n",
      "[CV] END max_depth=19, min_impurity_decrease=0.4301730667649549, min_samples_split=5; total time=   0.4s\n",
      "[CV] END max_depth=19, min_impurity_decrease=0.4301730667649549, min_samples_split=5; total time=   0.4s\n",
      "[CV] END max_depth=19, min_impurity_decrease=0.4301730667649549, min_samples_split=5; total time=   0.4s\n",
      "[CV] END max_depth=19, min_impurity_decrease=0.4301730667649549, min_samples_split=5; total time=   0.4s\n",
      "[CV] END max_depth=19, min_impurity_decrease=0.4301730667649549, min_samples_split=5; total time=   0.4s\n",
      "[CV] END max_depth=19, min_impurity_decrease=0.4301730667649549, min_samples_split=5; total time=   0.4s\n",
      "[CV] END max_depth=19, min_impurity_decrease=0.4301730667649549, min_samples_split=5; total time=   0.4s\n",
      "[CV] END max_depth=19, min_impurity_decrease=0.4301730667649549, min_samples_split=5; total time=   0.4s\n",
      "[CV] END max_depth=1, min_impurity_decrease=0.49727447504355604, min_samples_split=3; total time=   0.4s\n",
      "[CV] END max_depth=1, min_impurity_decrease=0.49727447504355604, min_samples_split=3; total time=   0.4s\n",
      "[CV] END max_depth=1, min_impurity_decrease=0.49727447504355604, min_samples_split=3; total time=   0.4s\n",
      "[CV] END max_depth=1, min_impurity_decrease=0.49727447504355604, min_samples_split=3; total time=   0.4s\n",
      "[CV] END max_depth=1, min_impurity_decrease=0.49727447504355604, min_samples_split=3; total time=   0.4s\n",
      "[CV] END max_depth=1, min_impurity_decrease=0.49727447504355604, min_samples_split=3; total time=   0.4s\n",
      "[CV] END max_depth=1, min_impurity_decrease=0.49727447504355604, min_samples_split=3; total time=   0.4s\n",
      "[CV] END max_depth=1, min_impurity_decrease=0.49727447504355604, min_samples_split=3; total time=   0.4s\n"
     ]
    },
    {
     "name": "stdout",
     "output_type": "stream",
     "text": [
      "[CV] END max_depth=1, min_impurity_decrease=0.49727447504355604, min_samples_split=3; total time=   0.4s\n",
      "[CV] END max_depth=1, min_impurity_decrease=0.49727447504355604, min_samples_split=3; total time=   0.4s\n",
      "[CV] END max_depth=3, min_impurity_decrease=0.36040242343434614, min_samples_split=6; total time=   0.4s\n",
      "[CV] END max_depth=3, min_impurity_decrease=0.36040242343434614, min_samples_split=6; total time=   0.4s\n",
      "[CV] END max_depth=3, min_impurity_decrease=0.36040242343434614, min_samples_split=6; total time=   0.4s\n",
      "[CV] END max_depth=3, min_impurity_decrease=0.36040242343434614, min_samples_split=6; total time=   0.4s\n",
      "[CV] END max_depth=3, min_impurity_decrease=0.36040242343434614, min_samples_split=6; total time=   0.4s\n",
      "[CV] END max_depth=3, min_impurity_decrease=0.36040242343434614, min_samples_split=6; total time=   0.4s\n",
      "[CV] END max_depth=3, min_impurity_decrease=0.36040242343434614, min_samples_split=6; total time=   0.4s\n",
      "[CV] END max_depth=3, min_impurity_decrease=0.36040242343434614, min_samples_split=6; total time=   0.4s\n",
      "[CV] END max_depth=3, min_impurity_decrease=0.36040242343434614, min_samples_split=6; total time=   0.4s\n",
      "[CV] END max_depth=3, min_impurity_decrease=0.36040242343434614, min_samples_split=6; total time=   0.4s\n",
      "[CV] END max_depth=6, min_impurity_decrease=0.3906472920325758, min_samples_split=10; total time=   0.4s\n",
      "[CV] END max_depth=6, min_impurity_decrease=0.3906472920325758, min_samples_split=10; total time=   0.4s\n",
      "[CV] END max_depth=6, min_impurity_decrease=0.3906472920325758, min_samples_split=10; total time=   0.4s\n",
      "[CV] END max_depth=6, min_impurity_decrease=0.3906472920325758, min_samples_split=10; total time=   0.4s\n",
      "[CV] END max_depth=6, min_impurity_decrease=0.3906472920325758, min_samples_split=10; total time=   0.4s\n",
      "[CV] END max_depth=6, min_impurity_decrease=0.3906472920325758, min_samples_split=10; total time=   0.4s\n",
      "[CV] END max_depth=6, min_impurity_decrease=0.3906472920325758, min_samples_split=10; total time=   0.4s\n",
      "[CV] END max_depth=6, min_impurity_decrease=0.3906472920325758, min_samples_split=10; total time=   0.4s\n",
      "[CV] END max_depth=6, min_impurity_decrease=0.3906472920325758, min_samples_split=10; total time=   0.4s\n",
      "[CV] END max_depth=6, min_impurity_decrease=0.3906472920325758, min_samples_split=10; total time=   0.4s\n",
      "[CV] END max_depth=8, min_impurity_decrease=0.2552124079613602, min_samples_split=4; total time=   0.4s\n",
      "[CV] END max_depth=8, min_impurity_decrease=0.2552124079613602, min_samples_split=4; total time=   0.4s\n",
      "[CV] END max_depth=8, min_impurity_decrease=0.2552124079613602, min_samples_split=4; total time=   0.4s\n",
      "[CV] END max_depth=8, min_impurity_decrease=0.2552124079613602, min_samples_split=4; total time=   0.4s\n",
      "[CV] END max_depth=8, min_impurity_decrease=0.2552124079613602, min_samples_split=4; total time=   0.4s\n",
      "[CV] END max_depth=8, min_impurity_decrease=0.2552124079613602, min_samples_split=4; total time=   0.4s\n",
      "[CV] END max_depth=8, min_impurity_decrease=0.2552124079613602, min_samples_split=4; total time=   0.4s\n",
      "[CV] END max_depth=8, min_impurity_decrease=0.2552124079613602, min_samples_split=4; total time=   0.4s\n",
      "[CV] END max_depth=8, min_impurity_decrease=0.2552124079613602, min_samples_split=4; total time=   0.4s\n",
      "[CV] END max_depth=8, min_impurity_decrease=0.2552124079613602, min_samples_split=4; total time=   0.4s\n",
      "[CV] END max_depth=16, min_impurity_decrease=0.34706419075298295, min_samples_split=9; total time=   0.4s\n",
      "[CV] END max_depth=16, min_impurity_decrease=0.34706419075298295, min_samples_split=9; total time=   0.4s\n",
      "[CV] END max_depth=16, min_impurity_decrease=0.34706419075298295, min_samples_split=9; total time=   0.4s\n",
      "[CV] END max_depth=16, min_impurity_decrease=0.34706419075298295, min_samples_split=9; total time=   0.4s\n",
      "[CV] END max_depth=16, min_impurity_decrease=0.34706419075298295, min_samples_split=9; total time=   0.4s\n",
      "[CV] END max_depth=16, min_impurity_decrease=0.34706419075298295, min_samples_split=9; total time=   0.4s\n",
      "[CV] END max_depth=16, min_impurity_decrease=0.34706419075298295, min_samples_split=9; total time=   0.4s\n",
      "[CV] END max_depth=16, min_impurity_decrease=0.34706419075298295, min_samples_split=9; total time=   0.4s\n",
      "[CV] END max_depth=16, min_impurity_decrease=0.34706419075298295, min_samples_split=9; total time=   0.4s\n",
      "[CV] END max_depth=16, min_impurity_decrease=0.34706419075298295, min_samples_split=9; total time=   0.4s\n",
      "[CV] END max_depth=11, min_impurity_decrease=0.46591665889515593, min_samples_split=7; total time=   0.4s\n",
      "[CV] END max_depth=11, min_impurity_decrease=0.46591665889515593, min_samples_split=7; total time=   0.4s\n",
      "[CV] END max_depth=11, min_impurity_decrease=0.46591665889515593, min_samples_split=7; total time=   0.4s\n",
      "[CV] END max_depth=11, min_impurity_decrease=0.46591665889515593, min_samples_split=7; total time=   0.4s\n",
      "[CV] END max_depth=11, min_impurity_decrease=0.46591665889515593, min_samples_split=7; total time=   0.4s\n",
      "[CV] END max_depth=11, min_impurity_decrease=0.46591665889515593, min_samples_split=7; total time=   0.4s\n",
      "[CV] END max_depth=11, min_impurity_decrease=0.46591665889515593, min_samples_split=7; total time=   0.4s\n",
      "[CV] END max_depth=11, min_impurity_decrease=0.46591665889515593, min_samples_split=7; total time=   0.4s\n",
      "[CV] END max_depth=11, min_impurity_decrease=0.46591665889515593, min_samples_split=7; total time=   0.4s\n",
      "[CV] END max_depth=11, min_impurity_decrease=0.46591665889515593, min_samples_split=7; total time=   0.4s\n",
      "[CV] END max_depth=4, min_impurity_decrease=0.3930598993773657, min_samples_split=2; total time=   0.4s\n",
      "[CV] END max_depth=4, min_impurity_decrease=0.3930598993773657, min_samples_split=2; total time=   0.4s\n",
      "[CV] END max_depth=4, min_impurity_decrease=0.3930598993773657, min_samples_split=2; total time=   0.4s\n",
      "[CV] END max_depth=4, min_impurity_decrease=0.3930598993773657, min_samples_split=2; total time=   0.4s\n",
      "[CV] END max_depth=4, min_impurity_decrease=0.3930598993773657, min_samples_split=2; total time=   0.4s\n",
      "[CV] END max_depth=4, min_impurity_decrease=0.3930598993773657, min_samples_split=2; total time=   0.4s\n",
      "[CV] END max_depth=4, min_impurity_decrease=0.3930598993773657, min_samples_split=2; total time=   0.4s\n",
      "[CV] END max_depth=4, min_impurity_decrease=0.3930598993773657, min_samples_split=2; total time=   0.4s\n",
      "[CV] END max_depth=4, min_impurity_decrease=0.3930598993773657, min_samples_split=2; total time=   0.4s\n",
      "[CV] END max_depth=4, min_impurity_decrease=0.3930598993773657, min_samples_split=2; total time=   0.4s\n",
      "[CV] END max_depth=15, min_impurity_decrease=0.02883485397225477, min_samples_split=8; total time=   0.7s\n",
      "[CV] END max_depth=15, min_impurity_decrease=0.02883485397225477, min_samples_split=8; total time=   0.6s\n",
      "[CV] END max_depth=15, min_impurity_decrease=0.02883485397225477, min_samples_split=8; total time=   0.7s\n",
      "[CV] END max_depth=15, min_impurity_decrease=0.02883485397225477, min_samples_split=8; total time=   0.7s\n",
      "[CV] END max_depth=15, min_impurity_decrease=0.02883485397225477, min_samples_split=8; total time=   0.6s\n",
      "[CV] END max_depth=15, min_impurity_decrease=0.02883485397225477, min_samples_split=8; total time=   0.7s\n",
      "[CV] END max_depth=15, min_impurity_decrease=0.02883485397225477, min_samples_split=8; total time=   0.7s\n",
      "[CV] END max_depth=15, min_impurity_decrease=0.02883485397225477, min_samples_split=8; total time=   0.6s\n",
      "[CV] END max_depth=15, min_impurity_decrease=0.02883485397225477, min_samples_split=8; total time=   0.6s\n",
      "[CV] END max_depth=15, min_impurity_decrease=0.02883485397225477, min_samples_split=8; total time=   0.6s\n",
      "[CV] END max_depth=17, min_impurity_decrease=0.03246663494449048, min_samples_split=7; total time=   0.6s\n",
      "[CV] END max_depth=17, min_impurity_decrease=0.03246663494449048, min_samples_split=7; total time=   0.6s\n",
      "[CV] END max_depth=17, min_impurity_decrease=0.03246663494449048, min_samples_split=7; total time=   0.6s\n",
      "[CV] END max_depth=17, min_impurity_decrease=0.03246663494449048, min_samples_split=7; total time=   0.6s\n",
      "[CV] END max_depth=17, min_impurity_decrease=0.03246663494449048, min_samples_split=7; total time=   0.6s\n",
      "[CV] END max_depth=17, min_impurity_decrease=0.03246663494449048, min_samples_split=7; total time=   0.7s\n"
     ]
    },
    {
     "name": "stdout",
     "output_type": "stream",
     "text": [
      "[CV] END max_depth=17, min_impurity_decrease=0.03246663494449048, min_samples_split=7; total time=   0.6s\n",
      "[CV] END max_depth=17, min_impurity_decrease=0.03246663494449048, min_samples_split=7; total time=   0.6s\n",
      "[CV] END max_depth=17, min_impurity_decrease=0.03246663494449048, min_samples_split=7; total time=   0.6s\n",
      "[CV] END max_depth=17, min_impurity_decrease=0.03246663494449048, min_samples_split=7; total time=   0.6s\n",
      "[CV] END max_depth=3, min_impurity_decrease=0.46590119083003695, min_samples_split=6; total time=   0.4s\n",
      "[CV] END max_depth=3, min_impurity_decrease=0.46590119083003695, min_samples_split=6; total time=   0.4s\n",
      "[CV] END max_depth=3, min_impurity_decrease=0.46590119083003695, min_samples_split=6; total time=   0.4s\n",
      "[CV] END max_depth=3, min_impurity_decrease=0.46590119083003695, min_samples_split=6; total time=   0.4s\n",
      "[CV] END max_depth=3, min_impurity_decrease=0.46590119083003695, min_samples_split=6; total time=   0.4s\n",
      "[CV] END max_depth=3, min_impurity_decrease=0.46590119083003695, min_samples_split=6; total time=   0.4s\n",
      "[CV] END max_depth=3, min_impurity_decrease=0.46590119083003695, min_samples_split=6; total time=   0.4s\n",
      "[CV] END max_depth=3, min_impurity_decrease=0.46590119083003695, min_samples_split=6; total time=   0.4s\n",
      "[CV] END max_depth=3, min_impurity_decrease=0.46590119083003695, min_samples_split=6; total time=   0.4s\n",
      "[CV] END max_depth=3, min_impurity_decrease=0.46590119083003695, min_samples_split=6; total time=   0.4s\n",
      "[CV] END max_depth=13, min_impurity_decrease=0.47758409136605434, min_samples_split=3; total time=   0.4s\n",
      "[CV] END max_depth=13, min_impurity_decrease=0.47758409136605434, min_samples_split=3; total time=   0.4s\n",
      "[CV] END max_depth=13, min_impurity_decrease=0.47758409136605434, min_samples_split=3; total time=   0.4s\n",
      "[CV] END max_depth=13, min_impurity_decrease=0.47758409136605434, min_samples_split=3; total time=   0.4s\n",
      "[CV] END max_depth=13, min_impurity_decrease=0.47758409136605434, min_samples_split=3; total time=   0.4s\n",
      "[CV] END max_depth=13, min_impurity_decrease=0.47758409136605434, min_samples_split=3; total time=   0.4s\n",
      "[CV] END max_depth=13, min_impurity_decrease=0.47758409136605434, min_samples_split=3; total time=   0.4s\n",
      "[CV] END max_depth=13, min_impurity_decrease=0.47758409136605434, min_samples_split=3; total time=   0.4s\n",
      "[CV] END max_depth=13, min_impurity_decrease=0.47758409136605434, min_samples_split=3; total time=   0.4s\n",
      "[CV] END max_depth=13, min_impurity_decrease=0.47758409136605434, min_samples_split=3; total time=   0.4s\n",
      "[CV] END max_depth=16, min_impurity_decrease=0.06957245816820662, min_samples_split=11; total time=   0.6s\n",
      "[CV] END max_depth=16, min_impurity_decrease=0.06957245816820662, min_samples_split=11; total time=   0.6s\n",
      "[CV] END max_depth=16, min_impurity_decrease=0.06957245816820662, min_samples_split=11; total time=   0.6s\n",
      "[CV] END max_depth=16, min_impurity_decrease=0.06957245816820662, min_samples_split=11; total time=   0.6s\n",
      "[CV] END max_depth=16, min_impurity_decrease=0.06957245816820662, min_samples_split=11; total time=   0.6s\n",
      "[CV] END max_depth=16, min_impurity_decrease=0.06957245816820662, min_samples_split=11; total time=   0.6s\n",
      "[CV] END max_depth=16, min_impurity_decrease=0.06957245816820662, min_samples_split=11; total time=   0.6s\n",
      "[CV] END max_depth=16, min_impurity_decrease=0.06957245816820662, min_samples_split=11; total time=   0.6s\n",
      "[CV] END max_depth=16, min_impurity_decrease=0.06957245816820662, min_samples_split=11; total time=   0.6s\n",
      "[CV] END max_depth=16, min_impurity_decrease=0.06957245816820662, min_samples_split=11; total time=   0.6s\n",
      "[CV] END max_depth=14, min_impurity_decrease=0.36972272107106563, min_samples_split=5; total time=   0.4s\n",
      "[CV] END max_depth=14, min_impurity_decrease=0.36972272107106563, min_samples_split=5; total time=   0.4s\n",
      "[CV] END max_depth=14, min_impurity_decrease=0.36972272107106563, min_samples_split=5; total time=   0.4s\n",
      "[CV] END max_depth=14, min_impurity_decrease=0.36972272107106563, min_samples_split=5; total time=   0.4s\n",
      "[CV] END max_depth=14, min_impurity_decrease=0.36972272107106563, min_samples_split=5; total time=   0.4s\n",
      "[CV] END max_depth=14, min_impurity_decrease=0.36972272107106563, min_samples_split=5; total time=   0.4s\n",
      "[CV] END max_depth=14, min_impurity_decrease=0.36972272107106563, min_samples_split=5; total time=   0.4s\n",
      "[CV] END max_depth=14, min_impurity_decrease=0.36972272107106563, min_samples_split=5; total time=   0.4s\n",
      "[CV] END max_depth=14, min_impurity_decrease=0.36972272107106563, min_samples_split=5; total time=   0.4s\n",
      "[CV] END max_depth=14, min_impurity_decrease=0.36972272107106563, min_samples_split=5; total time=   0.4s\n"
     ]
    },
    {
     "data": {
      "text/plain": [
       "0.8652478448275861"
      ]
     },
     "execution_count": 107,
     "metadata": {},
     "output_type": "execute_result"
    }
   ],
   "source": [
    "params =  {\n",
    "    'min_samples_split': scipy.stats.randint(2, 12),\n",
    "    'min_impurity_decrease': scipy.stats.uniform(0.0, 0.5),\n",
    "    'max_depth': np.arange(1,21)\n",
    "}\n",
    "\n",
    "forest_new = RandomizedSearchCV(\n",
    "    estimator=forest,\n",
    "    param_distributions=params,\n",
    "    n_iter=20,\n",
    "    cv=10,\n",
    "    verbose=2,\n",
    "    n_jobs=1)\n",
    "\n",
    "forest_new.fit(X1_train, y1_train)\n",
    "\n",
    "forest_new.best_score_"
   ]
  },
  {
   "cell_type": "code",
   "execution_count": 108,
   "id": "dbca2bd6",
   "metadata": {},
   "outputs": [
    {
     "data": {
      "text/plain": [
       "{'max_depth': 16,\n",
       " 'min_impurity_decrease': 0.06957245816820662,\n",
       " 'min_samples_split': 11}"
      ]
     },
     "execution_count": 108,
     "metadata": {},
     "output_type": "execute_result"
    }
   ],
   "source": [
    "forest_new.best_params_"
   ]
  },
  {
   "cell_type": "code",
   "execution_count": 109,
   "id": "b2b47e93",
   "metadata": {
    "scrolled": true
   },
   "outputs": [
    {
     "name": "stdout",
     "output_type": "stream",
     "text": [
      "Training Accuracy: 0.8684\n",
      "Validation Accuracy: 0.8717\n",
      "Test Accuracy: 0.8713\n"
     ]
    }
   ],
   "source": [
    "print(\"Training Accuracy: %0.4f\" % forest_new.best_estimator_.score(X1_train, y1_train))\n",
    "print(\"Validation Accuracy: %0.4f\" % forest_new.best_estimator_.score(X1_valid, y1_valid))\n",
    "print(\"Test Accuracy: %0.4f\" % forest_new.best_estimator_.score(X1_test, y1_test))"
   ]
  },
  {
   "cell_type": "markdown",
   "id": "1eaa4f85",
   "metadata": {},
   "source": [
    "# Model Part 2 : Using raw_images.csv"
   ]
  },
  {
   "cell_type": "markdown",
   "id": "9c84fb28",
   "metadata": {},
   "source": [
    "## Input"
   ]
  },
  {
   "cell_type": "code",
   "execution_count": 4,
   "id": "9de3d8a0",
   "metadata": {},
   "outputs": [
    {
     "name": "stdout",
     "output_type": "stream",
     "text": [
      "X2.shape: (4559, 30000)\n",
      "y2.shape: (4559,)\n"
     ]
    }
   ],
   "source": [
    "# raw_images.csv\n",
    "X2 = pd.read_csv(\"~/Desktop/STAT 451/STAT_451_Final_Project/code/raw_images.csv\",header = None)\n",
    "y2= pd.read_csv(\"~/Desktop/STAT 451/STAT_451_Final_Project/code/labels.csv\",header = None).values.ravel().astype(int)\n",
    "\n",
    "print('X2.shape:', X2.shape)\n",
    "print('y2.shape:', y2.shape)\n"
   ]
  },
  {
   "cell_type": "code",
   "execution_count": 5,
   "id": "196f270a",
   "metadata": {},
   "outputs": [
    {
     "name": "stdout",
     "output_type": "stream",
     "text": [
      "X2_train.shape: (3191, 30000)\n",
      "y2_train.shape: (3191,)\n",
      "X2_test.shape: (1368, 30000)\n",
      "y2_test.shape: (1368,)\n"
     ]
    }
   ],
   "source": [
    "X2_train, X2_test, y2_train, y2_test = train_test_split(X2, y2, \n",
    "                                                    test_size=0.3,\n",
    "                                                    random_state=123,\n",
    "                                                    shuffle=True,\n",
    "                                                    stratify = y2)\n",
    "\n",
    "print('X2_train.shape:', X2_train.shape)\n",
    "print('y2_train.shape:', y2_train.shape)\n",
    "print('X2_test.shape:', X2_test.shape)\n",
    "print('y2_test.shape:', y2_test.shape)"
   ]
  },
  {
   "cell_type": "code",
   "execution_count": 6,
   "id": "80957649",
   "metadata": {},
   "outputs": [
    {
     "name": "stdout",
     "output_type": "stream",
     "text": [
      "X1_valid.shape: (639, 30000)\n",
      "y1_valid.shape: (639,)\n"
     ]
    }
   ],
   "source": [
    "X2_train_sub, X2_valid, y2_train_sub, y2_valid = \\\n",
    "    train_test_split(X2_train, y2_train, test_size=0.2,\\\n",
    "                     random_state=1, stratify=y2_train)\n",
    "\n",
    "print('X1_valid.shape:', X2_valid.shape)\n",
    "print('y1_valid.shape:', y2_valid.shape)"
   ]
  },
  {
   "cell_type": "markdown",
   "id": "aee4e714",
   "metadata": {},
   "source": [
    "## 1. KNN"
   ]
  },
  {
   "cell_type": "code",
   "execution_count": 33,
   "id": "caffe1a3",
   "metadata": {},
   "outputs": [
    {
     "data": {
      "image/png": "[encoded data removed]",
      "text/plain": [
       "<Figure size 720x432 with 1 Axes>"
      ]
     },
     "metadata": {
      "needs_background": "light"
     },
     "output_type": "display_data"
    }
   ],
   "source": [
    "error2 = []\n",
    "\n",
    "for i in range(1,30):\n",
    "    knn = KNeighborsClassifier(n_neighbors=i)\n",
    "    knn.fit(X2_train, y2_train)\n",
    "    pred_i = knn.predict(X2_test)\n",
    "    error2.append(np.mean(pred_i != y2_test))\n",
    "\n",
    "plt.figure(figsize = (10,6))\n",
    "plt.plot(range(1,30),error2,color = \"blue\",\n",
    "        linestyle = \"dashed\",marker = \"o\",\n",
    "        markerfacecolor = \"red\", markersize = 10)\n",
    "\n",
    "plt.title(\"Error rate vs. K value\")\n",
    "plt.xlabel(\"K value\")\n",
    "plt.ylabel(\"Error rate\")"
   ]
  },
  {
   "cell_type": "code",
   "execution_count": 8,
   "id": "31d765a1",
   "metadata": {},
   "outputs": [
    {
     "name": "stdout",
     "output_type": "stream",
     "text": [
      "4\n"
     ]
    }
   ],
   "source": [
    "# Find the index of minimum error in the error list\n",
    "index2 = error2.index(min(error2))\n",
    "k2 = index2 + 1\n",
    "print(k2)"
   ]
  },
  {
   "cell_type": "code",
   "execution_count": 9,
   "id": "cc7118e0",
   "metadata": {
    "scrolled": true
   },
   "outputs": [
    {
     "name": "stdout",
     "output_type": "stream",
     "text": [
      "Training Accuracy: 0.9389\n",
      "Validation Accuracy: 0.9327\n",
      "Test Accuracy: 0.9196\n"
     ]
    }
   ],
   "source": [
    "# Find the k-value with lowest Error Rate - k\n",
    "# for example, k = 3\n",
    "knn_2 = KNeighborsClassifier(n_neighbors=k2,\n",
    "                             p =2,weights= \"uniform\")\n",
    "knn_2.fit(X2_train,y2_train)\n",
    "y_pred_test = knn_2.predict(X2_test)\n",
    "print(\"Training Accuracy: %0.4f\" % knn_2.score(X2_train, y2_train))\n",
    "print(\"Validation Accuracy: %0.4f\" % knn_2.score(X2_valid, y2_valid))\n",
    "print(\"Test Accuracy: %0.4f\" % knn_2.score(X2_test, y2_test))"
   ]
  },
  {
   "cell_type": "markdown",
   "id": "190f3c87",
   "metadata": {},
   "source": [
    "Tuning"
   ]
  },
  {
   "cell_type": "code",
   "execution_count": 92,
   "id": "c5ba6722",
   "metadata": {},
   "outputs": [
    {
     "name": "stdout",
     "output_type": "stream",
     "text": [
      "Fitting 10 folds for each of 20 candidates, totalling 200 fits\n",
      "[CV] END leaf_size=20, metric=minkowski, n_neighbors=6, p=1, weights=distance; total time=  53.9s\n",
      "[CV] END leaf_size=20, metric=minkowski, n_neighbors=6, p=1, weights=distance; total time=  49.7s\n",
      "[CV] END leaf_size=20, metric=minkowski, n_neighbors=6, p=1, weights=distance; total time=  51.2s\n",
      "[CV] END leaf_size=20, metric=minkowski, n_neighbors=6, p=1, weights=distance; total time=  59.2s\n",
      "[CV] END leaf_size=20, metric=minkowski, n_neighbors=6, p=1, weights=distance; total time=  53.0s\n",
      "[CV] END leaf_size=20, metric=minkowski, n_neighbors=6, p=1, weights=distance; total time=  56.7s\n",
      "[CV] END leaf_size=20, metric=minkowski, n_neighbors=6, p=1, weights=distance; total time=  47.7s\n",
      "[CV] END leaf_size=20, metric=minkowski, n_neighbors=6, p=1, weights=distance; total time=  49.3s\n",
      "[CV] END leaf_size=20, metric=minkowski, n_neighbors=6, p=1, weights=distance; total time=  49.2s\n",
      "[CV] END leaf_size=20, metric=minkowski, n_neighbors=6, p=1, weights=distance; total time=  49.2s\n",
      "[CV] END leaf_size=27, metric=minkowski, n_neighbors=7, p=2, weights=distance; total time=   2.5s\n",
      "[CV] END leaf_size=27, metric=minkowski, n_neighbors=7, p=2, weights=distance; total time=   2.4s\n",
      "[CV] END leaf_size=27, metric=minkowski, n_neighbors=7, p=2, weights=distance; total time=   2.5s\n",
      "[CV] END leaf_size=27, metric=minkowski, n_neighbors=7, p=2, weights=distance; total time=   2.5s\n",
      "[CV] END leaf_size=27, metric=minkowski, n_neighbors=7, p=2, weights=distance; total time=   2.3s\n",
      "[CV] END leaf_size=27, metric=minkowski, n_neighbors=7, p=2, weights=distance; total time=   2.3s\n",
      "[CV] END leaf_size=27, metric=minkowski, n_neighbors=7, p=2, weights=distance; total time=   2.3s\n",
      "[CV] END leaf_size=27, metric=minkowski, n_neighbors=7, p=2, weights=distance; total time=   2.3s\n",
      "[CV] END leaf_size=27, metric=minkowski, n_neighbors=7, p=2, weights=distance; total time=   2.5s\n",
      "[CV] END leaf_size=27, metric=minkowski, n_neighbors=7, p=2, weights=distance; total time=   2.6s\n",
      "[CV] END leaf_size=23, metric=chebyshev, n_neighbors=3, p=2, weights=uniform; total time= 1.0min\n",
      "[CV] END leaf_size=23, metric=chebyshev, n_neighbors=3, p=2, weights=uniform; total time= 3.8min\n",
      "[CV] END leaf_size=23, metric=chebyshev, n_neighbors=3, p=2, weights=uniform; total time=  51.3s\n",
      "[CV] END leaf_size=23, metric=chebyshev, n_neighbors=3, p=2, weights=uniform; total time=  50.1s\n",
      "[CV] END leaf_size=23, metric=chebyshev, n_neighbors=3, p=2, weights=uniform; total time=  53.6s\n",
      "[CV] END leaf_size=23, metric=chebyshev, n_neighbors=3, p=2, weights=uniform; total time= 1.1min\n",
      "[CV] END leaf_size=23, metric=chebyshev, n_neighbors=3, p=2, weights=uniform; total time=  59.0s\n",
      "[CV] END leaf_size=23, metric=chebyshev, n_neighbors=3, p=2, weights=uniform; total time=  50.0s\n",
      "[CV] END leaf_size=23, metric=chebyshev, n_neighbors=3, p=2, weights=uniform; total time=  50.9s\n",
      "[CV] END leaf_size=23, metric=chebyshev, n_neighbors=3, p=2, weights=uniform; total time=  50.8s\n",
      "[CV] END leaf_size=25, metric=minkowski, n_neighbors=3, p=2, weights=uniform; total time=   2.3s\n",
      "[CV] END leaf_size=25, metric=minkowski, n_neighbors=3, p=2, weights=uniform; total time=   2.3s\n",
      "[CV] END leaf_size=25, metric=minkowski, n_neighbors=3, p=2, weights=uniform; total time=   2.3s\n",
      "[CV] END leaf_size=25, metric=minkowski, n_neighbors=3, p=2, weights=uniform; total time=   2.2s\n",
      "[CV] END leaf_size=25, metric=minkowski, n_neighbors=3, p=2, weights=uniform; total time=   2.8s\n",
      "[CV] END leaf_size=25, metric=minkowski, n_neighbors=3, p=2, weights=uniform; total time=   2.2s\n",
      "[CV] END leaf_size=25, metric=minkowski, n_neighbors=3, p=2, weights=uniform; total time=   2.5s\n",
      "[CV] END leaf_size=25, metric=minkowski, n_neighbors=3, p=2, weights=uniform; total time=   2.5s\n",
      "[CV] END leaf_size=25, metric=minkowski, n_neighbors=3, p=2, weights=uniform; total time=   2.2s\n",
      "[CV] END leaf_size=25, metric=minkowski, n_neighbors=3, p=2, weights=uniform; total time=   2.3s\n",
      "[CV] END leaf_size=24, metric=minkowski, n_neighbors=5, p=2, weights=uniform; total time=   2.2s\n",
      "[CV] END leaf_size=24, metric=minkowski, n_neighbors=5, p=2, weights=uniform; total time=   2.2s\n",
      "[CV] END leaf_size=24, metric=minkowski, n_neighbors=5, p=2, weights=uniform; total time=   2.9s\n",
      "[CV] END leaf_size=24, metric=minkowski, n_neighbors=5, p=2, weights=uniform; total time=   2.6s\n",
      "[CV] END leaf_size=24, metric=minkowski, n_neighbors=5, p=2, weights=uniform; total time=   3.2s\n",
      "[CV] END leaf_size=24, metric=minkowski, n_neighbors=5, p=2, weights=uniform; total time=   2.7s\n",
      "[CV] END leaf_size=24, metric=minkowski, n_neighbors=5, p=2, weights=uniform; total time=   2.7s\n",
      "[CV] END leaf_size=24, metric=minkowski, n_neighbors=5, p=2, weights=uniform; total time=   2.3s\n",
      "[CV] END leaf_size=24, metric=minkowski, n_neighbors=5, p=2, weights=uniform; total time=   2.6s\n",
      "[CV] END leaf_size=24, metric=minkowski, n_neighbors=5, p=2, weights=uniform; total time=   2.5s\n",
      "[CV] END leaf_size=29, metric=minkowski, n_neighbors=5, p=2, weights=uniform; total time=   2.6s\n",
      "[CV] END leaf_size=29, metric=minkowski, n_neighbors=5, p=2, weights=uniform; total time=   2.2s\n",
      "[CV] END leaf_size=29, metric=minkowski, n_neighbors=5, p=2, weights=uniform; total time=   2.2s\n",
      "[CV] END leaf_size=29, metric=minkowski, n_neighbors=5, p=2, weights=uniform; total time=   2.2s\n",
      "[CV] END leaf_size=29, metric=minkowski, n_neighbors=5, p=2, weights=uniform; total time=   2.2s\n",
      "[CV] END leaf_size=29, metric=minkowski, n_neighbors=5, p=2, weights=uniform; total time=   2.2s\n",
      "[CV] END leaf_size=29, metric=minkowski, n_neighbors=5, p=2, weights=uniform; total time=   2.2s\n",
      "[CV] END leaf_size=29, metric=minkowski, n_neighbors=5, p=2, weights=uniform; total time=   2.2s\n",
      "[CV] END leaf_size=29, metric=minkowski, n_neighbors=5, p=2, weights=uniform; total time=   2.8s\n",
      "[CV] END leaf_size=29, metric=minkowski, n_neighbors=5, p=2, weights=uniform; total time=   2.9s\n",
      "[CV] END leaf_size=27, metric=chebyshev, n_neighbors=7, p=1, weights=distance; total time=  50.0s\n",
      "[CV] END leaf_size=27, metric=chebyshev, n_neighbors=7, p=1, weights=distance; total time=  52.6s\n",
      "[CV] END leaf_size=27, metric=chebyshev, n_neighbors=7, p=1, weights=distance; total time=  53.9s\n",
      "[CV] END leaf_size=27, metric=chebyshev, n_neighbors=7, p=1, weights=distance; total time=  54.5s\n",
      "[CV] END leaf_size=27, metric=chebyshev, n_neighbors=7, p=1, weights=distance; total time=  46.6s\n",
      "[CV] END leaf_size=27, metric=chebyshev, n_neighbors=7, p=1, weights=distance; total time=  51.0s\n",
      "[CV] END leaf_size=27, metric=chebyshev, n_neighbors=7, p=1, weights=distance; total time=  53.1s\n",
      "[CV] END leaf_size=27, metric=chebyshev, n_neighbors=7, p=1, weights=distance; total time=  49.4s\n",
      "[CV] END leaf_size=27, metric=chebyshev, n_neighbors=7, p=1, weights=distance; total time=  55.0s\n",
      "[CV] END leaf_size=27, metric=chebyshev, n_neighbors=7, p=1, weights=distance; total time=  49.3s\n",
      "[CV] END leaf_size=20, metric=minkowski, n_neighbors=6, p=2, weights=distance; total time=   2.4s\n",
      "[CV] END leaf_size=20, metric=minkowski, n_neighbors=6, p=2, weights=distance; total time=   3.3s\n",
      "[CV] END leaf_size=20, metric=minkowski, n_neighbors=6, p=2, weights=distance; total time=   2.7s\n",
      "[CV] END leaf_size=20, metric=minkowski, n_neighbors=6, p=2, weights=distance; total time=   2.4s\n",
      "[CV] END leaf_size=20, metric=minkowski, n_neighbors=6, p=2, weights=distance; total time=   2.4s\n",
      "[CV] END leaf_size=20, metric=minkowski, n_neighbors=6, p=2, weights=distance; total time=   2.5s\n",
      "[CV] END leaf_size=20, metric=minkowski, n_neighbors=6, p=2, weights=distance; total time=   3.5s\n",
      "[CV] END leaf_size=20, metric=minkowski, n_neighbors=6, p=2, weights=distance; total time=   2.5s\n",
      "[CV] END leaf_size=20, metric=minkowski, n_neighbors=6, p=2, weights=distance; total time=   2.7s\n",
      "[CV] END leaf_size=20, metric=minkowski, n_neighbors=6, p=2, weights=distance; total time=   3.3s\n",
      "[CV] END leaf_size=20, metric=minkowski, n_neighbors=5, p=2, weights=distance; total time=   3.1s\n",
      "[CV] END leaf_size=20, metric=minkowski, n_neighbors=5, p=2, weights=distance; total time=   2.7s\n",
      "[CV] END leaf_size=20, metric=minkowski, n_neighbors=5, p=2, weights=distance; total time=   2.2s\n",
      "[CV] END leaf_size=20, metric=minkowski, n_neighbors=5, p=2, weights=distance; total time=   2.2s\n"
     ]
    },
    {
     "name": "stdout",
     "output_type": "stream",
     "text": [
      "[CV] END leaf_size=20, metric=minkowski, n_neighbors=5, p=2, weights=distance; total time=   2.2s\n",
      "[CV] END leaf_size=20, metric=minkowski, n_neighbors=5, p=2, weights=distance; total time=   2.3s\n",
      "[CV] END leaf_size=20, metric=minkowski, n_neighbors=5, p=2, weights=distance; total time=   2.5s\n",
      "[CV] END leaf_size=20, metric=minkowski, n_neighbors=5, p=2, weights=distance; total time=   2.3s\n",
      "[CV] END leaf_size=20, metric=minkowski, n_neighbors=5, p=2, weights=distance; total time=   2.1s\n",
      "[CV] END leaf_size=20, metric=minkowski, n_neighbors=5, p=2, weights=distance; total time=   2.1s\n",
      "[CV] END leaf_size=24, metric=chebyshev, n_neighbors=3, p=1, weights=distance; total time=  44.1s\n",
      "[CV] END leaf_size=24, metric=chebyshev, n_neighbors=3, p=1, weights=distance; total time=  43.3s\n",
      "[CV] END leaf_size=24, metric=chebyshev, n_neighbors=3, p=1, weights=distance; total time=  43.1s\n",
      "[CV] END leaf_size=24, metric=chebyshev, n_neighbors=3, p=1, weights=distance; total time=  43.1s\n",
      "[CV] END leaf_size=24, metric=chebyshev, n_neighbors=3, p=1, weights=distance; total time=  42.7s\n",
      "[CV] END leaf_size=24, metric=chebyshev, n_neighbors=3, p=1, weights=distance; total time=  42.9s\n",
      "[CV] END leaf_size=24, metric=chebyshev, n_neighbors=3, p=1, weights=distance; total time=  43.0s\n",
      "[CV] END leaf_size=24, metric=chebyshev, n_neighbors=3, p=1, weights=distance; total time=  42.7s\n",
      "[CV] END leaf_size=24, metric=chebyshev, n_neighbors=3, p=1, weights=distance; total time=  46.3s\n",
      "[CV] END leaf_size=24, metric=chebyshev, n_neighbors=3, p=1, weights=distance; total time=  51.0s\n",
      "[CV] END leaf_size=21, metric=minkowski, n_neighbors=3, p=2, weights=uniform; total time=   3.0s\n",
      "[CV] END leaf_size=21, metric=minkowski, n_neighbors=3, p=2, weights=uniform; total time=   2.9s\n",
      "[CV] END leaf_size=21, metric=minkowski, n_neighbors=3, p=2, weights=uniform; total time=   2.8s\n",
      "[CV] END leaf_size=21, metric=minkowski, n_neighbors=3, p=2, weights=uniform; total time=   2.7s\n",
      "[CV] END leaf_size=21, metric=minkowski, n_neighbors=3, p=2, weights=uniform; total time=   2.3s\n",
      "[CV] END leaf_size=21, metric=minkowski, n_neighbors=3, p=2, weights=uniform; total time=   2.6s\n",
      "[CV] END leaf_size=21, metric=minkowski, n_neighbors=3, p=2, weights=uniform; total time=   2.3s\n",
      "[CV] END leaf_size=21, metric=minkowski, n_neighbors=3, p=2, weights=uniform; total time=   2.1s\n",
      "[CV] END leaf_size=21, metric=minkowski, n_neighbors=3, p=2, weights=uniform; total time=   2.5s\n",
      "[CV] END leaf_size=21, metric=minkowski, n_neighbors=3, p=2, weights=uniform; total time=   2.6s\n",
      "[CV] END leaf_size=24, metric=chebyshev, n_neighbors=5, p=2, weights=uniform; total time=  50.6s\n",
      "[CV] END leaf_size=24, metric=chebyshev, n_neighbors=5, p=2, weights=uniform; total time=  57.8s\n",
      "[CV] END leaf_size=24, metric=chebyshev, n_neighbors=5, p=2, weights=uniform; total time=  48.2s\n",
      "[CV] END leaf_size=24, metric=chebyshev, n_neighbors=5, p=2, weights=uniform; total time=  48.8s\n",
      "[CV] END leaf_size=24, metric=chebyshev, n_neighbors=5, p=2, weights=uniform; total time=  48.2s\n",
      "[CV] END leaf_size=24, metric=chebyshev, n_neighbors=5, p=2, weights=uniform; total time=  54.3s\n",
      "[CV] END leaf_size=24, metric=chebyshev, n_neighbors=5, p=2, weights=uniform; total time=  53.6s\n",
      "[CV] END leaf_size=24, metric=chebyshev, n_neighbors=5, p=2, weights=uniform; total time=  52.3s\n",
      "[CV] END leaf_size=24, metric=chebyshev, n_neighbors=5, p=2, weights=uniform; total time=  54.8s\n",
      "[CV] END leaf_size=24, metric=chebyshev, n_neighbors=5, p=2, weights=uniform; total time=  47.1s\n",
      "[CV] END leaf_size=20, metric=chebyshev, n_neighbors=4, p=1, weights=uniform; total time=  51.6s\n",
      "[CV] END leaf_size=20, metric=chebyshev, n_neighbors=4, p=1, weights=uniform; total time=  49.5s\n",
      "[CV] END leaf_size=20, metric=chebyshev, n_neighbors=4, p=1, weights=uniform; total time=  49.2s\n",
      "[CV] END leaf_size=20, metric=chebyshev, n_neighbors=4, p=1, weights=uniform; total time=  52.6s\n",
      "[CV] END leaf_size=20, metric=chebyshev, n_neighbors=4, p=1, weights=uniform; total time=  50.4s\n",
      "[CV] END leaf_size=20, metric=chebyshev, n_neighbors=4, p=1, weights=uniform; total time=  52.3s\n",
      "[CV] END leaf_size=20, metric=chebyshev, n_neighbors=4, p=1, weights=uniform; total time=  52.1s\n",
      "[CV] END leaf_size=20, metric=chebyshev, n_neighbors=4, p=1, weights=uniform; total time=  50.7s\n",
      "[CV] END leaf_size=20, metric=chebyshev, n_neighbors=4, p=1, weights=uniform; total time=  48.9s\n",
      "[CV] END leaf_size=20, metric=chebyshev, n_neighbors=4, p=1, weights=uniform; total time=  54.1s\n",
      "[CV] END leaf_size=27, metric=chebyshev, n_neighbors=3, p=2, weights=uniform; total time=  50.4s\n",
      "[CV] END leaf_size=27, metric=chebyshev, n_neighbors=3, p=2, weights=uniform; total time=  48.4s\n",
      "[CV] END leaf_size=27, metric=chebyshev, n_neighbors=3, p=2, weights=uniform; total time=  47.6s\n",
      "[CV] END leaf_size=27, metric=chebyshev, n_neighbors=3, p=2, weights=uniform; total time=  47.8s\n",
      "[CV] END leaf_size=27, metric=chebyshev, n_neighbors=3, p=2, weights=uniform; total time=  50.2s\n",
      "[CV] END leaf_size=27, metric=chebyshev, n_neighbors=3, p=2, weights=uniform; total time=  46.4s\n",
      "[CV] END leaf_size=27, metric=chebyshev, n_neighbors=3, p=2, weights=uniform; total time=  49.8s\n",
      "[CV] END leaf_size=27, metric=chebyshev, n_neighbors=3, p=2, weights=uniform; total time= 1.1min\n",
      "[CV] END leaf_size=27, metric=chebyshev, n_neighbors=3, p=2, weights=uniform; total time=  51.3s\n",
      "[CV] END leaf_size=27, metric=chebyshev, n_neighbors=3, p=2, weights=uniform; total time=  50.9s\n",
      "[CV] END leaf_size=25, metric=chebyshev, n_neighbors=4, p=2, weights=distance; total time=  48.4s\n",
      "[CV] END leaf_size=25, metric=chebyshev, n_neighbors=4, p=2, weights=distance; total time=  48.9s\n",
      "[CV] END leaf_size=25, metric=chebyshev, n_neighbors=4, p=2, weights=distance; total time=  49.2s\n",
      "[CV] END leaf_size=25, metric=chebyshev, n_neighbors=4, p=2, weights=distance; total time=  46.7s\n",
      "[CV] END leaf_size=25, metric=chebyshev, n_neighbors=4, p=2, weights=distance; total time=  54.9s\n",
      "[CV] END leaf_size=25, metric=chebyshev, n_neighbors=4, p=2, weights=distance; total time=66.3min\n",
      "[CV] END leaf_size=25, metric=chebyshev, n_neighbors=4, p=2, weights=distance; total time= 3.3min\n",
      "[CV] END leaf_size=25, metric=chebyshev, n_neighbors=4, p=2, weights=distance; total time= 3.0min\n",
      "[CV] END leaf_size=25, metric=chebyshev, n_neighbors=4, p=2, weights=distance; total time= 3.1min\n",
      "[CV] END leaf_size=25, metric=chebyshev, n_neighbors=4, p=2, weights=distance; total time=17.5min\n",
      "[CV] END leaf_size=29, metric=chebyshev, n_neighbors=4, p=2, weights=uniform; total time=11.5min\n",
      "[CV] END leaf_size=29, metric=chebyshev, n_neighbors=4, p=2, weights=uniform; total time=13.6min\n",
      "[CV] END leaf_size=29, metric=chebyshev, n_neighbors=4, p=2, weights=uniform; total time= 1.1min\n",
      "[CV] END leaf_size=29, metric=chebyshev, n_neighbors=4, p=2, weights=uniform; total time=  44.9s\n",
      "[CV] END leaf_size=29, metric=chebyshev, n_neighbors=4, p=2, weights=uniform; total time=  44.8s\n",
      "[CV] END leaf_size=29, metric=chebyshev, n_neighbors=4, p=2, weights=uniform; total time=  44.9s\n",
      "[CV] END leaf_size=29, metric=chebyshev, n_neighbors=4, p=2, weights=uniform; total time=  46.0s\n",
      "[CV] END leaf_size=29, metric=chebyshev, n_neighbors=4, p=2, weights=uniform; total time=  45.2s\n",
      "[CV] END leaf_size=29, metric=chebyshev, n_neighbors=4, p=2, weights=uniform; total time=  45.5s\n",
      "[CV] END leaf_size=29, metric=chebyshev, n_neighbors=4, p=2, weights=uniform; total time=  45.5s\n",
      "[CV] END leaf_size=29, metric=chebyshev, n_neighbors=6, p=2, weights=distance; total time=  44.8s\n",
      "[CV] END leaf_size=29, metric=chebyshev, n_neighbors=6, p=2, weights=distance; total time=  45.4s\n",
      "[CV] END leaf_size=29, metric=chebyshev, n_neighbors=6, p=2, weights=distance; total time=  44.1s\n",
      "[CV] END leaf_size=29, metric=chebyshev, n_neighbors=6, p=2, weights=distance; total time=  44.4s\n",
      "[CV] END leaf_size=29, metric=chebyshev, n_neighbors=6, p=2, weights=distance; total time=  43.9s\n",
      "[CV] END leaf_size=29, metric=chebyshev, n_neighbors=6, p=2, weights=distance; total time=  43.5s\n",
      "[CV] END leaf_size=29, metric=chebyshev, n_neighbors=6, p=2, weights=distance; total time=  43.8s\n",
      "[CV] END leaf_size=29, metric=chebyshev, n_neighbors=6, p=2, weights=distance; total time=  50.8s\n",
      "[CV] END leaf_size=29, metric=chebyshev, n_neighbors=6, p=2, weights=distance; total time=  48.0s\n"
     ]
    },
    {
     "name": "stdout",
     "output_type": "stream",
     "text": [
      "[CV] END leaf_size=29, metric=chebyshev, n_neighbors=6, p=2, weights=distance; total time=  53.6s\n",
      "[CV] END leaf_size=25, metric=chebyshev, n_neighbors=7, p=1, weights=uniform; total time=  56.5s\n",
      "[CV] END leaf_size=25, metric=chebyshev, n_neighbors=7, p=1, weights=uniform; total time=  54.7s\n",
      "[CV] END leaf_size=25, metric=chebyshev, n_neighbors=7, p=1, weights=uniform; total time=  43.6s\n",
      "[CV] END leaf_size=25, metric=chebyshev, n_neighbors=7, p=1, weights=uniform; total time=  55.5s\n",
      "[CV] END leaf_size=25, metric=chebyshev, n_neighbors=7, p=1, weights=uniform; total time=  51.0s\n",
      "[CV] END leaf_size=25, metric=chebyshev, n_neighbors=7, p=1, weights=uniform; total time=  47.6s\n",
      "[CV] END leaf_size=25, metric=chebyshev, n_neighbors=7, p=1, weights=uniform; total time=  43.5s\n",
      "[CV] END leaf_size=25, metric=chebyshev, n_neighbors=7, p=1, weights=uniform; total time=  43.2s\n",
      "[CV] END leaf_size=25, metric=chebyshev, n_neighbors=7, p=1, weights=uniform; total time=  43.3s\n",
      "[CV] END leaf_size=25, metric=chebyshev, n_neighbors=7, p=1, weights=uniform; total time=  58.3s\n",
      "[CV] END leaf_size=25, metric=chebyshev, n_neighbors=7, p=2, weights=distance; total time= 1.0min\n",
      "[CV] END leaf_size=25, metric=chebyshev, n_neighbors=7, p=2, weights=distance; total time=  47.9s\n",
      "[CV] END leaf_size=25, metric=chebyshev, n_neighbors=7, p=2, weights=distance; total time=  43.7s\n",
      "[CV] END leaf_size=25, metric=chebyshev, n_neighbors=7, p=2, weights=distance; total time=  44.6s\n",
      "[CV] END leaf_size=25, metric=chebyshev, n_neighbors=7, p=2, weights=distance; total time=  44.2s\n",
      "[CV] END leaf_size=25, metric=chebyshev, n_neighbors=7, p=2, weights=distance; total time=  44.3s\n",
      "[CV] END leaf_size=25, metric=chebyshev, n_neighbors=7, p=2, weights=distance; total time= 1.3min\n",
      "[CV] END leaf_size=25, metric=chebyshev, n_neighbors=7, p=2, weights=distance; total time= 1.2min\n",
      "[CV] END leaf_size=25, metric=chebyshev, n_neighbors=7, p=2, weights=distance; total time= 1.0min\n",
      "[CV] END leaf_size=25, metric=chebyshev, n_neighbors=7, p=2, weights=distance; total time=  56.5s\n",
      "[CV] END leaf_size=21, metric=chebyshev, n_neighbors=6, p=2, weights=distance; total time=  54.6s\n",
      "[CV] END leaf_size=21, metric=chebyshev, n_neighbors=6, p=2, weights=distance; total time=  46.4s\n",
      "[CV] END leaf_size=21, metric=chebyshev, n_neighbors=6, p=2, weights=distance; total time=  44.2s\n",
      "[CV] END leaf_size=21, metric=chebyshev, n_neighbors=6, p=2, weights=distance; total time=  44.6s\n",
      "[CV] END leaf_size=21, metric=chebyshev, n_neighbors=6, p=2, weights=distance; total time=  43.7s\n",
      "[CV] END leaf_size=21, metric=chebyshev, n_neighbors=6, p=2, weights=distance; total time=  43.5s\n",
      "[CV] END leaf_size=21, metric=chebyshev, n_neighbors=6, p=2, weights=distance; total time=  43.4s\n",
      "[CV] END leaf_size=21, metric=chebyshev, n_neighbors=6, p=2, weights=distance; total time=  47.7s\n",
      "[CV] END leaf_size=21, metric=chebyshev, n_neighbors=6, p=2, weights=distance; total time=  52.2s\n",
      "[CV] END leaf_size=21, metric=chebyshev, n_neighbors=6, p=2, weights=distance; total time=  43.3s\n"
     ]
    },
    {
     "data": {
      "text/plain": [
       "0.9150773902821318"
      ]
     },
     "execution_count": 92,
     "metadata": {},
     "output_type": "execute_result"
    }
   ],
   "source": [
    "params_knn = {\n",
    "    'n_neighbors': np.arange(3,8),\n",
    "    'leaf_size': np.arange(20,31),\n",
    "    'p': np.arange(1,3),\n",
    "    'weights': ('uniform', 'distance'),\n",
    "    'metric': ('minkowski', 'chebyshev')\n",
    "}\n",
    "\n",
    "knn_new2 = RandomizedSearchCV(\n",
    "    estimator=knn_2,\n",
    "    param_distributions=params_knn,\n",
    "    n_iter=20,\n",
    "    cv=10,\n",
    "    verbose=2,\n",
    "    n_jobs=1,\n",
    "    random_state = 123)\n",
    "\n",
    "knn_new2.fit(X2_train, y2_train)\n",
    "\n",
    "knn_new2.best_score_"
   ]
  },
  {
   "cell_type": "code",
   "execution_count": 94,
   "id": "426ba359",
   "metadata": {},
   "outputs": [
    {
     "data": {
      "text/plain": [
       "{'weights': 'distance',\n",
       " 'p': 1,\n",
       " 'n_neighbors': 6,\n",
       " 'metric': 'minkowski',\n",
       " 'leaf_size': 20}"
      ]
     },
     "execution_count": 94,
     "metadata": {},
     "output_type": "execute_result"
    }
   ],
   "source": [
    "knn_new2.best_params_"
   ]
  },
  {
   "cell_type": "code",
   "execution_count": 95,
   "id": "50bc6616",
   "metadata": {},
   "outputs": [
    {
     "name": "stdout",
     "output_type": "stream",
     "text": [
      "Training Accuracy: 1.0000\n",
      "Validation Accuracy: 1.0000\n",
      "Test Accuracy: 0.9262\n"
     ]
    }
   ],
   "source": [
    "print(\"Training Accuracy: %0.4f\" % knn_new2.best_estimator_.score(X2_train, y2_train))\n",
    "print(\"Validation Accuracy: %0.4f\" % knn_new2.best_estimator_.score(X2_valid, y2_valid))\n",
    "print(\"Test Accuracy: %0.4f\" % knn_new2.best_estimator_.score(X2_test, y2_test))"
   ]
  },
  {
   "cell_type": "markdown",
   "id": "d1d72030",
   "metadata": {},
   "source": [
    "Evaluation - F1 Score"
   ]
  },
  {
   "cell_type": "code",
   "execution_count": 96,
   "id": "90c9fed4",
   "metadata": {},
   "outputs": [
    {
     "data": {
      "text/plain": [
       "0.9263178959373771"
      ]
     },
     "execution_count": 96,
     "metadata": {},
     "output_type": "execute_result"
    }
   ],
   "source": [
    "y_true = y2_test\n",
    "y_pred = knn_new2.best_estimator_.predict(X2_test)\n",
    "f1_score(y_true,y_pred,average = \"weighted\")"
   ]
  },
  {
   "cell_type": "markdown",
   "id": "da8d7f1d",
   "metadata": {},
   "source": [
    "## 2. Decision Tree"
   ]
  },
  {
   "cell_type": "markdown",
   "id": "4facb3b8",
   "metadata": {},
   "source": [
    "Original "
   ]
  },
  {
   "cell_type": "code",
   "execution_count": 110,
   "id": "49e17cf7",
   "metadata": {},
   "outputs": [
    {
     "name": "stdout",
     "output_type": "stream",
     "text": [
      "Training Accuracy: 1.0000\n",
      "Validation Accuracy: 1.0000\n",
      "Test Accuracy: 0.8787\n"
     ]
    }
   ],
   "source": [
    "tree2 = DecisionTreeClassifier(random_state=123) # Default parameters\n",
    "tree2.fit(X2_train, y2_train)\n",
    "print(\"Training Accuracy: %0.4f\" % tree2.score(X2_train, y2_train))\n",
    "print(\"Validation Accuracy: %0.4f\" % tree2.score(X2_valid, y2_valid))\n",
    "print(\"Test Accuracy: %0.4f\" % tree2.score(X2_test, y2_test))"
   ]
  },
  {
   "cell_type": "markdown",
   "id": "95d1d207",
   "metadata": {},
   "source": [
    "Tuning"
   ]
  },
  {
   "cell_type": "code",
   "execution_count": 111,
   "id": "47dd90db",
   "metadata": {},
   "outputs": [
    {
     "name": "stdout",
     "output_type": "stream",
     "text": [
      "Fitting 10 folds for each of 20 candidates, totalling 200 fits\n",
      "[CV] END max_depth=9, min_impurity_decrease=0.296815223573523, min_samples_split=10; total time=   7.9s\n",
      "[CV] END max_depth=9, min_impurity_decrease=0.296815223573523, min_samples_split=10; total time=   6.3s\n",
      "[CV] END max_depth=9, min_impurity_decrease=0.296815223573523, min_samples_split=10; total time=   6.1s\n",
      "[CV] END max_depth=9, min_impurity_decrease=0.296815223573523, min_samples_split=10; total time=   6.1s\n",
      "[CV] END max_depth=9, min_impurity_decrease=0.296815223573523, min_samples_split=10; total time=   6.2s\n",
      "[CV] END max_depth=9, min_impurity_decrease=0.296815223573523, min_samples_split=10; total time=   6.4s\n",
      "[CV] END max_depth=9, min_impurity_decrease=0.296815223573523, min_samples_split=10; total time=   6.1s\n",
      "[CV] END max_depth=9, min_impurity_decrease=0.296815223573523, min_samples_split=10; total time=   6.4s\n",
      "[CV] END max_depth=9, min_impurity_decrease=0.296815223573523, min_samples_split=10; total time=   6.1s\n",
      "[CV] END max_depth=9, min_impurity_decrease=0.296815223573523, min_samples_split=10; total time=   6.5s\n",
      "[CV] END max_depth=7, min_impurity_decrease=0.1723195591640881, min_samples_split=8; total time=  17.2s\n",
      "[CV] END max_depth=7, min_impurity_decrease=0.1723195591640881, min_samples_split=8; total time=  19.8s\n",
      "[CV] END max_depth=7, min_impurity_decrease=0.1723195591640881, min_samples_split=8; total time=  19.1s\n",
      "[CV] END max_depth=7, min_impurity_decrease=0.1723195591640881, min_samples_split=8; total time=  15.3s\n",
      "[CV] END max_depth=7, min_impurity_decrease=0.1723195591640881, min_samples_split=8; total time=  15.2s\n",
      "[CV] END max_depth=7, min_impurity_decrease=0.1723195591640881, min_samples_split=8; total time=  15.7s\n",
      "[CV] END max_depth=7, min_impurity_decrease=0.1723195591640881, min_samples_split=8; total time=  18.9s\n",
      "[CV] END max_depth=7, min_impurity_decrease=0.1723195591640881, min_samples_split=8; total time=  18.4s\n",
      "[CV] END max_depth=7, min_impurity_decrease=0.1723195591640881, min_samples_split=8; total time=  17.4s\n",
      "[CV] END max_depth=7, min_impurity_decrease=0.1723195591640881, min_samples_split=8; total time=  15.2s\n",
      "[CV] END max_depth=4, min_impurity_decrease=0.011493972900871952, min_samples_split=2; total time=  19.2s\n",
      "[CV] END max_depth=4, min_impurity_decrease=0.011493972900871952, min_samples_split=2; total time=  18.9s\n",
      "[CV] END max_depth=4, min_impurity_decrease=0.011493972900871952, min_samples_split=2; total time=  20.1s\n",
      "[CV] END max_depth=4, min_impurity_decrease=0.011493972900871952, min_samples_split=2; total time=  18.7s\n",
      "[CV] END max_depth=4, min_impurity_decrease=0.011493972900871952, min_samples_split=2; total time=  18.5s\n",
      "[CV] END max_depth=4, min_impurity_decrease=0.011493972900871952, min_samples_split=2; total time=  18.6s\n",
      "[CV] END max_depth=4, min_impurity_decrease=0.011493972900871952, min_samples_split=2; total time=  18.7s\n",
      "[CV] END max_depth=4, min_impurity_decrease=0.011493972900871952, min_samples_split=2; total time=  18.3s\n",
      "[CV] END max_depth=4, min_impurity_decrease=0.011493972900871952, min_samples_split=2; total time=  18.7s\n",
      "[CV] END max_depth=4, min_impurity_decrease=0.011493972900871952, min_samples_split=2; total time=  18.5s\n",
      "[CV] END max_depth=14, min_impurity_decrease=0.3073367322299521, min_samples_split=7; total time=   5.9s\n",
      "[CV] END max_depth=14, min_impurity_decrease=0.3073367322299521, min_samples_split=7; total time=   6.1s\n",
      "[CV] END max_depth=14, min_impurity_decrease=0.3073367322299521, min_samples_split=7; total time=   5.9s\n",
      "[CV] END max_depth=14, min_impurity_decrease=0.3073367322299521, min_samples_split=7; total time=   5.9s\n",
      "[CV] END max_depth=14, min_impurity_decrease=0.3073367322299521, min_samples_split=7; total time=   5.9s\n",
      "[CV] END max_depth=14, min_impurity_decrease=0.3073367322299521, min_samples_split=7; total time=   6.0s\n",
      "[CV] END max_depth=14, min_impurity_decrease=0.3073367322299521, min_samples_split=7; total time=   5.9s\n",
      "[CV] END max_depth=14, min_impurity_decrease=0.3073367322299521, min_samples_split=7; total time=   5.9s\n",
      "[CV] END max_depth=14, min_impurity_decrease=0.3073367322299521, min_samples_split=7; total time=   5.9s\n",
      "[CV] END max_depth=14, min_impurity_decrease=0.3073367322299521, min_samples_split=7; total time=   5.9s\n",
      "[CV] END max_depth=19, min_impurity_decrease=0.07149189163891656, min_samples_split=11; total time=  14.7s\n",
      "[CV] END max_depth=19, min_impurity_decrease=0.07149189163891656, min_samples_split=11; total time=  14.5s\n",
      "[CV] END max_depth=19, min_impurity_decrease=0.07149189163891656, min_samples_split=11; total time=  14.7s\n",
      "[CV] END max_depth=19, min_impurity_decrease=0.07149189163891656, min_samples_split=11; total time=  14.7s\n",
      "[CV] END max_depth=19, min_impurity_decrease=0.07149189163891656, min_samples_split=11; total time=  14.9s\n",
      "[CV] END max_depth=19, min_impurity_decrease=0.07149189163891656, min_samples_split=11; total time=  14.9s\n",
      "[CV] END max_depth=19, min_impurity_decrease=0.07149189163891656, min_samples_split=11; total time=  15.8s\n",
      "[CV] END max_depth=19, min_impurity_decrease=0.07149189163891656, min_samples_split=11; total time=  14.5s\n",
      "[CV] END max_depth=19, min_impurity_decrease=0.07149189163891656, min_samples_split=11; total time=  14.5s\n",
      "[CV] END max_depth=19, min_impurity_decrease=0.07149189163891656, min_samples_split=11; total time=  15.2s\n",
      "[CV] END max_depth=2, min_impurity_decrease=0.25797776341278594, min_samples_split=8; total time=   6.1s\n",
      "[CV] END max_depth=2, min_impurity_decrease=0.25797776341278594, min_samples_split=8; total time=   5.8s\n",
      "[CV] END max_depth=2, min_impurity_decrease=0.25797776341278594, min_samples_split=8; total time=   5.9s\n",
      "[CV] END max_depth=2, min_impurity_decrease=0.25797776341278594, min_samples_split=8; total time=   6.6s\n",
      "[CV] END max_depth=2, min_impurity_decrease=0.25797776341278594, min_samples_split=8; total time=   6.6s\n",
      "[CV] END max_depth=2, min_impurity_decrease=0.25797776341278594, min_samples_split=8; total time=   6.7s\n",
      "[CV] END max_depth=2, min_impurity_decrease=0.25797776341278594, min_samples_split=8; total time=   6.8s\n",
      "[CV] END max_depth=2, min_impurity_decrease=0.25797776341278594, min_samples_split=8; total time=   5.9s\n",
      "[CV] END max_depth=2, min_impurity_decrease=0.25797776341278594, min_samples_split=8; total time=   6.3s\n",
      "[CV] END max_depth=2, min_impurity_decrease=0.25797776341278594, min_samples_split=8; total time=   6.8s\n",
      "[CV] END max_depth=17, min_impurity_decrease=0.32020708060261016, min_samples_split=8; total time=   6.2s\n",
      "[CV] END max_depth=17, min_impurity_decrease=0.32020708060261016, min_samples_split=8; total time=   5.9s\n",
      "[CV] END max_depth=17, min_impurity_decrease=0.32020708060261016, min_samples_split=8; total time=   6.9s\n",
      "[CV] END max_depth=17, min_impurity_decrease=0.32020708060261016, min_samples_split=8; total time=   7.9s\n",
      "[CV] END max_depth=17, min_impurity_decrease=0.32020708060261016, min_samples_split=8; total time=   6.7s\n",
      "[CV] END max_depth=17, min_impurity_decrease=0.32020708060261016, min_samples_split=8; total time=   9.6s\n",
      "[CV] END max_depth=17, min_impurity_decrease=0.32020708060261016, min_samples_split=8; total time=   9.1s\n",
      "[CV] END max_depth=17, min_impurity_decrease=0.32020708060261016, min_samples_split=8; total time=   8.7s\n",
      "[CV] END max_depth=17, min_impurity_decrease=0.32020708060261016, min_samples_split=8; total time=   7.3s\n",
      "[CV] END max_depth=17, min_impurity_decrease=0.32020708060261016, min_samples_split=8; total time=   7.3s\n",
      "[CV] END max_depth=7, min_impurity_decrease=0.04200840080926599, min_samples_split=7; total time=  16.9s\n",
      "[CV] END max_depth=7, min_impurity_decrease=0.04200840080926599, min_samples_split=7; total time=  16.1s\n",
      "[CV] END max_depth=7, min_impurity_decrease=0.04200840080926599, min_samples_split=7; total time=  15.3s\n",
      "[CV] END max_depth=7, min_impurity_decrease=0.04200840080926599, min_samples_split=7; total time=  16.7s\n",
      "[CV] END max_depth=7, min_impurity_decrease=0.04200840080926599, min_samples_split=7; total time=  16.3s\n",
      "[CV] END max_depth=7, min_impurity_decrease=0.04200840080926599, min_samples_split=7; total time=  15.9s\n",
      "[CV] END max_depth=7, min_impurity_decrease=0.04200840080926599, min_samples_split=7; total time=  17.1s\n",
      "[CV] END max_depth=7, min_impurity_decrease=0.04200840080926599, min_samples_split=7; total time=  15.5s\n"
     ]
    },
    {
     "name": "stdout",
     "output_type": "stream",
     "text": [
      "[CV] END max_depth=7, min_impurity_decrease=0.04200840080926599, min_samples_split=7; total time=  16.1s\n",
      "[CV] END max_depth=7, min_impurity_decrease=0.04200840080926599, min_samples_split=7; total time=  16.7s\n",
      "[CV] END max_depth=19, min_impurity_decrease=0.022138945813483468, min_samples_split=6; total time=  18.0s\n",
      "[CV] END max_depth=19, min_impurity_decrease=0.022138945813483468, min_samples_split=6; total time=  16.8s\n",
      "[CV] END max_depth=19, min_impurity_decrease=0.022138945813483468, min_samples_split=6; total time=  17.1s\n",
      "[CV] END max_depth=19, min_impurity_decrease=0.022138945813483468, min_samples_split=6; total time=  18.0s\n",
      "[CV] END max_depth=19, min_impurity_decrease=0.022138945813483468, min_samples_split=6; total time=  15.4s\n",
      "[CV] END max_depth=19, min_impurity_decrease=0.022138945813483468, min_samples_split=6; total time=  15.6s\n",
      "[CV] END max_depth=19, min_impurity_decrease=0.022138945813483468, min_samples_split=6; total time=  16.9s\n",
      "[CV] END max_depth=19, min_impurity_decrease=0.022138945813483468, min_samples_split=6; total time=  17.9s\n",
      "[CV] END max_depth=19, min_impurity_decrease=0.022138945813483468, min_samples_split=6; total time=  15.3s\n",
      "[CV] END max_depth=19, min_impurity_decrease=0.022138945813483468, min_samples_split=6; total time=  15.7s\n",
      "[CV] END max_depth=11, min_impurity_decrease=0.2851032937457852, min_samples_split=3; total time=   6.7s\n",
      "[CV] END max_depth=11, min_impurity_decrease=0.2851032937457852, min_samples_split=3; total time=   7.0s\n",
      "[CV] END max_depth=11, min_impurity_decrease=0.2851032937457852, min_samples_split=3; total time=   6.6s\n",
      "[CV] END max_depth=11, min_impurity_decrease=0.2851032937457852, min_samples_split=3; total time=   7.0s\n",
      "[CV] END max_depth=11, min_impurity_decrease=0.2851032937457852, min_samples_split=3; total time=   6.5s\n",
      "[CV] END max_depth=11, min_impurity_decrease=0.2851032937457852, min_samples_split=3; total time=   6.3s\n",
      "[CV] END max_depth=11, min_impurity_decrease=0.2851032937457852, min_samples_split=3; total time=   6.5s\n",
      "[CV] END max_depth=11, min_impurity_decrease=0.2851032937457852, min_samples_split=3; total time=   7.1s\n",
      "[CV] END max_depth=11, min_impurity_decrease=0.2851032937457852, min_samples_split=3; total time=   6.4s\n",
      "[CV] END max_depth=11, min_impurity_decrease=0.2851032937457852, min_samples_split=3; total time=   6.6s\n",
      "[CV] END max_depth=8, min_impurity_decrease=0.3964824913116887, min_samples_split=3; total time=   7.0s\n",
      "[CV] END max_depth=8, min_impurity_decrease=0.3964824913116887, min_samples_split=3; total time=   7.2s\n",
      "[CV] END max_depth=8, min_impurity_decrease=0.3964824913116887, min_samples_split=3; total time=   6.6s\n",
      "[CV] END max_depth=8, min_impurity_decrease=0.3964824913116887, min_samples_split=3; total time=   6.7s\n",
      "[CV] END max_depth=8, min_impurity_decrease=0.3964824913116887, min_samples_split=3; total time=   6.7s\n",
      "[CV] END max_depth=8, min_impurity_decrease=0.3964824913116887, min_samples_split=3; total time=   6.8s\n",
      "[CV] END max_depth=8, min_impurity_decrease=0.3964824913116887, min_samples_split=3; total time=   6.5s\n",
      "[CV] END max_depth=8, min_impurity_decrease=0.3964824913116887, min_samples_split=3; total time=   6.4s\n",
      "[CV] END max_depth=8, min_impurity_decrease=0.3964824913116887, min_samples_split=3; total time=   6.6s\n",
      "[CV] END max_depth=8, min_impurity_decrease=0.3964824913116887, min_samples_split=3; total time=   6.4s\n",
      "[CV] END max_depth=19, min_impurity_decrease=0.3928207318688825, min_samples_split=4; total time=   7.0s\n",
      "[CV] END max_depth=19, min_impurity_decrease=0.3928207318688825, min_samples_split=4; total time=   7.0s\n",
      "[CV] END max_depth=19, min_impurity_decrease=0.3928207318688825, min_samples_split=4; total time=   6.6s\n",
      "[CV] END max_depth=19, min_impurity_decrease=0.3928207318688825, min_samples_split=4; total time=   6.7s\n",
      "[CV] END max_depth=19, min_impurity_decrease=0.3928207318688825, min_samples_split=4; total time=   6.2s\n",
      "[CV] END max_depth=19, min_impurity_decrease=0.3928207318688825, min_samples_split=4; total time=   6.2s\n",
      "[CV] END max_depth=19, min_impurity_decrease=0.3928207318688825, min_samples_split=4; total time=   6.9s\n",
      "[CV] END max_depth=19, min_impurity_decrease=0.3928207318688825, min_samples_split=4; total time=   7.1s\n",
      "[CV] END max_depth=19, min_impurity_decrease=0.3928207318688825, min_samples_split=4; total time=   6.6s\n",
      "[CV] END max_depth=19, min_impurity_decrease=0.3928207318688825, min_samples_split=4; total time=   6.9s\n",
      "[CV] END max_depth=6, min_impurity_decrease=0.17710937207636973, min_samples_split=10; total time=  15.5s\n",
      "[CV] END max_depth=6, min_impurity_decrease=0.17710937207636973, min_samples_split=10; total time=  18.0s\n",
      "[CV] END max_depth=6, min_impurity_decrease=0.17710937207636973, min_samples_split=10; total time=  17.0s\n",
      "[CV] END max_depth=6, min_impurity_decrease=0.17710937207636973, min_samples_split=10; total time=  19.9s\n",
      "[CV] END max_depth=6, min_impurity_decrease=0.17710937207636973, min_samples_split=10; total time=  16.6s\n",
      "[CV] END max_depth=6, min_impurity_decrease=0.17710937207636973, min_samples_split=10; total time=  14.9s\n",
      "[CV] END max_depth=6, min_impurity_decrease=0.17710937207636973, min_samples_split=10; total time=  14.9s\n",
      "[CV] END max_depth=6, min_impurity_decrease=0.17710937207636973, min_samples_split=10; total time=  14.8s\n",
      "[CV] END max_depth=6, min_impurity_decrease=0.17710937207636973, min_samples_split=10; total time=  14.8s\n",
      "[CV] END max_depth=6, min_impurity_decrease=0.17710937207636973, min_samples_split=10; total time=  15.0s\n",
      "[CV] END max_depth=1, min_impurity_decrease=0.17346435218570583, min_samples_split=5; total time=   6.1s\n",
      "[CV] END max_depth=1, min_impurity_decrease=0.17346435218570583, min_samples_split=5; total time=   6.3s\n",
      "[CV] END max_depth=1, min_impurity_decrease=0.17346435218570583, min_samples_split=5; total time=   6.0s\n",
      "[CV] END max_depth=1, min_impurity_decrease=0.17346435218570583, min_samples_split=5; total time=   6.1s\n",
      "[CV] END max_depth=1, min_impurity_decrease=0.17346435218570583, min_samples_split=5; total time=   6.0s\n",
      "[CV] END max_depth=1, min_impurity_decrease=0.17346435218570583, min_samples_split=5; total time=   6.0s\n",
      "[CV] END max_depth=1, min_impurity_decrease=0.17346435218570583, min_samples_split=5; total time=   6.0s\n",
      "[CV] END max_depth=1, min_impurity_decrease=0.17346435218570583, min_samples_split=5; total time=   6.0s\n",
      "[CV] END max_depth=1, min_impurity_decrease=0.17346435218570583, min_samples_split=5; total time=   6.0s\n",
      "[CV] END max_depth=1, min_impurity_decrease=0.17346435218570583, min_samples_split=5; total time=   6.0s\n",
      "[CV] END max_depth=4, min_impurity_decrease=0.22617756470300443, min_samples_split=3; total time=  11.0s\n",
      "[CV] END max_depth=4, min_impurity_decrease=0.22617756470300443, min_samples_split=3; total time=  11.0s\n",
      "[CV] END max_depth=4, min_impurity_decrease=0.22617756470300443, min_samples_split=3; total time=  11.0s\n",
      "[CV] END max_depth=4, min_impurity_decrease=0.22617756470300443, min_samples_split=3; total time=  11.0s\n",
      "[CV] END max_depth=4, min_impurity_decrease=0.22617756470300443, min_samples_split=3; total time=  11.0s\n",
      "[CV] END max_depth=4, min_impurity_decrease=0.22617756470300443, min_samples_split=3; total time=  11.3s\n",
      "[CV] END max_depth=4, min_impurity_decrease=0.22617756470300443, min_samples_split=3; total time=  11.9s\n",
      "[CV] END max_depth=4, min_impurity_decrease=0.22617756470300443, min_samples_split=3; total time=  11.4s\n",
      "[CV] END max_depth=4, min_impurity_decrease=0.22617756470300443, min_samples_split=3; total time=  14.5s\n",
      "[CV] END max_depth=4, min_impurity_decrease=0.22617756470300443, min_samples_split=3; total time=  15.2s\n",
      "[CV] END max_depth=2, min_impurity_decrease=0.03524901297941041, min_samples_split=10; total time=  15.7s\n",
      "[CV] END max_depth=2, min_impurity_decrease=0.03524901297941041, min_samples_split=10; total time=  11.7s\n",
      "[CV] END max_depth=2, min_impurity_decrease=0.03524901297941041, min_samples_split=10; total time=  11.0s\n",
      "[CV] END max_depth=2, min_impurity_decrease=0.03524901297941041, min_samples_split=10; total time=  11.1s\n",
      "[CV] END max_depth=2, min_impurity_decrease=0.03524901297941041, min_samples_split=10; total time=  11.0s\n",
      "[CV] END max_depth=2, min_impurity_decrease=0.03524901297941041, min_samples_split=10; total time=  11.2s\n"
     ]
    },
    {
     "name": "stdout",
     "output_type": "stream",
     "text": [
      "[CV] END max_depth=2, min_impurity_decrease=0.03524901297941041, min_samples_split=10; total time=  11.0s\n",
      "[CV] END max_depth=2, min_impurity_decrease=0.03524901297941041, min_samples_split=10; total time=  11.2s\n",
      "[CV] END max_depth=2, min_impurity_decrease=0.03524901297941041, min_samples_split=10; total time=  11.2s\n",
      "[CV] END max_depth=2, min_impurity_decrease=0.03524901297941041, min_samples_split=10; total time=  11.0s\n",
      "[CV] END max_depth=20, min_impurity_decrease=0.07213647211187396, min_samples_split=4; total time=  15.0s\n",
      "[CV] END max_depth=20, min_impurity_decrease=0.07213647211187396, min_samples_split=4; total time=  14.9s\n",
      "[CV] END max_depth=20, min_impurity_decrease=0.07213647211187396, min_samples_split=4; total time=  14.7s\n",
      "[CV] END max_depth=20, min_impurity_decrease=0.07213647211187396, min_samples_split=4; total time=  14.7s\n",
      "[CV] END max_depth=20, min_impurity_decrease=0.07213647211187396, min_samples_split=4; total time=  15.0s\n",
      "[CV] END max_depth=20, min_impurity_decrease=0.07213647211187396, min_samples_split=4; total time=  14.7s\n",
      "[CV] END max_depth=20, min_impurity_decrease=0.07213647211187396, min_samples_split=4; total time=  14.7s\n",
      "[CV] END max_depth=20, min_impurity_decrease=0.07213647211187396, min_samples_split=4; total time=  14.6s\n",
      "[CV] END max_depth=20, min_impurity_decrease=0.07213647211187396, min_samples_split=4; total time=  14.7s\n",
      "[CV] END max_depth=20, min_impurity_decrease=0.07213647211187396, min_samples_split=4; total time=  14.8s\n",
      "[CV] END max_depth=10, min_impurity_decrease=0.48248114024987443, min_samples_split=2; total time=   6.1s\n",
      "[CV] END max_depth=10, min_impurity_decrease=0.48248114024987443, min_samples_split=2; total time=   6.0s\n",
      "[CV] END max_depth=10, min_impurity_decrease=0.48248114024987443, min_samples_split=2; total time=   6.0s\n",
      "[CV] END max_depth=10, min_impurity_decrease=0.48248114024987443, min_samples_split=2; total time=   6.1s\n",
      "[CV] END max_depth=10, min_impurity_decrease=0.48248114024987443, min_samples_split=2; total time=   5.9s\n",
      "[CV] END max_depth=10, min_impurity_decrease=0.48248114024987443, min_samples_split=2; total time=   6.0s\n",
      "[CV] END max_depth=10, min_impurity_decrease=0.48248114024987443, min_samples_split=2; total time=   6.2s\n",
      "[CV] END max_depth=10, min_impurity_decrease=0.48248114024987443, min_samples_split=2; total time=   6.1s\n",
      "[CV] END max_depth=10, min_impurity_decrease=0.48248114024987443, min_samples_split=2; total time=   6.0s\n",
      "[CV] END max_depth=10, min_impurity_decrease=0.48248114024987443, min_samples_split=2; total time=   6.1s\n",
      "[CV] END max_depth=13, min_impurity_decrease=0.2461929267975947, min_samples_split=6; total time=   6.1s\n",
      "[CV] END max_depth=13, min_impurity_decrease=0.2461929267975947, min_samples_split=6; total time=   6.0s\n",
      "[CV] END max_depth=13, min_impurity_decrease=0.2461929267975947, min_samples_split=6; total time=   6.1s\n",
      "[CV] END max_depth=13, min_impurity_decrease=0.2461929267975947, min_samples_split=6; total time=   6.0s\n",
      "[CV] END max_depth=13, min_impurity_decrease=0.2461929267975947, min_samples_split=6; total time=   5.9s\n",
      "[CV] END max_depth=13, min_impurity_decrease=0.2461929267975947, min_samples_split=6; total time=   6.0s\n",
      "[CV] END max_depth=13, min_impurity_decrease=0.2461929267975947, min_samples_split=6; total time=   6.0s\n",
      "[CV] END max_depth=13, min_impurity_decrease=0.2461929267975947, min_samples_split=6; total time=   6.0s\n",
      "[CV] END max_depth=13, min_impurity_decrease=0.2461929267975947, min_samples_split=6; total time=   6.0s\n",
      "[CV] END max_depth=13, min_impurity_decrease=0.2461929267975947, min_samples_split=6; total time=   6.0s\n",
      "[CV] END max_depth=14, min_impurity_decrease=0.46964234701050717, min_samples_split=9; total time=   6.0s\n",
      "[CV] END max_depth=14, min_impurity_decrease=0.46964234701050717, min_samples_split=9; total time=   5.9s\n",
      "[CV] END max_depth=14, min_impurity_decrease=0.46964234701050717, min_samples_split=9; total time=   6.0s\n",
      "[CV] END max_depth=14, min_impurity_decrease=0.46964234701050717, min_samples_split=9; total time=   6.0s\n",
      "[CV] END max_depth=14, min_impurity_decrease=0.46964234701050717, min_samples_split=9; total time=   6.0s\n",
      "[CV] END max_depth=14, min_impurity_decrease=0.46964234701050717, min_samples_split=9; total time=   5.9s\n",
      "[CV] END max_depth=14, min_impurity_decrease=0.46964234701050717, min_samples_split=9; total time=   6.2s\n",
      "[CV] END max_depth=14, min_impurity_decrease=0.46964234701050717, min_samples_split=9; total time=   5.9s\n",
      "[CV] END max_depth=14, min_impurity_decrease=0.46964234701050717, min_samples_split=9; total time=   6.0s\n",
      "[CV] END max_depth=14, min_impurity_decrease=0.46964234701050717, min_samples_split=9; total time=   6.0s\n"
     ]
    },
    {
     "data": {
      "text/plain": [
       "0.884051724137931"
      ]
     },
     "execution_count": 111,
     "metadata": {},
     "output_type": "execute_result"
    }
   ],
   "source": [
    "params =  {\n",
    "    'min_samples_split': scipy.stats.randint(2, 12),\n",
    "    'min_impurity_decrease': scipy.stats.uniform(0.0, 0.5),\n",
    "    'max_depth': np.arange(1,21)\n",
    "}\n",
    "\n",
    "\n",
    "tree_new2 = RandomizedSearchCV(\n",
    "    estimator=tree2,\n",
    "    param_distributions=params,\n",
    "    n_iter=20,\n",
    "    cv=10,\n",
    "    verbose=2,\n",
    "    n_jobs=1)\n",
    "\n",
    "tree_new2.fit(X2_train, y2_train)\n",
    "tree_new2.best_score_"
   ]
  },
  {
   "cell_type": "code",
   "execution_count": 112,
   "id": "46d1dc03",
   "metadata": {},
   "outputs": [
    {
     "data": {
      "text/plain": [
       "{'max_depth': 4,\n",
       " 'min_impurity_decrease': 0.011493972900871952,\n",
       " 'min_samples_split': 2}"
      ]
     },
     "execution_count": 112,
     "metadata": {},
     "output_type": "execute_result"
    }
   ],
   "source": [
    "tree_new2.best_params_"
   ]
  },
  {
   "cell_type": "code",
   "execution_count": 113,
   "id": "96345f5e",
   "metadata": {},
   "outputs": [
    {
     "name": "stdout",
     "output_type": "stream",
     "text": [
      "Training Accuracy: 0.8966\n",
      "Validation Accuracy: 0.8967\n",
      "Test Accuracy: 0.9013\n"
     ]
    }
   ],
   "source": [
    "print(\"Training Accuracy: %0.4f\" % tree_new2.best_estimator_.score(X2_train, y2_train))\n",
    "print(\"Validation Accuracy: %0.4f\" % tree_new2.best_estimator_.score(X2_valid, y2_valid))\n",
    "print(\"Test Accuracy: %0.4f\" % tree_new2.best_estimator_.score(X2_test, y2_test))"
   ]
  },
  {
   "cell_type": "markdown",
   "id": "36ada7d4",
   "metadata": {},
   "source": [
    "Evaluation - F1 Score"
   ]
  },
  {
   "cell_type": "code",
   "execution_count": 114,
   "id": "90999e6f",
   "metadata": {},
   "outputs": [
    {
     "data": {
      "text/plain": [
       "0.9017588647833643"
      ]
     },
     "execution_count": 114,
     "metadata": {},
     "output_type": "execute_result"
    }
   ],
   "source": [
    "y_true = y2_test\n",
    "y_pred = tree_new2.best_estimator_.predict(X2_test)\n",
    "\n",
    "f1_score(y_true,y_pred,average = \"weighted\")"
   ]
  },
  {
   "cell_type": "markdown",
   "id": "a64c7a78",
   "metadata": {},
   "source": [
    "## 3. Random Forest"
   ]
  },
  {
   "cell_type": "markdown",
   "id": "d818fc20",
   "metadata": {},
   "source": [
    "Original Random Forest"
   ]
  },
  {
   "cell_type": "code",
   "execution_count": 115,
   "id": "0887f1f8",
   "metadata": {},
   "outputs": [
    {
     "name": "stdout",
     "output_type": "stream",
     "text": [
      "Training Accuracy: 1.0000\n",
      "Validation Accuracy: 1.0000\n",
      "Test Accuracy: 0.9444\n"
     ]
    }
   ],
   "source": [
    "forest2 = RandomForestClassifier(n_estimators=100,\n",
    "                                random_state=123)\n",
    "\n",
    "forest2.fit(X2_train, y2_train)\n",
    "    \n",
    "print(\"Training Accuracy: %0.4f\" % forest2.score(X2_train, y2_train))\n",
    "print(\"Validation Accuracy: %0.4f\" % forest2.score(X2_valid, y2_valid))\n",
    "print(\"Test Accuracy: %0.4f\" % forest2.score(X2_test, y2_test))"
   ]
  },
  {
   "cell_type": "markdown",
   "id": "c3eb1e17",
   "metadata": {},
   "source": [
    "Evaluation - F1 Score"
   ]
  },
  {
   "cell_type": "code",
   "execution_count": 117,
   "id": "c7def386",
   "metadata": {},
   "outputs": [
    {
     "data": {
      "text/plain": [
       "0.9443799170705982"
      ]
     },
     "execution_count": 117,
     "metadata": {},
     "output_type": "execute_result"
    }
   ],
   "source": [
    "y_true = y2_test\n",
    "y_pred = forest2.predict(X2_test)\n",
    "\n",
    "f1_score(y_true,y_pred,average = \"weighted\")"
   ]
  },
  {
   "cell_type": "markdown",
   "id": "7a02ad88",
   "metadata": {},
   "source": [
    "Tuning"
   ]
  },
  {
   "cell_type": "code",
   "execution_count": 118,
   "id": "5975a3ed",
   "metadata": {},
   "outputs": [
    {
     "name": "stdout",
     "output_type": "stream",
     "text": [
      "Fitting 10 folds for each of 20 candidates, totalling 200 fits\n",
      "[CV] END max_depth=10, min_impurity_decrease=0.16090853965545632, min_samples_split=2; total time=   7.2s\n",
      "[CV] END max_depth=10, min_impurity_decrease=0.16090853965545632, min_samples_split=2; total time=   6.3s\n",
      "[CV] END max_depth=10, min_impurity_decrease=0.16090853965545632, min_samples_split=2; total time=   6.7s\n",
      "[CV] END max_depth=10, min_impurity_decrease=0.16090853965545632, min_samples_split=2; total time=   6.7s\n",
      "[CV] END max_depth=10, min_impurity_decrease=0.16090853965545632, min_samples_split=2; total time=   6.6s\n",
      "[CV] END max_depth=10, min_impurity_decrease=0.16090853965545632, min_samples_split=2; total time=   6.6s\n",
      "[CV] END max_depth=10, min_impurity_decrease=0.16090853965545632, min_samples_split=2; total time=   6.8s\n",
      "[CV] END max_depth=10, min_impurity_decrease=0.16090853965545632, min_samples_split=2; total time=   7.0s\n",
      "[CV] END max_depth=10, min_impurity_decrease=0.16090853965545632, min_samples_split=2; total time=   6.8s\n",
      "[CV] END max_depth=10, min_impurity_decrease=0.16090853965545632, min_samples_split=2; total time=   7.0s\n",
      "[CV] END max_depth=6, min_impurity_decrease=0.4535927203171952, min_samples_split=4; total time=   3.5s\n",
      "[CV] END max_depth=6, min_impurity_decrease=0.4535927203171952, min_samples_split=4; total time=   3.4s\n",
      "[CV] END max_depth=6, min_impurity_decrease=0.4535927203171952, min_samples_split=4; total time=   3.3s\n",
      "[CV] END max_depth=6, min_impurity_decrease=0.4535927203171952, min_samples_split=4; total time=   3.3s\n",
      "[CV] END max_depth=6, min_impurity_decrease=0.4535927203171952, min_samples_split=4; total time=   3.4s\n",
      "[CV] END max_depth=6, min_impurity_decrease=0.4535927203171952, min_samples_split=4; total time=   3.4s\n",
      "[CV] END max_depth=6, min_impurity_decrease=0.4535927203171952, min_samples_split=4; total time=   3.3s\n",
      "[CV] END max_depth=6, min_impurity_decrease=0.4535927203171952, min_samples_split=4; total time=   3.3s\n",
      "[CV] END max_depth=6, min_impurity_decrease=0.4535927203171952, min_samples_split=4; total time=   3.4s\n",
      "[CV] END max_depth=6, min_impurity_decrease=0.4535927203171952, min_samples_split=4; total time=   3.4s\n",
      "[CV] END max_depth=15, min_impurity_decrease=0.013666043770271419, min_samples_split=2; total time=   9.1s\n",
      "[CV] END max_depth=15, min_impurity_decrease=0.013666043770271419, min_samples_split=2; total time=   8.9s\n",
      "[CV] END max_depth=15, min_impurity_decrease=0.013666043770271419, min_samples_split=2; total time=   9.3s\n",
      "[CV] END max_depth=15, min_impurity_decrease=0.013666043770271419, min_samples_split=2; total time=   9.1s\n",
      "[CV] END max_depth=15, min_impurity_decrease=0.013666043770271419, min_samples_split=2; total time=   9.2s\n",
      "[CV] END max_depth=15, min_impurity_decrease=0.013666043770271419, min_samples_split=2; total time=   9.4s\n",
      "[CV] END max_depth=15, min_impurity_decrease=0.013666043770271419, min_samples_split=2; total time=   9.3s\n",
      "[CV] END max_depth=15, min_impurity_decrease=0.013666043770271419, min_samples_split=2; total time=   9.0s\n",
      "[CV] END max_depth=15, min_impurity_decrease=0.013666043770271419, min_samples_split=2; total time=   9.2s\n",
      "[CV] END max_depth=15, min_impurity_decrease=0.013666043770271419, min_samples_split=2; total time=   9.3s\n",
      "[CV] END max_depth=17, min_impurity_decrease=0.32492634073329674, min_samples_split=3; total time=   3.4s\n",
      "[CV] END max_depth=17, min_impurity_decrease=0.32492634073329674, min_samples_split=3; total time=   3.3s\n",
      "[CV] END max_depth=17, min_impurity_decrease=0.32492634073329674, min_samples_split=3; total time=   3.4s\n",
      "[CV] END max_depth=17, min_impurity_decrease=0.32492634073329674, min_samples_split=3; total time=   3.4s\n",
      "[CV] END max_depth=17, min_impurity_decrease=0.32492634073329674, min_samples_split=3; total time=   3.3s\n",
      "[CV] END max_depth=17, min_impurity_decrease=0.32492634073329674, min_samples_split=3; total time=   3.3s\n",
      "[CV] END max_depth=17, min_impurity_decrease=0.32492634073329674, min_samples_split=3; total time=   3.3s\n",
      "[CV] END max_depth=17, min_impurity_decrease=0.32492634073329674, min_samples_split=3; total time=   3.3s\n",
      "[CV] END max_depth=17, min_impurity_decrease=0.32492634073329674, min_samples_split=3; total time=   3.3s\n",
      "[CV] END max_depth=17, min_impurity_decrease=0.32492634073329674, min_samples_split=3; total time=   3.4s\n",
      "[CV] END max_depth=2, min_impurity_decrease=0.10238591746734682, min_samples_split=11; total time=   5.4s\n",
      "[CV] END max_depth=2, min_impurity_decrease=0.10238591746734682, min_samples_split=11; total time=   5.4s\n",
      "[CV] END max_depth=2, min_impurity_decrease=0.10238591746734682, min_samples_split=11; total time=   5.3s\n",
      "[CV] END max_depth=2, min_impurity_decrease=0.10238591746734682, min_samples_split=11; total time=   5.4s\n",
      "[CV] END max_depth=2, min_impurity_decrease=0.10238591746734682, min_samples_split=11; total time=   5.4s\n",
      "[CV] END max_depth=2, min_impurity_decrease=0.10238591746734682, min_samples_split=11; total time=   5.4s\n",
      "[CV] END max_depth=2, min_impurity_decrease=0.10238591746734682, min_samples_split=11; total time=   5.4s\n",
      "[CV] END max_depth=2, min_impurity_decrease=0.10238591746734682, min_samples_split=11; total time=   5.4s\n",
      "[CV] END max_depth=2, min_impurity_decrease=0.10238591746734682, min_samples_split=11; total time=   5.3s\n",
      "[CV] END max_depth=2, min_impurity_decrease=0.10238591746734682, min_samples_split=11; total time=   5.4s\n",
      "[CV] END max_depth=2, min_impurity_decrease=0.3103529215561941, min_samples_split=8; total time=   3.5s\n",
      "[CV] END max_depth=2, min_impurity_decrease=0.3103529215561941, min_samples_split=8; total time=   3.4s\n",
      "[CV] END max_depth=2, min_impurity_decrease=0.3103529215561941, min_samples_split=8; total time=   3.4s\n",
      "[CV] END max_depth=2, min_impurity_decrease=0.3103529215561941, min_samples_split=8; total time=   3.4s\n",
      "[CV] END max_depth=2, min_impurity_decrease=0.3103529215561941, min_samples_split=8; total time=   3.4s\n",
      "[CV] END max_depth=2, min_impurity_decrease=0.3103529215561941, min_samples_split=8; total time=   3.3s\n",
      "[CV] END max_depth=2, min_impurity_decrease=0.3103529215561941, min_samples_split=8; total time=   3.5s\n",
      "[CV] END max_depth=2, min_impurity_decrease=0.3103529215561941, min_samples_split=8; total time=   3.4s\n",
      "[CV] END max_depth=2, min_impurity_decrease=0.3103529215561941, min_samples_split=8; total time=   3.3s\n",
      "[CV] END max_depth=2, min_impurity_decrease=0.3103529215561941, min_samples_split=8; total time=   3.3s\n",
      "[CV] END max_depth=12, min_impurity_decrease=0.28934605831821464, min_samples_split=4; total time=   3.3s\n",
      "[CV] END max_depth=12, min_impurity_decrease=0.28934605831821464, min_samples_split=4; total time=   3.3s\n",
      "[CV] END max_depth=12, min_impurity_decrease=0.28934605831821464, min_samples_split=4; total time=   3.3s\n",
      "[CV] END max_depth=12, min_impurity_decrease=0.28934605831821464, min_samples_split=4; total time=   3.3s\n",
      "[CV] END max_depth=12, min_impurity_decrease=0.28934605831821464, min_samples_split=4; total time=   3.3s\n",
      "[CV] END max_depth=12, min_impurity_decrease=0.28934605831821464, min_samples_split=4; total time=   3.3s\n",
      "[CV] END max_depth=12, min_impurity_decrease=0.28934605831821464, min_samples_split=4; total time=   3.4s\n",
      "[CV] END max_depth=12, min_impurity_decrease=0.28934605831821464, min_samples_split=4; total time=   3.4s\n",
      "[CV] END max_depth=12, min_impurity_decrease=0.28934605831821464, min_samples_split=4; total time=   3.8s\n",
      "[CV] END max_depth=12, min_impurity_decrease=0.28934605831821464, min_samples_split=4; total time=   3.4s\n",
      "[CV] END max_depth=19, min_impurity_decrease=0.12281480687113172, min_samples_split=4; total time=   7.0s\n",
      "[CV] END max_depth=19, min_impurity_decrease=0.12281480687113172, min_samples_split=4; total time=   6.8s\n",
      "[CV] END max_depth=19, min_impurity_decrease=0.12281480687113172, min_samples_split=4; total time=   6.8s\n",
      "[CV] END max_depth=19, min_impurity_decrease=0.12281480687113172, min_samples_split=4; total time=   6.8s\n",
      "[CV] END max_depth=19, min_impurity_decrease=0.12281480687113172, min_samples_split=4; total time=   6.8s\n",
      "[CV] END max_depth=19, min_impurity_decrease=0.12281480687113172, min_samples_split=4; total time=   6.8s\n",
      "[CV] END max_depth=19, min_impurity_decrease=0.12281480687113172, min_samples_split=4; total time=   6.8s\n"
     ]
    },
    {
     "name": "stdout",
     "output_type": "stream",
     "text": [
      "[CV] END max_depth=19, min_impurity_decrease=0.12281480687113172, min_samples_split=4; total time=   6.7s\n",
      "[CV] END max_depth=19, min_impurity_decrease=0.12281480687113172, min_samples_split=4; total time=   6.7s\n",
      "[CV] END max_depth=19, min_impurity_decrease=0.12281480687113172, min_samples_split=4; total time=   6.8s\n",
      "[CV] END max_depth=11, min_impurity_decrease=0.4774345557102745, min_samples_split=4; total time=   3.3s\n",
      "[CV] END max_depth=11, min_impurity_decrease=0.4774345557102745, min_samples_split=4; total time=   3.5s\n",
      "[CV] END max_depth=11, min_impurity_decrease=0.4774345557102745, min_samples_split=4; total time=   3.5s\n",
      "[CV] END max_depth=11, min_impurity_decrease=0.4774345557102745, min_samples_split=4; total time=   3.3s\n",
      "[CV] END max_depth=11, min_impurity_decrease=0.4774345557102745, min_samples_split=4; total time=   3.3s\n",
      "[CV] END max_depth=11, min_impurity_decrease=0.4774345557102745, min_samples_split=4; total time=   3.3s\n",
      "[CV] END max_depth=11, min_impurity_decrease=0.4774345557102745, min_samples_split=4; total time=   3.3s\n",
      "[CV] END max_depth=11, min_impurity_decrease=0.4774345557102745, min_samples_split=4; total time=   3.3s\n",
      "[CV] END max_depth=11, min_impurity_decrease=0.4774345557102745, min_samples_split=4; total time=   3.3s\n",
      "[CV] END max_depth=11, min_impurity_decrease=0.4774345557102745, min_samples_split=4; total time=   3.2s\n",
      "[CV] END max_depth=1, min_impurity_decrease=0.44295455245301896, min_samples_split=10; total time=   3.3s\n",
      "[CV] END max_depth=1, min_impurity_decrease=0.44295455245301896, min_samples_split=10; total time=   3.2s\n",
      "[CV] END max_depth=1, min_impurity_decrease=0.44295455245301896, min_samples_split=10; total time=   3.2s\n",
      "[CV] END max_depth=1, min_impurity_decrease=0.44295455245301896, min_samples_split=10; total time=   3.2s\n",
      "[CV] END max_depth=1, min_impurity_decrease=0.44295455245301896, min_samples_split=10; total time=   3.2s\n",
      "[CV] END max_depth=1, min_impurity_decrease=0.44295455245301896, min_samples_split=10; total time=   3.2s\n",
      "[CV] END max_depth=1, min_impurity_decrease=0.44295455245301896, min_samples_split=10; total time=   3.3s\n",
      "[CV] END max_depth=1, min_impurity_decrease=0.44295455245301896, min_samples_split=10; total time=   3.3s\n",
      "[CV] END max_depth=1, min_impurity_decrease=0.44295455245301896, min_samples_split=10; total time=   3.2s\n",
      "[CV] END max_depth=1, min_impurity_decrease=0.44295455245301896, min_samples_split=10; total time=   3.2s\n",
      "[CV] END max_depth=7, min_impurity_decrease=0.3811180377313192, min_samples_split=4; total time=   3.3s\n",
      "[CV] END max_depth=7, min_impurity_decrease=0.3811180377313192, min_samples_split=4; total time=   3.2s\n",
      "[CV] END max_depth=7, min_impurity_decrease=0.3811180377313192, min_samples_split=4; total time=   3.2s\n",
      "[CV] END max_depth=7, min_impurity_decrease=0.3811180377313192, min_samples_split=4; total time=   3.3s\n",
      "[CV] END max_depth=7, min_impurity_decrease=0.3811180377313192, min_samples_split=4; total time=   3.2s\n",
      "[CV] END max_depth=7, min_impurity_decrease=0.3811180377313192, min_samples_split=4; total time=   3.2s\n",
      "[CV] END max_depth=7, min_impurity_decrease=0.3811180377313192, min_samples_split=4; total time=   3.2s\n",
      "[CV] END max_depth=7, min_impurity_decrease=0.3811180377313192, min_samples_split=4; total time=   3.2s\n",
      "[CV] END max_depth=7, min_impurity_decrease=0.3811180377313192, min_samples_split=4; total time=   3.2s\n",
      "[CV] END max_depth=7, min_impurity_decrease=0.3811180377313192, min_samples_split=4; total time=   3.3s\n",
      "[CV] END max_depth=16, min_impurity_decrease=0.45601652934520454, min_samples_split=2; total time=   3.3s\n",
      "[CV] END max_depth=16, min_impurity_decrease=0.45601652934520454, min_samples_split=2; total time=   3.2s\n",
      "[CV] END max_depth=16, min_impurity_decrease=0.45601652934520454, min_samples_split=2; total time=   3.3s\n",
      "[CV] END max_depth=16, min_impurity_decrease=0.45601652934520454, min_samples_split=2; total time=   3.2s\n",
      "[CV] END max_depth=16, min_impurity_decrease=0.45601652934520454, min_samples_split=2; total time=   3.2s\n",
      "[CV] END max_depth=16, min_impurity_decrease=0.45601652934520454, min_samples_split=2; total time=   3.2s\n",
      "[CV] END max_depth=16, min_impurity_decrease=0.45601652934520454, min_samples_split=2; total time=   3.7s\n",
      "[CV] END max_depth=16, min_impurity_decrease=0.45601652934520454, min_samples_split=2; total time=   3.7s\n",
      "[CV] END max_depth=16, min_impurity_decrease=0.45601652934520454, min_samples_split=2; total time=   3.3s\n",
      "[CV] END max_depth=16, min_impurity_decrease=0.45601652934520454, min_samples_split=2; total time=   3.3s\n",
      "[CV] END max_depth=17, min_impurity_decrease=0.3600338854707189, min_samples_split=6; total time=   3.3s\n",
      "[CV] END max_depth=17, min_impurity_decrease=0.3600338854707189, min_samples_split=6; total time=   3.3s\n",
      "[CV] END max_depth=17, min_impurity_decrease=0.3600338854707189, min_samples_split=6; total time=   3.3s\n",
      "[CV] END max_depth=17, min_impurity_decrease=0.3600338854707189, min_samples_split=6; total time=   3.2s\n",
      "[CV] END max_depth=17, min_impurity_decrease=0.3600338854707189, min_samples_split=6; total time=   3.3s\n",
      "[CV] END max_depth=17, min_impurity_decrease=0.3600338854707189, min_samples_split=6; total time=   3.2s\n",
      "[CV] END max_depth=17, min_impurity_decrease=0.3600338854707189, min_samples_split=6; total time=   3.2s\n",
      "[CV] END max_depth=17, min_impurity_decrease=0.3600338854707189, min_samples_split=6; total time=   3.8s\n",
      "[CV] END max_depth=17, min_impurity_decrease=0.3600338854707189, min_samples_split=6; total time=   3.2s\n",
      "[CV] END max_depth=17, min_impurity_decrease=0.3600338854707189, min_samples_split=6; total time=   3.2s\n",
      "[CV] END max_depth=11, min_impurity_decrease=0.07676015806045783, min_samples_split=11; total time=   6.7s\n",
      "[CV] END max_depth=11, min_impurity_decrease=0.07676015806045783, min_samples_split=11; total time=   6.6s\n",
      "[CV] END max_depth=11, min_impurity_decrease=0.07676015806045783, min_samples_split=11; total time=   6.6s\n",
      "[CV] END max_depth=11, min_impurity_decrease=0.07676015806045783, min_samples_split=11; total time=   6.7s\n",
      "[CV] END max_depth=11, min_impurity_decrease=0.07676015806045783, min_samples_split=11; total time=   6.6s\n",
      "[CV] END max_depth=11, min_impurity_decrease=0.07676015806045783, min_samples_split=11; total time=   6.7s\n",
      "[CV] END max_depth=11, min_impurity_decrease=0.07676015806045783, min_samples_split=11; total time=   6.6s\n",
      "[CV] END max_depth=11, min_impurity_decrease=0.07676015806045783, min_samples_split=11; total time=   6.7s\n",
      "[CV] END max_depth=11, min_impurity_decrease=0.07676015806045783, min_samples_split=11; total time=   6.7s\n",
      "[CV] END max_depth=11, min_impurity_decrease=0.07676015806045783, min_samples_split=11; total time=   6.9s\n",
      "[CV] END max_depth=11, min_impurity_decrease=0.37902926954634303, min_samples_split=8; total time=   3.3s\n",
      "[CV] END max_depth=11, min_impurity_decrease=0.37902926954634303, min_samples_split=8; total time=   3.2s\n",
      "[CV] END max_depth=11, min_impurity_decrease=0.37902926954634303, min_samples_split=8; total time=   3.2s\n",
      "[CV] END max_depth=11, min_impurity_decrease=0.37902926954634303, min_samples_split=8; total time=   3.4s\n",
      "[CV] END max_depth=11, min_impurity_decrease=0.37902926954634303, min_samples_split=8; total time=   3.2s\n",
      "[CV] END max_depth=11, min_impurity_decrease=0.37902926954634303, min_samples_split=8; total time=   3.4s\n",
      "[CV] END max_depth=11, min_impurity_decrease=0.37902926954634303, min_samples_split=8; total time=   3.3s\n",
      "[CV] END max_depth=11, min_impurity_decrease=0.37902926954634303, min_samples_split=8; total time=   3.2s\n",
      "[CV] END max_depth=11, min_impurity_decrease=0.37902926954634303, min_samples_split=8; total time=   3.3s\n",
      "[CV] END max_depth=11, min_impurity_decrease=0.37902926954634303, min_samples_split=8; total time=   3.3s\n",
      "[CV] END max_depth=10, min_impurity_decrease=0.48561450916670174, min_samples_split=2; total time=   3.3s\n",
      "[CV] END max_depth=10, min_impurity_decrease=0.48561450916670174, min_samples_split=2; total time=   3.2s\n",
      "[CV] END max_depth=10, min_impurity_decrease=0.48561450916670174, min_samples_split=2; total time=   3.3s\n",
      "[CV] END max_depth=10, min_impurity_decrease=0.48561450916670174, min_samples_split=2; total time=   3.2s\n",
      "[CV] END max_depth=10, min_impurity_decrease=0.48561450916670174, min_samples_split=2; total time=   3.2s\n"
     ]
    },
    {
     "name": "stdout",
     "output_type": "stream",
     "text": [
      "[CV] END max_depth=10, min_impurity_decrease=0.48561450916670174, min_samples_split=2; total time=   3.2s\n",
      "[CV] END max_depth=10, min_impurity_decrease=0.48561450916670174, min_samples_split=2; total time=   3.2s\n",
      "[CV] END max_depth=10, min_impurity_decrease=0.48561450916670174, min_samples_split=2; total time=   3.2s\n",
      "[CV] END max_depth=10, min_impurity_decrease=0.48561450916670174, min_samples_split=2; total time=   3.2s\n",
      "[CV] END max_depth=10, min_impurity_decrease=0.48561450916670174, min_samples_split=2; total time=   3.4s\n",
      "[CV] END max_depth=14, min_impurity_decrease=0.40484898371501565, min_samples_split=2; total time=   3.3s\n",
      "[CV] END max_depth=14, min_impurity_decrease=0.40484898371501565, min_samples_split=2; total time=   3.3s\n",
      "[CV] END max_depth=14, min_impurity_decrease=0.40484898371501565, min_samples_split=2; total time=   3.2s\n",
      "[CV] END max_depth=14, min_impurity_decrease=0.40484898371501565, min_samples_split=2; total time=   3.3s\n",
      "[CV] END max_depth=14, min_impurity_decrease=0.40484898371501565, min_samples_split=2; total time=   3.2s\n",
      "[CV] END max_depth=14, min_impurity_decrease=0.40484898371501565, min_samples_split=2; total time=   3.3s\n",
      "[CV] END max_depth=14, min_impurity_decrease=0.40484898371501565, min_samples_split=2; total time=   3.4s\n",
      "[CV] END max_depth=14, min_impurity_decrease=0.40484898371501565, min_samples_split=2; total time=   3.3s\n",
      "[CV] END max_depth=14, min_impurity_decrease=0.40484898371501565, min_samples_split=2; total time=   3.3s\n",
      "[CV] END max_depth=14, min_impurity_decrease=0.40484898371501565, min_samples_split=2; total time=   3.3s\n",
      "[CV] END max_depth=5, min_impurity_decrease=0.12136146100347339, min_samples_split=2; total time=   6.7s\n",
      "[CV] END max_depth=5, min_impurity_decrease=0.12136146100347339, min_samples_split=2; total time=   6.6s\n",
      "[CV] END max_depth=5, min_impurity_decrease=0.12136146100347339, min_samples_split=2; total time=   6.6s\n",
      "[CV] END max_depth=5, min_impurity_decrease=0.12136146100347339, min_samples_split=2; total time=   6.7s\n",
      "[CV] END max_depth=5, min_impurity_decrease=0.12136146100347339, min_samples_split=2; total time=   9.2s\n",
      "[CV] END max_depth=5, min_impurity_decrease=0.12136146100347339, min_samples_split=2; total time=   7.8s\n",
      "[CV] END max_depth=5, min_impurity_decrease=0.12136146100347339, min_samples_split=2; total time=   6.8s\n",
      "[CV] END max_depth=5, min_impurity_decrease=0.12136146100347339, min_samples_split=2; total time=   6.7s\n",
      "[CV] END max_depth=5, min_impurity_decrease=0.12136146100347339, min_samples_split=2; total time=   6.8s\n",
      "[CV] END max_depth=5, min_impurity_decrease=0.12136146100347339, min_samples_split=2; total time=   7.5s\n",
      "[CV] END max_depth=17, min_impurity_decrease=0.21359798158113463, min_samples_split=10; total time=   6.0s\n",
      "[CV] END max_depth=17, min_impurity_decrease=0.21359798158113463, min_samples_split=10; total time=   6.1s\n",
      "[CV] END max_depth=17, min_impurity_decrease=0.21359798158113463, min_samples_split=10; total time=   6.1s\n",
      "[CV] END max_depth=17, min_impurity_decrease=0.21359798158113463, min_samples_split=10; total time=   5.4s\n",
      "[CV] END max_depth=17, min_impurity_decrease=0.21359798158113463, min_samples_split=10; total time=   5.3s\n",
      "[CV] END max_depth=17, min_impurity_decrease=0.21359798158113463, min_samples_split=10; total time=   5.8s\n",
      "[CV] END max_depth=17, min_impurity_decrease=0.21359798158113463, min_samples_split=10; total time=   6.2s\n",
      "[CV] END max_depth=17, min_impurity_decrease=0.21359798158113463, min_samples_split=10; total time=   5.8s\n",
      "[CV] END max_depth=17, min_impurity_decrease=0.21359798158113463, min_samples_split=10; total time=   6.8s\n",
      "[CV] END max_depth=17, min_impurity_decrease=0.21359798158113463, min_samples_split=10; total time=   5.7s\n",
      "[CV] END max_depth=6, min_impurity_decrease=0.1091520706266833, min_samples_split=7; total time=   8.0s\n",
      "[CV] END max_depth=6, min_impurity_decrease=0.1091520706266833, min_samples_split=7; total time=   8.3s\n",
      "[CV] END max_depth=6, min_impurity_decrease=0.1091520706266833, min_samples_split=7; total time=   7.3s\n",
      "[CV] END max_depth=6, min_impurity_decrease=0.1091520706266833, min_samples_split=7; total time=   7.7s\n",
      "[CV] END max_depth=6, min_impurity_decrease=0.1091520706266833, min_samples_split=7; total time=  10.5s\n",
      "[CV] END max_depth=6, min_impurity_decrease=0.1091520706266833, min_samples_split=7; total time=   7.9s\n",
      "[CV] END max_depth=6, min_impurity_decrease=0.1091520706266833, min_samples_split=7; total time=   7.5s\n",
      "[CV] END max_depth=6, min_impurity_decrease=0.1091520706266833, min_samples_split=7; total time=   7.6s\n",
      "[CV] END max_depth=6, min_impurity_decrease=0.1091520706266833, min_samples_split=7; total time=   7.6s\n",
      "[CV] END max_depth=6, min_impurity_decrease=0.1091520706266833, min_samples_split=7; total time=   8.7s\n"
     ]
    },
    {
     "data": {
      "text/plain": [
       "0.8975254702194357"
      ]
     },
     "execution_count": 118,
     "metadata": {},
     "output_type": "execute_result"
    }
   ],
   "source": [
    "params =  {\n",
    "    'min_samples_split': scipy.stats.randint(2, 12),\n",
    "    'min_impurity_decrease': scipy.stats.uniform(0.0, 0.5),\n",
    "    'max_depth': np.arange(1,21)\n",
    "}\n",
    "\n",
    "forest2_new = RandomizedSearchCV(\n",
    "    estimator=forest2,\n",
    "    param_distributions=params,\n",
    "    n_iter=20,\n",
    "    cv=10,\n",
    "    verbose=2,\n",
    "    n_jobs=1)\n",
    "\n",
    "forest2_new.fit(X2_train, y2_train)\n",
    "\n",
    "forest2_new.best_score_"
   ]
  },
  {
   "cell_type": "code",
   "execution_count": 119,
   "id": "4899d471",
   "metadata": {
    "scrolled": true
   },
   "outputs": [
    {
     "data": {
      "text/plain": [
       "{'max_depth': 15,\n",
       " 'min_impurity_decrease': 0.013666043770271419,\n",
       " 'min_samples_split': 2}"
      ]
     },
     "execution_count": 119,
     "metadata": {},
     "output_type": "execute_result"
    }
   ],
   "source": [
    "forest2_new.best_params_"
   ]
  },
  {
   "cell_type": "code",
   "execution_count": 120,
   "id": "4ce7491b",
   "metadata": {},
   "outputs": [
    {
     "name": "stdout",
     "output_type": "stream",
     "text": [
      "Training Accuracy: 0.9022\n",
      "Validation Accuracy: 0.9045\n",
      "Test Accuracy: 0.9042\n"
     ]
    }
   ],
   "source": [
    "print(\"Training Accuracy: %0.4f\" % forest2_new.best_estimator_.score(X2_train, y2_train))\n",
    "print(\"Validation Accuracy: %0.4f\" % forest2_new.best_estimator_.score(X2_valid, y2_valid))\n",
    "print(\"Test Accuracy: %0.4f\" % forest2_new.best_estimator_.score(X2_test, y2_test))"
   ]
  },
  {
   "cell_type": "markdown",
   "id": "baf2e046",
   "metadata": {},
   "source": [
    "Contingency Matrix"
   ]
  },
  {
   "cell_type": "code",
   "execution_count": 122,
   "id": "fbb08bce",
   "metadata": {},
   "outputs": [
    {
     "data": {
      "text/plain": [
       "array([[434,  14,   6],\n",
       "       [ 14, 417,   3],\n",
       "       [ 20,  19, 441]])"
      ]
     },
     "execution_count": 122,
     "metadata": {},
     "output_type": "execute_result"
    }
   ],
   "source": [
    "from sklearn.metrics.cluster import contingency_matrix\n",
    "\n",
    "forest_cm = contingency_matrix(forest2.predict(X2_test), y1_test)\n",
    "forest_cm"
   ]
  },
  {
   "cell_type": "code",
   "execution_count": 124,
   "id": "1d755223",
   "metadata": {},
   "outputs": [
    {
     "data": {
      "image/png": "[encoded data removed]",
      "text/plain": [
       "<Figure size 216x216 with 2 Axes>"
      ]
     },
     "metadata": {},
     "output_type": "display_data"
    }
   ],
   "source": [
    "from mlxtend.plotting import plot_confusion_matrix\n",
    "import matplotlib.pyplot as plt\n",
    "\n",
    "fig, ax = plot_confusion_matrix(conf_mat=forest_cm,\n",
    "                                show_absolute=True,\n",
    "                                show_normed=True,\n",
    "                                colorbar=True,\n",
    "                                figsize=(3, 3))\n",
    "plt.savefig(\"forest_cm.png\")\n",
    "plt.show()"
   ]
  },
  {
   "cell_type": "markdown",
   "id": "d9045ee3",
   "metadata": {},
   "source": [
    "Accuracy & F1 Score Bar Chart"
   ]
  },
  {
   "cell_type": "code",
   "execution_count": 9,
   "id": "a6f5e891",
   "metadata": {},
   "outputs": [
    {
     "data": {
      "image/png": "[encoded data removed]",
      "text/plain": [
       "<Figure size 432x288 with 1 Axes>"
      ]
     },
     "metadata": {
      "needs_background": "light"
     },
     "output_type": "display_data"
    }
   ],
   "source": [
    "import numpy as np\n",
    "import matplotlib.pyplot as plt\n",
    "\n",
    "model_names = ['KNN', 'Tree', 'Forest','XGBoost','Logistic','Bagging']\n",
    "acc = [0.9262,0.9013,0.9444,0.9488,0.932,0.902]\n",
    "f1 = [0.9263,0.9018,0.9444,0.9487,0.93198,0.9019]\n",
    "x = np.arange(len(model_names))\n",
    "width = 0.7 \n",
    "\n",
    "fig, ax = plt.subplots()\n",
    "rects1 = ax.bar(x - width/4, acc, 0.35, label='Test Accuracy')\n",
    "rects2 = ax.bar(x + width/4, f1, 0.35, label='F1 Score')\n",
    "\n",
    "ax.set_title('Accuracy & F1 Score of Algorithms (raw_images.csv)')\n",
    "ax.set_xticks(x)\n",
    "ax.set_xticklabels(model_names)\n",
    "ax.legend()\n",
    "\n",
    "def autolabel(rects):\n",
    "    for rect in rects:\n",
    "        height = rect.get_height()\n",
    "        ax.annotate('{}'.format(height),\n",
    "                    xy=(rect.get_x() + rect.get_width() / 2, height),\n",
    "                    xytext=(0, 3),\n",
    "                    textcoords=\"offset points\",\n",
    "                    ha='center', va='bottom')\n",
    "\n",
    "\n",
    "autolabel(rects2)\n",
    "\n",
    "\n",
    "fig.tight_layout()\n",
    "plt.ylim(0, 1.3)\n",
    "plt.savefig('Accuracy vs. F1 Score.png')\n",
    "plt.show()"
   ]
  },
  {
   "cell_type": "code",
   "execution_count": 151,
   "id": "af3d8e44",
   "metadata": {},
   "outputs": [
    {
     "data": {
      "text/plain": [
       "array([0, 1, 2, 3, 4, 5])"
      ]
     },
     "execution_count": 151,
     "metadata": {},
     "output_type": "execute_result"
    }
   ],
   "source": [
    "np.arange(len(model_names))"
   ]
  }
 ],
 "metadata": {
  "kernelspec": {
   "display_name": "Python 3 (ipykernel)",
   "language": "python",
   "name": "python3"
  },
  "language_info": {
   "codemirror_mode": {
    "name": "ipython",
    "version": 3
   },
   "file_extension": ".py",
   "mimetype": "text/x-python",
   "name": "python",
   "nbconvert_exporter": "python",
   "pygments_lexer": "ipython3",
   "version": "3.9.2"
  }
 },
 "nbformat": 4,
 "nbformat_minor": 5
}
