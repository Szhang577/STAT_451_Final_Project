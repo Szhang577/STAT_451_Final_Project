{
 "cells": [
  {
   "cell_type": "code",
   "execution_count": 2,
   "id": "439de805",
   "metadata": {},
   "outputs": [],
   "source": [
    "import os\n",
    "import cv2\n",
    "import numpy as np\n",
    "import matplotlib.pyplot as plt"
   ]
  },
  {
   "cell_type": "code",
   "execution_count": 9,
   "id": "a9d0716d",
   "metadata": {},
   "outputs": [
    {
     "name": "stdout",
     "output_type": "stream",
     "text": [
      "['Correct', 'Incorrect', 'NoMask']\n"
     ]
    }
   ],
   "source": [
    "# process first data set that contains three labels\n",
    "data_path = '../data/first dataset'\n",
    "labels = os.listdir(data_path)\n",
    "print(labels)"
   ]
  },
  {
   "cell_type": "code",
   "execution_count": 10,
   "id": "81d8e19a",
   "metadata": {},
   "outputs": [
    {
     "name": "stdout",
     "output_type": "stream",
     "text": [
      "['Correct', 'Incorrect', 'NoMask']\n",
      "{'Correct': 0, 'Incorrect': 1, 'NoMask': 2}\n"
     ]
    }
   ],
   "source": [
    "# assign corresponding number with character label help to predict\n",
    "labels_num = [i for i in range(len(labels))]\n",
    "label_dict = dict(zip(labels, labels_num))\n",
    "print(labels)\n",
    "print(label_dict)"
   ]
  },
  {
   "cell_type": "code",
   "execution_count": 15,
   "id": "a8f8c162",
   "metadata": {},
   "outputs": [],
   "source": [
    "# fixed image size to reduce feature size\n",
    "img_size = 100\n",
    "raw_image_data = [] # raw pixel representation\n",
    "feature_data = [] # color histogram representation\n",
    "label = []"
   ]
  },
  {
   "cell_type": "code",
   "execution_count": 17,
   "id": "c15296a9",
   "metadata": {},
   "outputs": [],
   "source": [
    "for l in labels:\n",
    "    fpath = os.path.join(data_path, l)\n",
    "    img_lists=os.listdir(fpath)\n",
    "    \n",
    "    # fetch each image\n",
    "    for img_name in img_lists:\n",
    "        ipath = os.path.join(fpath, img_name)\n",
    "        img = cv2.imread(ipath)\n",
    "        \n",
    "        # allow us to use img in Pillow and resize it to low resolution with three channels\n",
    "        img_raw=cv2.cvtColor(img, cv2.COLOR_BGR2RGB)\n",
    "        resized_img = cv2.resize(img_raw, (img_size, img_size)).flatten()\n",
    "        \n",
    "        # feature matrix (3D histogram)\n",
    "        hsv = cv2.cvtColor(img, cv2.COLOR_BGR2HSV)\n",
    "        hist = cv2.calcHist([hsv], [0,1,2], None, [8,8,8], [0, 256, 0, 256, 0, 256])\n",
    "        hist = cv2.normalize(hist, hist).flatten()\n",
    "        \n",
    "        # add data and label\n",
    "        raw_image_data.append(resized_img)\n",
    "        feature_data.append(hist)\n",
    "        label.append(label_dict[l])"
   ]
  },
  {
   "cell_type": "code",
   "execution_count": 36,
   "id": "19db8474",
   "metadata": {},
   "outputs": [
    {
     "name": "stdout",
     "output_type": "stream",
     "text": [
      "30000\n",
      "512\n",
      "4559\n"
     ]
    }
   ],
   "source": [
    "print(len(raw_image_data[0]))\n",
    "print(len(feature_data[0]))\n",
    "print(len(label))"
   ]
  },
  {
   "cell_type": "code",
   "execution_count": 37,
   "id": "1b104fa4",
   "metadata": {},
   "outputs": [],
   "source": [
    "raw_images = np.array(raw_image_data)\n",
    "features = np.array(feature_data)\n",
    "list_label = np.array(label)"
   ]
  },
  {
   "cell_type": "code",
   "execution_count": 39,
   "id": "890cb160",
   "metadata": {},
   "outputs": [
    {
     "name": "stdout",
     "output_type": "stream",
     "text": [
      "(4559, 30000)\n",
      "(4559,)\n"
     ]
    }
   ],
   "source": [
    "print(raw_images.shape)\n",
    "print(list_label.shape)"
   ]
  },
  {
   "cell_type": "code",
   "execution_count": 31,
   "id": "c1d37c94",
   "metadata": {},
   "outputs": [],
   "source": [
    "np.savetxt('raw_images.csv', raw_images, delimiter=',')"
   ]
  },
  {
   "cell_type": "code",
   "execution_count": 28,
   "id": "10137237",
   "metadata": {},
   "outputs": [
    {
     "name": "stdout",
     "output_type": "stream",
     "text": [
      "[[ 73  59  46 ... 122 110  80]\n",
      " [135  75  55 ... 149  71  55]\n",
      " [ 39  35  30 ...  17  17  18]\n",
      " ...\n",
      " [ 88  84  90 ...   2   1   6]\n",
      " [ 61  64  83 ... 187 183 200]\n",
      " [ 55  44  42 ... 167 179 191]]\n"
     ]
    }
   ],
   "source": [
    "print(raw_images)"
   ]
  },
  {
   "cell_type": "code",
   "execution_count": 33,
   "id": "4ead47fc",
   "metadata": {},
   "outputs": [],
   "source": [
    "test = np.loadtxt('raw_images.csv', delimiter=',')"
   ]
  },
  {
   "cell_type": "code",
   "execution_count": 35,
   "id": "50a3b4e5",
   "metadata": {},
   "outputs": [],
   "source": [
    "np.savetxt('features.csv', features, delimiter=',')\n",
    "np.savetxt('labels.csv', list_label, delimiter=',')"
   ]
  },
  {
   "cell_type": "code",
   "execution_count": null,
   "id": "545872dd",
   "metadata": {},
   "outputs": [],
   "source": []
  }
 ],
 "metadata": {
  "kernelspec": {
   "display_name": "Python 3 (ipykernel)",
   "language": "python",
   "name": "python3"
  },
  "language_info": {
   "codemirror_mode": {
    "name": "ipython",
    "version": 3
   },
   "file_extension": ".py",
   "mimetype": "text/x-python",
   "name": "python",
   "nbconvert_exporter": "python",
   "pygments_lexer": "ipython3",
   "version": "3.9.6"
  }
 },
 "nbformat": 4,
 "nbformat_minor": 5
}
